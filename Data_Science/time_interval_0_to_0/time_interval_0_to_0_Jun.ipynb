{
 "cells": [
  {
   "cell_type": "code",
   "execution_count": 1,
   "metadata": {},
   "outputs": [],
   "source": [
    "# #################################################\n",
    "# ## point_to_point ##\n",
    "# #################################################\n",
    "# -- Designed by\n",
    "# Hamin lee\n",
    "# -- Produced in June 26, 2020. (Ver.1.0)\n",
    "# #################################################"
   ]
  },
  {
   "cell_type": "code",
   "execution_count": 1,
   "metadata": {},
   "outputs": [],
   "source": [
    "import pandas as pd\n",
    "import numpy as np\n",
    "from functools import reduce\n",
    "import matplotlib.pyplot as plt\n",
    "import seaborn as sns\n",
    "from pylab import figure, axes, pie, title, savefig\n",
    "import heapq\n",
    "\n",
    "%matplotlib inline\n",
    "# scientific notation을 사용하지 않는 경우\n",
    "# pd.options.display.float_format = '{:.4f}'.format"
   ]
  },
  {
   "cell_type": "code",
   "execution_count": 2,
   "metadata": {},
   "outputs": [],
   "source": [
    "df1 = pd.read_csv(\"/Users/hamin/bithumb_bot_data/include/2018-new/2018-01-btc-krw.csv\")   # load csv\n",
    "df2 = pd.read_csv(\"/Users/hamin/bithumb_bot_data/include/2018-new/2018-02-btc-krw.csv\")   # load csv\n",
    "df3 = pd.read_csv(\"/Users/hamin/bithumb_bot_data/include/2018-new/2018-03-btc-krw.csv\")   # load csv\n",
    "df4 = pd.read_csv(\"/Users/hamin/bithumb_bot_data/include/2018-new/2018-04-btc-krw.csv\")   # load csv\n",
    "df5 = pd.read_csv(\"/Users/hamin/bithumb_bot_data/include/2018-new/2018-05-btc-krw.csv\")   # load csv\n",
    "df6 = pd.read_csv(\"/Users/hamin/bithumb_bot_data/include/2018-new/2018-06-btc-krw.csv\")   # load csv\n",
    "df7 = pd.read_csv(\"/Users/hamin/bithumb_bot_data/include/2018-new/2018-07-btc-krw.csv\")   # load csv"
   ]
  },
  {
   "cell_type": "code",
   "execution_count": 3,
   "metadata": {},
   "outputs": [],
   "source": [
    "## converting timestamp column type 'object' to 'datetime'\n",
    "df1['timestamp'] = pd.to_datetime(df1['timestamp'], format='%Y-%m-%d %H:%M:%S', errors='raise')\n",
    "df2['timestamp'] = pd.to_datetime(df2['timestamp'], format='%Y-%m-%d %H:%M:%S', errors='raise')\n",
    "df3['timestamp'] = pd.to_datetime(df3['timestamp'], format='%Y-%m-%d %H:%M:%S', errors='raise')\n",
    "df4['timestamp'] = pd.to_datetime(df4['timestamp'], format='%Y-%m-%d %H:%M:%S', errors='raise')\n",
    "df5['timestamp'] = pd.to_datetime(df5['timestamp'], format='%Y-%m-%d %H:%M:%S', errors='raise')\n",
    "df6['timestamp'] = pd.to_datetime(df6['timestamp'], format='%Y-%m-%d %H:%M:%S', errors='raise')\n",
    "df7['timestamp'] = pd.to_datetime(df7['timestamp'], format='%Y-%m-%d %H:%M:%S', errors='raise')"
   ]
  },
  {
   "cell_type": "code",
   "execution_count": 4,
   "metadata": {},
   "outputs": [],
   "source": [
    "# quantity에 부호 붙이기\n",
    "for i, row in df1.iterrows(): \n",
    "    if row[\"side\"]==0:\n",
    "        row[\"quantity\"]=-row[\"quantity\"]\n",
    "    df1.at[i,'sign_quantity'] = row[\"quantity\"]"
   ]
  },
  {
   "cell_type": "code",
   "execution_count": 5,
   "metadata": {},
   "outputs": [],
   "source": [
    "# quantity에 부호 붙이기\n",
    "for i, row in df2.iterrows(): \n",
    "    if row[\"side\"]==0:\n",
    "        row[\"quantity\"]=-row[\"quantity\"]\n",
    "    df2.at[i,'sign_quantity'] = row[\"quantity\"]"
   ]
  },
  {
   "cell_type": "code",
   "execution_count": 6,
   "metadata": {},
   "outputs": [],
   "source": [
    "# quantity에 부호 붙이기\n",
    "for i, row in df3.iterrows(): \n",
    "    if row[\"side\"]==0:\n",
    "        row[\"quantity\"]=-row[\"quantity\"]\n",
    "    df3.at[i,'sign_quantity'] = row[\"quantity\"]"
   ]
  },
  {
   "cell_type": "code",
   "execution_count": 7,
   "metadata": {},
   "outputs": [],
   "source": [
    "# quantity에 부호 붙이기\n",
    "for i, row in df4.iterrows(): \n",
    "    if row[\"side\"]==0:\n",
    "        row[\"quantity\"]=-row[\"quantity\"]\n",
    "    df4.at[i,'sign_quantity'] = row[\"quantity\"]"
   ]
  },
  {
   "cell_type": "code",
   "execution_count": 8,
   "metadata": {},
   "outputs": [],
   "source": [
    "# quantity에 부호 붙이기\n",
    "for i, row in df5.iterrows(): \n",
    "    if row[\"side\"]==0:\n",
    "        row[\"quantity\"]=-row[\"quantity\"]\n",
    "    df5.at[i,'sign_quantity'] = row[\"quantity\"]"
   ]
  },
  {
   "cell_type": "code",
   "execution_count": 9,
   "metadata": {},
   "outputs": [],
   "source": [
    "# quantity에 부호 붙이기\n",
    "for i, row in df6.iterrows(): \n",
    "    if row[\"side\"]==0:\n",
    "        row[\"quantity\"]=-row[\"quantity\"]\n",
    "    df6.at[i,'sign_quantity'] = row[\"quantity\"]"
   ]
  },
  {
   "cell_type": "code",
   "execution_count": 10,
   "metadata": {},
   "outputs": [],
   "source": [
    "# quantity에 부호 붙이기\n",
    "for i, row in df7.iterrows(): \n",
    "    if row[\"side\"]==0:\n",
    "        row[\"quantity\"]=-row[\"quantity\"]\n",
    "    df7.at[i,'sign_quantity'] = row[\"quantity\"]"
   ]
  },
  {
   "cell_type": "code",
   "execution_count": 11,
   "metadata": {},
   "outputs": [
    {
     "data": {
      "text/html": [
       "<div>\n",
       "<style scoped>\n",
       "    .dataframe tbody tr th:only-of-type {\n",
       "        vertical-align: middle;\n",
       "    }\n",
       "\n",
       "    .dataframe tbody tr th {\n",
       "        vertical-align: top;\n",
       "    }\n",
       "\n",
       "    .dataframe thead th {\n",
       "        text-align: right;\n",
       "    }\n",
       "</style>\n",
       "<table border=\"1\" class=\"dataframe\">\n",
       "  <thead>\n",
       "    <tr style=\"text-align: right;\">\n",
       "      <th></th>\n",
       "      <th>timestamp</th>\n",
       "      <th>quantity</th>\n",
       "      <th>price</th>\n",
       "      <th>fee</th>\n",
       "      <th>amount</th>\n",
       "      <th>side</th>\n",
       "      <th>sign_quantity</th>\n",
       "    </tr>\n",
       "  </thead>\n",
       "  <tbody>\n",
       "    <tr>\n",
       "      <th>0</th>\n",
       "      <td>2018-01-03 13:44:04</td>\n",
       "      <td>0.161900</td>\n",
       "      <td>20668000</td>\n",
       "      <td>5019.000000</td>\n",
       "      <td>3341130</td>\n",
       "      <td>1</td>\n",
       "      <td>0.161900</td>\n",
       "    </tr>\n",
       "    <tr>\n",
       "      <th>1</th>\n",
       "      <td>2018-01-10 22:20:51</td>\n",
       "      <td>0.070594</td>\n",
       "      <td>20777000</td>\n",
       "      <td>0.000106</td>\n",
       "      <td>-1468934</td>\n",
       "      <td>0</td>\n",
       "      <td>-0.070594</td>\n",
       "    </tr>\n",
       "    <tr>\n",
       "      <th>2</th>\n",
       "      <td>2018-01-11 23:49:37</td>\n",
       "      <td>0.000999</td>\n",
       "      <td>19563000</td>\n",
       "      <td>0.000002</td>\n",
       "      <td>-19563</td>\n",
       "      <td>0</td>\n",
       "      <td>-0.000999</td>\n",
       "    </tr>\n",
       "    <tr>\n",
       "      <th>3</th>\n",
       "      <td>2018-01-18 23:09:41</td>\n",
       "      <td>0.000999</td>\n",
       "      <td>14572000</td>\n",
       "      <td>0.000002</td>\n",
       "      <td>-14572</td>\n",
       "      <td>0</td>\n",
       "      <td>-0.000999</td>\n",
       "    </tr>\n",
       "    <tr>\n",
       "      <th>4</th>\n",
       "      <td>2018-01-19 12:23:32</td>\n",
       "      <td>0.072600</td>\n",
       "      <td>14539000</td>\n",
       "      <td>1583.000000</td>\n",
       "      <td>1053948</td>\n",
       "      <td>1</td>\n",
       "      <td>0.072600</td>\n",
       "    </tr>\n",
       "    <tr>\n",
       "      <th>...</th>\n",
       "      <td>...</td>\n",
       "      <td>...</td>\n",
       "      <td>...</td>\n",
       "      <td>...</td>\n",
       "      <td>...</td>\n",
       "      <td>...</td>\n",
       "      <td>...</td>\n",
       "    </tr>\n",
       "    <tr>\n",
       "      <th>818</th>\n",
       "      <td>2018-01-25 21:47:46</td>\n",
       "      <td>0.001000</td>\n",
       "      <td>12849000</td>\n",
       "      <td>19.000000</td>\n",
       "      <td>12830</td>\n",
       "      <td>1</td>\n",
       "      <td>0.001000</td>\n",
       "    </tr>\n",
       "    <tr>\n",
       "      <th>819</th>\n",
       "      <td>2018-01-31 13:54:04</td>\n",
       "      <td>0.000999</td>\n",
       "      <td>11137000</td>\n",
       "      <td>0.000002</td>\n",
       "      <td>-11137</td>\n",
       "      <td>0</td>\n",
       "      <td>-0.000999</td>\n",
       "    </tr>\n",
       "    <tr>\n",
       "      <th>820</th>\n",
       "      <td>2018-01-31 13:59:03</td>\n",
       "      <td>0.001000</td>\n",
       "      <td>11105000</td>\n",
       "      <td>17.000000</td>\n",
       "      <td>11088</td>\n",
       "      <td>1</td>\n",
       "      <td>0.001000</td>\n",
       "    </tr>\n",
       "    <tr>\n",
       "      <th>821</th>\n",
       "      <td>2018-01-31 14:01:10</td>\n",
       "      <td>0.000999</td>\n",
       "      <td>11125000</td>\n",
       "      <td>0.000002</td>\n",
       "      <td>-11125</td>\n",
       "      <td>0</td>\n",
       "      <td>-0.000999</td>\n",
       "    </tr>\n",
       "    <tr>\n",
       "      <th>822</th>\n",
       "      <td>2018-01-31 14:01:32</td>\n",
       "      <td>0.001000</td>\n",
       "      <td>11105000</td>\n",
       "      <td>17.000000</td>\n",
       "      <td>11088</td>\n",
       "      <td>1</td>\n",
       "      <td>0.001000</td>\n",
       "    </tr>\n",
       "  </tbody>\n",
       "</table>\n",
       "<p>823 rows × 7 columns</p>\n",
       "</div>"
      ],
      "text/plain": [
       "              timestamp  quantity     price          fee   amount  side  \\\n",
       "0   2018-01-03 13:44:04  0.161900  20668000  5019.000000  3341130     1   \n",
       "1   2018-01-10 22:20:51  0.070594  20777000     0.000106 -1468934     0   \n",
       "2   2018-01-11 23:49:37  0.000999  19563000     0.000002   -19563     0   \n",
       "3   2018-01-18 23:09:41  0.000999  14572000     0.000002   -14572     0   \n",
       "4   2018-01-19 12:23:32  0.072600  14539000  1583.000000  1053948     1   \n",
       "..                  ...       ...       ...          ...      ...   ...   \n",
       "818 2018-01-25 21:47:46  0.001000  12849000    19.000000    12830     1   \n",
       "819 2018-01-31 13:54:04  0.000999  11137000     0.000002   -11137     0   \n",
       "820 2018-01-31 13:59:03  0.001000  11105000    17.000000    11088     1   \n",
       "821 2018-01-31 14:01:10  0.000999  11125000     0.000002   -11125     0   \n",
       "822 2018-01-31 14:01:32  0.001000  11105000    17.000000    11088     1   \n",
       "\n",
       "     sign_quantity  \n",
       "0         0.161900  \n",
       "1        -0.070594  \n",
       "2        -0.000999  \n",
       "3        -0.000999  \n",
       "4         0.072600  \n",
       "..             ...  \n",
       "818       0.001000  \n",
       "819      -0.000999  \n",
       "820       0.001000  \n",
       "821      -0.000999  \n",
       "822       0.001000  \n",
       "\n",
       "[823 rows x 7 columns]"
      ]
     },
     "execution_count": 11,
     "metadata": {},
     "output_type": "execute_result"
    }
   ],
   "source": [
    "# timestamp (시간), quantity (거래 코인 양), price (코인 1개 당 가격), fee (??), amount (q * price), side (0:판 것, 1:산 것)\n",
    "df1"
   ]
  },
  {
   "cell_type": "code",
   "execution_count": 12,
   "metadata": {},
   "outputs": [],
   "source": [
    "# sign_quantity 더하기 - sign_quantity_cumsum은 현재 시점 보유한 coin의 quantity\n",
    "sign_quantity_cumsum1=df1[\"sign_quantity\"].cumsum()\n",
    "sign_quantity_cumsum2=df2[\"sign_quantity\"].cumsum()\n",
    "sign_quantity_cumsum3=df3[\"sign_quantity\"].cumsum()\n",
    "sign_quantity_cumsum4=df4[\"sign_quantity\"].cumsum()\n",
    "sign_quantity_cumsum5=df5[\"sign_quantity\"].cumsum()\n",
    "sign_quantity_cumsum6=df6[\"sign_quantity\"].cumsum()\n",
    "sign_quantity_cumsum7=df7[\"sign_quantity\"].cumsum()"
   ]
  },
  {
   "cell_type": "code",
   "execution_count": 13,
   "metadata": {},
   "outputs": [],
   "source": [
    "# amount 더하기 - amount_cumsum이 profit임\n",
    "amount_cumsum1=df1[\"amount\"].cumsum()\n",
    "amount_cumsum2=df2[\"amount\"].cumsum()\n",
    "amount_cumsum3=df3[\"amount\"].cumsum()\n",
    "amount_cumsum4=df4[\"amount\"].cumsum()\n",
    "amount_cumsum5=df5[\"amount\"].cumsum()\n",
    "amount_cumsum6=df6[\"amount\"].cumsum()\n",
    "amount_cumsum7=df7[\"amount\"].cumsum()"
   ]
  },
  {
   "cell_type": "code",
   "execution_count": 14,
   "metadata": {},
   "outputs": [],
   "source": [
    "# float16 type으로 타입 변경\n",
    "sign_quantity_cumsum1 = sign_quantity_cumsum1.astype('float16')\n",
    "sign_quantity_cumsum2 = sign_quantity_cumsum2.astype('float16')\n",
    "sign_quantity_cumsum3 = sign_quantity_cumsum3.astype('float16')\n",
    "sign_quantity_cumsum4 = sign_quantity_cumsum4.astype('float16')\n",
    "sign_quantity_cumsum5 = sign_quantity_cumsum5.astype('float16')\n",
    "sign_quantity_cumsum6 = sign_quantity_cumsum6.astype('float16')\n",
    "sign_quantity_cumsum7 = sign_quantity_cumsum7.astype('float16')"
   ]
  },
  {
   "cell_type": "code",
   "execution_count": 15,
   "metadata": {},
   "outputs": [],
   "source": [
    "# 데이터프레임 df1, sign_quantity_cumsum, amount_cumsum 결합\n",
    "cumsum_df1 = pd.concat([df1,sign_quantity_cumsum1,amount_cumsum1],axis=1)\n",
    "cumsum_df2 = pd.concat([df2,sign_quantity_cumsum2,amount_cumsum2],axis=1)\n",
    "cumsum_df3 = pd.concat([df3,sign_quantity_cumsum3,amount_cumsum3],axis=1)\n",
    "cumsum_df4 = pd.concat([df4,sign_quantity_cumsum4,amount_cumsum4],axis=1)\n",
    "cumsum_df5 = pd.concat([df5,sign_quantity_cumsum5,amount_cumsum5],axis=1)\n",
    "cumsum_df6 = pd.concat([df6,sign_quantity_cumsum6,amount_cumsum6],axis=1)\n",
    "cumsum_df7 = pd.concat([df7,sign_quantity_cumsum7,amount_cumsum7],axis=1)"
   ]
  },
  {
   "cell_type": "code",
   "execution_count": 16,
   "metadata": {},
   "outputs": [],
   "source": [
    "# 칼럼 지정\n",
    "cumsum_df1.columns = ['timestamp', 'quantity', 'price', 'fee', 'amount', 'side', 'sign_quantity', 'sign_quantity_cumsum(coin)', 'amount_cumsum']\n",
    "cumsum_df2.columns = ['timestamp', 'quantity', 'price', 'fee', 'amount', 'side', 'sign_quantity', 'sign_quantity_cumsum(coin)', 'amount_cumsum']\n",
    "cumsum_df3.columns = ['timestamp', 'quantity', 'price', 'fee', 'amount', 'side', 'sign_quantity', 'sign_quantity_cumsum(coin)', 'amount_cumsum']\n",
    "cumsum_df4.columns = ['timestamp', 'quantity', 'price', 'fee', 'amount', 'side', 'sign_quantity', 'sign_quantity_cumsum(coin)', 'amount_cumsum']\n",
    "cumsum_df5.columns = ['timestamp', 'quantity', 'price', 'fee', 'amount', 'side', 'sign_quantity', 'sign_quantity_cumsum(coin)', 'amount_cumsum']\n",
    "cumsum_df6.columns = ['timestamp', 'quantity', 'price', 'fee', 'amount', 'side', 'sign_quantity', 'sign_quantity_cumsum(coin)', 'amount_cumsum']\n",
    "cumsum_df7.columns = ['timestamp', 'quantity', 'price', 'fee', 'amount', 'side', 'sign_quantity', 'sign_quantity_cumsum(coin)', 'amount_cumsum']"
   ]
  },
  {
   "cell_type": "code",
   "execution_count": 17,
   "metadata": {},
   "outputs": [],
   "source": [
    "# 소숫점 다섯째 자리에서 자르기\n",
    "cumsum_df_zero_point1=cumsum_df1[ (cumsum_df1['sign_quantity_cumsum(coin)'] < 0.01) & (cumsum_df1['sign_quantity_cumsum(coin)'] > -0.01)]\n",
    "cumsum_df_zero_point2=cumsum_df2[ (cumsum_df2['sign_quantity_cumsum(coin)'] < 0.01) & (cumsum_df2['sign_quantity_cumsum(coin)'] > -0.01)]\n",
    "cumsum_df_zero_point3=cumsum_df3[ (cumsum_df3['sign_quantity_cumsum(coin)'] < 0.01) & (cumsum_df3['sign_quantity_cumsum(coin)'] > -0.01)]\n",
    "cumsum_df_zero_point4=cumsum_df4[ (cumsum_df4['sign_quantity_cumsum(coin)'] < 0.01) & (cumsum_df4['sign_quantity_cumsum(coin)'] > -0.01)]\n",
    "cumsum_df_zero_point5=cumsum_df5[ (cumsum_df5['sign_quantity_cumsum(coin)'] < 0.01) & (cumsum_df5['sign_quantity_cumsum(coin)'] > -0.01)]\n",
    "cumsum_df_zero_point6=cumsum_df6[ (cumsum_df6['sign_quantity_cumsum(coin)'] < 0.01) & (cumsum_df6['sign_quantity_cumsum(coin)'] > -0.01)]\n",
    "cumsum_df_zero_point7=cumsum_df7[ (cumsum_df7['sign_quantity_cumsum(coin)'] < 0.01) & (cumsum_df7['sign_quantity_cumsum(coin)'] > -0.01)]"
   ]
  },
  {
   "cell_type": "code",
   "execution_count": 18,
   "metadata": {},
   "outputs": [],
   "source": [
    "# 데이터 한 칸씩 미루기\n",
    "compare1=cumsum_df_zero_point1['amount_cumsum']\n",
    "compare1=compare1.shift(1)[:]     # 인덱스는 그대로 두고 데이터 한 칸씩 이동"
   ]
  },
  {
   "cell_type": "code",
   "execution_count": 19,
   "metadata": {},
   "outputs": [],
   "source": [
    "compare2=cumsum_df_zero_point2['amount_cumsum']\n",
    "compare2=compare2.shift(1)[:]"
   ]
  },
  {
   "cell_type": "code",
   "execution_count": 20,
   "metadata": {},
   "outputs": [],
   "source": [
    "compare3=cumsum_df_zero_point3['amount_cumsum']\n",
    "compare3=compare3.shift(1)[:]"
   ]
  },
  {
   "cell_type": "code",
   "execution_count": 21,
   "metadata": {},
   "outputs": [],
   "source": [
    "compare4=cumsum_df_zero_point4['amount_cumsum']\n",
    "compare4=compare4.shift(1)[:]"
   ]
  },
  {
   "cell_type": "code",
   "execution_count": 22,
   "metadata": {},
   "outputs": [],
   "source": [
    "compare5=cumsum_df_zero_point5['amount_cumsum']\n",
    "compare5=compare5.shift(1)[:]"
   ]
  },
  {
   "cell_type": "code",
   "execution_count": 23,
   "metadata": {},
   "outputs": [],
   "source": [
    "compare6=cumsum_df_zero_point6['amount_cumsum']\n",
    "compare6=compare6.shift(1)[:]"
   ]
  },
  {
   "cell_type": "code",
   "execution_count": 24,
   "metadata": {},
   "outputs": [],
   "source": [
    "compare7=cumsum_df_zero_point7['amount_cumsum']\n",
    "compare7=compare7.shift(1)[:]"
   ]
  },
  {
   "cell_type": "code",
   "execution_count": 25,
   "metadata": {},
   "outputs": [
    {
     "data": {
      "text/plain": [
       "Series([], Name: amount_cumsum, dtype: float64)"
      ]
     },
     "execution_count": 25,
     "metadata": {},
     "output_type": "execute_result"
    }
   ],
   "source": [
    "compare1"
   ]
  },
  {
   "cell_type": "code",
   "execution_count": 26,
   "metadata": {},
   "outputs": [],
   "source": [
    "# 데이터 프레임 cumsum_df_zero_point()와 compare 결합\n",
    "cumsum_df_zero_point1 = pd.concat([cumsum_df_zero_point1,compare1],axis=1)\n",
    "cumsum_df_zero_point1 = cumsum_df_zero_point1.fillna(0)     # 결측값은 0으로 채우기"
   ]
  },
  {
   "cell_type": "code",
   "execution_count": 27,
   "metadata": {},
   "outputs": [],
   "source": [
    "cumsum_df_zero_point2 = pd.concat([cumsum_df_zero_point2,compare2],axis=1)\n",
    "cumsum_df_zero_point2 = cumsum_df_zero_point2.fillna(0)"
   ]
  },
  {
   "cell_type": "code",
   "execution_count": 28,
   "metadata": {},
   "outputs": [],
   "source": [
    "cumsum_df_zero_point3 = pd.concat([cumsum_df_zero_point3,compare3],axis=1)\n",
    "cumsum_df_zero_point3 = cumsum_df_zero_point3.fillna(0)"
   ]
  },
  {
   "cell_type": "code",
   "execution_count": 29,
   "metadata": {},
   "outputs": [],
   "source": [
    "cumsum_df_zero_point4 = pd.concat([cumsum_df_zero_point4,compare4],axis=1)\n",
    "cumsum_df_zero_point4 = cumsum_df_zero_point4.fillna(0)"
   ]
  },
  {
   "cell_type": "code",
   "execution_count": 30,
   "metadata": {},
   "outputs": [],
   "source": [
    "cumsum_df_zero_point5 = pd.concat([cumsum_df_zero_point5,compare5],axis=1)\n",
    "cumsum_df_zero_point5 = cumsum_df_zero_point5.fillna(0)"
   ]
  },
  {
   "cell_type": "code",
   "execution_count": 31,
   "metadata": {},
   "outputs": [],
   "source": [
    "cumsum_df_zero_point6 = pd.concat([cumsum_df_zero_point6,compare6],axis=1)\n",
    "cumsum_df_zero_point6 = cumsum_df_zero_point6.fillna(0)"
   ]
  },
  {
   "cell_type": "code",
   "execution_count": 32,
   "metadata": {},
   "outputs": [],
   "source": [
    "cumsum_df_zero_point7 = pd.concat([cumsum_df_zero_point7,compare7],axis=1)\n",
    "cumsum_df_zero_point7 = cumsum_df_zero_point7.fillna(0)"
   ]
  },
  {
   "cell_type": "code",
   "execution_count": 33,
   "metadata": {},
   "outputs": [],
   "source": [
    "# 칼럼 지정\n",
    "cumsum_df_zero_point1.columns = ['timestamp', 'quantity', 'price', 'fee', 'amount', 'side', 'sign_quantity', 'sign_quantity_cumsum(coin)', 'amount_cumsum', 'compare']\n",
    "cumsum_df_zero_point2.columns = ['timestamp', 'quantity', 'price', 'fee', 'amount', 'side', 'sign_quantity', 'sign_quantity_cumsum(coin)', 'amount_cumsum', 'compare']\n",
    "cumsum_df_zero_point3.columns = ['timestamp', 'quantity', 'price', 'fee', 'amount', 'side', 'sign_quantity', 'sign_quantity_cumsum(coin)', 'amount_cumsum', 'compare']\n",
    "cumsum_df_zero_point4.columns = ['timestamp', 'quantity', 'price', 'fee', 'amount', 'side', 'sign_quantity', 'sign_quantity_cumsum(coin)', 'amount_cumsum', 'compare']\n",
    "cumsum_df_zero_point5.columns = ['timestamp', 'quantity', 'price', 'fee', 'amount', 'side', 'sign_quantity', 'sign_quantity_cumsum(coin)', 'amount_cumsum', 'compare']\n",
    "cumsum_df_zero_point6.columns = ['timestamp', 'quantity', 'price', 'fee', 'amount', 'side', 'sign_quantity', 'sign_quantity_cumsum(coin)', 'amount_cumsum', 'compare']\n",
    "cumsum_df_zero_point7.columns = ['timestamp', 'quantity', 'price', 'fee', 'amount', 'side', 'sign_quantity', 'sign_quantity_cumsum(coin)', 'amount_cumsum', 'compare']"
   ]
  },
  {
   "cell_type": "code",
   "execution_count": 34,
   "metadata": {},
   "outputs": [
    {
     "data": {
      "text/html": [
       "<div>\n",
       "<style scoped>\n",
       "    .dataframe tbody tr th:only-of-type {\n",
       "        vertical-align: middle;\n",
       "    }\n",
       "\n",
       "    .dataframe tbody tr th {\n",
       "        vertical-align: top;\n",
       "    }\n",
       "\n",
       "    .dataframe thead th {\n",
       "        text-align: right;\n",
       "    }\n",
       "</style>\n",
       "<table border=\"1\" class=\"dataframe\">\n",
       "  <thead>\n",
       "    <tr style=\"text-align: right;\">\n",
       "      <th></th>\n",
       "      <th>timestamp</th>\n",
       "      <th>quantity</th>\n",
       "      <th>price</th>\n",
       "      <th>fee</th>\n",
       "      <th>amount</th>\n",
       "      <th>side</th>\n",
       "      <th>sign_quantity</th>\n",
       "      <th>sign_quantity_cumsum(coin)</th>\n",
       "      <th>amount_cumsum</th>\n",
       "      <th>compare</th>\n",
       "    </tr>\n",
       "  </thead>\n",
       "  <tbody>\n",
       "    <tr>\n",
       "      <th>1</th>\n",
       "      <td>2018-02-14 00:12:12</td>\n",
       "      <td>0.7990</td>\n",
       "      <td>9854000</td>\n",
       "      <td>0.0</td>\n",
       "      <td>7873346</td>\n",
       "      <td>1</td>\n",
       "      <td>0.7990</td>\n",
       "      <td>0.000000</td>\n",
       "      <td>-5593</td>\n",
       "      <td>0.0</td>\n",
       "    </tr>\n",
       "    <tr>\n",
       "      <th>3</th>\n",
       "      <td>2018-02-14 00:15:41</td>\n",
       "      <td>0.1050</td>\n",
       "      <td>9860000</td>\n",
       "      <td>0.0</td>\n",
       "      <td>1035300</td>\n",
       "      <td>1</td>\n",
       "      <td>0.1050</td>\n",
       "      <td>0.000000</td>\n",
       "      <td>-4438</td>\n",
       "      <td>-5593.0</td>\n",
       "    </tr>\n",
       "    <tr>\n",
       "      <th>6</th>\n",
       "      <td>2018-02-14 00:20:44</td>\n",
       "      <td>0.3015</td>\n",
       "      <td>9882000</td>\n",
       "      <td>0.0</td>\n",
       "      <td>2979423</td>\n",
       "      <td>1</td>\n",
       "      <td>0.3015</td>\n",
       "      <td>-0.000000</td>\n",
       "      <td>28864</td>\n",
       "      <td>-4438.0</td>\n",
       "    </tr>\n",
       "    <tr>\n",
       "      <th>14</th>\n",
       "      <td>2018-02-14 00:28:28</td>\n",
       "      <td>0.2978</td>\n",
       "      <td>9825000</td>\n",
       "      <td>0.0</td>\n",
       "      <td>2925885</td>\n",
       "      <td>1</td>\n",
       "      <td>0.2978</td>\n",
       "      <td>-0.000000</td>\n",
       "      <td>519</td>\n",
       "      <td>28864.0</td>\n",
       "    </tr>\n",
       "    <tr>\n",
       "      <th>19</th>\n",
       "      <td>2018-02-14 00:33:24</td>\n",
       "      <td>0.4805</td>\n",
       "      <td>9804000</td>\n",
       "      <td>0.0</td>\n",
       "      <td>4710822</td>\n",
       "      <td>1</td>\n",
       "      <td>0.4805</td>\n",
       "      <td>-0.000000</td>\n",
       "      <td>-16492</td>\n",
       "      <td>519.0</td>\n",
       "    </tr>\n",
       "    <tr>\n",
       "      <th>...</th>\n",
       "      <td>...</td>\n",
       "      <td>...</td>\n",
       "      <td>...</td>\n",
       "      <td>...</td>\n",
       "      <td>...</td>\n",
       "      <td>...</td>\n",
       "      <td>...</td>\n",
       "      <td>...</td>\n",
       "      <td>...</td>\n",
       "      <td>...</td>\n",
       "    </tr>\n",
       "    <tr>\n",
       "      <th>18325</th>\n",
       "      <td>2018-02-28 23:01:28</td>\n",
       "      <td>1.2093</td>\n",
       "      <td>11837000</td>\n",
       "      <td>0.0</td>\n",
       "      <td>14314484</td>\n",
       "      <td>1</td>\n",
       "      <td>1.2093</td>\n",
       "      <td>-0.000066</td>\n",
       "      <td>19994386</td>\n",
       "      <td>20028370.0</td>\n",
       "    </tr>\n",
       "    <tr>\n",
       "      <th>18334</th>\n",
       "      <td>2018-02-28 23:06:56</td>\n",
       "      <td>0.0154</td>\n",
       "      <td>11838000</td>\n",
       "      <td>0.0</td>\n",
       "      <td>182305</td>\n",
       "      <td>1</td>\n",
       "      <td>0.0154</td>\n",
       "      <td>-0.000066</td>\n",
       "      <td>19995067</td>\n",
       "      <td>19994386.0</td>\n",
       "    </tr>\n",
       "    <tr>\n",
       "      <th>18349</th>\n",
       "      <td>2018-02-28 23:25:17</td>\n",
       "      <td>0.2085</td>\n",
       "      <td>11884000</td>\n",
       "      <td>0.0</td>\n",
       "      <td>2477814</td>\n",
       "      <td>1</td>\n",
       "      <td>0.2085</td>\n",
       "      <td>-0.000056</td>\n",
       "      <td>20077412</td>\n",
       "      <td>19995067.0</td>\n",
       "    </tr>\n",
       "    <tr>\n",
       "      <th>18365</th>\n",
       "      <td>2018-02-28 23:59:49</td>\n",
       "      <td>0.5662</td>\n",
       "      <td>11923000</td>\n",
       "      <td>0.0</td>\n",
       "      <td>6750803</td>\n",
       "      <td>1</td>\n",
       "      <td>0.5662</td>\n",
       "      <td>-0.000280</td>\n",
       "      <td>20055060</td>\n",
       "      <td>20077412.0</td>\n",
       "    </tr>\n",
       "    <tr>\n",
       "      <th>18366</th>\n",
       "      <td>2018-02-28 23:59:49</td>\n",
       "      <td>0.0002</td>\n",
       "      <td>11923000</td>\n",
       "      <td>0.0</td>\n",
       "      <td>2385</td>\n",
       "      <td>1</td>\n",
       "      <td>0.0002</td>\n",
       "      <td>-0.000080</td>\n",
       "      <td>20057445</td>\n",
       "      <td>20055060.0</td>\n",
       "    </tr>\n",
       "  </tbody>\n",
       "</table>\n",
       "<p>3159 rows × 10 columns</p>\n",
       "</div>"
      ],
      "text/plain": [
       "                timestamp  quantity     price  fee    amount  side  \\\n",
       "1     2018-02-14 00:12:12    0.7990   9854000  0.0   7873346     1   \n",
       "3     2018-02-14 00:15:41    0.1050   9860000  0.0   1035300     1   \n",
       "6     2018-02-14 00:20:44    0.3015   9882000  0.0   2979423     1   \n",
       "14    2018-02-14 00:28:28    0.2978   9825000  0.0   2925885     1   \n",
       "19    2018-02-14 00:33:24    0.4805   9804000  0.0   4710822     1   \n",
       "...                   ...       ...       ...  ...       ...   ...   \n",
       "18325 2018-02-28 23:01:28    1.2093  11837000  0.0  14314484     1   \n",
       "18334 2018-02-28 23:06:56    0.0154  11838000  0.0    182305     1   \n",
       "18349 2018-02-28 23:25:17    0.2085  11884000  0.0   2477814     1   \n",
       "18365 2018-02-28 23:59:49    0.5662  11923000  0.0   6750803     1   \n",
       "18366 2018-02-28 23:59:49    0.0002  11923000  0.0      2385     1   \n",
       "\n",
       "       sign_quantity  sign_quantity_cumsum(coin)  amount_cumsum     compare  \n",
       "1             0.7990                    0.000000          -5593         0.0  \n",
       "3             0.1050                    0.000000          -4438     -5593.0  \n",
       "6             0.3015                   -0.000000          28864     -4438.0  \n",
       "14            0.2978                   -0.000000            519     28864.0  \n",
       "19            0.4805                   -0.000000         -16492       519.0  \n",
       "...              ...                         ...            ...         ...  \n",
       "18325         1.2093                   -0.000066       19994386  20028370.0  \n",
       "18334         0.0154                   -0.000066       19995067  19994386.0  \n",
       "18349         0.2085                   -0.000056       20077412  19995067.0  \n",
       "18365         0.5662                   -0.000280       20055060  20077412.0  \n",
       "18366         0.0002                   -0.000080       20057445  20055060.0  \n",
       "\n",
       "[3159 rows x 10 columns]"
      ]
     },
     "execution_count": 34,
     "metadata": {},
     "output_type": "execute_result"
    }
   ],
   "source": [
    "cumsum_df_zero_point2"
   ]
  },
  {
   "cell_type": "code",
   "execution_count": 35,
   "metadata": {},
   "outputs": [],
   "source": [
    "# 구간 별 profit 구하기 (point_amount_cumsum)\n",
    "cumsum_df_zero_point1['point_amount_cumsum'] = cumsum_df_zero_point1['amount_cumsum'] - cumsum_df_zero_point1['compare']\n",
    "cumsum_df_zero_point2['point_amount_cumsum'] = cumsum_df_zero_point2['amount_cumsum'] - cumsum_df_zero_point2['compare']\n",
    "cumsum_df_zero_point3['point_amount_cumsum'] = cumsum_df_zero_point3['amount_cumsum'] - cumsum_df_zero_point3['compare']\n",
    "cumsum_df_zero_point4['point_amount_cumsum'] = cumsum_df_zero_point4['amount_cumsum'] - cumsum_df_zero_point4['compare']\n",
    "cumsum_df_zero_point5['point_amount_cumsum'] = cumsum_df_zero_point5['amount_cumsum'] - cumsum_df_zero_point5['compare']\n",
    "cumsum_df_zero_point6['point_amount_cumsum'] = cumsum_df_zero_point6['amount_cumsum'] - cumsum_df_zero_point6['compare']\n",
    "cumsum_df_zero_point7['point_amount_cumsum'] = cumsum_df_zero_point7['amount_cumsum'] - cumsum_df_zero_point7['compare']"
   ]
  },
  {
   "cell_type": "code",
   "execution_count": 36,
   "metadata": {},
   "outputs": [],
   "source": [
    "# 결측값은 0으로 채우기\n",
    "# 이거 안해도 되지 않나\n",
    "cumsum_df_zero_point1=cumsum_df_zero_point1.fillna(0)\n",
    "cumsum_df_zero_point2=cumsum_df_zero_point2.fillna(0)\n",
    "cumsum_df_zero_point3=cumsum_df_zero_point3.fillna(0)\n",
    "cumsum_df_zero_point4=cumsum_df_zero_point4.fillna(0)\n",
    "cumsum_df_zero_point5=cumsum_df_zero_point5.fillna(0)\n",
    "cumsum_df_zero_point6=cumsum_df_zero_point6.fillna(0)\n",
    "cumsum_df_zero_point7=cumsum_df_zero_point7.fillna(0)"
   ]
  },
  {
   "cell_type": "code",
   "execution_count": 37,
   "metadata": {},
   "outputs": [],
   "source": [
    "# timestamp 한 row씩 미루기\n",
    "time_compare1 = cumsum_df_zero_point1['timestamp']\n",
    "time_compare1 = time_compare1.shift(1)[:]     # timestamp 한 row씩 미루기"
   ]
  },
  {
   "cell_type": "code",
   "execution_count": 38,
   "metadata": {},
   "outputs": [],
   "source": [
    "time_compare2 = cumsum_df_zero_point2['timestamp']\n",
    "time_compare2 = time_compare2.shift(1)[:]     # timestamp 한 row씩 미루기"
   ]
  },
  {
   "cell_type": "code",
   "execution_count": 39,
   "metadata": {},
   "outputs": [],
   "source": [
    "time_compare3 = cumsum_df_zero_point3['timestamp']\n",
    "time_compare3 = time_compare3.shift(1)[:]     # timestamp 한 row씩 미루기"
   ]
  },
  {
   "cell_type": "code",
   "execution_count": 40,
   "metadata": {},
   "outputs": [],
   "source": [
    "time_compare4 = cumsum_df_zero_point4['timestamp']\n",
    "time_compare4 = time_compare4.shift(1)[:]     # timestamp 한 row씩 미루기"
   ]
  },
  {
   "cell_type": "code",
   "execution_count": 41,
   "metadata": {},
   "outputs": [],
   "source": [
    "time_compare5 = cumsum_df_zero_point5['timestamp']\n",
    "time_compare5 = time_compare5.shift(1)[:]     # timestamp 한 row씩 미루기"
   ]
  },
  {
   "cell_type": "code",
   "execution_count": 42,
   "metadata": {},
   "outputs": [],
   "source": [
    "time_compare6 = cumsum_df_zero_point6['timestamp']\n",
    "time_compare6 = time_compare6.shift(1)[:]     # timestamp 한 row씩 미루기"
   ]
  },
  {
   "cell_type": "code",
   "execution_count": 43,
   "metadata": {},
   "outputs": [],
   "source": [
    "time_compare7 = cumsum_df_zero_point7['timestamp']\n",
    "time_compare7 = time_compare7.shift(1)[:]     # timestamp 한 row씩 미루기"
   ]
  },
  {
   "cell_type": "code",
   "execution_count": 44,
   "metadata": {},
   "outputs": [
    {
     "data": {
      "text/plain": [
       "1                       NaT\n",
       "3       2018-02-14 00:12:12\n",
       "6       2018-02-14 00:15:41\n",
       "14      2018-02-14 00:20:44\n",
       "19      2018-02-14 00:28:28\n",
       "                ...        \n",
       "18325   2018-02-28 22:40:53\n",
       "18334   2018-02-28 23:01:28\n",
       "18349   2018-02-28 23:06:56\n",
       "18365   2018-02-28 23:25:17\n",
       "18366   2018-02-28 23:59:49\n",
       "Name: timestamp, Length: 3159, dtype: datetime64[ns]"
      ]
     },
     "execution_count": 44,
     "metadata": {},
     "output_type": "execute_result"
    }
   ],
   "source": [
    "time_compare2"
   ]
  },
  {
   "cell_type": "code",
   "execution_count": 45,
   "metadata": {},
   "outputs": [],
   "source": [
    "# 시간 간격 계산 위해 이전 타임 세팅\n",
    "previous_time1 = cumsum_df_zero_point1['timestamp']\n",
    "previous_time2 = cumsum_df_zero_point2['timestamp']\n",
    "previous_time3 = cumsum_df_zero_point3['timestamp']\n",
    "previous_time4 = cumsum_df_zero_point4['timestamp']\n",
    "previous_time5 = cumsum_df_zero_point5['timestamp']\n",
    "previous_time6 = cumsum_df_zero_point6['timestamp']\n",
    "previous_time7 = cumsum_df_zero_point7['timestamp']"
   ]
  },
  {
   "cell_type": "code",
   "execution_count": 46,
   "metadata": {},
   "outputs": [
    {
     "data": {
      "text/plain": [
       "1       2018-02-14 00:12:12\n",
       "3       2018-02-14 00:15:41\n",
       "6       2018-02-14 00:20:44\n",
       "14      2018-02-14 00:28:28\n",
       "19      2018-02-14 00:33:24\n",
       "                ...        \n",
       "18325   2018-02-28 23:01:28\n",
       "18334   2018-02-28 23:06:56\n",
       "18349   2018-02-28 23:25:17\n",
       "18365   2018-02-28 23:59:49\n",
       "18366   2018-02-28 23:59:49\n",
       "Name: timestamp, Length: 3159, dtype: datetime64[ns]"
      ]
     },
     "execution_count": 46,
     "metadata": {},
     "output_type": "execute_result"
    }
   ],
   "source": [
    "previous_time2"
   ]
  },
  {
   "cell_type": "code",
   "execution_count": 47,
   "metadata": {},
   "outputs": [],
   "source": [
    "time_interval1 = (previous_time1 - time_compare1)\n",
    "time_interval2 = (previous_time2 - time_compare2)\n",
    "time_interval3 = (previous_time3 - time_compare3)\n",
    "time_interval4 = (previous_time4 - time_compare4)\n",
    "time_interval5 = (previous_time5 - time_compare5)\n",
    "time_interval6 = (previous_time6 - time_compare6)\n",
    "time_interval7 = (previous_time7 - time_compare7)"
   ]
  },
  {
   "cell_type": "code",
   "execution_count": 48,
   "metadata": {},
   "outputs": [
    {
     "data": {
      "text/plain": [
       "1            NaT\n",
       "3       00:03:29\n",
       "6       00:05:03\n",
       "14      00:07:44\n",
       "19      00:04:56\n",
       "          ...   \n",
       "18325   00:20:35\n",
       "18334   00:05:28\n",
       "18349   00:18:21\n",
       "18365   00:34:32\n",
       "18366   00:00:00\n",
       "Name: timestamp, Length: 3159, dtype: timedelta64[ns]"
      ]
     },
     "execution_count": 48,
     "metadata": {},
     "output_type": "execute_result"
    }
   ],
   "source": [
    "time_interval2"
   ]
  },
  {
   "cell_type": "code",
   "execution_count": 49,
   "metadata": {},
   "outputs": [],
   "source": [
    "# 데이터 프레임 cumsum_df_zero_point()와 time_compare 결합\n",
    "cumsum_df_zero_point1 = pd.concat([cumsum_df_zero_point1,time_interval1],axis=1)\n",
    "# cumsum_df_zero_point1 = cumsum_df_zero_point1.fillna(0)     # 결측값은 0으로 채우기"
   ]
  },
  {
   "cell_type": "code",
   "execution_count": 50,
   "metadata": {},
   "outputs": [],
   "source": [
    "cumsum_df_zero_point2 = pd.concat([cumsum_df_zero_point2,time_interval2],axis=1)\n",
    "# cumsum_df_zero_point2 = cumsum_df_zero_point2.fillna(0)     # 결측값은 0으로 채우기"
   ]
  },
  {
   "cell_type": "code",
   "execution_count": 51,
   "metadata": {},
   "outputs": [],
   "source": [
    "cumsum_df_zero_point3 = pd.concat([cumsum_df_zero_point3,time_interval3],axis=1)\n",
    "# cumsum_df_zero_point3 = cumsum_df_zero_point3.fillna(0)     # 결측값은 0으로 채우기"
   ]
  },
  {
   "cell_type": "code",
   "execution_count": 52,
   "metadata": {},
   "outputs": [],
   "source": [
    "cumsum_df_zero_point4 = pd.concat([cumsum_df_zero_point4,time_interval4],axis=1)\n",
    "# cumsum_df_zero_point4 = cumsum_df_zero_point4.fillna(0)     # 결측값은 0으로 채우기"
   ]
  },
  {
   "cell_type": "code",
   "execution_count": 53,
   "metadata": {},
   "outputs": [],
   "source": [
    "cumsum_df_zero_point5 = pd.concat([cumsum_df_zero_point5,time_interval5],axis=1)\n",
    "# cumsum_df_zero_point5 = cumsum_df_zero_point5.fillna(0)     # 결측값은 0으로 채우기"
   ]
  },
  {
   "cell_type": "code",
   "execution_count": 54,
   "metadata": {},
   "outputs": [],
   "source": [
    "cumsum_df_zero_point6 = pd.concat([cumsum_df_zero_point6,time_interval6],axis=1)\n",
    "# cumsum_df_zero_point6 = cumsum_df_zero_point6.fillna(0)     # 결측값은 0으로 채우기"
   ]
  },
  {
   "cell_type": "code",
   "execution_count": 55,
   "metadata": {},
   "outputs": [],
   "source": [
    "cumsum_df_zero_point7 = pd.concat([cumsum_df_zero_point7,time_interval7],axis=1)\n",
    "# cumsum_df_zero_point7 = cumsum_df_zero_point7.fillna(0)     # 결측값은 0으로 채우기"
   ]
  },
  {
   "cell_type": "code",
   "execution_count": 56,
   "metadata": {},
   "outputs": [],
   "source": [
    "# 칼럼 지정\n",
    "cumsum_df_zero_point1.columns = ['timestamp', 'quantity', 'price', 'fee', 'amount', 'side', 'sign_quantity', 'sign_quantity_cumsum(coin)', 'amount_cumsum', 'compare', 'point_amount_cumsum', 'time_interval']\n",
    "cumsum_df_zero_point2.columns = ['timestamp', 'quantity', 'price', 'fee', 'amount', 'side', 'sign_quantity', 'sign_quantity_cumsum(coin)', 'amount_cumsum', 'compare', 'point_amount_cumsum', 'time_interval']\n",
    "cumsum_df_zero_point3.columns = ['timestamp', 'quantity', 'price', 'fee', 'amount', 'side', 'sign_quantity', 'sign_quantity_cumsum(coin)', 'amount_cumsum', 'compare', 'point_amount_cumsum', 'time_interval']\n",
    "cumsum_df_zero_point4.columns = ['timestamp', 'quantity', 'price', 'fee', 'amount', 'side', 'sign_quantity', 'sign_quantity_cumsum(coin)', 'amount_cumsum', 'compare', 'point_amount_cumsum', 'time_interval']\n",
    "cumsum_df_zero_point5.columns = ['timestamp', 'quantity', 'price', 'fee', 'amount', 'side', 'sign_quantity', 'sign_quantity_cumsum(coin)', 'amount_cumsum', 'compare', 'point_amount_cumsum', 'time_interval']\n",
    "cumsum_df_zero_point6.columns = ['timestamp', 'quantity', 'price', 'fee', 'amount', 'side', 'sign_quantity', 'sign_quantity_cumsum(coin)', 'amount_cumsum', 'compare', 'point_amount_cumsum', 'time_interval']\n",
    "cumsum_df_zero_point7.columns = ['timestamp', 'quantity', 'price', 'fee', 'amount', 'side', 'sign_quantity', 'sign_quantity_cumsum(coin)', 'amount_cumsum', 'compare', 'point_amount_cumsum', 'time_interval']"
   ]
  },
  {
   "cell_type": "code",
   "execution_count": 57,
   "metadata": {},
   "outputs": [
    {
     "data": {
      "text/html": [
       "<div>\n",
       "<style scoped>\n",
       "    .dataframe tbody tr th:only-of-type {\n",
       "        vertical-align: middle;\n",
       "    }\n",
       "\n",
       "    .dataframe tbody tr th {\n",
       "        vertical-align: top;\n",
       "    }\n",
       "\n",
       "    .dataframe thead th {\n",
       "        text-align: right;\n",
       "    }\n",
       "</style>\n",
       "<table border=\"1\" class=\"dataframe\">\n",
       "  <thead>\n",
       "    <tr style=\"text-align: right;\">\n",
       "      <th></th>\n",
       "      <th>timestamp</th>\n",
       "      <th>quantity</th>\n",
       "      <th>price</th>\n",
       "      <th>fee</th>\n",
       "      <th>amount</th>\n",
       "      <th>side</th>\n",
       "      <th>sign_quantity</th>\n",
       "      <th>sign_quantity_cumsum(coin)</th>\n",
       "      <th>amount_cumsum</th>\n",
       "      <th>compare</th>\n",
       "      <th>point_amount_cumsum</th>\n",
       "      <th>time_interval</th>\n",
       "    </tr>\n",
       "  </thead>\n",
       "  <tbody>\n",
       "    <tr>\n",
       "      <th>6</th>\n",
       "      <td>2018-06-01 02:00:45</td>\n",
       "      <td>0.1122</td>\n",
       "      <td>8327000</td>\n",
       "      <td>0</td>\n",
       "      <td>934289</td>\n",
       "      <td>1</td>\n",
       "      <td>0.1122</td>\n",
       "      <td>-0.000000</td>\n",
       "      <td>-702</td>\n",
       "      <td>0.0</td>\n",
       "      <td>-702.0</td>\n",
       "      <td>NaT</td>\n",
       "    </tr>\n",
       "    <tr>\n",
       "      <th>7</th>\n",
       "      <td>2018-06-01 02:05:02</td>\n",
       "      <td>0.0045</td>\n",
       "      <td>8318000</td>\n",
       "      <td>0</td>\n",
       "      <td>-37431</td>\n",
       "      <td>0</td>\n",
       "      <td>-0.0045</td>\n",
       "      <td>-0.004501</td>\n",
       "      <td>-38133</td>\n",
       "      <td>-702.0</td>\n",
       "      <td>-37431.0</td>\n",
       "      <td>00:04:17</td>\n",
       "    </tr>\n",
       "    <tr>\n",
       "      <th>8</th>\n",
       "      <td>2018-06-01 02:05:54</td>\n",
       "      <td>0.0045</td>\n",
       "      <td>8333000</td>\n",
       "      <td>0</td>\n",
       "      <td>37499</td>\n",
       "      <td>1</td>\n",
       "      <td>0.0045</td>\n",
       "      <td>-0.000000</td>\n",
       "      <td>-634</td>\n",
       "      <td>-38133.0</td>\n",
       "      <td>37499.0</td>\n",
       "      <td>00:00:52</td>\n",
       "    </tr>\n",
       "    <tr>\n",
       "      <th>13</th>\n",
       "      <td>2018-06-01 03:43:16</td>\n",
       "      <td>0.2233</td>\n",
       "      <td>8317000</td>\n",
       "      <td>0</td>\n",
       "      <td>1857186</td>\n",
       "      <td>1</td>\n",
       "      <td>0.2233</td>\n",
       "      <td>0.000000</td>\n",
       "      <td>-5373</td>\n",
       "      <td>-634.0</td>\n",
       "      <td>-4739.0</td>\n",
       "      <td>01:37:22</td>\n",
       "    </tr>\n",
       "    <tr>\n",
       "      <th>57</th>\n",
       "      <td>2018-06-01 06:02:29</td>\n",
       "      <td>0.1720</td>\n",
       "      <td>8313000</td>\n",
       "      <td>0</td>\n",
       "      <td>1429836</td>\n",
       "      <td>1</td>\n",
       "      <td>0.1720</td>\n",
       "      <td>-0.000000</td>\n",
       "      <td>8497</td>\n",
       "      <td>-5373.0</td>\n",
       "      <td>13870.0</td>\n",
       "      <td>02:19:13</td>\n",
       "    </tr>\n",
       "    <tr>\n",
       "      <th>...</th>\n",
       "      <td>...</td>\n",
       "      <td>...</td>\n",
       "      <td>...</td>\n",
       "      <td>...</td>\n",
       "      <td>...</td>\n",
       "      <td>...</td>\n",
       "      <td>...</td>\n",
       "      <td>...</td>\n",
       "      <td>...</td>\n",
       "      <td>...</td>\n",
       "      <td>...</td>\n",
       "      <td>...</td>\n",
       "    </tr>\n",
       "    <tr>\n",
       "      <th>8766</th>\n",
       "      <td>2018-06-30 21:43:31</td>\n",
       "      <td>0.2699</td>\n",
       "      <td>7188000</td>\n",
       "      <td>0</td>\n",
       "      <td>1940041</td>\n",
       "      <td>1</td>\n",
       "      <td>0.2699</td>\n",
       "      <td>-0.000052</td>\n",
       "      <td>4516977</td>\n",
       "      <td>4455807.0</td>\n",
       "      <td>61170.0</td>\n",
       "      <td>00:03:41</td>\n",
       "    </tr>\n",
       "    <tr>\n",
       "      <th>8769</th>\n",
       "      <td>2018-06-30 21:53:26</td>\n",
       "      <td>0.0282</td>\n",
       "      <td>7170000</td>\n",
       "      <td>0</td>\n",
       "      <td>202194</td>\n",
       "      <td>1</td>\n",
       "      <td>0.0282</td>\n",
       "      <td>-0.000052</td>\n",
       "      <td>4517095</td>\n",
       "      <td>4516977.0</td>\n",
       "      <td>118.0</td>\n",
       "      <td>00:09:55</td>\n",
       "    </tr>\n",
       "    <tr>\n",
       "      <th>8770</th>\n",
       "      <td>2018-06-30 23:04:48</td>\n",
       "      <td>0.0056</td>\n",
       "      <td>7150000</td>\n",
       "      <td>0</td>\n",
       "      <td>-40040</td>\n",
       "      <td>0</td>\n",
       "      <td>-0.0056</td>\n",
       "      <td>-0.005653</td>\n",
       "      <td>4477055</td>\n",
       "      <td>4517095.0</td>\n",
       "      <td>-40040.0</td>\n",
       "      <td>01:11:22</td>\n",
       "    </tr>\n",
       "    <tr>\n",
       "      <th>8775</th>\n",
       "      <td>2018-06-30 23:07:17</td>\n",
       "      <td>0.4041</td>\n",
       "      <td>7142000</td>\n",
       "      <td>0</td>\n",
       "      <td>2886082</td>\n",
       "      <td>1</td>\n",
       "      <td>0.4041</td>\n",
       "      <td>-0.000052</td>\n",
       "      <td>4513786</td>\n",
       "      <td>4477055.0</td>\n",
       "      <td>36731.0</td>\n",
       "      <td>00:02:29</td>\n",
       "    </tr>\n",
       "    <tr>\n",
       "      <th>8778</th>\n",
       "      <td>2018-06-30 23:25:30</td>\n",
       "      <td>0.0139</td>\n",
       "      <td>7135000</td>\n",
       "      <td>0</td>\n",
       "      <td>99177</td>\n",
       "      <td>1</td>\n",
       "      <td>0.0139</td>\n",
       "      <td>-0.000052</td>\n",
       "      <td>4513842</td>\n",
       "      <td>4513786.0</td>\n",
       "      <td>56.0</td>\n",
       "      <td>00:18:13</td>\n",
       "    </tr>\n",
       "  </tbody>\n",
       "</table>\n",
       "<p>1248 rows × 12 columns</p>\n",
       "</div>"
      ],
      "text/plain": [
       "               timestamp  quantity    price  fee   amount  side  \\\n",
       "6    2018-06-01 02:00:45    0.1122  8327000    0   934289     1   \n",
       "7    2018-06-01 02:05:02    0.0045  8318000    0   -37431     0   \n",
       "8    2018-06-01 02:05:54    0.0045  8333000    0    37499     1   \n",
       "13   2018-06-01 03:43:16    0.2233  8317000    0  1857186     1   \n",
       "57   2018-06-01 06:02:29    0.1720  8313000    0  1429836     1   \n",
       "...                  ...       ...      ...  ...      ...   ...   \n",
       "8766 2018-06-30 21:43:31    0.2699  7188000    0  1940041     1   \n",
       "8769 2018-06-30 21:53:26    0.0282  7170000    0   202194     1   \n",
       "8770 2018-06-30 23:04:48    0.0056  7150000    0   -40040     0   \n",
       "8775 2018-06-30 23:07:17    0.4041  7142000    0  2886082     1   \n",
       "8778 2018-06-30 23:25:30    0.0139  7135000    0    99177     1   \n",
       "\n",
       "      sign_quantity  sign_quantity_cumsum(coin)  amount_cumsum    compare  \\\n",
       "6            0.1122                   -0.000000           -702        0.0   \n",
       "7           -0.0045                   -0.004501         -38133     -702.0   \n",
       "8            0.0045                   -0.000000           -634   -38133.0   \n",
       "13           0.2233                    0.000000          -5373     -634.0   \n",
       "57           0.1720                   -0.000000           8497    -5373.0   \n",
       "...             ...                         ...            ...        ...   \n",
       "8766         0.2699                   -0.000052        4516977  4455807.0   \n",
       "8769         0.0282                   -0.000052        4517095  4516977.0   \n",
       "8770        -0.0056                   -0.005653        4477055  4517095.0   \n",
       "8775         0.4041                   -0.000052        4513786  4477055.0   \n",
       "8778         0.0139                   -0.000052        4513842  4513786.0   \n",
       "\n",
       "      point_amount_cumsum time_interval  \n",
       "6                  -702.0           NaT  \n",
       "7                -37431.0      00:04:17  \n",
       "8                 37499.0      00:00:52  \n",
       "13                -4739.0      01:37:22  \n",
       "57                13870.0      02:19:13  \n",
       "...                   ...           ...  \n",
       "8766              61170.0      00:03:41  \n",
       "8769                118.0      00:09:55  \n",
       "8770             -40040.0      01:11:22  \n",
       "8775              36731.0      00:02:29  \n",
       "8778                 56.0      00:18:13  \n",
       "\n",
       "[1248 rows x 12 columns]"
      ]
     },
     "execution_count": 57,
     "metadata": {},
     "output_type": "execute_result"
    }
   ],
   "source": [
    "cumsum_df_zero_point6"
   ]
  },
  {
   "cell_type": "code",
   "execution_count": 58,
   "metadata": {},
   "outputs": [],
   "source": [
    "# time_interval - point_amount_cumsum 추출하기\n",
    "# t_inter_p_cumsum1 = cumsum_df_zero_point1.ilic[:, [11, 10]]     # 1월은 데이터가 안 나와서 제외\n",
    "t_inter_p_cumsum2 = cumsum_df_zero_point2.iloc[:, [11, 10]]\n",
    "t_inter_p_cumsum3 = cumsum_df_zero_point3.iloc[:, [11, 10]]\n",
    "t_inter_p_cumsum4 = cumsum_df_zero_point4.iloc[:, [11, 10]]\n",
    "t_inter_p_cumsum5 = cumsum_df_zero_point5.iloc[:, [11, 10]]\n",
    "t_inter_p_cumsum6 = cumsum_df_zero_point6.iloc[:, [11, 10]]\n",
    "t_inter_p_cumsum7 = cumsum_df_zero_point7.iloc[:, [11, 10]]"
   ]
  },
  {
   "cell_type": "code",
   "execution_count": 59,
   "metadata": {},
   "outputs": [
    {
     "data": {
      "text/html": [
       "<div>\n",
       "<style scoped>\n",
       "    .dataframe tbody tr th:only-of-type {\n",
       "        vertical-align: middle;\n",
       "    }\n",
       "\n",
       "    .dataframe tbody tr th {\n",
       "        vertical-align: top;\n",
       "    }\n",
       "\n",
       "    .dataframe thead th {\n",
       "        text-align: right;\n",
       "    }\n",
       "</style>\n",
       "<table border=\"1\" class=\"dataframe\">\n",
       "  <thead>\n",
       "    <tr style=\"text-align: right;\">\n",
       "      <th></th>\n",
       "      <th>time_interval</th>\n",
       "      <th>point_amount_cumsum</th>\n",
       "    </tr>\n",
       "  </thead>\n",
       "  <tbody>\n",
       "    <tr>\n",
       "      <th>6</th>\n",
       "      <td>NaT</td>\n",
       "      <td>-702.0</td>\n",
       "    </tr>\n",
       "    <tr>\n",
       "      <th>7</th>\n",
       "      <td>00:04:17</td>\n",
       "      <td>-37431.0</td>\n",
       "    </tr>\n",
       "    <tr>\n",
       "      <th>8</th>\n",
       "      <td>00:00:52</td>\n",
       "      <td>37499.0</td>\n",
       "    </tr>\n",
       "    <tr>\n",
       "      <th>13</th>\n",
       "      <td>01:37:22</td>\n",
       "      <td>-4739.0</td>\n",
       "    </tr>\n",
       "    <tr>\n",
       "      <th>57</th>\n",
       "      <td>02:19:13</td>\n",
       "      <td>13870.0</td>\n",
       "    </tr>\n",
       "    <tr>\n",
       "      <th>74</th>\n",
       "      <td>01:11:35</td>\n",
       "      <td>-147749.0</td>\n",
       "    </tr>\n",
       "    <tr>\n",
       "      <th>77</th>\n",
       "      <td>00:12:25</td>\n",
       "      <td>-120.0</td>\n",
       "    </tr>\n",
       "    <tr>\n",
       "      <th>79</th>\n",
       "      <td>00:09:07</td>\n",
       "      <td>0.0</td>\n",
       "    </tr>\n",
       "    <tr>\n",
       "      <th>100</th>\n",
       "      <td>01:41:48</td>\n",
       "      <td>39062.0</td>\n",
       "    </tr>\n",
       "    <tr>\n",
       "      <th>102</th>\n",
       "      <td>00:07:38</td>\n",
       "      <td>-96.0</td>\n",
       "    </tr>\n",
       "  </tbody>\n",
       "</table>\n",
       "</div>"
      ],
      "text/plain": [
       "    time_interval  point_amount_cumsum\n",
       "6             NaT               -702.0\n",
       "7        00:04:17             -37431.0\n",
       "8        00:00:52              37499.0\n",
       "13       01:37:22              -4739.0\n",
       "57       02:19:13              13870.0\n",
       "74       01:11:35            -147749.0\n",
       "77       00:12:25               -120.0\n",
       "79       00:09:07                  0.0\n",
       "100      01:41:48              39062.0\n",
       "102      00:07:38                -96.0"
      ]
     },
     "execution_count": 59,
     "metadata": {},
     "output_type": "execute_result"
    }
   ],
   "source": [
    "t_inter_p_cumsum6.head(10)"
   ]
  },
  {
   "cell_type": "code",
   "execution_count": 60,
   "metadata": {},
   "outputs": [],
   "source": [
    "# 처음에 NaT 있는것 제외\n",
    "t_inter_p_cumsum2 = t_inter_p_cumsum2.iloc[1:]\n",
    "t_inter_p_cumsum3 = t_inter_p_cumsum3.iloc[1:]\n",
    "t_inter_p_cumsum4 = t_inter_p_cumsum4.iloc[1:]\n",
    "t_inter_p_cumsum5 = t_inter_p_cumsum5.iloc[1:]\n",
    "t_inter_p_cumsum6 = t_inter_p_cumsum6.iloc[1:]\n",
    "t_inter_p_cumsum7 = t_inter_p_cumsum7.iloc[1:]"
   ]
  },
  {
   "cell_type": "code",
   "execution_count": 61,
   "metadata": {},
   "outputs": [
    {
     "data": {
      "text/html": [
       "<div>\n",
       "<style scoped>\n",
       "    .dataframe tbody tr th:only-of-type {\n",
       "        vertical-align: middle;\n",
       "    }\n",
       "\n",
       "    .dataframe tbody tr th {\n",
       "        vertical-align: top;\n",
       "    }\n",
       "\n",
       "    .dataframe thead th {\n",
       "        text-align: right;\n",
       "    }\n",
       "</style>\n",
       "<table border=\"1\" class=\"dataframe\">\n",
       "  <thead>\n",
       "    <tr style=\"text-align: right;\">\n",
       "      <th></th>\n",
       "      <th>time_interval</th>\n",
       "      <th>point_amount_cumsum</th>\n",
       "    </tr>\n",
       "  </thead>\n",
       "  <tbody>\n",
       "    <tr>\n",
       "      <th>7</th>\n",
       "      <td>00:04:17</td>\n",
       "      <td>-37431.0</td>\n",
       "    </tr>\n",
       "    <tr>\n",
       "      <th>8</th>\n",
       "      <td>00:00:52</td>\n",
       "      <td>37499.0</td>\n",
       "    </tr>\n",
       "    <tr>\n",
       "      <th>13</th>\n",
       "      <td>01:37:22</td>\n",
       "      <td>-4739.0</td>\n",
       "    </tr>\n",
       "    <tr>\n",
       "      <th>57</th>\n",
       "      <td>02:19:13</td>\n",
       "      <td>13870.0</td>\n",
       "    </tr>\n",
       "    <tr>\n",
       "      <th>74</th>\n",
       "      <td>01:11:35</td>\n",
       "      <td>-147749.0</td>\n",
       "    </tr>\n",
       "    <tr>\n",
       "      <th>...</th>\n",
       "      <td>...</td>\n",
       "      <td>...</td>\n",
       "    </tr>\n",
       "    <tr>\n",
       "      <th>8766</th>\n",
       "      <td>00:03:41</td>\n",
       "      <td>61170.0</td>\n",
       "    </tr>\n",
       "    <tr>\n",
       "      <th>8769</th>\n",
       "      <td>00:09:55</td>\n",
       "      <td>118.0</td>\n",
       "    </tr>\n",
       "    <tr>\n",
       "      <th>8770</th>\n",
       "      <td>01:11:22</td>\n",
       "      <td>-40040.0</td>\n",
       "    </tr>\n",
       "    <tr>\n",
       "      <th>8775</th>\n",
       "      <td>00:02:29</td>\n",
       "      <td>36731.0</td>\n",
       "    </tr>\n",
       "    <tr>\n",
       "      <th>8778</th>\n",
       "      <td>00:18:13</td>\n",
       "      <td>56.0</td>\n",
       "    </tr>\n",
       "  </tbody>\n",
       "</table>\n",
       "<p>1247 rows × 2 columns</p>\n",
       "</div>"
      ],
      "text/plain": [
       "     time_interval  point_amount_cumsum\n",
       "7         00:04:17             -37431.0\n",
       "8         00:00:52              37499.0\n",
       "13        01:37:22              -4739.0\n",
       "57        02:19:13              13870.0\n",
       "74        01:11:35            -147749.0\n",
       "...            ...                  ...\n",
       "8766      00:03:41              61170.0\n",
       "8769      00:09:55                118.0\n",
       "8770      01:11:22             -40040.0\n",
       "8775      00:02:29              36731.0\n",
       "8778      00:18:13                 56.0\n",
       "\n",
       "[1247 rows x 2 columns]"
      ]
     },
     "execution_count": 61,
     "metadata": {},
     "output_type": "execute_result"
    }
   ],
   "source": [
    "t_inter_p_cumsum6"
   ]
  },
  {
   "cell_type": "code",
   "execution_count": null,
   "metadata": {},
   "outputs": [],
   "source": []
  },
  {
   "cell_type": "code",
   "execution_count": null,
   "metadata": {},
   "outputs": [],
   "source": []
  },
  {
   "cell_type": "code",
   "execution_count": null,
   "metadata": {},
   "outputs": [],
   "source": []
  },
  {
   "cell_type": "code",
   "execution_count": null,
   "metadata": {},
   "outputs": [],
   "source": []
  },
  {
   "cell_type": "code",
   "execution_count": null,
   "metadata": {},
   "outputs": [],
   "source": []
  },
  {
   "cell_type": "code",
   "execution_count": null,
   "metadata": {},
   "outputs": [],
   "source": []
  },
  {
   "cell_type": "code",
   "execution_count": null,
   "metadata": {},
   "outputs": [],
   "source": []
  },
  {
   "cell_type": "code",
   "execution_count": 62,
   "metadata": {},
   "outputs": [
    {
     "data": {
      "text/plain": [
       "6           NaT\n",
       "7      00:04:17\n",
       "8      00:00:52\n",
       "13     01:37:22\n",
       "57     02:19:13\n",
       "         ...   \n",
       "8766   00:03:41\n",
       "8769   00:09:55\n",
       "8770   01:11:22\n",
       "8775   00:02:29\n",
       "8778   00:18:13\n",
       "Name: time_interval, Length: 1248, dtype: timedelta64[ns]"
      ]
     },
     "execution_count": 62,
     "metadata": {},
     "output_type": "execute_result"
    }
   ],
   "source": [
    "# 6월의 time interval 칼럼\n",
    "cumsum_df_zero_point6['time_interval']"
   ]
  },
  {
   "cell_type": "code",
   "execution_count": 63,
   "metadata": {
    "scrolled": true
   },
   "outputs": [
    {
     "data": {
      "text/plain": [
       "7      00:04:17\n",
       "8      00:00:52\n",
       "13     01:37:22\n",
       "57     02:19:13\n",
       "74     01:11:35\n",
       "         ...   \n",
       "8766   00:03:41\n",
       "8769   00:09:55\n",
       "8770   01:11:22\n",
       "8775   00:02:29\n",
       "8778   00:18:13\n",
       "Name: time_interval, Length: 1247, dtype: timedelta64[ns]"
      ]
     },
     "execution_count": 63,
     "metadata": {},
     "output_type": "execute_result"
    }
   ],
   "source": [
    "# 처음 NaT 없애기\n",
    "cumsum_df_zero_point6['time_interval'].iloc[1:1248]"
   ]
  },
  {
   "cell_type": "code",
   "execution_count": 64,
   "metadata": {},
   "outputs": [
    {
     "data": {
      "text/plain": [
       "Timedelta('0 days 00:34:31.118684')"
      ]
     },
     "execution_count": 64,
     "metadata": {},
     "output_type": "execute_result"
    }
   ],
   "source": [
    "# 6월 time interval 평균\n",
    "cumsum_df_zero_point6['time_interval'].mean()"
   ]
  },
  {
   "cell_type": "code",
   "execution_count": 65,
   "metadata": {},
   "outputs": [
    {
     "data": {
      "text/plain": [
       "Timedelta('0 days 12:49:00')"
      ]
     },
     "execution_count": 65,
     "metadata": {},
     "output_type": "execute_result"
    }
   ],
   "source": [
    "# 6월 time interval 최댓값\n",
    "cumsum_df_zero_point6['time_interval'].max()"
   ]
  },
  {
   "cell_type": "code",
   "execution_count": 66,
   "metadata": {},
   "outputs": [
    {
     "data": {
      "text/plain": [
       "[NaT, Timedelta('0 days 00:00:52')]"
      ]
     },
     "execution_count": 66,
     "metadata": {},
     "output_type": "execute_result"
    }
   ],
   "source": [
    "# 6월 time interval 최솟값\n",
    "# 두 번째로 작은 수 찾기 (00:00:00) 때문\n",
    "heapq.nsmallest(2, cumsum_df_zero_point6['time_interval'])"
   ]
  },
  {
   "cell_type": "code",
   "execution_count": 71,
   "metadata": {},
   "outputs": [
    {
     "data": {
      "text/plain": [
       "1770   0 days\n",
       "Name: time_interval, dtype: timedelta64[ns]"
      ]
     },
     "execution_count": 71,
     "metadata": {},
     "output_type": "execute_result"
    }
   ],
   "source": [
    "cumsum_df_zero_point6['time_interval'].nsmallest(2).iloc[[-1]]"
   ]
  },
  {
   "cell_type": "code",
   "execution_count": 72,
   "metadata": {
    "scrolled": true
   },
   "outputs": [
    {
     "data": {
      "image/png": "[encoded data removed]",
      "text/plain": [
       "<Figure size 432x288 with 1 Axes>"
      ]
     },
     "metadata": {
      "needs_background": "light"
     },
     "output_type": "display_data"
    }
   ],
   "source": [
    "# 시험삼아 해 본 quantity box-plot\n",
    "# 여러 달꺼 합쳐서 해볼 것.\n",
    "boxplot = cumsum_df_zero_point4.boxplot(column=['quantity'])\n",
    "plt.show()"
   ]
  },
  {
   "cell_type": "code",
   "execution_count": 73,
   "metadata": {},
   "outputs": [
    {
     "data": {
      "text/plain": [
       "23           NaN\n",
       "44        1288.0\n",
       "53         815.0\n",
       "54           7.0\n",
       "156      24808.0\n",
       "          ...   \n",
       "27168    12098.0\n",
       "27367    41249.0\n",
       "27542    15838.0\n",
       "27543       10.0\n",
       "27623     5642.0\n",
       "Name: time_interval, Length: 266, dtype: float64"
      ]
     },
     "execution_count": 73,
     "metadata": {},
     "output_type": "execute_result"
    }
   ],
   "source": [
    "# timedelta를 float64로\n",
    "timediff = cumsum_df_zero_point4['time_interval'].dt.seconds\n",
    "\n",
    "timediff"
   ]
  },
  {
   "cell_type": "code",
   "execution_count": 74,
   "metadata": {},
   "outputs": [],
   "source": [
    "# timediff dataframe에 이어 붙이기\n",
    "cumsum_df_zero_point4 = pd.concat([cumsum_df_zero_point4,timediff],axis=1)\n",
    "# cumsum_df_zero_point4 = cumsum_df_zero_point4.fillna(0)     # 결측값은 0으로 채우기"
   ]
  },
  {
   "cell_type": "code",
   "execution_count": 75,
   "metadata": {},
   "outputs": [
    {
     "data": {
      "text/html": [
       "<div>\n",
       "<style scoped>\n",
       "    .dataframe tbody tr th:only-of-type {\n",
       "        vertical-align: middle;\n",
       "    }\n",
       "\n",
       "    .dataframe tbody tr th {\n",
       "        vertical-align: top;\n",
       "    }\n",
       "\n",
       "    .dataframe thead th {\n",
       "        text-align: right;\n",
       "    }\n",
       "</style>\n",
       "<table border=\"1\" class=\"dataframe\">\n",
       "  <thead>\n",
       "    <tr style=\"text-align: right;\">\n",
       "      <th></th>\n",
       "      <th>timestamp</th>\n",
       "      <th>quantity</th>\n",
       "      <th>price</th>\n",
       "      <th>fee</th>\n",
       "      <th>amount</th>\n",
       "      <th>side</th>\n",
       "      <th>sign_quantity</th>\n",
       "      <th>sign_quantity_cumsum(coin)</th>\n",
       "      <th>amount_cumsum</th>\n",
       "      <th>compare</th>\n",
       "      <th>point_amount_cumsum</th>\n",
       "      <th>time_interval</th>\n",
       "      <th>time_interval</th>\n",
       "    </tr>\n",
       "  </thead>\n",
       "  <tbody>\n",
       "    <tr>\n",
       "      <th>23</th>\n",
       "      <td>2018-04-01 00:24:41</td>\n",
       "      <td>0.1082</td>\n",
       "      <td>7779000</td>\n",
       "      <td>0</td>\n",
       "      <td>-841688</td>\n",
       "      <td>0</td>\n",
       "      <td>-0.1082</td>\n",
       "      <td>-0.009048</td>\n",
       "      <td>-38857</td>\n",
       "      <td>0.0</td>\n",
       "      <td>-38857.0</td>\n",
       "      <td>NaT</td>\n",
       "      <td>NaN</td>\n",
       "    </tr>\n",
       "    <tr>\n",
       "      <th>44</th>\n",
       "      <td>2018-04-01 00:46:09</td>\n",
       "      <td>0.0289</td>\n",
       "      <td>7763000</td>\n",
       "      <td>0</td>\n",
       "      <td>224351</td>\n",
       "      <td>1</td>\n",
       "      <td>0.0289</td>\n",
       "      <td>0.006653</td>\n",
       "      <td>108525</td>\n",
       "      <td>-38857.0</td>\n",
       "      <td>147382.0</td>\n",
       "      <td>00:21:28</td>\n",
       "      <td>1288.0</td>\n",
       "    </tr>\n",
       "    <tr>\n",
       "      <th>53</th>\n",
       "      <td>2018-04-01 00:59:44</td>\n",
       "      <td>0.1039</td>\n",
       "      <td>7753000</td>\n",
       "      <td>0</td>\n",
       "      <td>-805537</td>\n",
       "      <td>0</td>\n",
       "      <td>-0.1039</td>\n",
       "      <td>0.008354</td>\n",
       "      <td>124891</td>\n",
       "      <td>108525.0</td>\n",
       "      <td>16366.0</td>\n",
       "      <td>00:13:35</td>\n",
       "      <td>815.0</td>\n",
       "    </tr>\n",
       "    <tr>\n",
       "      <th>54</th>\n",
       "      <td>2018-04-01 00:59:51</td>\n",
       "      <td>0.0046</td>\n",
       "      <td>7757000</td>\n",
       "      <td>0</td>\n",
       "      <td>-35682</td>\n",
       "      <td>0</td>\n",
       "      <td>-0.0046</td>\n",
       "      <td>0.003752</td>\n",
       "      <td>89209</td>\n",
       "      <td>124891.0</td>\n",
       "      <td>-35682.0</td>\n",
       "      <td>00:00:07</td>\n",
       "      <td>7.0</td>\n",
       "    </tr>\n",
       "    <tr>\n",
       "      <th>156</th>\n",
       "      <td>2018-04-01 07:53:19</td>\n",
       "      <td>0.0533</td>\n",
       "      <td>7716000</td>\n",
       "      <td>0</td>\n",
       "      <td>411263</td>\n",
       "      <td>1</td>\n",
       "      <td>0.0533</td>\n",
       "      <td>-0.008904</td>\n",
       "      <td>83842</td>\n",
       "      <td>89209.0</td>\n",
       "      <td>-5367.0</td>\n",
       "      <td>06:53:28</td>\n",
       "      <td>24808.0</td>\n",
       "    </tr>\n",
       "    <tr>\n",
       "      <th>...</th>\n",
       "      <td>...</td>\n",
       "      <td>...</td>\n",
       "      <td>...</td>\n",
       "      <td>...</td>\n",
       "      <td>...</td>\n",
       "      <td>...</td>\n",
       "      <td>...</td>\n",
       "      <td>...</td>\n",
       "      <td>...</td>\n",
       "      <td>...</td>\n",
       "      <td>...</td>\n",
       "      <td>...</td>\n",
       "      <td>...</td>\n",
       "    </tr>\n",
       "    <tr>\n",
       "      <th>27168</th>\n",
       "      <td>2018-04-30 00:52:05</td>\n",
       "      <td>0.1345</td>\n",
       "      <td>10127000</td>\n",
       "      <td>0</td>\n",
       "      <td>-1362082</td>\n",
       "      <td>0</td>\n",
       "      <td>-0.1345</td>\n",
       "      <td>0.005981</td>\n",
       "      <td>24238779</td>\n",
       "      <td>24305620.0</td>\n",
       "      <td>-66841.0</td>\n",
       "      <td>03:21:38</td>\n",
       "      <td>12098.0</td>\n",
       "    </tr>\n",
       "    <tr>\n",
       "      <th>27367</th>\n",
       "      <td>2018-04-30 12:19:34</td>\n",
       "      <td>0.1481</td>\n",
       "      <td>10235000</td>\n",
       "      <td>0</td>\n",
       "      <td>-1515804</td>\n",
       "      <td>0</td>\n",
       "      <td>-0.1481</td>\n",
       "      <td>-0.007580</td>\n",
       "      <td>24054608</td>\n",
       "      <td>24238779.0</td>\n",
       "      <td>-184171.0</td>\n",
       "      <td>11:27:29</td>\n",
       "      <td>41249.0</td>\n",
       "    </tr>\n",
       "    <tr>\n",
       "      <th>27542</th>\n",
       "      <td>2018-04-30 16:43:32</td>\n",
       "      <td>0.1338</td>\n",
       "      <td>10062000</td>\n",
       "      <td>0</td>\n",
       "      <td>-1346296</td>\n",
       "      <td>0</td>\n",
       "      <td>-0.1338</td>\n",
       "      <td>-0.003971</td>\n",
       "      <td>24083443</td>\n",
       "      <td>24054608.0</td>\n",
       "      <td>28835.0</td>\n",
       "      <td>04:23:58</td>\n",
       "      <td>15838.0</td>\n",
       "    </tr>\n",
       "    <tr>\n",
       "      <th>27543</th>\n",
       "      <td>2018-04-30 16:43:42</td>\n",
       "      <td>0.0026</td>\n",
       "      <td>10061000</td>\n",
       "      <td>0</td>\n",
       "      <td>-26159</td>\n",
       "      <td>0</td>\n",
       "      <td>-0.0026</td>\n",
       "      <td>-0.006569</td>\n",
       "      <td>24057284</td>\n",
       "      <td>24083443.0</td>\n",
       "      <td>-26159.0</td>\n",
       "      <td>00:00:10</td>\n",
       "      <td>10.0</td>\n",
       "    </tr>\n",
       "    <tr>\n",
       "      <th>27623</th>\n",
       "      <td>2018-04-30 18:17:44</td>\n",
       "      <td>0.1501</td>\n",
       "      <td>10048000</td>\n",
       "      <td>0</td>\n",
       "      <td>-1508205</td>\n",
       "      <td>0</td>\n",
       "      <td>-0.1501</td>\n",
       "      <td>-0.009567</td>\n",
       "      <td>23967448</td>\n",
       "      <td>24057284.0</td>\n",
       "      <td>-89836.0</td>\n",
       "      <td>01:34:02</td>\n",
       "      <td>5642.0</td>\n",
       "    </tr>\n",
       "  </tbody>\n",
       "</table>\n",
       "<p>266 rows × 13 columns</p>\n",
       "</div>"
      ],
      "text/plain": [
       "                timestamp  quantity     price  fee   amount  side  \\\n",
       "23    2018-04-01 00:24:41    0.1082   7779000    0  -841688     0   \n",
       "44    2018-04-01 00:46:09    0.0289   7763000    0   224351     1   \n",
       "53    2018-04-01 00:59:44    0.1039   7753000    0  -805537     0   \n",
       "54    2018-04-01 00:59:51    0.0046   7757000    0   -35682     0   \n",
       "156   2018-04-01 07:53:19    0.0533   7716000    0   411263     1   \n",
       "...                   ...       ...       ...  ...      ...   ...   \n",
       "27168 2018-04-30 00:52:05    0.1345  10127000    0 -1362082     0   \n",
       "27367 2018-04-30 12:19:34    0.1481  10235000    0 -1515804     0   \n",
       "27542 2018-04-30 16:43:32    0.1338  10062000    0 -1346296     0   \n",
       "27543 2018-04-30 16:43:42    0.0026  10061000    0   -26159     0   \n",
       "27623 2018-04-30 18:17:44    0.1501  10048000    0 -1508205     0   \n",
       "\n",
       "       sign_quantity  sign_quantity_cumsum(coin)  amount_cumsum     compare  \\\n",
       "23           -0.1082                   -0.009048         -38857         0.0   \n",
       "44            0.0289                    0.006653         108525    -38857.0   \n",
       "53           -0.1039                    0.008354         124891    108525.0   \n",
       "54           -0.0046                    0.003752          89209    124891.0   \n",
       "156           0.0533                   -0.008904          83842     89209.0   \n",
       "...              ...                         ...            ...         ...   \n",
       "27168        -0.1345                    0.005981       24238779  24305620.0   \n",
       "27367        -0.1481                   -0.007580       24054608  24238779.0   \n",
       "27542        -0.1338                   -0.003971       24083443  24054608.0   \n",
       "27543        -0.0026                   -0.006569       24057284  24083443.0   \n",
       "27623        -0.1501                   -0.009567       23967448  24057284.0   \n",
       "\n",
       "       point_amount_cumsum  time_interval  time_interval  \n",
       "23                -38857.0            NaT            NaN  \n",
       "44                147382.0       00:21:28         1288.0  \n",
       "53                 16366.0       00:13:35          815.0  \n",
       "54                -35682.0       00:00:07            7.0  \n",
       "156                -5367.0       06:53:28        24808.0  \n",
       "...                    ...            ...            ...  \n",
       "27168             -66841.0       03:21:38        12098.0  \n",
       "27367            -184171.0       11:27:29        41249.0  \n",
       "27542              28835.0       04:23:58        15838.0  \n",
       "27543             -26159.0       00:00:10           10.0  \n",
       "27623             -89836.0       01:34:02         5642.0  \n",
       "\n",
       "[266 rows x 13 columns]"
      ]
     },
     "execution_count": 75,
     "metadata": {},
     "output_type": "execute_result"
    }
   ],
   "source": [
    "cumsum_df_zero_point4"
   ]
  },
  {
   "cell_type": "code",
   "execution_count": 76,
   "metadata": {},
   "outputs": [],
   "source": [
    "# 칼럼 지정\n",
    "cumsum_df_zero_point4.columns = ['timestamp', 'quantity', 'price', 'fee', 'amount', 'side', 'sign_quantity', 'sign_quantity_cumsum(coin)', 'amount_cumsum', 'compare', 'point_amount_cumsum', 'time_interval', 'timediff']"
   ]
  },
  {
   "cell_type": "code",
   "execution_count": 81,
   "metadata": {},
   "outputs": [
    {
     "data": {
      "image/png": "[encoded data removed]",
      "text/plain": [
       "<Figure size 432x288 with 1 Axes>"
      ]
     },
     "metadata": {
      "needs_background": "light"
     },
     "output_type": "display_data"
    }
   ],
   "source": [
    "# 시험삼아 해 본 time diff box plot\n",
    "# 범위 -100 ~ 2000\n",
    "# 점들은 왜...\n",
    "boxplot = cumsum_df_zero_point4.boxplot(column=['timediff'])\n",
    "boxplot.set_ylim([-100,50000])\n",
    "plt.show()"
   ]
  },
  {
   "cell_type": "code",
   "execution_count": 82,
   "metadata": {},
   "outputs": [
    {
     "data": {
      "image/png": "[encoded data removed]",
      "text/plain": [
       "<Figure size 432x288 with 1 Axes>"
      ]
     },
     "metadata": {
      "needs_background": "light"
     },
     "output_type": "display_data"
    }
   ],
   "source": [
    "# 시험삼아 해 본 time diff box plot\n",
    "boxplot = cumsum_df_zero_point4.boxplot(column=['timediff'])\n",
    "plt.show()"
   ]
  },
  {
   "cell_type": "code",
   "execution_count": 83,
   "metadata": {},
   "outputs": [
    {
     "data": {
      "text/html": [
       "<div>\n",
       "<style scoped>\n",
       "    .dataframe tbody tr th:only-of-type {\n",
       "        vertical-align: middle;\n",
       "    }\n",
       "\n",
       "    .dataframe tbody tr th {\n",
       "        vertical-align: top;\n",
       "    }\n",
       "\n",
       "    .dataframe thead th {\n",
       "        text-align: right;\n",
       "    }\n",
       "</style>\n",
       "<table border=\"1\" class=\"dataframe\">\n",
       "  <thead>\n",
       "    <tr style=\"text-align: right;\">\n",
       "      <th></th>\n",
       "      <th>timestamp</th>\n",
       "      <th>quantity</th>\n",
       "      <th>price</th>\n",
       "      <th>fee</th>\n",
       "      <th>amount</th>\n",
       "      <th>side</th>\n",
       "      <th>sign_quantity</th>\n",
       "      <th>sign_quantity_cumsum(coin)</th>\n",
       "      <th>amount_cumsum</th>\n",
       "      <th>compare</th>\n",
       "      <th>point_amount_cumsum</th>\n",
       "      <th>time_interval</th>\n",
       "      <th>timediff</th>\n",
       "    </tr>\n",
       "  </thead>\n",
       "  <tbody>\n",
       "    <tr>\n",
       "      <th>23</th>\n",
       "      <td>2018-04-01 00:24:41</td>\n",
       "      <td>0.1082</td>\n",
       "      <td>7779000</td>\n",
       "      <td>0</td>\n",
       "      <td>-841688</td>\n",
       "      <td>0</td>\n",
       "      <td>-0.1082</td>\n",
       "      <td>-0.009048</td>\n",
       "      <td>-38857</td>\n",
       "      <td>0.0</td>\n",
       "      <td>-38857.0</td>\n",
       "      <td>NaT</td>\n",
       "      <td>NaN</td>\n",
       "    </tr>\n",
       "    <tr>\n",
       "      <th>44</th>\n",
       "      <td>2018-04-01 00:46:09</td>\n",
       "      <td>0.0289</td>\n",
       "      <td>7763000</td>\n",
       "      <td>0</td>\n",
       "      <td>224351</td>\n",
       "      <td>1</td>\n",
       "      <td>0.0289</td>\n",
       "      <td>0.006653</td>\n",
       "      <td>108525</td>\n",
       "      <td>-38857.0</td>\n",
       "      <td>147382.0</td>\n",
       "      <td>00:21:28</td>\n",
       "      <td>1288.0</td>\n",
       "    </tr>\n",
       "    <tr>\n",
       "      <th>53</th>\n",
       "      <td>2018-04-01 00:59:44</td>\n",
       "      <td>0.1039</td>\n",
       "      <td>7753000</td>\n",
       "      <td>0</td>\n",
       "      <td>-805537</td>\n",
       "      <td>0</td>\n",
       "      <td>-0.1039</td>\n",
       "      <td>0.008354</td>\n",
       "      <td>124891</td>\n",
       "      <td>108525.0</td>\n",
       "      <td>16366.0</td>\n",
       "      <td>00:13:35</td>\n",
       "      <td>815.0</td>\n",
       "    </tr>\n",
       "    <tr>\n",
       "      <th>54</th>\n",
       "      <td>2018-04-01 00:59:51</td>\n",
       "      <td>0.0046</td>\n",
       "      <td>7757000</td>\n",
       "      <td>0</td>\n",
       "      <td>-35682</td>\n",
       "      <td>0</td>\n",
       "      <td>-0.0046</td>\n",
       "      <td>0.003752</td>\n",
       "      <td>89209</td>\n",
       "      <td>124891.0</td>\n",
       "      <td>-35682.0</td>\n",
       "      <td>00:00:07</td>\n",
       "      <td>7.0</td>\n",
       "    </tr>\n",
       "    <tr>\n",
       "      <th>156</th>\n",
       "      <td>2018-04-01 07:53:19</td>\n",
       "      <td>0.0533</td>\n",
       "      <td>7716000</td>\n",
       "      <td>0</td>\n",
       "      <td>411263</td>\n",
       "      <td>1</td>\n",
       "      <td>0.0533</td>\n",
       "      <td>-0.008904</td>\n",
       "      <td>83842</td>\n",
       "      <td>89209.0</td>\n",
       "      <td>-5367.0</td>\n",
       "      <td>06:53:28</td>\n",
       "      <td>24808.0</td>\n",
       "    </tr>\n",
       "    <tr>\n",
       "      <th>...</th>\n",
       "      <td>...</td>\n",
       "      <td>...</td>\n",
       "      <td>...</td>\n",
       "      <td>...</td>\n",
       "      <td>...</td>\n",
       "      <td>...</td>\n",
       "      <td>...</td>\n",
       "      <td>...</td>\n",
       "      <td>...</td>\n",
       "      <td>...</td>\n",
       "      <td>...</td>\n",
       "      <td>...</td>\n",
       "      <td>...</td>\n",
       "    </tr>\n",
       "    <tr>\n",
       "      <th>27168</th>\n",
       "      <td>2018-04-30 00:52:05</td>\n",
       "      <td>0.1345</td>\n",
       "      <td>10127000</td>\n",
       "      <td>0</td>\n",
       "      <td>-1362082</td>\n",
       "      <td>0</td>\n",
       "      <td>-0.1345</td>\n",
       "      <td>0.005981</td>\n",
       "      <td>24238779</td>\n",
       "      <td>24305620.0</td>\n",
       "      <td>-66841.0</td>\n",
       "      <td>03:21:38</td>\n",
       "      <td>12098.0</td>\n",
       "    </tr>\n",
       "    <tr>\n",
       "      <th>27367</th>\n",
       "      <td>2018-04-30 12:19:34</td>\n",
       "      <td>0.1481</td>\n",
       "      <td>10235000</td>\n",
       "      <td>0</td>\n",
       "      <td>-1515804</td>\n",
       "      <td>0</td>\n",
       "      <td>-0.1481</td>\n",
       "      <td>-0.007580</td>\n",
       "      <td>24054608</td>\n",
       "      <td>24238779.0</td>\n",
       "      <td>-184171.0</td>\n",
       "      <td>11:27:29</td>\n",
       "      <td>41249.0</td>\n",
       "    </tr>\n",
       "    <tr>\n",
       "      <th>27542</th>\n",
       "      <td>2018-04-30 16:43:32</td>\n",
       "      <td>0.1338</td>\n",
       "      <td>10062000</td>\n",
       "      <td>0</td>\n",
       "      <td>-1346296</td>\n",
       "      <td>0</td>\n",
       "      <td>-0.1338</td>\n",
       "      <td>-0.003971</td>\n",
       "      <td>24083443</td>\n",
       "      <td>24054608.0</td>\n",
       "      <td>28835.0</td>\n",
       "      <td>04:23:58</td>\n",
       "      <td>15838.0</td>\n",
       "    </tr>\n",
       "    <tr>\n",
       "      <th>27543</th>\n",
       "      <td>2018-04-30 16:43:42</td>\n",
       "      <td>0.0026</td>\n",
       "      <td>10061000</td>\n",
       "      <td>0</td>\n",
       "      <td>-26159</td>\n",
       "      <td>0</td>\n",
       "      <td>-0.0026</td>\n",
       "      <td>-0.006569</td>\n",
       "      <td>24057284</td>\n",
       "      <td>24083443.0</td>\n",
       "      <td>-26159.0</td>\n",
       "      <td>00:00:10</td>\n",
       "      <td>10.0</td>\n",
       "    </tr>\n",
       "    <tr>\n",
       "      <th>27623</th>\n",
       "      <td>2018-04-30 18:17:44</td>\n",
       "      <td>0.1501</td>\n",
       "      <td>10048000</td>\n",
       "      <td>0</td>\n",
       "      <td>-1508205</td>\n",
       "      <td>0</td>\n",
       "      <td>-0.1501</td>\n",
       "      <td>-0.009567</td>\n",
       "      <td>23967448</td>\n",
       "      <td>24057284.0</td>\n",
       "      <td>-89836.0</td>\n",
       "      <td>01:34:02</td>\n",
       "      <td>5642.0</td>\n",
       "    </tr>\n",
       "  </tbody>\n",
       "</table>\n",
       "<p>266 rows × 13 columns</p>\n",
       "</div>"
      ],
      "text/plain": [
       "                timestamp  quantity     price  fee   amount  side  \\\n",
       "23    2018-04-01 00:24:41    0.1082   7779000    0  -841688     0   \n",
       "44    2018-04-01 00:46:09    0.0289   7763000    0   224351     1   \n",
       "53    2018-04-01 00:59:44    0.1039   7753000    0  -805537     0   \n",
       "54    2018-04-01 00:59:51    0.0046   7757000    0   -35682     0   \n",
       "156   2018-04-01 07:53:19    0.0533   7716000    0   411263     1   \n",
       "...                   ...       ...       ...  ...      ...   ...   \n",
       "27168 2018-04-30 00:52:05    0.1345  10127000    0 -1362082     0   \n",
       "27367 2018-04-30 12:19:34    0.1481  10235000    0 -1515804     0   \n",
       "27542 2018-04-30 16:43:32    0.1338  10062000    0 -1346296     0   \n",
       "27543 2018-04-30 16:43:42    0.0026  10061000    0   -26159     0   \n",
       "27623 2018-04-30 18:17:44    0.1501  10048000    0 -1508205     0   \n",
       "\n",
       "       sign_quantity  sign_quantity_cumsum(coin)  amount_cumsum     compare  \\\n",
       "23           -0.1082                   -0.009048         -38857         0.0   \n",
       "44            0.0289                    0.006653         108525    -38857.0   \n",
       "53           -0.1039                    0.008354         124891    108525.0   \n",
       "54           -0.0046                    0.003752          89209    124891.0   \n",
       "156           0.0533                   -0.008904          83842     89209.0   \n",
       "...              ...                         ...            ...         ...   \n",
       "27168        -0.1345                    0.005981       24238779  24305620.0   \n",
       "27367        -0.1481                   -0.007580       24054608  24238779.0   \n",
       "27542        -0.1338                   -0.003971       24083443  24054608.0   \n",
       "27543        -0.0026                   -0.006569       24057284  24083443.0   \n",
       "27623        -0.1501                   -0.009567       23967448  24057284.0   \n",
       "\n",
       "       point_amount_cumsum time_interval  timediff  \n",
       "23                -38857.0           NaT       NaN  \n",
       "44                147382.0      00:21:28    1288.0  \n",
       "53                 16366.0      00:13:35     815.0  \n",
       "54                -35682.0      00:00:07       7.0  \n",
       "156                -5367.0      06:53:28   24808.0  \n",
       "...                    ...           ...       ...  \n",
       "27168             -66841.0      03:21:38   12098.0  \n",
       "27367            -184171.0      11:27:29   41249.0  \n",
       "27542              28835.0      04:23:58   15838.0  \n",
       "27543             -26159.0      00:00:10      10.0  \n",
       "27623             -89836.0      01:34:02    5642.0  \n",
       "\n",
       "[266 rows x 13 columns]"
      ]
     },
     "execution_count": 83,
     "metadata": {},
     "output_type": "execute_result"
    }
   ],
   "source": [
    "cumsum_df_zero_point4"
   ]
  },
  {
   "cell_type": "code",
   "execution_count": 84,
   "metadata": {},
   "outputs": [
    {
     "data": {
      "text/plain": [
       "Int64Index([   23,    44,    53,    54,   156,   775,   876,   877,   998,\n",
       "              999,\n",
       "            ...\n",
       "            26663, 26673, 26675, 26874, 27064, 27168, 27367, 27542, 27543,\n",
       "            27623],\n",
       "           dtype='int64', length=266)"
      ]
     },
     "execution_count": 84,
     "metadata": {},
     "output_type": "execute_result"
    }
   ],
   "source": [
    "# 인덱스 값 뽑아보기\n",
    "cumsum_df_zero_point4.index"
   ]
  },
  {
   "cell_type": "code",
   "execution_count": 80,
   "metadata": {},
   "outputs": [
    {
     "ename": "NotImplementedError",
     "evalue": "Not supported for type Int64Index",
     "output_type": "error",
     "traceback": [
      "\u001b[0;31m---------------------------------------------------------------------------\u001b[0m",
      "\u001b[0;31mNotImplementedError\u001b[0m                       Traceback (most recent call last)",
      "\u001b[0;32m<ipython-input-80-8cb8ff857fdd>\u001b[0m in \u001b[0;36m<module>\u001b[0;34m\u001b[0m\n\u001b[1;32m      3\u001b[0m \u001b[0;34m\u001b[0m\u001b[0m\n\u001b[1;32m      4\u001b[0m \u001b[0;31m# int64Index를 float64로\u001b[0m\u001b[0;34m\u001b[0m\u001b[0;34m\u001b[0m\u001b[0;34m\u001b[0m\u001b[0m\n\u001b[0;32m----> 5\u001b[0;31m \u001b[0mindex_compare3\u001b[0m\u001b[0;34m=\u001b[0m\u001b[0mindex_compare3\u001b[0m\u001b[0;34m.\u001b[0m\u001b[0mshift\u001b[0m\u001b[0;34m(\u001b[0m\u001b[0;36m1\u001b[0m\u001b[0;34m)\u001b[0m\u001b[0;34m[\u001b[0m\u001b[0;34m:\u001b[0m\u001b[0;34m]\u001b[0m     \u001b[0;31m# 인덱스는 그대로 두고 데이터 한 칸씩 이동\u001b[0m\u001b[0;34m\u001b[0m\u001b[0;34m\u001b[0m\u001b[0m\n\u001b[0m",
      "\u001b[0;32m/usr/local/Cellar/jupyterlab/2.0.1/libexec/lib/python3.7/site-packages/pandas/core/indexes/base.py\u001b[0m in \u001b[0;36mshift\u001b[0;34m(self, periods, freq)\u001b[0m\n\u001b[1;32m   4316\u001b[0m                       dtype='datetime64[ns]', freq='MS')\n\u001b[1;32m   4317\u001b[0m         \"\"\"\n\u001b[0;32m-> 4318\u001b[0;31m         \u001b[0;32mraise\u001b[0m \u001b[0mNotImplementedError\u001b[0m\u001b[0;34m(\u001b[0m\u001b[0;34mf\"Not supported for type {type(self).__name__}\"\u001b[0m\u001b[0;34m)\u001b[0m\u001b[0;34m\u001b[0m\u001b[0;34m\u001b[0m\u001b[0m\n\u001b[0m\u001b[1;32m   4319\u001b[0m \u001b[0;34m\u001b[0m\u001b[0m\n\u001b[1;32m   4320\u001b[0m     \u001b[0;32mdef\u001b[0m \u001b[0margsort\u001b[0m\u001b[0;34m(\u001b[0m\u001b[0mself\u001b[0m\u001b[0;34m,\u001b[0m \u001b[0;34m*\u001b[0m\u001b[0margs\u001b[0m\u001b[0;34m,\u001b[0m \u001b[0;34m**\u001b[0m\u001b[0mkwargs\u001b[0m\u001b[0;34m)\u001b[0m\u001b[0;34m:\u001b[0m\u001b[0;34m\u001b[0m\u001b[0;34m\u001b[0m\u001b[0m\n",
      "\u001b[0;31mNotImplementedError\u001b[0m: Not supported for type Int64Index"
     ]
    }
   ],
   "source": [
    "# 인덱스 비교 열 데이터 한 칸씩 미루기\n",
    "index_compare3=cumsum_df_zero_point3.index\n",
    "\n",
    "# int64Index를 float64로\n",
    "index_compare3=index_compare3.shift(1)[:]     # 인덱스는 그대로 두고 데이터 한 칸씩 이동"
   ]
  },
  {
   "cell_type": "code",
   "execution_count": 81,
   "metadata": {},
   "outputs": [
    {
     "data": {
      "text/plain": [
       "Int64Index([   8,   11,   14,   18,   20,   44,   47,   57,   64,   68,\n",
       "            ...\n",
       "            5497, 5502, 5509, 5519, 5525, 5531, 5534, 5535, 5536, 5553],\n",
       "           dtype='int64', length=835)"
      ]
     },
     "execution_count": 81,
     "metadata": {},
     "output_type": "execute_result"
    }
   ],
   "source": [
    "index_compare3"
   ]
  },
  {
   "cell_type": "code",
   "execution_count": 82,
   "metadata": {},
   "outputs": [],
   "source": [
    "# 데이터 프레임 cumsum_df_zero_point()와 compare 결합\n",
    "cumsum_df_zero_point3 = pd.concat([cumsum_df_zero_point3,compare3],axis=1)\n",
    "cumsum_df_zero_point3 = cumsum_df_zero_point1.fillna(0)     # 결측값은 0으로 채우기"
   ]
  },
  {
   "cell_type": "code",
   "execution_count": null,
   "metadata": {},
   "outputs": [],
   "source": []
  },
  {
   "cell_type": "code",
   "execution_count": null,
   "metadata": {},
   "outputs": [],
   "source": []
  },
  {
   "cell_type": "code",
   "execution_count": null,
   "metadata": {},
   "outputs": [],
   "source": []
  },
  {
   "cell_type": "code",
   "execution_count": null,
   "metadata": {},
   "outputs": [],
   "source": []
  },
  {
   "cell_type": "code",
   "execution_count": null,
   "metadata": {},
   "outputs": [],
   "source": []
  },
  {
   "cell_type": "code",
   "execution_count": null,
   "metadata": {},
   "outputs": [],
   "source": []
  }
 ],
 "metadata": {
  "kernelspec": {
   "display_name": "Python 3",
   "language": "python",
   "name": "python3"
  },
  "language_info": {
   "codemirror_mode": {
    "name": "ipython",
    "version": 3
   },
   "file_extension": ".py",
   "mimetype": "text/x-python",
   "name": "python",
   "nbconvert_exporter": "python",
   "pygments_lexer": "ipython3",
   "version": "3.7.7"
  }
 },
 "nbformat": 4,
 "nbformat_minor": 4
}
