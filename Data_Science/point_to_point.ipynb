{
 "cells": [
  {
   "cell_type": "code",
   "execution_count": 5,
   "metadata": {},
   "outputs": [],
   "source": [
    "# #################################################\n",
    "# ## point_to_point ##\n",
    "# #################################################\n",
    "# -- Designed by\n",
    "# Hamin lee\n",
    "# -- Produced in June 26, 2020. (Ver.1.0)\n",
    "# #################################################"
   ]
  },
  {
   "cell_type": "code",
   "execution_count": 6,
   "metadata": {},
   "outputs": [],
   "source": [
    "import pandas as pd\n",
    "import numpy as np\n",
    "from functools import reduce\n",
    "import matplotlib.pyplot as plt\n",
    "from pylab import figure, axes, pie, title, savefig\n",
    "\n",
    "# scientific notation을 사용하지 않는 경우\n",
    "# pd.options.display.float_format = '{:.4f}'.format"
   ]
  },
  {
   "cell_type": "code",
   "execution_count": 8,
   "metadata": {},
   "outputs": [],
   "source": [
    "df1 = pd.read_csv(\"/Users/hamin/bithumb_bot_data/include/2018/2018-01-btc-krw.csv\")   # load csv\n",
    "df2 = pd.read_csv(\"/Users/hamin/bithumb_bot_data/include/2018/2018-02-btc-krw.csv\")   # load csv\n",
    "df3 = pd.read_csv(\"/Users/hamin/bithumb_bot_data/include/2018/2018-03-btc-krw.csv\")   # load csv\n",
    "df4 = pd.read_csv(\"/Users/hamin/bithumb_bot_data/include/2018/2018-04-btc-krw.csv\")   # load csv\n",
    "df5 = pd.read_csv(\"/Users/hamin/bithumb_bot_data/include/2018/2018-05-btc-krw.csv\")   # load csv\n",
    "# df6= pd.read_csv(\"/Users/hamin/bithumb_bot_data/include/2018/2018-06-btc-krw.csv\")   # load csv\n",
    "df7 = pd.read_csv(\"/Users/hamin/bithumb_bot_data/include/2018/2018-07-btc-krw.csv\")   # load csv"
   ]
  },
  {
   "cell_type": "code",
   "execution_count": null,
   "metadata": {},
   "outputs": [],
   "source": [
    "## converting timestamp column type 'object' to 'datetime'\n",
    "df1['timestamp'] = pd.to_datetime(df1['timestamp'], format='%Y-%m-%d %H:%M:%S', errors='raise')\n",
    "df2['timestamp'] = pd.to_datetime(df2['timestamp'], format='%Y-%m-%d %H:%M:%S', errors='raise')\n",
    "df3['timestamp'] = pd.to_datetime(df3['timestamp'], format='%Y-%m-%d %H:%M:%S', errors='raise')\n",
    "df4['timestamp'] = pd.to_datetime(df4['timestamp'], format='%Y-%m-%d %H:%M:%S', errors='raise')\n",
    "df5['timestamp'] = pd.to_datetime(df5['timestamp'], format='%Y-%m-%d %H:%M:%S', errors='raise')\n",
    "# df6['timestamp'] = pd.to_datetime(df6['timestamp'], format='%Y-%m-%d %H:%M:%S', errors='raise')\n",
    "df7['timestamp'] = pd.to_datetime(df7['timestamp'], format='%Y-%m-%d %H:%M:%S', errors='raise')"
   ]
  }
 ],
 "metadata": {
  "kernelspec": {
   "display_name": "Python 3",
   "language": "python",
   "name": "python3"
  },
  "language_info": {
   "codemirror_mode": {
    "name": "ipython",
    "version": 3
   },
   "file_extension": ".py",
   "mimetype": "text/x-python",
   "name": "python",
   "nbconvert_exporter": "python",
   "pygments_lexer": "ipython3",
   "version": "3.7.7"
  }
 },
 "nbformat": 4,
 "nbformat_minor": 4
}
