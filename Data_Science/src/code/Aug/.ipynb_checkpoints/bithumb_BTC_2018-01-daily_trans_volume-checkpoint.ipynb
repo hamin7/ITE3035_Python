{
 "cells": [
  {
   "cell_type": "code",
   "execution_count": 1,
   "metadata": {},
   "outputs": [
    {
     "name": "stdout",
     "output_type": "stream",
     "text": [
      "Requirement already satisfied: numpy in /usr/local/Cellar/jupyterlab/2.0.1/libexec/lib/python3.7/site-packages (1.18.2)\n",
      "\u001b[33mWARNING: You are using pip version 20.0.2; however, version 20.2.2 is available.\n",
      "You should consider upgrading via the '/usr/local/Cellar/jupyterlab/2.0.1/libexec/bin/python3.7 -m pip install --upgrade pip' command.\u001b[0m\n",
      "Requirement already satisfied: pandas in /usr/local/Cellar/jupyterlab/2.0.1/libexec/lib/python3.7/site-packages (1.0.3)\n",
      "Requirement already satisfied: pytz>=2017.2 in /usr/local/Cellar/jupyterlab/2.0.1/libexec/lib/python3.7/site-packages (from pandas) (2019.3)\n",
      "Requirement already satisfied: python-dateutil>=2.6.1 in /usr/local/Cellar/jupyterlab/2.0.1/libexec/lib/python3.7/site-packages (from pandas) (2.8.1)\n",
      "Requirement already satisfied: numpy>=1.13.3 in /usr/local/Cellar/jupyterlab/2.0.1/libexec/lib/python3.7/site-packages (from pandas) (1.18.2)\n",
      "Requirement already satisfied: six>=1.5 in /usr/local/Cellar/jupyterlab/2.0.1/libexec/lib/python3.7/site-packages (from python-dateutil>=2.6.1->pandas) (1.14.0)\n",
      "\u001b[33mWARNING: You are using pip version 20.0.2; however, version 20.2.2 is available.\n",
      "You should consider upgrading via the '/usr/local/Cellar/jupyterlab/2.0.1/libexec/bin/python3.7 -m pip install --upgrade pip' command.\u001b[0m\n",
      "Requirement already satisfied: matplotlib in /usr/local/Cellar/jupyterlab/2.0.1/libexec/lib/python3.7/site-packages (3.2.1)\n",
      "Requirement already satisfied: pyparsing!=2.0.4,!=2.1.2,!=2.1.6,>=2.0.1 in /usr/local/Cellar/jupyterlab/2.0.1/libexec/lib/python3.7/site-packages (from matplotlib) (2.4.6)\n",
      "Requirement already satisfied: cycler>=0.10 in /usr/local/Cellar/jupyterlab/2.0.1/libexec/lib/python3.7/site-packages (from matplotlib) (0.10.0)\n",
      "Requirement already satisfied: numpy>=1.11 in /usr/local/Cellar/jupyterlab/2.0.1/libexec/lib/python3.7/site-packages (from matplotlib) (1.18.2)\n",
      "Requirement already satisfied: kiwisolver>=1.0.1 in /usr/local/Cellar/jupyterlab/2.0.1/libexec/lib/python3.7/site-packages (from matplotlib) (1.1.0)\n",
      "Requirement already satisfied: python-dateutil>=2.1 in /usr/local/Cellar/jupyterlab/2.0.1/libexec/lib/python3.7/site-packages (from matplotlib) (2.8.1)\n",
      "Requirement already satisfied: six in /usr/local/Cellar/jupyterlab/2.0.1/libexec/lib/python3.7/site-packages (from cycler>=0.10->matplotlib) (1.14.0)\n",
      "Requirement already satisfied: setuptools in /usr/local/Cellar/jupyterlab/2.0.1/libexec/lib/python3.7/site-packages (from kiwisolver>=1.0.1->matplotlib) (45.2.0)\n",
      "\u001b[33mWARNING: You are using pip version 20.0.2; however, version 20.2.2 is available.\n",
      "You should consider upgrading via the '/usr/local/Cellar/jupyterlab/2.0.1/libexec/bin/python3.7 -m pip install --upgrade pip' command.\u001b[0m\n",
      "Requirement already satisfied: seaborn in /usr/local/Cellar/jupyterlab/2.0.1/libexec/lib/python3.7/site-packages (0.10.0)\n",
      "Requirement already satisfied: scipy>=1.0.1 in /usr/local/Cellar/jupyterlab/2.0.1/libexec/lib/python3.7/site-packages (from seaborn) (1.4.1)\n",
      "Requirement already satisfied: pandas>=0.22.0 in /usr/local/Cellar/jupyterlab/2.0.1/libexec/lib/python3.7/site-packages (from seaborn) (1.0.3)\n",
      "Requirement already satisfied: matplotlib>=2.1.2 in /usr/local/Cellar/jupyterlab/2.0.1/libexec/lib/python3.7/site-packages (from seaborn) (3.2.1)\n",
      "Requirement already satisfied: numpy>=1.13.3 in /usr/local/Cellar/jupyterlab/2.0.1/libexec/lib/python3.7/site-packages (from seaborn) (1.18.2)\n",
      "Requirement already satisfied: python-dateutil>=2.6.1 in /usr/local/Cellar/jupyterlab/2.0.1/libexec/lib/python3.7/site-packages (from pandas>=0.22.0->seaborn) (2.8.1)\n",
      "Requirement already satisfied: pytz>=2017.2 in /usr/local/Cellar/jupyterlab/2.0.1/libexec/lib/python3.7/site-packages (from pandas>=0.22.0->seaborn) (2019.3)\n",
      "Requirement already satisfied: kiwisolver>=1.0.1 in /usr/local/Cellar/jupyterlab/2.0.1/libexec/lib/python3.7/site-packages (from matplotlib>=2.1.2->seaborn) (1.1.0)\n",
      "Requirement already satisfied: cycler>=0.10 in /usr/local/Cellar/jupyterlab/2.0.1/libexec/lib/python3.7/site-packages (from matplotlib>=2.1.2->seaborn) (0.10.0)\n",
      "Requirement already satisfied: pyparsing!=2.0.4,!=2.1.2,!=2.1.6,>=2.0.1 in /usr/local/Cellar/jupyterlab/2.0.1/libexec/lib/python3.7/site-packages (from matplotlib>=2.1.2->seaborn) (2.4.6)\n",
      "Requirement already satisfied: six>=1.5 in /usr/local/Cellar/jupyterlab/2.0.1/libexec/lib/python3.7/site-packages (from python-dateutil>=2.6.1->pandas>=0.22.0->seaborn) (1.14.0)\n",
      "Requirement already satisfied: setuptools in /usr/local/Cellar/jupyterlab/2.0.1/libexec/lib/python3.7/site-packages (from kiwisolver>=1.0.1->matplotlib>=2.1.2->seaborn) (45.2.0)\n",
      "\u001b[33mWARNING: You are using pip version 20.0.2; however, version 20.2.2 is available.\n",
      "You should consider upgrading via the '/usr/local/Cellar/jupyterlab/2.0.1/libexec/bin/python3.7 -m pip install --upgrade pip' command.\u001b[0m\n"
     ]
    }
   ],
   "source": [
    "import sys\n",
    "!{sys.executable} -m pip install numpy\n",
    "!{sys.executable} -m pip install pandas\n",
    "!{sys.executable} -m pip install matplotlib\n",
    "!{sys.executable} -m pip install seaborn"
   ]
  },
  {
   "cell_type": "code",
   "execution_count": 2,
   "metadata": {},
   "outputs": [],
   "source": [
    "import pandas as pd\n",
    "import numpy as np\n",
    "import matplotlib.pyplot as plt\n",
    "import seaborn as sns\n",
    "from functools import reduce\n",
    "from pylab import figure, axes, pie, title, savefig\n",
    "%matplotlib inline"
   ]
  },
  {
   "cell_type": "code",
   "execution_count": 4,
   "metadata": {},
   "outputs": [],
   "source": [
    "# 데이터 로드\n",
    "df = pd.read_csv(\"/Users/hamin/bithumb_bot_data/include/2018/2018-01-btc-krw.csv\")"
   ]
  },
  {
   "cell_type": "code",
   "execution_count": 5,
   "metadata": {},
   "outputs": [
    {
     "data": {
      "text/plain": [
       "timestamp     object\n",
       "quantity     float64\n",
       "price          int64\n",
       "fee          float64\n",
       "amount         int64\n",
       "side           int64\n",
       "dtype: object"
      ]
     },
     "execution_count": 5,
     "metadata": {},
     "output_type": "execute_result"
    }
   ],
   "source": [
    "# 칼럼 데이터 타입 확인\n",
    "df.dtypes"
   ]
  },
  {
   "cell_type": "code",
   "execution_count": 6,
   "metadata": {},
   "outputs": [
    {
     "data": {
      "text/plain": [
       "timestamp    datetime64[ns]\n",
       "quantity            float64\n",
       "price                 int64\n",
       "fee                 float64\n",
       "amount                int64\n",
       "side                  int64\n",
       "dtype: object"
      ]
     },
     "execution_count": 6,
     "metadata": {},
     "output_type": "execute_result"
    }
   ],
   "source": [
    "# timestamp 칼럼 타입을 'object'에서 'datetime'으로 바꾸기\n",
    "df['timestamp'] = pd.to_datetime(df['timestamp'], format='%Y-%m-%d %H:%M:%S', errors='raise')\n",
    "df.dtypes"
   ]
  },
  {
   "cell_type": "code",
   "execution_count": 7,
   "metadata": {},
   "outputs": [],
   "source": [
    "## converting timestamp to detailed date column\n",
    "df['timestamp_year_month_day'] = df['timestamp'].dt.date         # YYYY-MM-DD(문자)\n",
    "df['timestamp_year'] = df['timestamp'].dt.year         # 연(4자리숫자)\n",
    "df['timestamp_month'] = df['timestamp'].dt.month        # 월(숫자)\n",
    "df['timestamp_month_name'] = df['timestamp'].dt.month_name() # 월(문자)\n",
    "df['timestamp_day'] = df['timestamp'].dt.day          # 일(숫자)\n",
    "df['timestamp_time'] = df['timestamp'].dt.time         # HH:MM:SS(문자)\n",
    "df['timestamp_hour'] = df['timestamp'].dt.hour         # 시(숫자)\n",
    "df['timestamp_minute'] = df['timestamp'].dt.minute       # 분(숫자)\n",
    "df['timestamp_second'] = df['timestamp'].dt.second       # 초(숫자)"
   ]
  },
  {
   "cell_type": "code",
   "execution_count": 8,
   "metadata": {},
   "outputs": [],
   "source": [
    "# Date\n",
    "# 'date - amount' 데이터 프레임 만들기\n",
    "group_date_amount = df['amount'].groupby(df['timestamp_day'])"
   ]
  },
  {
   "cell_type": "code",
   "execution_count": 9,
   "metadata": {},
   "outputs": [
    {
     "data": {
      "text/plain": [
       "timestamp_day\n",
       "3     3341130\n",
       "10   -1468934\n",
       "11     -19563\n",
       "18     -14572\n",
       "19    1052348\n",
       "20        426\n",
       "21      -1741\n",
       "22     -14922\n",
       "23        899\n",
       "24      -1680\n",
       "25      11247\n",
       "31        -86\n",
       "Name: amount, dtype: int64"
      ]
     },
     "execution_count": 9,
     "metadata": {},
     "output_type": "execute_result"
    }
   ],
   "source": [
    "# date 별 sell - buy 금액\n",
    "group_date_amount.sum()"
   ]
  },
  {
   "cell_type": "code",
   "execution_count": 10,
   "metadata": {},
   "outputs": [],
   "source": [
    "# 'date - buy amount' connection 만들기\n",
    "df2 = df.copy()\n",
    "df2 = df2[df2['amount'] > 0]\n",
    "group_date_amount_positive = df2['amount'].groupby(df2['timestamp_day'])"
   ]
  },
  {
   "cell_type": "code",
   "execution_count": 11,
   "metadata": {},
   "outputs": [
    {
     "data": {
      "text/plain": [
       "timestamp_day\n",
       "3     3341130\n",
       "19    1334332\n",
       "20    1239191\n",
       "21    1201705\n",
       "22     480676\n",
       "23     633072\n",
       "24     565300\n",
       "25    1442316\n",
       "31      22176\n",
       "Name: amount, dtype: int64"
      ]
     },
     "execution_count": 11,
     "metadata": {},
     "output_type": "execute_result"
    }
   ],
   "source": [
    "# date 별 sell amount 총합 (positive)\n",
    "group_date_amount_positive.sum()"
   ]
  },
  {
   "cell_type": "code",
   "execution_count": 12,
   "metadata": {},
   "outputs": [],
   "source": [
    " # 'date - buy amount' connection 만들기\n",
    "df3 = df.copy()\n",
    "df3 = df3[df3['amount'] < 0]\n",
    "group_date_amount_negative = df3['amount'].groupby(df3['timestamp_day'])"
   ]
  },
  {
   "cell_type": "code",
   "execution_count": 13,
   "metadata": {},
   "outputs": [
    {
     "data": {
      "text/plain": [
       "timestamp_day\n",
       "10   -1468934\n",
       "11     -19563\n",
       "18     -14572\n",
       "19    -281984\n",
       "20   -1238765\n",
       "21   -1203446\n",
       "22    -495598\n",
       "23    -632173\n",
       "24    -566980\n",
       "25   -1431069\n",
       "31     -22262\n",
       "Name: amount, dtype: int64"
      ]
     },
     "execution_count": 13,
     "metadata": {},
     "output_type": "execute_result"
    }
   ],
   "source": [
    "# date 별 buy amount 총 합\n",
    "group_date_amount_negative.sum()"
   ]
  },
  {
   "cell_type": "code",
   "execution_count": 14,
   "metadata": {},
   "outputs": [
    {
     "data": {
      "text/plain": [
       "timestamp_day\n",
       "3           NaN\n",
       "10          NaN\n",
       "11          NaN\n",
       "18          NaN\n",
       "19    1616316.0\n",
       "20    2477956.0\n",
       "21    2405151.0\n",
       "22     976274.0\n",
       "23    1265245.0\n",
       "24    1132280.0\n",
       "25    2873385.0\n",
       "31      44438.0\n",
       "Name: amount, dtype: float64"
      ]
     },
     "execution_count": 14,
     "metadata": {},
     "output_type": "execute_result"
    }
   ],
   "source": [
    "# date 별 절대값 총합\n",
    "# negative는 buy\n",
    "absolute_date_negative_sum = group_date_amount_negative.sum()\n",
    "absolute_date_negative_sum = absolute_date_negative_sum * (-1)\n",
    "# total은 sell - buy\n",
    "absolute_date_total_amount = absolute_date_negative_sum+group_date_amount_positive.sum()\n",
    "absolute_date_total_amount\n"
   ]
  },
  {
   "cell_type": "code",
   "execution_count": 15,
   "metadata": {},
   "outputs": [
    {
     "data": {
      "text/html": [
       "<div>\n",
       "<style scoped>\n",
       "    .dataframe tbody tr th:only-of-type {\n",
       "        vertical-align: middle;\n",
       "    }\n",
       "\n",
       "    .dataframe tbody tr th {\n",
       "        vertical-align: top;\n",
       "    }\n",
       "\n",
       "    .dataframe thead th {\n",
       "        text-align: right;\n",
       "    }\n",
       "</style>\n",
       "<table border=\"1\" class=\"dataframe\">\n",
       "  <thead>\n",
       "    <tr style=\"text-align: right;\">\n",
       "      <th></th>\n",
       "      <th>Date transaction</th>\n",
       "      <th>Date sell-buy</th>\n",
       "      <th>Date sell transaction</th>\n",
       "      <th>Date sell</th>\n",
       "      <th>Date buy transaction</th>\n",
       "      <th>Date buy</th>\n",
       "      <th>Date absolute buy</th>\n",
       "    </tr>\n",
       "    <tr>\n",
       "      <th>timestamp_day</th>\n",
       "      <th></th>\n",
       "      <th></th>\n",
       "      <th></th>\n",
       "      <th></th>\n",
       "      <th></th>\n",
       "      <th></th>\n",
       "      <th></th>\n",
       "    </tr>\n",
       "  </thead>\n",
       "  <tbody>\n",
       "    <tr>\n",
       "      <th>19</th>\n",
       "      <td>40</td>\n",
       "      <td>1052348</td>\n",
       "      <td>21</td>\n",
       "      <td>1334332</td>\n",
       "      <td>19</td>\n",
       "      <td>-281984</td>\n",
       "      <td>281984</td>\n",
       "    </tr>\n",
       "    <tr>\n",
       "      <th>20</th>\n",
       "      <td>153</td>\n",
       "      <td>426</td>\n",
       "      <td>76</td>\n",
       "      <td>1239191</td>\n",
       "      <td>77</td>\n",
       "      <td>-1238765</td>\n",
       "      <td>1238765</td>\n",
       "    </tr>\n",
       "    <tr>\n",
       "      <th>21</th>\n",
       "      <td>154</td>\n",
       "      <td>-1741</td>\n",
       "      <td>76</td>\n",
       "      <td>1201705</td>\n",
       "      <td>78</td>\n",
       "      <td>-1203446</td>\n",
       "      <td>1203446</td>\n",
       "    </tr>\n",
       "    <tr>\n",
       "      <th>22</th>\n",
       "      <td>69</td>\n",
       "      <td>-14922</td>\n",
       "      <td>34</td>\n",
       "      <td>480676</td>\n",
       "      <td>35</td>\n",
       "      <td>-495598</td>\n",
       "      <td>495598</td>\n",
       "    </tr>\n",
       "    <tr>\n",
       "      <th>23</th>\n",
       "      <td>96</td>\n",
       "      <td>899</td>\n",
       "      <td>48</td>\n",
       "      <td>633072</td>\n",
       "      <td>48</td>\n",
       "      <td>-632173</td>\n",
       "      <td>632173</td>\n",
       "    </tr>\n",
       "    <tr>\n",
       "      <th>24</th>\n",
       "      <td>86</td>\n",
       "      <td>-1680</td>\n",
       "      <td>42</td>\n",
       "      <td>565300</td>\n",
       "      <td>44</td>\n",
       "      <td>-566980</td>\n",
       "      <td>566980</td>\n",
       "    </tr>\n",
       "    <tr>\n",
       "      <th>25</th>\n",
       "      <td>217</td>\n",
       "      <td>11247</td>\n",
       "      <td>109</td>\n",
       "      <td>1442316</td>\n",
       "      <td>108</td>\n",
       "      <td>-1431069</td>\n",
       "      <td>1431069</td>\n",
       "    </tr>\n",
       "    <tr>\n",
       "      <th>31</th>\n",
       "      <td>4</td>\n",
       "      <td>-86</td>\n",
       "      <td>2</td>\n",
       "      <td>22176</td>\n",
       "      <td>2</td>\n",
       "      <td>-22262</td>\n",
       "      <td>22262</td>\n",
       "    </tr>\n",
       "  </tbody>\n",
       "</table>\n",
       "</div>"
      ],
      "text/plain": [
       "               Date transaction  Date sell-buy  Date sell transaction  \\\n",
       "timestamp_day                                                           \n",
       "19                           40        1052348                     21   \n",
       "20                          153            426                     76   \n",
       "21                          154          -1741                     76   \n",
       "22                           69         -14922                     34   \n",
       "23                           96            899                     48   \n",
       "24                           86          -1680                     42   \n",
       "25                          217          11247                    109   \n",
       "31                            4            -86                      2   \n",
       "\n",
       "               Date sell  Date buy transaction  Date buy  Date absolute buy  \n",
       "timestamp_day                                                                \n",
       "19               1334332                    19   -281984             281984  \n",
       "20               1239191                    77  -1238765            1238765  \n",
       "21               1201705                    78  -1203446            1203446  \n",
       "22                480676                    35   -495598             495598  \n",
       "23                633072                    48   -632173             632173  \n",
       "24                565300                    44   -566980             566980  \n",
       "25               1442316                   108  -1431069            1431069  \n",
       "31                 22176                     2    -22262              22262  "
      ]
     },
     "execution_count": 15,
     "metadata": {},
     "output_type": "execute_result"
    }
   ],
   "source": [
    "\n",
    "# date 별 계산 table 생성\n",
    "dfs = [group_date_amount.size(), group_date_amount.sum(), group_date_amount_positive.size(), group_date_amount_positive.sum(), group_date_amount_negative.size(), group_date_amount_negative.sum(), absolute_date_negative_sum]\n",
    "day_df_date_final = reduce(lambda left,right: pd.merge(left,right,on='timestamp_day'), dfs)\n",
    "day_df_date_final.columns = [ \"Date transaction\", \"Date sell-buy\", \"Date sell transaction\", \"Date sell\", \"Date buy transaction\", \"Date buy\", \"Date absolute buy\"]\n",
    "day_df_date_final"
   ]
  },
  {
   "cell_type": "code",
   "execution_count": 16,
   "metadata": {},
   "outputs": [],
   "source": [
    "# table 저장하기\n",
    "day_df_date_final.to_csv(\"/Users/hamin/ITE3035_Python/Data_Science/table/date_result_table.csv\", header=True, index=True, encoding = 'utf-8')"
   ]
  },
  {
   "cell_type": "code",
   "execution_count": 23,
   "metadata": {},
   "outputs": [
    {
     "data": {
      "image/png": "[encoded data removed]",
      "text/plain": [
       "<Figure size 432x288 with 1 Axes>"
      ]
     },
     "metadata": {
      "needs_background": "light"
     },
     "output_type": "display_data"
    }
   ],
   "source": [
    "# Date - transaction 금액 그래프 그리기\n",
    "dayTransVolGraph = day_df_date_final[['Date sell', 'Date absolute buy']].plot(title='Transaction Volume per day 2018-01', marker='o')\n",
    "dayTransVolGraph.set_xlabel('Date')\n",
    "dayTransVolGraph.set_ylabel('Volume (1,000,000,000KRW)')\n",
    "plt.savefig('/Users/hamin/ITE3035_Python/Data_Science/graph/bithumb-2018-01-Trans_Vol_per_day.png', dpi=300)"
   ]
  },
  {
   "cell_type": "code",
   "execution_count": 24,
   "metadata": {},
   "outputs": [
    {
     "data": {
      "image/png": "[encoded data removed]",
      "text/plain": [
       "<Figure size 432x288 with 1 Axes>"
      ]
     },
     "metadata": {
      "needs_background": "light"
     },
     "output_type": "display_data"
    }
   ],
   "source": [
    "dayTransGraph = day_df_date_final[['Date sell', 'Date absolute buy']].plot.bar(title='Transaction Volume per day 2018-01', stacked=True)\n",
    "dayTransGraph.set_xlabel('Date')\n",
    "dayTransGraph.set_ylabel('Volume (1,000,000,000KRW)')\n",
    "plt.savefig('/Users/hamin/ITE3035_Python/Data_Science/graph/bithumb-2018-01-Trans_Vol_per_day(stacked).png', dpi=300)"
   ]
  },
  {
   "cell_type": "code",
   "execution_count": 25,
   "metadata": {},
   "outputs": [
    {
     "data": {
      "image/png": "[encoded data removed]",
      "text/plain": [
       "<Figure size 432x288 with 1 Axes>"
      ]
     },
     "metadata": {
      "needs_background": "light"
     },
     "output_type": "display_data"
    }
   ],
   "source": [
    "dayTransBarGraph = day_df_date_final[['Date sell', 'Date absolute buy']].plot.bar(title='Transaction Volume per day(Bar) 2018-01')\n",
    "dayTransBarGraph.set_xlabel('Date')\n",
    "dayTransBarGraph.set_ylabel('Volume (1,000,000,000KRW)')\n",
    "plt.savefig('/Users/hamin/ITE3035_Python/Data_Science/graph/bithumb-2018-01-Trans_Vol_per_day(bar).png', dpi=300)"
   ]
  },
  {
   "cell_type": "code",
   "execution_count": null,
   "metadata": {},
   "outputs": [],
   "source": []
  }
 ],
 "metadata": {
  "kernelspec": {
   "display_name": "Python 3",
   "language": "python",
   "name": "python3"
  },
  "language_info": {
   "codemirror_mode": {
    "name": "ipython",
    "version": 3
   },
   "file_extension": ".py",
   "mimetype": "text/x-python",
   "name": "python",
   "nbconvert_exporter": "python",
   "pygments_lexer": "ipython3",
   "version": "3.7.7"
  }
 },
 "nbformat": 4,
 "nbformat_minor": 4
}
