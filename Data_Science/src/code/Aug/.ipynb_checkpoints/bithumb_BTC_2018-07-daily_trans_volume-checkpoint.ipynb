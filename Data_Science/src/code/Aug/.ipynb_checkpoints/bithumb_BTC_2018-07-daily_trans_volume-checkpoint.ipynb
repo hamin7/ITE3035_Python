{
 "cells": [
  {
   "cell_type": "code",
   "execution_count": 25,
   "metadata": {},
   "outputs": [
    {
     "name": "stdout",
     "output_type": "stream",
     "text": [
      "Requirement already satisfied: numpy in /usr/local/Cellar/jupyterlab/2.0.1/libexec/lib/python3.7/site-packages (1.18.2)\n",
      "\u001b[33mWARNING: You are using pip version 20.0.2; however, version 20.2.2 is available.\n",
      "You should consider upgrading via the '/usr/local/Cellar/jupyterlab/2.0.1/libexec/bin/python3.7 -m pip install --upgrade pip' command.\u001b[0m\n",
      "Requirement already satisfied: pandas in /usr/local/Cellar/jupyterlab/2.0.1/libexec/lib/python3.7/site-packages (1.0.3)\n",
      "Requirement already satisfied: numpy>=1.13.3 in /usr/local/Cellar/jupyterlab/2.0.1/libexec/lib/python3.7/site-packages (from pandas) (1.18.2)\n",
      "Requirement already satisfied: python-dateutil>=2.6.1 in /usr/local/Cellar/jupyterlab/2.0.1/libexec/lib/python3.7/site-packages (from pandas) (2.8.1)\n",
      "Requirement already satisfied: pytz>=2017.2 in /usr/local/Cellar/jupyterlab/2.0.1/libexec/lib/python3.7/site-packages (from pandas) (2019.3)\n",
      "Requirement already satisfied: six>=1.5 in /usr/local/Cellar/jupyterlab/2.0.1/libexec/lib/python3.7/site-packages (from python-dateutil>=2.6.1->pandas) (1.14.0)\n",
      "\u001b[33mWARNING: You are using pip version 20.0.2; however, version 20.2.2 is available.\n",
      "You should consider upgrading via the '/usr/local/Cellar/jupyterlab/2.0.1/libexec/bin/python3.7 -m pip install --upgrade pip' command.\u001b[0m\n",
      "Requirement already satisfied: matplotlib in /usr/local/Cellar/jupyterlab/2.0.1/libexec/lib/python3.7/site-packages (3.2.1)\n",
      "Requirement already satisfied: pyparsing!=2.0.4,!=2.1.2,!=2.1.6,>=2.0.1 in /usr/local/Cellar/jupyterlab/2.0.1/libexec/lib/python3.7/site-packages (from matplotlib) (2.4.6)\n",
      "Requirement already satisfied: kiwisolver>=1.0.1 in /usr/local/Cellar/jupyterlab/2.0.1/libexec/lib/python3.7/site-packages (from matplotlib) (1.1.0)\n",
      "Requirement already satisfied: python-dateutil>=2.1 in /usr/local/Cellar/jupyterlab/2.0.1/libexec/lib/python3.7/site-packages (from matplotlib) (2.8.1)\n",
      "Requirement already satisfied: cycler>=0.10 in /usr/local/Cellar/jupyterlab/2.0.1/libexec/lib/python3.7/site-packages (from matplotlib) (0.10.0)\n",
      "Requirement already satisfied: numpy>=1.11 in /usr/local/Cellar/jupyterlab/2.0.1/libexec/lib/python3.7/site-packages (from matplotlib) (1.18.2)\n",
      "Requirement already satisfied: setuptools in /usr/local/Cellar/jupyterlab/2.0.1/libexec/lib/python3.7/site-packages (from kiwisolver>=1.0.1->matplotlib) (45.2.0)\n",
      "Requirement already satisfied: six>=1.5 in /usr/local/Cellar/jupyterlab/2.0.1/libexec/lib/python3.7/site-packages (from python-dateutil>=2.1->matplotlib) (1.14.0)\n",
      "\u001b[33mWARNING: You are using pip version 20.0.2; however, version 20.2.2 is available.\n",
      "You should consider upgrading via the '/usr/local/Cellar/jupyterlab/2.0.1/libexec/bin/python3.7 -m pip install --upgrade pip' command.\u001b[0m\n",
      "Requirement already satisfied: seaborn in /usr/local/Cellar/jupyterlab/2.0.1/libexec/lib/python3.7/site-packages (0.10.0)\n",
      "Requirement already satisfied: pandas>=0.22.0 in /usr/local/Cellar/jupyterlab/2.0.1/libexec/lib/python3.7/site-packages (from seaborn) (1.0.3)\n",
      "Requirement already satisfied: scipy>=1.0.1 in /usr/local/Cellar/jupyterlab/2.0.1/libexec/lib/python3.7/site-packages (from seaborn) (1.4.1)\n",
      "Requirement already satisfied: numpy>=1.13.3 in /usr/local/Cellar/jupyterlab/2.0.1/libexec/lib/python3.7/site-packages (from seaborn) (1.18.2)\n",
      "Requirement already satisfied: matplotlib>=2.1.2 in /usr/local/Cellar/jupyterlab/2.0.1/libexec/lib/python3.7/site-packages (from seaborn) (3.2.1)\n",
      "Requirement already satisfied: pytz>=2017.2 in /usr/local/Cellar/jupyterlab/2.0.1/libexec/lib/python3.7/site-packages (from pandas>=0.22.0->seaborn) (2019.3)\n",
      "Requirement already satisfied: python-dateutil>=2.6.1 in /usr/local/Cellar/jupyterlab/2.0.1/libexec/lib/python3.7/site-packages (from pandas>=0.22.0->seaborn) (2.8.1)\n",
      "Requirement already satisfied: cycler>=0.10 in /usr/local/Cellar/jupyterlab/2.0.1/libexec/lib/python3.7/site-packages (from matplotlib>=2.1.2->seaborn) (0.10.0)\n",
      "Requirement already satisfied: pyparsing!=2.0.4,!=2.1.2,!=2.1.6,>=2.0.1 in /usr/local/Cellar/jupyterlab/2.0.1/libexec/lib/python3.7/site-packages (from matplotlib>=2.1.2->seaborn) (2.4.6)\n",
      "Requirement already satisfied: kiwisolver>=1.0.1 in /usr/local/Cellar/jupyterlab/2.0.1/libexec/lib/python3.7/site-packages (from matplotlib>=2.1.2->seaborn) (1.1.0)\n",
      "Requirement already satisfied: six>=1.5 in /usr/local/Cellar/jupyterlab/2.0.1/libexec/lib/python3.7/site-packages (from python-dateutil>=2.6.1->pandas>=0.22.0->seaborn) (1.14.0)\n",
      "Requirement already satisfied: setuptools in /usr/local/Cellar/jupyterlab/2.0.1/libexec/lib/python3.7/site-packages (from kiwisolver>=1.0.1->matplotlib>=2.1.2->seaborn) (45.2.0)\n",
      "\u001b[33mWARNING: You are using pip version 20.0.2; however, version 20.2.2 is available.\n",
      "You should consider upgrading via the '/usr/local/Cellar/jupyterlab/2.0.1/libexec/bin/python3.7 -m pip install --upgrade pip' command.\u001b[0m\n"
     ]
    }
   ],
   "source": [
    "import sys\n",
    "!{sys.executable} -m pip install numpy\n",
    "!{sys.executable} -m pip install pandas\n",
    "!{sys.executable} -m pip install matplotlib\n",
    "!{sys.executable} -m pip install seaborn"
   ]
  },
  {
   "cell_type": "code",
   "execution_count": 1,
   "metadata": {},
   "outputs": [],
   "source": [
    "import pandas as pd\n",
    "import numpy as np\n",
    "import matplotlib.pyplot as plt\n",
    "import seaborn as sns\n",
    "from functools import reduce\n",
    "from pylab import figure, axes, pie, title, savefig\n",
    "%matplotlib inline"
   ]
  },
  {
   "cell_type": "code",
   "execution_count": 2,
   "metadata": {},
   "outputs": [],
   "source": [
    "# 데이터 로드\n",
    "df = pd.read_csv(\"/Users/hamin/bithumb_bot_data/include/2018-new/2018-07-btc-krw.csv\")"
   ]
  },
  {
   "cell_type": "code",
   "execution_count": 3,
   "metadata": {},
   "outputs": [
    {
     "data": {
      "text/plain": [
       "timestamp     object\n",
       "quantity     float64\n",
       "price          int64\n",
       "fee            int64\n",
       "amount         int64\n",
       "side           int64\n",
       "dtype: object"
      ]
     },
     "execution_count": 3,
     "metadata": {},
     "output_type": "execute_result"
    }
   ],
   "source": [
    "# 칼럼 데이터 타입 확인\n",
    "df.dtypes"
   ]
  },
  {
   "cell_type": "code",
   "execution_count": 4,
   "metadata": {},
   "outputs": [
    {
     "data": {
      "text/plain": [
       "timestamp    datetime64[ns]\n",
       "quantity            float64\n",
       "price                 int64\n",
       "fee                   int64\n",
       "amount                int64\n",
       "side                  int64\n",
       "dtype: object"
      ]
     },
     "execution_count": 4,
     "metadata": {},
     "output_type": "execute_result"
    }
   ],
   "source": [
    "# timestamp 칼럼 타입을 'object'에서 'datetime'으로 바꾸기\n",
    "df['timestamp'] = pd.to_datetime(df['timestamp'], format='%Y-%m-%d %H:%M:%S', errors='raise')\n",
    "df.dtypes"
   ]
  },
  {
   "cell_type": "code",
   "execution_count": 5,
   "metadata": {},
   "outputs": [],
   "source": [
    "## converting timestamp to detailed date column\n",
    "df['timestamp_year_month_day'] = df['timestamp'].dt.date         # YYYY-MM-DD(문자)\n",
    "df['timestamp_year'] = df['timestamp'].dt.year         # 연(4자리숫자)\n",
    "df['timestamp_month'] = df['timestamp'].dt.month        # 월(숫자)\n",
    "df['timestamp_month_name'] = df['timestamp'].dt.month_name() # 월(문자)\n",
    "df['timestamp_day'] = df['timestamp'].dt.day          # 일(숫자)\n",
    "df['timestamp_time'] = df['timestamp'].dt.time         # HH:MM:SS(문자)\n",
    "df['timestamp_hour'] = df['timestamp'].dt.hour         # 시(숫자)\n",
    "df['timestamp_minute'] = df['timestamp'].dt.minute       # 분(숫자)\n",
    "df['timestamp_second'] = df['timestamp'].dt.second       # 초(숫자)"
   ]
  },
  {
   "cell_type": "code",
   "execution_count": 6,
   "metadata": {},
   "outputs": [],
   "source": [
    "# Date\n",
    "# 'date - amount' 데이터 프레임 만들기\n",
    "group_date_amount = df['amount'].groupby(df['timestamp_day'])"
   ]
  },
  {
   "cell_type": "code",
   "execution_count": 7,
   "metadata": {},
   "outputs": [
    {
     "data": {
      "text/plain": [
       "timestamp_day\n",
       "1    -14585370\n",
       "2     15168016\n",
       "3       167826\n",
       "4    -18993006\n",
       "5     19456952\n",
       "6    -21771154\n",
       "7      6844664\n",
       "8     15315231\n",
       "9    -12685945\n",
       "10    -9070107\n",
       "11    18322011\n",
       "12   -16529390\n",
       "13      108019\n",
       "14    -2453009\n",
       "15     4226376\n",
       "16    14644517\n",
       "17     2328518\n",
       "Name: amount, dtype: int64"
      ]
     },
     "execution_count": 7,
     "metadata": {},
     "output_type": "execute_result"
    }
   ],
   "source": [
    "# date 별 sell - buy 금액\n",
    "group_date_amount.sum()"
   ]
  },
  {
   "cell_type": "code",
   "execution_count": 8,
   "metadata": {},
   "outputs": [],
   "source": [
    "# 'date - buy amount' connection 만들기\n",
    "df2 = df.copy()\n",
    "df2 = df2[df2['amount'] > 0]\n",
    "group_date_amount_positive = df2['amount'].groupby(df2['timestamp_day'])"
   ]
  },
  {
   "cell_type": "code",
   "execution_count": 9,
   "metadata": {},
   "outputs": [
    {
     "data": {
      "text/plain": [
       "timestamp_day\n",
       "1      158823921\n",
       "2      441072493\n",
       "3      877967396\n",
       "4      695114238\n",
       "5      480702139\n",
       "6      517981794\n",
       "7      561599793\n",
       "8      720593542\n",
       "9     1163342270\n",
       "10    1103232833\n",
       "11     881842972\n",
       "12     766445183\n",
       "13     813886806\n",
       "14     544509212\n",
       "15     681902774\n",
       "16    1211141745\n",
       "17       2431170\n",
       "Name: amount, dtype: int64"
      ]
     },
     "execution_count": 9,
     "metadata": {},
     "output_type": "execute_result"
    }
   ],
   "source": [
    "# date 별 sell amount 총합 (positive)\n",
    "group_date_amount_positive.sum()"
   ]
  },
  {
   "cell_type": "code",
   "execution_count": 10,
   "metadata": {},
   "outputs": [],
   "source": [
    " # 'date - buy amount' connection 만들기\n",
    "df3 = df.copy()\n",
    "df3 = df3[df3['amount'] < 0]\n",
    "group_date_amount_negative = df3['amount'].groupby(df3['timestamp_day'])"
   ]
  },
  {
   "cell_type": "code",
   "execution_count": 11,
   "metadata": {},
   "outputs": [
    {
     "data": {
      "text/plain": [
       "timestamp_day\n",
       "1     -173409291\n",
       "2     -425904477\n",
       "3     -877799570\n",
       "4     -714107244\n",
       "5     -461245187\n",
       "6     -539752948\n",
       "7     -554755129\n",
       "8     -705278311\n",
       "9    -1176028215\n",
       "10   -1112302940\n",
       "11    -863520961\n",
       "12    -782974573\n",
       "13    -813778787\n",
       "14    -546962221\n",
       "15    -677676398\n",
       "16   -1196497228\n",
       "17       -102652\n",
       "Name: amount, dtype: int64"
      ]
     },
     "execution_count": 11,
     "metadata": {},
     "output_type": "execute_result"
    }
   ],
   "source": [
    "# date 별 buy amount 총 합\n",
    "group_date_amount_negative.sum()"
   ]
  },
  {
   "cell_type": "code",
   "execution_count": 12,
   "metadata": {},
   "outputs": [
    {
     "data": {
      "text/plain": [
       "timestamp_day\n",
       "1      332233212\n",
       "2      866976970\n",
       "3     1755766966\n",
       "4     1409221482\n",
       "5      941947326\n",
       "6     1057734742\n",
       "7     1116354922\n",
       "8     1425871853\n",
       "9     2339370485\n",
       "10    2215535773\n",
       "11    1745363933\n",
       "12    1549419756\n",
       "13    1627665593\n",
       "14    1091471433\n",
       "15    1359579172\n",
       "16    2407638973\n",
       "17       2533822\n",
       "Name: amount, dtype: int64"
      ]
     },
     "execution_count": 12,
     "metadata": {},
     "output_type": "execute_result"
    }
   ],
   "source": [
    "# date 별 절대값 총합\n",
    "# negative는 buy\n",
    "absolute_date_negative_sum = group_date_amount_negative.sum()\n",
    "absolute_date_negative_sum = absolute_date_negative_sum * (-1)\n",
    "# total은 sell - buy\n",
    "absolute_date_total_amount = absolute_date_negative_sum+group_date_amount_positive.sum()\n",
    "absolute_date_total_amount\n"
   ]
  },
  {
   "cell_type": "code",
   "execution_count": 13,
   "metadata": {},
   "outputs": [
    {
     "data": {
      "text/html": [
       "<div>\n",
       "<style scoped>\n",
       "    .dataframe tbody tr th:only-of-type {\n",
       "        vertical-align: middle;\n",
       "    }\n",
       "\n",
       "    .dataframe tbody tr th {\n",
       "        vertical-align: top;\n",
       "    }\n",
       "\n",
       "    .dataframe thead th {\n",
       "        text-align: right;\n",
       "    }\n",
       "</style>\n",
       "<table border=\"1\" class=\"dataframe\">\n",
       "  <thead>\n",
       "    <tr style=\"text-align: right;\">\n",
       "      <th></th>\n",
       "      <th>Date transaction</th>\n",
       "      <th>Date sell-buy</th>\n",
       "      <th>Date sell transaction</th>\n",
       "      <th>Date sell</th>\n",
       "      <th>Date buy transaction</th>\n",
       "      <th>Date buy</th>\n",
       "      <th>Date absolute buy</th>\n",
       "    </tr>\n",
       "    <tr>\n",
       "      <th>timestamp_day</th>\n",
       "      <th></th>\n",
       "      <th></th>\n",
       "      <th></th>\n",
       "      <th></th>\n",
       "      <th></th>\n",
       "      <th></th>\n",
       "      <th></th>\n",
       "    </tr>\n",
       "  </thead>\n",
       "  <tbody>\n",
       "    <tr>\n",
       "      <th>1</th>\n",
       "      <td>174</td>\n",
       "      <td>-14585370</td>\n",
       "      <td>89</td>\n",
       "      <td>158823921</td>\n",
       "      <td>85</td>\n",
       "      <td>-173409291</td>\n",
       "      <td>173409291</td>\n",
       "    </tr>\n",
       "    <tr>\n",
       "      <th>2</th>\n",
       "      <td>356</td>\n",
       "      <td>15168016</td>\n",
       "      <td>194</td>\n",
       "      <td>441072493</td>\n",
       "      <td>162</td>\n",
       "      <td>-425904477</td>\n",
       "      <td>425904477</td>\n",
       "    </tr>\n",
       "    <tr>\n",
       "      <th>3</th>\n",
       "      <td>736</td>\n",
       "      <td>167826</td>\n",
       "      <td>413</td>\n",
       "      <td>877967396</td>\n",
       "      <td>323</td>\n",
       "      <td>-877799570</td>\n",
       "      <td>877799570</td>\n",
       "    </tr>\n",
       "    <tr>\n",
       "      <th>4</th>\n",
       "      <td>689</td>\n",
       "      <td>-18993006</td>\n",
       "      <td>380</td>\n",
       "      <td>695114238</td>\n",
       "      <td>309</td>\n",
       "      <td>-714107244</td>\n",
       "      <td>714107244</td>\n",
       "    </tr>\n",
       "    <tr>\n",
       "      <th>5</th>\n",
       "      <td>488</td>\n",
       "      <td>19456952</td>\n",
       "      <td>273</td>\n",
       "      <td>480702139</td>\n",
       "      <td>215</td>\n",
       "      <td>-461245187</td>\n",
       "      <td>461245187</td>\n",
       "    </tr>\n",
       "    <tr>\n",
       "      <th>6</th>\n",
       "      <td>573</td>\n",
       "      <td>-21771154</td>\n",
       "      <td>315</td>\n",
       "      <td>517981794</td>\n",
       "      <td>258</td>\n",
       "      <td>-539752948</td>\n",
       "      <td>539752948</td>\n",
       "    </tr>\n",
       "    <tr>\n",
       "      <th>7</th>\n",
       "      <td>521</td>\n",
       "      <td>6844664</td>\n",
       "      <td>281</td>\n",
       "      <td>561599793</td>\n",
       "      <td>240</td>\n",
       "      <td>-554755129</td>\n",
       "      <td>554755129</td>\n",
       "    </tr>\n",
       "    <tr>\n",
       "      <th>8</th>\n",
       "      <td>447</td>\n",
       "      <td>15315231</td>\n",
       "      <td>229</td>\n",
       "      <td>720593542</td>\n",
       "      <td>218</td>\n",
       "      <td>-705278311</td>\n",
       "      <td>705278311</td>\n",
       "    </tr>\n",
       "    <tr>\n",
       "      <th>9</th>\n",
       "      <td>766</td>\n",
       "      <td>-12685945</td>\n",
       "      <td>467</td>\n",
       "      <td>1163342270</td>\n",
       "      <td>299</td>\n",
       "      <td>-1176028215</td>\n",
       "      <td>1176028215</td>\n",
       "    </tr>\n",
       "    <tr>\n",
       "      <th>10</th>\n",
       "      <td>812</td>\n",
       "      <td>-9070107</td>\n",
       "      <td>431</td>\n",
       "      <td>1103232833</td>\n",
       "      <td>381</td>\n",
       "      <td>-1112302940</td>\n",
       "      <td>1112302940</td>\n",
       "    </tr>\n",
       "    <tr>\n",
       "      <th>11</th>\n",
       "      <td>763</td>\n",
       "      <td>18322011</td>\n",
       "      <td>442</td>\n",
       "      <td>881842972</td>\n",
       "      <td>321</td>\n",
       "      <td>-863520961</td>\n",
       "      <td>863520961</td>\n",
       "    </tr>\n",
       "    <tr>\n",
       "      <th>12</th>\n",
       "      <td>517</td>\n",
       "      <td>-16529390</td>\n",
       "      <td>280</td>\n",
       "      <td>766445183</td>\n",
       "      <td>237</td>\n",
       "      <td>-782974573</td>\n",
       "      <td>782974573</td>\n",
       "    </tr>\n",
       "    <tr>\n",
       "      <th>13</th>\n",
       "      <td>741</td>\n",
       "      <td>108019</td>\n",
       "      <td>433</td>\n",
       "      <td>813886806</td>\n",
       "      <td>308</td>\n",
       "      <td>-813778787</td>\n",
       "      <td>813778787</td>\n",
       "    </tr>\n",
       "    <tr>\n",
       "      <th>14</th>\n",
       "      <td>492</td>\n",
       "      <td>-2453009</td>\n",
       "      <td>307</td>\n",
       "      <td>544509212</td>\n",
       "      <td>185</td>\n",
       "      <td>-546962221</td>\n",
       "      <td>546962221</td>\n",
       "    </tr>\n",
       "    <tr>\n",
       "      <th>15</th>\n",
       "      <td>595</td>\n",
       "      <td>4226376</td>\n",
       "      <td>295</td>\n",
       "      <td>681902774</td>\n",
       "      <td>300</td>\n",
       "      <td>-677676398</td>\n",
       "      <td>677676398</td>\n",
       "    </tr>\n",
       "    <tr>\n",
       "      <th>16</th>\n",
       "      <td>794</td>\n",
       "      <td>14644517</td>\n",
       "      <td>416</td>\n",
       "      <td>1211141745</td>\n",
       "      <td>378</td>\n",
       "      <td>-1196497228</td>\n",
       "      <td>1196497228</td>\n",
       "    </tr>\n",
       "    <tr>\n",
       "      <th>17</th>\n",
       "      <td>3</td>\n",
       "      <td>2328518</td>\n",
       "      <td>2</td>\n",
       "      <td>2431170</td>\n",
       "      <td>1</td>\n",
       "      <td>-102652</td>\n",
       "      <td>102652</td>\n",
       "    </tr>\n",
       "  </tbody>\n",
       "</table>\n",
       "</div>"
      ],
      "text/plain": [
       "               Date transaction  Date sell-buy  Date sell transaction  \\\n",
       "timestamp_day                                                           \n",
       "1                           174      -14585370                     89   \n",
       "2                           356       15168016                    194   \n",
       "3                           736         167826                    413   \n",
       "4                           689      -18993006                    380   \n",
       "5                           488       19456952                    273   \n",
       "6                           573      -21771154                    315   \n",
       "7                           521        6844664                    281   \n",
       "8                           447       15315231                    229   \n",
       "9                           766      -12685945                    467   \n",
       "10                          812       -9070107                    431   \n",
       "11                          763       18322011                    442   \n",
       "12                          517      -16529390                    280   \n",
       "13                          741         108019                    433   \n",
       "14                          492       -2453009                    307   \n",
       "15                          595        4226376                    295   \n",
       "16                          794       14644517                    416   \n",
       "17                            3        2328518                      2   \n",
       "\n",
       "                Date sell  Date buy transaction    Date buy  Date absolute buy  \n",
       "timestamp_day                                                                   \n",
       "1               158823921                    85  -173409291          173409291  \n",
       "2               441072493                   162  -425904477          425904477  \n",
       "3               877967396                   323  -877799570          877799570  \n",
       "4               695114238                   309  -714107244          714107244  \n",
       "5               480702139                   215  -461245187          461245187  \n",
       "6               517981794                   258  -539752948          539752948  \n",
       "7               561599793                   240  -554755129          554755129  \n",
       "8               720593542                   218  -705278311          705278311  \n",
       "9              1163342270                   299 -1176028215         1176028215  \n",
       "10             1103232833                   381 -1112302940         1112302940  \n",
       "11              881842972                   321  -863520961          863520961  \n",
       "12              766445183                   237  -782974573          782974573  \n",
       "13              813886806                   308  -813778787          813778787  \n",
       "14              544509212                   185  -546962221          546962221  \n",
       "15              681902774                   300  -677676398          677676398  \n",
       "16             1211141745                   378 -1196497228         1196497228  \n",
       "17                2431170                     1     -102652             102652  "
      ]
     },
     "execution_count": 13,
     "metadata": {},
     "output_type": "execute_result"
    }
   ],
   "source": [
    "\n",
    "# date 별 계산 table 생성\n",
    "dfs = [group_date_amount.size(), group_date_amount.sum(), group_date_amount_positive.size(), group_date_amount_positive.sum(), group_date_amount_negative.size(), group_date_amount_negative.sum(), absolute_date_negative_sum]\n",
    "day_df_date_final = reduce(lambda left,right: pd.merge(left,right,on='timestamp_day'), dfs)\n",
    "day_df_date_final.columns = [ \"Date transaction\", \"Date sell-buy\", \"Date sell transaction\", \"Date sell\", \"Date buy transaction\", \"Date buy\", \"Date absolute buy\"]\n",
    "day_df_date_final"
   ]
  },
  {
   "cell_type": "code",
   "execution_count": 14,
   "metadata": {},
   "outputs": [],
   "source": [
    "# table 저장하기\n",
    "day_df_date_final.to_csv(\"/Users/hamin/ITE3035_Python/Data_Science/table/date_result_table.csv\", header=True, index=True, encoding = 'utf-8')"
   ]
  },
  {
   "cell_type": "code",
   "execution_count": 18,
   "metadata": {},
   "outputs": [
    {
     "data": {
      "image/png": "[encoded data removed]",
      "text/plain": [
       "<Figure size 432x288 with 1 Axes>"
      ]
     },
     "metadata": {
      "needs_background": "light"
     },
     "output_type": "display_data"
    }
   ],
   "source": [
    "# Date - transaction 금액 그래프 그리기\n",
    "dayTransVolGraph = day_df_date_final[['Date sell', 'Date absolute buy']].plot(title='Transaction Volume per day 2018-07', marker='o')\n",
    "dayTransVolGraph.set_xlabel('Date')\n",
    "dayTransVolGraph.set_ylabel('Volume (1,000,000,000KRW)')\n",
    "plt.savefig('/Users/hamin/ITE3035_Python/Data_Science/graph/bithumb-2018-07-Trans_Vol_per_day.png', dpi=300)"
   ]
  },
  {
   "cell_type": "code",
   "execution_count": 19,
   "metadata": {},
   "outputs": [
    {
     "data": {
      "image/png": "[encoded data removed]",
      "text/plain": [
       "<Figure size 432x288 with 1 Axes>"
      ]
     },
     "metadata": {
      "needs_background": "light"
     },
     "output_type": "display_data"
    }
   ],
   "source": [
    "dayTransGraph = day_df_date_final[['Date sell', 'Date absolute buy']].plot.bar(title='Transaction Volume per day 2018-07', stacked=True)\n",
    "dayTransGraph.set_xlabel('Date')\n",
    "dayTransGraph.set_ylabel('Volume (1,000,000,000KRW)')\n",
    "plt.savefig('/Users/hamin/ITE3035_Python/Data_Science/graph/bithumb-2018-07-Trans_Vol_per_day(stacked).png', dpi=300)"
   ]
  },
  {
   "cell_type": "code",
   "execution_count": 20,
   "metadata": {},
   "outputs": [
    {
     "data": {
      "image/png": "[encoded data removed]",
      "text/plain": [
       "<Figure size 432x288 with 1 Axes>"
      ]
     },
     "metadata": {
      "needs_background": "light"
     },
     "output_type": "display_data"
    }
   ],
   "source": [
    "dayTransBarGraph = day_df_date_final[['Date sell', 'Date absolute buy']].plot.bar(title='Transaction Volume per day(Bar) 2018-07')\n",
    "dayTransBarGraph.set_xlabel('Date')\n",
    "dayTransBarGraph.set_ylabel('Volume (1,000,000,000KRW)')\n",
    "plt.savefig('/Users/hamin/ITE3035_Python/Data_Science/graph/bithumb-2018-07-Trans_Vol_per_day(bar).png', dpi=300)"
   ]
  },
  {
   "cell_type": "code",
   "execution_count": null,
   "metadata": {},
   "outputs": [],
   "source": []
  }
 ],
 "metadata": {
  "kernelspec": {
   "display_name": "Python 3",
   "language": "python",
   "name": "python3"
  },
  "language_info": {
   "codemirror_mode": {
    "name": "ipython",
    "version": 3
   },
   "file_extension": ".py",
   "mimetype": "text/x-python",
   "name": "python",
   "nbconvert_exporter": "python",
   "pygments_lexer": "ipython3",
   "version": "3.7.7"
  }
 },
 "nbformat": 4,
 "nbformat_minor": 4
}
