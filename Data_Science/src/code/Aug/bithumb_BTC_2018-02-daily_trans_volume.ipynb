{
 "cells": [
  {
   "cell_type": "code",
   "execution_count": 19,
   "metadata": {},
   "outputs": [
    {
     "name": "stdout",
     "output_type": "stream",
     "text": [
      "Requirement already satisfied: numpy in /usr/local/Cellar/jupyterlab/2.0.1/libexec/lib/python3.7/site-packages (1.18.2)\n",
      "\u001b[33mWARNING: You are using pip version 20.0.2; however, version 20.2.2 is available.\n",
      "You should consider upgrading via the '/usr/local/Cellar/jupyterlab/2.0.1/libexec/bin/python3.7 -m pip install --upgrade pip' command.\u001b[0m\n",
      "Requirement already satisfied: pandas in /usr/local/Cellar/jupyterlab/2.0.1/libexec/lib/python3.7/site-packages (1.0.3)\n",
      "Requirement already satisfied: pytz>=2017.2 in /usr/local/Cellar/jupyterlab/2.0.1/libexec/lib/python3.7/site-packages (from pandas) (2019.3)\n",
      "Requirement already satisfied: numpy>=1.13.3 in /usr/local/Cellar/jupyterlab/2.0.1/libexec/lib/python3.7/site-packages (from pandas) (1.18.2)\n",
      "Requirement already satisfied: python-dateutil>=2.6.1 in /usr/local/Cellar/jupyterlab/2.0.1/libexec/lib/python3.7/site-packages (from pandas) (2.8.1)\n",
      "Requirement already satisfied: six>=1.5 in /usr/local/Cellar/jupyterlab/2.0.1/libexec/lib/python3.7/site-packages (from python-dateutil>=2.6.1->pandas) (1.14.0)\n",
      "\u001b[33mWARNING: You are using pip version 20.0.2; however, version 20.2.2 is available.\n",
      "You should consider upgrading via the '/usr/local/Cellar/jupyterlab/2.0.1/libexec/bin/python3.7 -m pip install --upgrade pip' command.\u001b[0m\n",
      "Requirement already satisfied: matplotlib in /usr/local/Cellar/jupyterlab/2.0.1/libexec/lib/python3.7/site-packages (3.2.1)\n",
      "Requirement already satisfied: pyparsing!=2.0.4,!=2.1.2,!=2.1.6,>=2.0.1 in /usr/local/Cellar/jupyterlab/2.0.1/libexec/lib/python3.7/site-packages (from matplotlib) (2.4.6)\n",
      "Requirement already satisfied: cycler>=0.10 in /usr/local/Cellar/jupyterlab/2.0.1/libexec/lib/python3.7/site-packages (from matplotlib) (0.10.0)\n",
      "Requirement already satisfied: python-dateutil>=2.1 in /usr/local/Cellar/jupyterlab/2.0.1/libexec/lib/python3.7/site-packages (from matplotlib) (2.8.1)\n",
      "Requirement already satisfied: numpy>=1.11 in /usr/local/Cellar/jupyterlab/2.0.1/libexec/lib/python3.7/site-packages (from matplotlib) (1.18.2)\n",
      "Requirement already satisfied: kiwisolver>=1.0.1 in /usr/local/Cellar/jupyterlab/2.0.1/libexec/lib/python3.7/site-packages (from matplotlib) (1.1.0)\n",
      "Requirement already satisfied: six in /usr/local/Cellar/jupyterlab/2.0.1/libexec/lib/python3.7/site-packages (from cycler>=0.10->matplotlib) (1.14.0)\n",
      "Requirement already satisfied: setuptools in /usr/local/Cellar/jupyterlab/2.0.1/libexec/lib/python3.7/site-packages (from kiwisolver>=1.0.1->matplotlib) (45.2.0)\n",
      "\u001b[33mWARNING: You are using pip version 20.0.2; however, version 20.2.2 is available.\n",
      "You should consider upgrading via the '/usr/local/Cellar/jupyterlab/2.0.1/libexec/bin/python3.7 -m pip install --upgrade pip' command.\u001b[0m\n",
      "Requirement already satisfied: seaborn in /usr/local/Cellar/jupyterlab/2.0.1/libexec/lib/python3.7/site-packages (0.10.0)\n",
      "Requirement already satisfied: matplotlib>=2.1.2 in /usr/local/Cellar/jupyterlab/2.0.1/libexec/lib/python3.7/site-packages (from seaborn) (3.2.1)\n",
      "Requirement already satisfied: pandas>=0.22.0 in /usr/local/Cellar/jupyterlab/2.0.1/libexec/lib/python3.7/site-packages (from seaborn) (1.0.3)\n",
      "Requirement already satisfied: numpy>=1.13.3 in /usr/local/Cellar/jupyterlab/2.0.1/libexec/lib/python3.7/site-packages (from seaborn) (1.18.2)\n",
      "Requirement already satisfied: scipy>=1.0.1 in /usr/local/Cellar/jupyterlab/2.0.1/libexec/lib/python3.7/site-packages (from seaborn) (1.4.1)\n",
      "Requirement already satisfied: kiwisolver>=1.0.1 in /usr/local/Cellar/jupyterlab/2.0.1/libexec/lib/python3.7/site-packages (from matplotlib>=2.1.2->seaborn) (1.1.0)\n",
      "Requirement already satisfied: cycler>=0.10 in /usr/local/Cellar/jupyterlab/2.0.1/libexec/lib/python3.7/site-packages (from matplotlib>=2.1.2->seaborn) (0.10.0)\n",
      "Requirement already satisfied: pyparsing!=2.0.4,!=2.1.2,!=2.1.6,>=2.0.1 in /usr/local/Cellar/jupyterlab/2.0.1/libexec/lib/python3.7/site-packages (from matplotlib>=2.1.2->seaborn) (2.4.6)\n",
      "Requirement already satisfied: python-dateutil>=2.1 in /usr/local/Cellar/jupyterlab/2.0.1/libexec/lib/python3.7/site-packages (from matplotlib>=2.1.2->seaborn) (2.8.1)\n",
      "Requirement already satisfied: pytz>=2017.2 in /usr/local/Cellar/jupyterlab/2.0.1/libexec/lib/python3.7/site-packages (from pandas>=0.22.0->seaborn) (2019.3)\n",
      "Requirement already satisfied: setuptools in /usr/local/Cellar/jupyterlab/2.0.1/libexec/lib/python3.7/site-packages (from kiwisolver>=1.0.1->matplotlib>=2.1.2->seaborn) (45.2.0)\n",
      "Requirement already satisfied: six in /usr/local/Cellar/jupyterlab/2.0.1/libexec/lib/python3.7/site-packages (from cycler>=0.10->matplotlib>=2.1.2->seaborn) (1.14.0)\n",
      "\u001b[33mWARNING: You are using pip version 20.0.2; however, version 20.2.2 is available.\n",
      "You should consider upgrading via the '/usr/local/Cellar/jupyterlab/2.0.1/libexec/bin/python3.7 -m pip install --upgrade pip' command.\u001b[0m\n"
     ]
    }
   ],
   "source": [
    "import sys\n",
    "!{sys.executable} -m pip install numpy\n",
    "!{sys.executable} -m pip install pandas\n",
    "!{sys.executable} -m pip install matplotlib\n",
    "!{sys.executable} -m pip install seaborn"
   ]
  },
  {
   "cell_type": "code",
   "execution_count": 20,
   "metadata": {},
   "outputs": [],
   "source": [
    "import pandas as pd\n",
    "import numpy as np\n",
    "import matplotlib.pyplot as plt\n",
    "import seaborn as sns\n",
    "from functools import reduce\n",
    "from pylab import figure, axes, pie, title, savefig\n",
    "%matplotlib inline"
   ]
  },
  {
   "cell_type": "code",
   "execution_count": 21,
   "metadata": {},
   "outputs": [],
   "source": [
    "# 데이터 로드\n",
    "df = pd.read_csv(\"/Users/hamin/bithumb_bot_data/include/2018-new/2018-02-btc-krw.csv\")"
   ]
  },
  {
   "cell_type": "code",
   "execution_count": 22,
   "metadata": {},
   "outputs": [
    {
     "data": {
      "text/plain": [
       "timestamp     object\n",
       "quantity     float64\n",
       "price          int64\n",
       "fee          float64\n",
       "amount         int64\n",
       "side           int64\n",
       "dtype: object"
      ]
     },
     "execution_count": 22,
     "metadata": {},
     "output_type": "execute_result"
    }
   ],
   "source": [
    "# 칼럼 데이터 타입 확인\n",
    "df.dtypes"
   ]
  },
  {
   "cell_type": "code",
   "execution_count": 23,
   "metadata": {},
   "outputs": [
    {
     "data": {
      "text/plain": [
       "timestamp    datetime64[ns]\n",
       "quantity            float64\n",
       "price                 int64\n",
       "fee                 float64\n",
       "amount                int64\n",
       "side                  int64\n",
       "dtype: object"
      ]
     },
     "execution_count": 23,
     "metadata": {},
     "output_type": "execute_result"
    }
   ],
   "source": [
    "# timestamp 칼럼 타입을 'object'에서 'datetime'으로 바꾸기\n",
    "df['timestamp'] = pd.to_datetime(df['timestamp'], format='%Y-%m-%d %H:%M:%S', errors='raise')\n",
    "df.dtypes"
   ]
  },
  {
   "cell_type": "code",
   "execution_count": 24,
   "metadata": {},
   "outputs": [],
   "source": [
    "## converting timestamp to detailed date column\n",
    "df['timestamp_year_month_day'] = df['timestamp'].dt.date         # YYYY-MM-DD(문자)\n",
    "df['timestamp_year'] = df['timestamp'].dt.year         # 연(4자리숫자)\n",
    "df['timestamp_month'] = df['timestamp'].dt.month        # 월(숫자)\n",
    "df['timestamp_month_name'] = df['timestamp'].dt.month_name() # 월(문자)\n",
    "df['timestamp_day'] = df['timestamp'].dt.day          # 일(숫자)\n",
    "df['timestamp_time'] = df['timestamp'].dt.time         # HH:MM:SS(문자)\n",
    "df['timestamp_hour'] = df['timestamp'].dt.hour         # 시(숫자)\n",
    "df['timestamp_minute'] = df['timestamp'].dt.minute       # 분(숫자)\n",
    "df['timestamp_second'] = df['timestamp'].dt.second       # 초(숫자)"
   ]
  },
  {
   "cell_type": "code",
   "execution_count": 25,
   "metadata": {},
   "outputs": [],
   "source": [
    "# Date\n",
    "# 'date - amount' 데이터 프레임 만들기\n",
    "group_date_amount = df['amount'].groupby(df['timestamp_day'])"
   ]
  },
  {
   "cell_type": "code",
   "execution_count": 26,
   "metadata": {},
   "outputs": [
    {
     "data": {
      "text/plain": [
       "timestamp_day\n",
       "14   -13986080\n",
       "15      734092\n",
       "16    17687643\n",
       "17     1432140\n",
       "18   -12068675\n",
       "19    13935899\n",
       "20     1998820\n",
       "21     -274696\n",
       "22    -7300157\n",
       "23    11705392\n",
       "24     1013740\n",
       "25      570258\n",
       "26   -10570854\n",
       "27    -6746483\n",
       "28    21926406\n",
       "Name: amount, dtype: int64"
      ]
     },
     "execution_count": 26,
     "metadata": {},
     "output_type": "execute_result"
    }
   ],
   "source": [
    "# date 별 sell - buy 금액\n",
    "group_date_amount.sum()"
   ]
  },
  {
   "cell_type": "code",
   "execution_count": 27,
   "metadata": {},
   "outputs": [],
   "source": [
    "# 'date - buy amount' connection 만들기\n",
    "df2 = df.copy()\n",
    "df2 = df2[df2['amount'] > 0]\n",
    "group_date_amount_positive = df2['amount'].groupby(df2['timestamp_day'])"
   ]
  },
  {
   "cell_type": "code",
   "execution_count": 28,
   "metadata": {},
   "outputs": [
    {
     "data": {
      "text/plain": [
       "timestamp_day\n",
       "14    1531487209\n",
       "15    2529253711\n",
       "16    2228838934\n",
       "17    1374558420\n",
       "18    2165526961\n",
       "19    1759974379\n",
       "20    3007532623\n",
       "21    5373720824\n",
       "22    4978452013\n",
       "23    3178734522\n",
       "24    1965575540\n",
       "25    1612991345\n",
       "26    2736765547\n",
       "27    2866889083\n",
       "28    2507614791\n",
       "Name: amount, dtype: int64"
      ]
     },
     "execution_count": 28,
     "metadata": {},
     "output_type": "execute_result"
    }
   ],
   "source": [
    "# date 별 sell amount 총합 (positive)\n",
    "group_date_amount_positive.sum()"
   ]
  },
  {
   "cell_type": "code",
   "execution_count": 29,
   "metadata": {},
   "outputs": [],
   "source": [
    " # 'date - buy amount' connection 만들기\n",
    "df3 = df.copy()\n",
    "df3 = df3[df3['amount'] < 0]\n",
    "group_date_amount_negative = df3['amount'].groupby(df3['timestamp_day'])"
   ]
  },
  {
   "cell_type": "code",
   "execution_count": 30,
   "metadata": {},
   "outputs": [
    {
     "data": {
      "text/plain": [
       "timestamp_day\n",
       "14   -1545473289\n",
       "15   -2528519619\n",
       "16   -2211151291\n",
       "17   -1373126280\n",
       "18   -2177595636\n",
       "19   -1746038480\n",
       "20   -3005533803\n",
       "21   -5373995520\n",
       "22   -4985752170\n",
       "23   -3167029130\n",
       "24   -1964561800\n",
       "25   -1612421087\n",
       "26   -2747336401\n",
       "27   -2873635566\n",
       "28   -2485688385\n",
       "Name: amount, dtype: int64"
      ]
     },
     "execution_count": 30,
     "metadata": {},
     "output_type": "execute_result"
    }
   ],
   "source": [
    "# date 별 buy amount 총 합\n",
    "group_date_amount_negative.sum()"
   ]
  },
  {
   "cell_type": "code",
   "execution_count": 31,
   "metadata": {},
   "outputs": [
    {
     "data": {
      "text/plain": [
       "timestamp_day\n",
       "14     3076960498\n",
       "15     5057773330\n",
       "16     4439990225\n",
       "17     2747684700\n",
       "18     4343122597\n",
       "19     3506012859\n",
       "20     6013066426\n",
       "21    10747716344\n",
       "22     9964204183\n",
       "23     6345763652\n",
       "24     3930137340\n",
       "25     3225412432\n",
       "26     5484101948\n",
       "27     5740524649\n",
       "28     4993303176\n",
       "Name: amount, dtype: int64"
      ]
     },
     "execution_count": 31,
     "metadata": {},
     "output_type": "execute_result"
    }
   ],
   "source": [
    "# date 별 절대값 총합\n",
    "# negative는 buy\n",
    "absolute_date_negative_sum = group_date_amount_negative.sum()\n",
    "absolute_date_negative_sum = absolute_date_negative_sum * (-1)\n",
    "# total은 sell - buy\n",
    "absolute_date_total_amount = absolute_date_negative_sum+group_date_amount_positive.sum()\n",
    "absolute_date_total_amount\n"
   ]
  },
  {
   "cell_type": "code",
   "execution_count": 32,
   "metadata": {},
   "outputs": [
    {
     "data": {
      "text/html": [
       "<div>\n",
       "<style scoped>\n",
       "    .dataframe tbody tr th:only-of-type {\n",
       "        vertical-align: middle;\n",
       "    }\n",
       "\n",
       "    .dataframe tbody tr th {\n",
       "        vertical-align: top;\n",
       "    }\n",
       "\n",
       "    .dataframe thead th {\n",
       "        text-align: right;\n",
       "    }\n",
       "</style>\n",
       "<table border=\"1\" class=\"dataframe\">\n",
       "  <thead>\n",
       "    <tr style=\"text-align: right;\">\n",
       "      <th></th>\n",
       "      <th>Date transaction</th>\n",
       "      <th>Date sell-buy</th>\n",
       "      <th>Date sell transaction</th>\n",
       "      <th>Date sell</th>\n",
       "      <th>Date buy transaction</th>\n",
       "      <th>Date buy</th>\n",
       "      <th>Date absolute buy</th>\n",
       "    </tr>\n",
       "    <tr>\n",
       "      <th>timestamp_day</th>\n",
       "      <th></th>\n",
       "      <th></th>\n",
       "      <th></th>\n",
       "      <th></th>\n",
       "      <th></th>\n",
       "      <th></th>\n",
       "      <th></th>\n",
       "    </tr>\n",
       "  </thead>\n",
       "  <tbody>\n",
       "    <tr>\n",
       "      <th>14</th>\n",
       "      <td>931</td>\n",
       "      <td>-13986080</td>\n",
       "      <td>587</td>\n",
       "      <td>1531487209</td>\n",
       "      <td>344</td>\n",
       "      <td>-1545473289</td>\n",
       "      <td>1545473289</td>\n",
       "    </tr>\n",
       "    <tr>\n",
       "      <th>15</th>\n",
       "      <td>1487</td>\n",
       "      <td>734092</td>\n",
       "      <td>867</td>\n",
       "      <td>2529253711</td>\n",
       "      <td>620</td>\n",
       "      <td>-2528519619</td>\n",
       "      <td>2528519619</td>\n",
       "    </tr>\n",
       "    <tr>\n",
       "      <th>16</th>\n",
       "      <td>1208</td>\n",
       "      <td>17687643</td>\n",
       "      <td>684</td>\n",
       "      <td>2228838934</td>\n",
       "      <td>524</td>\n",
       "      <td>-2211151291</td>\n",
       "      <td>2211151291</td>\n",
       "    </tr>\n",
       "    <tr>\n",
       "      <th>17</th>\n",
       "      <td>688</td>\n",
       "      <td>1432140</td>\n",
       "      <td>357</td>\n",
       "      <td>1374558420</td>\n",
       "      <td>331</td>\n",
       "      <td>-1373126280</td>\n",
       "      <td>1373126280</td>\n",
       "    </tr>\n",
       "    <tr>\n",
       "      <th>18</th>\n",
       "      <td>1047</td>\n",
       "      <td>-12068675</td>\n",
       "      <td>560</td>\n",
       "      <td>2165526961</td>\n",
       "      <td>487</td>\n",
       "      <td>-2177595636</td>\n",
       "      <td>2177595636</td>\n",
       "    </tr>\n",
       "    <tr>\n",
       "      <th>19</th>\n",
       "      <td>892</td>\n",
       "      <td>13935899</td>\n",
       "      <td>517</td>\n",
       "      <td>1759974379</td>\n",
       "      <td>375</td>\n",
       "      <td>-1746038480</td>\n",
       "      <td>1746038480</td>\n",
       "    </tr>\n",
       "    <tr>\n",
       "      <th>20</th>\n",
       "      <td>1523</td>\n",
       "      <td>1998820</td>\n",
       "      <td>908</td>\n",
       "      <td>3007532623</td>\n",
       "      <td>615</td>\n",
       "      <td>-3005533803</td>\n",
       "      <td>3005533803</td>\n",
       "    </tr>\n",
       "    <tr>\n",
       "      <th>21</th>\n",
       "      <td>2212</td>\n",
       "      <td>-274696</td>\n",
       "      <td>1293</td>\n",
       "      <td>5373720824</td>\n",
       "      <td>919</td>\n",
       "      <td>-5373995520</td>\n",
       "      <td>5373995520</td>\n",
       "    </tr>\n",
       "    <tr>\n",
       "      <th>22</th>\n",
       "      <td>2119</td>\n",
       "      <td>-7300157</td>\n",
       "      <td>1235</td>\n",
       "      <td>4978452013</td>\n",
       "      <td>884</td>\n",
       "      <td>-4985752170</td>\n",
       "      <td>4985752170</td>\n",
       "    </tr>\n",
       "    <tr>\n",
       "      <th>23</th>\n",
       "      <td>1373</td>\n",
       "      <td>11705392</td>\n",
       "      <td>842</td>\n",
       "      <td>3178734522</td>\n",
       "      <td>531</td>\n",
       "      <td>-3167029130</td>\n",
       "      <td>3167029130</td>\n",
       "    </tr>\n",
       "    <tr>\n",
       "      <th>24</th>\n",
       "      <td>915</td>\n",
       "      <td>1013740</td>\n",
       "      <td>581</td>\n",
       "      <td>1965575540</td>\n",
       "      <td>334</td>\n",
       "      <td>-1964561800</td>\n",
       "      <td>1964561800</td>\n",
       "    </tr>\n",
       "    <tr>\n",
       "      <th>25</th>\n",
       "      <td>689</td>\n",
       "      <td>570258</td>\n",
       "      <td>426</td>\n",
       "      <td>1612991345</td>\n",
       "      <td>263</td>\n",
       "      <td>-1612421087</td>\n",
       "      <td>1612421087</td>\n",
       "    </tr>\n",
       "    <tr>\n",
       "      <th>26</th>\n",
       "      <td>1148</td>\n",
       "      <td>-10570854</td>\n",
       "      <td>684</td>\n",
       "      <td>2736765547</td>\n",
       "      <td>464</td>\n",
       "      <td>-2747336401</td>\n",
       "      <td>2747336401</td>\n",
       "    </tr>\n",
       "    <tr>\n",
       "      <th>27</th>\n",
       "      <td>1058</td>\n",
       "      <td>-6746483</td>\n",
       "      <td>583</td>\n",
       "      <td>2866889083</td>\n",
       "      <td>475</td>\n",
       "      <td>-2873635566</td>\n",
       "      <td>2873635566</td>\n",
       "    </tr>\n",
       "    <tr>\n",
       "      <th>28</th>\n",
       "      <td>1077</td>\n",
       "      <td>21926406</td>\n",
       "      <td>633</td>\n",
       "      <td>2507614791</td>\n",
       "      <td>444</td>\n",
       "      <td>-2485688385</td>\n",
       "      <td>2485688385</td>\n",
       "    </tr>\n",
       "  </tbody>\n",
       "</table>\n",
       "</div>"
      ],
      "text/plain": [
       "               Date transaction  Date sell-buy  Date sell transaction  \\\n",
       "timestamp_day                                                           \n",
       "14                          931      -13986080                    587   \n",
       "15                         1487         734092                    867   \n",
       "16                         1208       17687643                    684   \n",
       "17                          688        1432140                    357   \n",
       "18                         1047      -12068675                    560   \n",
       "19                          892       13935899                    517   \n",
       "20                         1523        1998820                    908   \n",
       "21                         2212        -274696                   1293   \n",
       "22                         2119       -7300157                   1235   \n",
       "23                         1373       11705392                    842   \n",
       "24                          915        1013740                    581   \n",
       "25                          689         570258                    426   \n",
       "26                         1148      -10570854                    684   \n",
       "27                         1058       -6746483                    583   \n",
       "28                         1077       21926406                    633   \n",
       "\n",
       "                Date sell  Date buy transaction    Date buy  Date absolute buy  \n",
       "timestamp_day                                                                   \n",
       "14             1531487209                   344 -1545473289         1545473289  \n",
       "15             2529253711                   620 -2528519619         2528519619  \n",
       "16             2228838934                   524 -2211151291         2211151291  \n",
       "17             1374558420                   331 -1373126280         1373126280  \n",
       "18             2165526961                   487 -2177595636         2177595636  \n",
       "19             1759974379                   375 -1746038480         1746038480  \n",
       "20             3007532623                   615 -3005533803         3005533803  \n",
       "21             5373720824                   919 -5373995520         5373995520  \n",
       "22             4978452013                   884 -4985752170         4985752170  \n",
       "23             3178734522                   531 -3167029130         3167029130  \n",
       "24             1965575540                   334 -1964561800         1964561800  \n",
       "25             1612991345                   263 -1612421087         1612421087  \n",
       "26             2736765547                   464 -2747336401         2747336401  \n",
       "27             2866889083                   475 -2873635566         2873635566  \n",
       "28             2507614791                   444 -2485688385         2485688385  "
      ]
     },
     "execution_count": 32,
     "metadata": {},
     "output_type": "execute_result"
    }
   ],
   "source": [
    "\n",
    "# date 별 계산 table 생성\n",
    "dfs = [group_date_amount.size(), group_date_amount.sum(), group_date_amount_positive.size(), group_date_amount_positive.sum(), group_date_amount_negative.size(), group_date_amount_negative.sum(), absolute_date_negative_sum]\n",
    "day_df_date_final = reduce(lambda left,right: pd.merge(left,right,on='timestamp_day'), dfs)\n",
    "day_df_date_final.columns = [ \"Date transaction\", \"Date sell-buy\", \"Date sell transaction\", \"Date sell\", \"Date buy transaction\", \"Date buy\", \"Date absolute buy\"]\n",
    "day_df_date_final"
   ]
  },
  {
   "cell_type": "code",
   "execution_count": 33,
   "metadata": {},
   "outputs": [],
   "source": [
    "# table 저장하기\n",
    "day_df_date_final.to_csv(\"/Users/hamin/ITE3035_Python/Data_Science/table/date_result_table.csv\", header=True, index=True, encoding = 'utf-8')"
   ]
  },
  {
   "cell_type": "code",
   "execution_count": 37,
   "metadata": {},
   "outputs": [
    {
     "data": {
      "image/png": "[encoded data removed]",
      "text/plain": [
       "<Figure size 432x288 with 1 Axes>"
      ]
     },
     "metadata": {
      "needs_background": "light"
     },
     "output_type": "display_data"
    }
   ],
   "source": [
    "# Date - transaction 금액 그래프 그리기\n",
    "dayTransVolGraph = day_df_date_final[['Date sell', 'Date absolute buy']].plot(title='Transaction Volume per day 2018-02', marker='o')\n",
    "dayTransVolGraph.set_xlabel('Date')\n",
    "dayTransVolGraph.set_ylabel('Volume (1,000,000,000KRW)')\n",
    "plt.savefig('/Users/hamin/ITE3035_Python/Data_Science/graph/bithumb-2018-02-Trans_Vol_per_day.png', dpi=300)"
   ]
  },
  {
   "cell_type": "code",
   "execution_count": 38,
   "metadata": {},
   "outputs": [
    {
     "data": {
      "image/png": "[encoded data removed]",
      "text/plain": [
       "<Figure size 432x288 with 1 Axes>"
      ]
     },
     "metadata": {
      "needs_background": "light"
     },
     "output_type": "display_data"
    }
   ],
   "source": [
    "dayTransGraph = day_df_date_final[['Date sell', 'Date absolute buy']].plot.bar(title='Transaction Volume per day 2018-02', stacked=True)\n",
    "dayTransGraph.set_xlabel('Date')\n",
    "dayTransGraph.set_ylabel('Volume (1,000,000,000KRW)')\n",
    "plt.savefig('/Users/hamin/ITE3035_Python/Data_Science/graph/bithumb-2018-02-Trans_Vol_per_day(stacked).png', dpi=300)"
   ]
  },
  {
   "cell_type": "code",
   "execution_count": 39,
   "metadata": {},
   "outputs": [
    {
     "data": {
      "image/png": "[encoded data removed]",
      "text/plain": [
       "<Figure size 432x288 with 1 Axes>"
      ]
     },
     "metadata": {
      "needs_background": "light"
     },
     "output_type": "display_data"
    }
   ],
   "source": [
    "dayTransBarGraph = day_df_date_final[['Date sell', 'Date absolute buy']].plot.bar(title='Transaction Volume per day(Bar) 2018-02')\n",
    "dayTransBarGraph.set_xlabel('Date')\n",
    "dayTransBarGraph.set_ylabel('Volume (1,000,000,000KRW)')\n",
    "plt.savefig('/Users/hamin/ITE3035_Python/Data_Science/graph/bithumb-2018-02-Trans_Vol_per_day(bar).png', dpi=300)"
   ]
  },
  {
   "cell_type": "code",
   "execution_count": null,
   "metadata": {},
   "outputs": [],
   "source": []
  },
  {
   "cell_type": "code",
   "execution_count": null,
   "metadata": {},
   "outputs": [],
   "source": []
  },
  {
   "cell_type": "code",
   "execution_count": null,
   "metadata": {},
   "outputs": [],
   "source": []
  }
 ],
 "metadata": {
  "kernelspec": {
   "display_name": "Python 3",
   "language": "python",
   "name": "python3"
  },
  "language_info": {
   "codemirror_mode": {
    "name": "ipython",
    "version": 3
   },
   "file_extension": ".py",
   "mimetype": "text/x-python",
   "name": "python",
   "nbconvert_exporter": "python",
   "pygments_lexer": "ipython3",
   "version": "3.7.7"
  }
 },
 "nbformat": 4,
 "nbformat_minor": 4
}
