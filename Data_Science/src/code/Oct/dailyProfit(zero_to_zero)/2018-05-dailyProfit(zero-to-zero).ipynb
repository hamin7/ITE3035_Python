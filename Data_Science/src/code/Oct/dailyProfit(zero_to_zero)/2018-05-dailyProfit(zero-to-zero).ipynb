{
 "cells": [
  {
   "cell_type": "code",
   "execution_count": 1,
   "metadata": {},
   "outputs": [],
   "source": [
    "import pandas as pd\n",
    "import numpy as np\n",
    "from functools import reduce\n",
    "import matplotlib.pyplot as plt\n",
    "from pylab import figure, axes, pie, title, savefig"
   ]
  },
  {
   "cell_type": "code",
   "execution_count": 2,
   "metadata": {},
   "outputs": [],
   "source": [
    "df = pd.read_csv(\"/Users/hamin/ITE3035_Python/Data_Science/endingPrice/profit_point/bithumb-2018-05-btc-profit_point_graph_table.csv\")"
   ]
  },
  {
   "cell_type": "code",
   "execution_count": 3,
   "metadata": {},
   "outputs": [
    {
     "data": {
      "text/plain": [
       "Unnamed: 0               int64\n",
       "timestamp               object\n",
       "point_amount_cumsum    float64\n",
       "dtype: object"
      ]
     },
     "execution_count": 3,
     "metadata": {},
     "output_type": "execute_result"
    }
   ],
   "source": [
    "df.dtypes"
   ]
  },
  {
   "cell_type": "code",
   "execution_count": 4,
   "metadata": {},
   "outputs": [
    {
     "data": {
      "text/plain": [
       "Unnamed: 0                      int64\n",
       "timestamp              datetime64[ns]\n",
       "point_amount_cumsum           float64\n",
       "dtype: object"
      ]
     },
     "execution_count": 4,
     "metadata": {},
     "output_type": "execute_result"
    }
   ],
   "source": [
    "# converting timestamp column type 'object' to 'datetime'\n",
    "df['timestamp'] = pd.to_datetime(df['timestamp'], format = '%Y-%m-%d %H:%M:%S', errors='raise')\n",
    "df.dtypes"
   ]
  },
  {
   "cell_type": "code",
   "execution_count": 5,
   "metadata": {},
   "outputs": [],
   "source": [
    "## converting timestamp to detailed date column\n",
    "df['timestamp_year_month_day']       = df['timestamp'].dt.date         # YYYY-MM-DD(문자)\n",
    "df['timestamp_year']       = df['timestamp'].dt.year         # 연(4자리숫자)\n",
    "df['timestamp_month']      = df['timestamp'].dt.month        # 월(숫자)\n",
    "df['timestamp_month_name'] = df['timestamp'].dt.month_name() # 월(문자)\n",
    "df['timestamp_day']        = df['timestamp'].dt.day          # 일(숫자)\n",
    "df['timestamp_time']       = df['timestamp'].dt.time         # HH:MM:SS(문자)\n",
    "df['timestamp_hour']       = df['timestamp'].dt.hour         # 시(숫자)\n",
    "df['timestamp_minute']     = df['timestamp'].dt.minute       # 분(숫자)\n",
    "df['timestamp_second']     = df['timestamp'].dt.second       # 초(숫자)"
   ]
  },
  {
   "cell_type": "code",
   "execution_count": 6,
   "metadata": {},
   "outputs": [
    {
     "data": {
      "text/html": [
       "<div>\n",
       "<style scoped>\n",
       "    .dataframe tbody tr th:only-of-type {\n",
       "        vertical-align: middle;\n",
       "    }\n",
       "\n",
       "    .dataframe tbody tr th {\n",
       "        vertical-align: top;\n",
       "    }\n",
       "\n",
       "    .dataframe thead th {\n",
       "        text-align: right;\n",
       "    }\n",
       "</style>\n",
       "<table border=\"1\" class=\"dataframe\">\n",
       "  <thead>\n",
       "    <tr style=\"text-align: right;\">\n",
       "      <th></th>\n",
       "      <th>Unnamed: 0</th>\n",
       "      <th>timestamp</th>\n",
       "      <th>point_amount_cumsum</th>\n",
       "      <th>timestamp_year_month_day</th>\n",
       "      <th>timestamp_year</th>\n",
       "      <th>timestamp_month</th>\n",
       "      <th>timestamp_month_name</th>\n",
       "      <th>timestamp_day</th>\n",
       "      <th>timestamp_time</th>\n",
       "      <th>timestamp_hour</th>\n",
       "      <th>timestamp_minute</th>\n",
       "      <th>timestamp_second</th>\n",
       "    </tr>\n",
       "  </thead>\n",
       "  <tbody>\n",
       "    <tr>\n",
       "      <th>0</th>\n",
       "      <td>6</td>\n",
       "      <td>2018-05-01 01:08:09</td>\n",
       "      <td>-2818.0</td>\n",
       "      <td>2018-05-01</td>\n",
       "      <td>2018</td>\n",
       "      <td>5</td>\n",
       "      <td>May</td>\n",
       "      <td>1</td>\n",
       "      <td>01:08:09</td>\n",
       "      <td>1</td>\n",
       "      <td>8</td>\n",
       "      <td>9</td>\n",
       "    </tr>\n",
       "    <tr>\n",
       "      <th>1</th>\n",
       "      <td>30</td>\n",
       "      <td>2018-05-01 02:01:00</td>\n",
       "      <td>-5182.0</td>\n",
       "      <td>2018-05-01</td>\n",
       "      <td>2018</td>\n",
       "      <td>5</td>\n",
       "      <td>May</td>\n",
       "      <td>1</td>\n",
       "      <td>02:01:00</td>\n",
       "      <td>2</td>\n",
       "      <td>1</td>\n",
       "      <td>0</td>\n",
       "    </tr>\n",
       "    <tr>\n",
       "      <th>2</th>\n",
       "      <td>31</td>\n",
       "      <td>2018-05-01 02:28:32</td>\n",
       "      <td>-61140.0</td>\n",
       "      <td>2018-05-01</td>\n",
       "      <td>2018</td>\n",
       "      <td>5</td>\n",
       "      <td>May</td>\n",
       "      <td>1</td>\n",
       "      <td>02:28:32</td>\n",
       "      <td>2</td>\n",
       "      <td>28</td>\n",
       "      <td>32</td>\n",
       "    </tr>\n",
       "    <tr>\n",
       "      <th>3</th>\n",
       "      <td>32</td>\n",
       "      <td>2018-05-01 02:30:41</td>\n",
       "      <td>61098.0</td>\n",
       "      <td>2018-05-01</td>\n",
       "      <td>2018</td>\n",
       "      <td>5</td>\n",
       "      <td>May</td>\n",
       "      <td>1</td>\n",
       "      <td>02:30:41</td>\n",
       "      <td>2</td>\n",
       "      <td>30</td>\n",
       "      <td>41</td>\n",
       "    </tr>\n",
       "    <tr>\n",
       "      <th>4</th>\n",
       "      <td>37</td>\n",
       "      <td>2018-05-01 03:28:58</td>\n",
       "      <td>5065.0</td>\n",
       "      <td>2018-05-01</td>\n",
       "      <td>2018</td>\n",
       "      <td>5</td>\n",
       "      <td>May</td>\n",
       "      <td>1</td>\n",
       "      <td>03:28:58</td>\n",
       "      <td>3</td>\n",
       "      <td>28</td>\n",
       "      <td>58</td>\n",
       "    </tr>\n",
       "    <tr>\n",
       "      <th>...</th>\n",
       "      <td>...</td>\n",
       "      <td>...</td>\n",
       "      <td>...</td>\n",
       "      <td>...</td>\n",
       "      <td>...</td>\n",
       "      <td>...</td>\n",
       "      <td>...</td>\n",
       "      <td>...</td>\n",
       "      <td>...</td>\n",
       "      <td>...</td>\n",
       "      <td>...</td>\n",
       "      <td>...</td>\n",
       "    </tr>\n",
       "    <tr>\n",
       "      <th>1752</th>\n",
       "      <td>23091</td>\n",
       "      <td>2018-05-31 10:43:17</td>\n",
       "      <td>-61942.0</td>\n",
       "      <td>2018-05-31</td>\n",
       "      <td>2018</td>\n",
       "      <td>5</td>\n",
       "      <td>May</td>\n",
       "      <td>31</td>\n",
       "      <td>10:43:17</td>\n",
       "      <td>10</td>\n",
       "      <td>43</td>\n",
       "      <td>17</td>\n",
       "    </tr>\n",
       "    <tr>\n",
       "      <th>1753</th>\n",
       "      <td>23096</td>\n",
       "      <td>2018-05-31 10:49:36</td>\n",
       "      <td>-125545.0</td>\n",
       "      <td>2018-05-31</td>\n",
       "      <td>2018</td>\n",
       "      <td>5</td>\n",
       "      <td>May</td>\n",
       "      <td>31</td>\n",
       "      <td>10:49:36</td>\n",
       "      <td>10</td>\n",
       "      <td>49</td>\n",
       "      <td>36</td>\n",
       "    </tr>\n",
       "    <tr>\n",
       "      <th>1754</th>\n",
       "      <td>23097</td>\n",
       "      <td>2018-05-31 10:49:37</td>\n",
       "      <td>32540.0</td>\n",
       "      <td>2018-05-31</td>\n",
       "      <td>2018</td>\n",
       "      <td>5</td>\n",
       "      <td>May</td>\n",
       "      <td>31</td>\n",
       "      <td>10:49:37</td>\n",
       "      <td>10</td>\n",
       "      <td>49</td>\n",
       "      <td>37</td>\n",
       "    </tr>\n",
       "    <tr>\n",
       "      <th>1755</th>\n",
       "      <td>23190</td>\n",
       "      <td>2018-05-31 15:49:49</td>\n",
       "      <td>240810.0</td>\n",
       "      <td>2018-05-31</td>\n",
       "      <td>2018</td>\n",
       "      <td>5</td>\n",
       "      <td>May</td>\n",
       "      <td>31</td>\n",
       "      <td>15:49:49</td>\n",
       "      <td>15</td>\n",
       "      <td>49</td>\n",
       "      <td>49</td>\n",
       "    </tr>\n",
       "    <tr>\n",
       "      <th>1756</th>\n",
       "      <td>23294</td>\n",
       "      <td>2019-05-15 00:02:11</td>\n",
       "      <td>86556.0</td>\n",
       "      <td>2019-05-15</td>\n",
       "      <td>2019</td>\n",
       "      <td>5</td>\n",
       "      <td>May</td>\n",
       "      <td>15</td>\n",
       "      <td>00:02:11</td>\n",
       "      <td>0</td>\n",
       "      <td>2</td>\n",
       "      <td>11</td>\n",
       "    </tr>\n",
       "  </tbody>\n",
       "</table>\n",
       "<p>1757 rows × 12 columns</p>\n",
       "</div>"
      ],
      "text/plain": [
       "      Unnamed: 0           timestamp  point_amount_cumsum  \\\n",
       "0              6 2018-05-01 01:08:09              -2818.0   \n",
       "1             30 2018-05-01 02:01:00              -5182.0   \n",
       "2             31 2018-05-01 02:28:32             -61140.0   \n",
       "3             32 2018-05-01 02:30:41              61098.0   \n",
       "4             37 2018-05-01 03:28:58               5065.0   \n",
       "...          ...                 ...                  ...   \n",
       "1752       23091 2018-05-31 10:43:17             -61942.0   \n",
       "1753       23096 2018-05-31 10:49:36            -125545.0   \n",
       "1754       23097 2018-05-31 10:49:37              32540.0   \n",
       "1755       23190 2018-05-31 15:49:49             240810.0   \n",
       "1756       23294 2019-05-15 00:02:11              86556.0   \n",
       "\n",
       "     timestamp_year_month_day  timestamp_year  timestamp_month  \\\n",
       "0                  2018-05-01            2018                5   \n",
       "1                  2018-05-01            2018                5   \n",
       "2                  2018-05-01            2018                5   \n",
       "3                  2018-05-01            2018                5   \n",
       "4                  2018-05-01            2018                5   \n",
       "...                       ...             ...              ...   \n",
       "1752               2018-05-31            2018                5   \n",
       "1753               2018-05-31            2018                5   \n",
       "1754               2018-05-31            2018                5   \n",
       "1755               2018-05-31            2018                5   \n",
       "1756               2019-05-15            2019                5   \n",
       "\n",
       "     timestamp_month_name  timestamp_day timestamp_time  timestamp_hour  \\\n",
       "0                     May              1       01:08:09               1   \n",
       "1                     May              1       02:01:00               2   \n",
       "2                     May              1       02:28:32               2   \n",
       "3                     May              1       02:30:41               2   \n",
       "4                     May              1       03:28:58               3   \n",
       "...                   ...            ...            ...             ...   \n",
       "1752                  May             31       10:43:17              10   \n",
       "1753                  May             31       10:49:36              10   \n",
       "1754                  May             31       10:49:37              10   \n",
       "1755                  May             31       15:49:49              15   \n",
       "1756                  May             15       00:02:11               0   \n",
       "\n",
       "      timestamp_minute  timestamp_second  \n",
       "0                    8                 9  \n",
       "1                    1                 0  \n",
       "2                   28                32  \n",
       "3                   30                41  \n",
       "4                   28                58  \n",
       "...                ...               ...  \n",
       "1752                43                17  \n",
       "1753                49                36  \n",
       "1754                49                37  \n",
       "1755                49                49  \n",
       "1756                 2                11  \n",
       "\n",
       "[1757 rows x 12 columns]"
      ]
     },
     "execution_count": 6,
     "metadata": {},
     "output_type": "execute_result"
    }
   ],
   "source": [
    "df"
   ]
  },
  {
   "cell_type": "code",
   "execution_count": 7,
   "metadata": {},
   "outputs": [],
   "source": [
    "## creating 'day - amount' connection\n",
    "group_day_amount = df['point_amount_cumsum'].groupby(df['timestamp_year_month_day'])"
   ]
  },
  {
   "cell_type": "code",
   "execution_count": 8,
   "metadata": {},
   "outputs": [
    {
     "data": {
      "text/plain": [
       "timestamp_year_month_day\n",
       "2018-05-01     -56296.0\n",
       "2018-05-02     166577.0\n",
       "2018-05-03     521401.0\n",
       "2018-05-04     545803.0\n",
       "2018-05-05     340552.0\n",
       "2018-05-06     237461.0\n",
       "2018-05-07    1125971.0\n",
       "2018-05-08     450854.0\n",
       "2018-05-09     903271.0\n",
       "2018-05-10     509872.0\n",
       "2018-05-11     -16761.0\n",
       "2018-05-12     716218.0\n",
       "2018-05-13     506235.0\n",
       "2018-05-14     748015.0\n",
       "2018-05-15     218284.0\n",
       "2018-05-16    -225233.0\n",
       "2018-05-17     663890.0\n",
       "2018-05-18     910767.0\n",
       "2018-05-19     786656.0\n",
       "2018-05-20     409514.0\n",
       "2018-05-21    1217040.0\n",
       "2018-05-22    -169971.0\n",
       "2018-05-23      36236.0\n",
       "2018-05-24    -152422.0\n",
       "2018-05-25     -40057.0\n",
       "2018-05-26     658904.0\n",
       "2018-05-27    -156084.0\n",
       "2018-05-28      99518.0\n",
       "2018-05-29     153586.0\n",
       "2018-05-30     606352.0\n",
       "2018-05-31     196597.0\n",
       "2019-05-15      86556.0\n",
       "Name: point_amount_cumsum, dtype: float64"
      ]
     },
     "execution_count": 8,
     "metadata": {},
     "output_type": "execute_result"
    }
   ],
   "source": [
    "## 일별 총 손익량\n",
    "group_day_amount.sum()"
   ]
  },
  {
   "cell_type": "code",
   "execution_count": 9,
   "metadata": {},
   "outputs": [
    {
     "data": {
      "text/plain": [
       "[timestamp_year_month_day\n",
       " 2018-05-01     -56296.0\n",
       " 2018-05-02     166577.0\n",
       " 2018-05-03     521401.0\n",
       " 2018-05-04     545803.0\n",
       " 2018-05-05     340552.0\n",
       " 2018-05-06     237461.0\n",
       " 2018-05-07    1125971.0\n",
       " 2018-05-08     450854.0\n",
       " 2018-05-09     903271.0\n",
       " 2018-05-10     509872.0\n",
       " 2018-05-11     -16761.0\n",
       " 2018-05-12     716218.0\n",
       " 2018-05-13     506235.0\n",
       " 2018-05-14     748015.0\n",
       " 2018-05-15     218284.0\n",
       " 2018-05-16    -225233.0\n",
       " 2018-05-17     663890.0\n",
       " 2018-05-18     910767.0\n",
       " 2018-05-19     786656.0\n",
       " 2018-05-20     409514.0\n",
       " 2018-05-21    1217040.0\n",
       " 2018-05-22    -169971.0\n",
       " 2018-05-23      36236.0\n",
       " 2018-05-24    -152422.0\n",
       " 2018-05-25     -40057.0\n",
       " 2018-05-26     658904.0\n",
       " 2018-05-27    -156084.0\n",
       " 2018-05-28      99518.0\n",
       " 2018-05-29     153586.0\n",
       " 2018-05-30     606352.0\n",
       " 2018-05-31     196597.0\n",
       " 2019-05-15      86556.0\n",
       " Name: point_amount_cumsum, dtype: float64]"
      ]
     },
     "execution_count": 9,
     "metadata": {},
     "output_type": "execute_result"
    }
   ],
   "source": [
    "## 일별 계산 table 생성\n",
    "dfs = [group_day_amount.sum()]\n",
    "dfs"
   ]
  },
  {
   "cell_type": "code",
   "execution_count": 10,
   "metadata": {},
   "outputs": [
    {
     "data": {
      "text/plain": [
       "timestamp_year_month_day\n",
       "2018-05-01     -56296.0\n",
       "2018-05-02     166577.0\n",
       "2018-05-03     521401.0\n",
       "2018-05-04     545803.0\n",
       "2018-05-05     340552.0\n",
       "2018-05-06     237461.0\n",
       "2018-05-07    1125971.0\n",
       "2018-05-08     450854.0\n",
       "2018-05-09     903271.0\n",
       "2018-05-10     509872.0\n",
       "2018-05-11     -16761.0\n",
       "2018-05-12     716218.0\n",
       "2018-05-13     506235.0\n",
       "2018-05-14     748015.0\n",
       "2018-05-15     218284.0\n",
       "2018-05-16    -225233.0\n",
       "2018-05-17     663890.0\n",
       "2018-05-18     910767.0\n",
       "2018-05-19     786656.0\n",
       "2018-05-20     409514.0\n",
       "2018-05-21    1217040.0\n",
       "2018-05-22    -169971.0\n",
       "2018-05-23      36236.0\n",
       "2018-05-24    -152422.0\n",
       "2018-05-25     -40057.0\n",
       "2018-05-26     658904.0\n",
       "2018-05-27    -156084.0\n",
       "2018-05-28      99518.0\n",
       "2018-05-29     153586.0\n",
       "2018-05-30     606352.0\n",
       "2018-05-31     196597.0\n",
       "2019-05-15      86556.0\n",
       "Name: point_amount_cumsum, dtype: float64"
      ]
     },
     "execution_count": 10,
     "metadata": {},
     "output_type": "execute_result"
    }
   ],
   "source": [
    "day_df_final = reduce(lambda left,right: pd.merge(left,right,on='timestamp_year_month_day'), dfs)\n",
    "day_df_final.columns = [ \"daily profit\"]\n",
    "day_df_final"
   ]
  },
  {
   "cell_type": "code",
   "execution_count": 11,
   "metadata": {},
   "outputs": [
    {
     "name": "stdout",
     "output_type": "stream",
     "text": [
      "timestamp_year_month_day\n",
      "2018-05-01    -56296.0\n",
      "2018-05-02    166577.0\n",
      "2018-05-03    521401.0\n",
      "2018-05-04    545803.0\n",
      "2018-05-05    340552.0\n",
      "                ...   \n",
      "2019-05-11         NaN\n",
      "2019-05-12         NaN\n",
      "2019-05-13         NaN\n",
      "2019-05-14         NaN\n",
      "2019-05-15     86556.0\n",
      "Freq: D, Name: point_amount_cumsum, Length: 380, dtype: float64\n"
     ]
    }
   ],
   "source": [
    "print(day_df_final.asfreq('D'))"
   ]
  },
  {
   "cell_type": "code",
   "execution_count": 12,
   "metadata": {},
   "outputs": [],
   "source": [
    "day_df_final.index = pd.DatetimeIndex(day_df_final.index)"
   ]
  },
  {
   "cell_type": "code",
   "execution_count": 13,
   "metadata": {},
   "outputs": [
    {
     "name": "stdout",
     "output_type": "stream",
     "text": [
      "DatetimeIndex(['2018-01-01', '2018-01-02', '2018-01-03', '2018-01-04',\n",
      "               '2018-01-05', '2018-01-06', '2018-01-07', '2018-01-08',\n",
      "               '2018-01-09', '2018-01-10', '2018-01-11', '2018-01-12',\n",
      "               '2018-01-13', '2018-01-14', '2018-01-15', '2018-01-16',\n",
      "               '2018-01-17', '2018-01-18', '2018-01-19', '2018-01-20',\n",
      "               '2018-01-21', '2018-01-22', '2018-01-23', '2018-01-24',\n",
      "               '2018-01-25', '2018-01-26', '2018-01-27', '2018-01-28',\n",
      "               '2018-01-29', '2018-01-30', '2018-01-31'],\n",
      "              dtype='datetime64[ns]', freq='D')\n"
     ]
    }
   ],
   "source": [
    "year=2018\n",
    "i = 1\n",
    "idx = pd.date_range(start = \"{}-{}-1\".format(year, i), periods = pd.Period(\"{}-{}-1\".format(year, i)).days_in_month)\n",
    "print(idx)"
   ]
  },
  {
   "cell_type": "code",
   "execution_count": 14,
   "metadata": {},
   "outputs": [],
   "source": [
    "day_df_final.to_csv(\"/Users/hamin/ITE3035_Python/Data_Science/endingPrice/dailyProfit/dailyProfit05(zero_to_zero).csv\", header=True, index=True, encoding = 'utf-8')"
   ]
  },
  {
   "cell_type": "code",
   "execution_count": null,
   "metadata": {},
   "outputs": [],
   "source": []
  },
  {
   "cell_type": "code",
   "execution_count": null,
   "metadata": {},
   "outputs": [],
   "source": []
  },
  {
   "cell_type": "code",
   "execution_count": null,
   "metadata": {},
   "outputs": [],
   "source": []
  },
  {
   "cell_type": "code",
   "execution_count": null,
   "metadata": {},
   "outputs": [],
   "source": []
  },
  {
   "cell_type": "code",
   "execution_count": null,
   "metadata": {},
   "outputs": [],
   "source": []
  },
  {
   "cell_type": "code",
   "execution_count": null,
   "metadata": {},
   "outputs": [],
   "source": []
  },
  {
   "cell_type": "code",
   "execution_count": null,
   "metadata": {},
   "outputs": [],
   "source": []
  },
  {
   "cell_type": "code",
   "execution_count": null,
   "metadata": {},
   "outputs": [],
   "source": []
  },
  {
   "cell_type": "code",
   "execution_count": 42,
   "metadata": {},
   "outputs": [],
   "source": []
  },
  {
   "cell_type": "code",
   "execution_count": null,
   "metadata": {},
   "outputs": [],
   "source": []
  },
  {
   "cell_type": "code",
   "execution_count": null,
   "metadata": {},
   "outputs": [],
   "source": []
  }
 ],
 "metadata": {
  "kernelspec": {
   "display_name": "Python 3.6.1 64-bit ('py36': conda)",
   "language": "python",
   "name": "python36164bitpy36condaf671229c5204498c818fa54442373f5a"
  },
  "language_info": {
   "codemirror_mode": {
    "name": "ipython",
    "version": 3
   },
   "file_extension": ".py",
   "mimetype": "text/x-python",
   "name": "python",
   "nbconvert_exporter": "python",
   "pygments_lexer": "ipython3",
   "version": "3.6.1"
  }
 },
 "nbformat": 4,
 "nbformat_minor": 4
}
