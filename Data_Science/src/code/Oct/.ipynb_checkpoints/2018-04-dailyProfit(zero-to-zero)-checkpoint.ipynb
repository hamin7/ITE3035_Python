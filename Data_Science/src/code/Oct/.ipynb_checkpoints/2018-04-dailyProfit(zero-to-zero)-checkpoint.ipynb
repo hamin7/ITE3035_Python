{
 "cells": [
  {
   "cell_type": "code",
   "execution_count": 1,
   "metadata": {},
   "outputs": [],
   "source": [
    "import pandas as pd\n",
    "import numpy as np\n",
    "from functools import reduce\n",
    "import matplotlib.pyplot as plt\n",
    "from pylab import figure, axes, pie, title, savefig"
   ]
  },
  {
   "cell_type": "code",
   "execution_count": 2,
   "metadata": {},
   "outputs": [],
   "source": [
    "df = pd.read_csv(\"/Users/hamin/ITE3035_Python/Data_Science/endingPrice/profit_point/bithumb-2018-04-btc-profit_point_graph_table.csv\")"
   ]
  },
  {
   "cell_type": "code",
   "execution_count": 3,
   "metadata": {},
   "outputs": [
    {
     "data": {
      "text/plain": [
       "Unnamed: 0               int64\n",
       "timestamp               object\n",
       "point_amount_cumsum    float64\n",
       "dtype: object"
      ]
     },
     "execution_count": 3,
     "metadata": {},
     "output_type": "execute_result"
    }
   ],
   "source": [
    "df.dtypes"
   ]
  },
  {
   "cell_type": "code",
   "execution_count": 4,
   "metadata": {},
   "outputs": [
    {
     "data": {
      "text/plain": [
       "Unnamed: 0                      int64\n",
       "timestamp              datetime64[ns]\n",
       "point_amount_cumsum           float64\n",
       "dtype: object"
      ]
     },
     "execution_count": 4,
     "metadata": {},
     "output_type": "execute_result"
    }
   ],
   "source": [
    "# converting timestamp column type 'object' to 'datetime'\n",
    "df['timestamp'] = pd.to_datetime(df['timestamp'], format = '%Y-%m-%d %H:%M:%S', errors='raise')\n",
    "df.dtypes"
   ]
  },
  {
   "cell_type": "code",
   "execution_count": 5,
   "metadata": {},
   "outputs": [],
   "source": [
    "## converting timestamp to detailed date column\n",
    "df['timestamp_year_month_day']       = df['timestamp'].dt.date         # YYYY-MM-DD(문자)\n",
    "df['timestamp_year']       = df['timestamp'].dt.year         # 연(4자리숫자)\n",
    "df['timestamp_month']      = df['timestamp'].dt.month        # 월(숫자)\n",
    "df['timestamp_month_name'] = df['timestamp'].dt.month_name() # 월(문자)\n",
    "df['timestamp_day']        = df['timestamp'].dt.day          # 일(숫자)\n",
    "df['timestamp_time']       = df['timestamp'].dt.time         # HH:MM:SS(문자)\n",
    "df['timestamp_hour']       = df['timestamp'].dt.hour         # 시(숫자)\n",
    "df['timestamp_minute']     = df['timestamp'].dt.minute       # 분(숫자)\n",
    "df['timestamp_second']     = df['timestamp'].dt.second       # 초(숫자)"
   ]
  },
  {
   "cell_type": "code",
   "execution_count": 6,
   "metadata": {},
   "outputs": [
    {
     "data": {
      "text/html": [
       "<div>\n",
       "<style scoped>\n",
       "    .dataframe tbody tr th:only-of-type {\n",
       "        vertical-align: middle;\n",
       "    }\n",
       "\n",
       "    .dataframe tbody tr th {\n",
       "        vertical-align: top;\n",
       "    }\n",
       "\n",
       "    .dataframe thead th {\n",
       "        text-align: right;\n",
       "    }\n",
       "</style>\n",
       "<table border=\"1\" class=\"dataframe\">\n",
       "  <thead>\n",
       "    <tr style=\"text-align: right;\">\n",
       "      <th></th>\n",
       "      <th>Unnamed: 0</th>\n",
       "      <th>timestamp</th>\n",
       "      <th>point_amount_cumsum</th>\n",
       "      <th>timestamp_year_month_day</th>\n",
       "      <th>timestamp_year</th>\n",
       "      <th>timestamp_month</th>\n",
       "      <th>timestamp_month_name</th>\n",
       "      <th>timestamp_day</th>\n",
       "      <th>timestamp_time</th>\n",
       "      <th>timestamp_hour</th>\n",
       "      <th>timestamp_minute</th>\n",
       "      <th>timestamp_second</th>\n",
       "    </tr>\n",
       "  </thead>\n",
       "  <tbody>\n",
       "    <tr>\n",
       "      <th>0</th>\n",
       "      <td>23</td>\n",
       "      <td>2018-04-01 00:24:41</td>\n",
       "      <td>-38857.0</td>\n",
       "      <td>2018-04-01</td>\n",
       "      <td>2018</td>\n",
       "      <td>4</td>\n",
       "      <td>April</td>\n",
       "      <td>1</td>\n",
       "      <td>00:24:41</td>\n",
       "      <td>0</td>\n",
       "      <td>24</td>\n",
       "      <td>41</td>\n",
       "    </tr>\n",
       "    <tr>\n",
       "      <th>1</th>\n",
       "      <td>44</td>\n",
       "      <td>2018-04-01 00:46:09</td>\n",
       "      <td>147382.0</td>\n",
       "      <td>2018-04-01</td>\n",
       "      <td>2018</td>\n",
       "      <td>4</td>\n",
       "      <td>April</td>\n",
       "      <td>1</td>\n",
       "      <td>00:46:09</td>\n",
       "      <td>0</td>\n",
       "      <td>46</td>\n",
       "      <td>9</td>\n",
       "    </tr>\n",
       "    <tr>\n",
       "      <th>2</th>\n",
       "      <td>53</td>\n",
       "      <td>2018-04-01 00:59:44</td>\n",
       "      <td>16366.0</td>\n",
       "      <td>2018-04-01</td>\n",
       "      <td>2018</td>\n",
       "      <td>4</td>\n",
       "      <td>April</td>\n",
       "      <td>1</td>\n",
       "      <td>00:59:44</td>\n",
       "      <td>0</td>\n",
       "      <td>59</td>\n",
       "      <td>44</td>\n",
       "    </tr>\n",
       "    <tr>\n",
       "      <th>3</th>\n",
       "      <td>54</td>\n",
       "      <td>2018-04-01 00:59:51</td>\n",
       "      <td>-35682.0</td>\n",
       "      <td>2018-04-01</td>\n",
       "      <td>2018</td>\n",
       "      <td>4</td>\n",
       "      <td>April</td>\n",
       "      <td>1</td>\n",
       "      <td>00:59:51</td>\n",
       "      <td>0</td>\n",
       "      <td>59</td>\n",
       "      <td>51</td>\n",
       "    </tr>\n",
       "    <tr>\n",
       "      <th>4</th>\n",
       "      <td>156</td>\n",
       "      <td>2018-04-01 07:53:19</td>\n",
       "      <td>-5367.0</td>\n",
       "      <td>2018-04-01</td>\n",
       "      <td>2018</td>\n",
       "      <td>4</td>\n",
       "      <td>April</td>\n",
       "      <td>1</td>\n",
       "      <td>07:53:19</td>\n",
       "      <td>7</td>\n",
       "      <td>53</td>\n",
       "      <td>19</td>\n",
       "    </tr>\n",
       "    <tr>\n",
       "      <th>...</th>\n",
       "      <td>...</td>\n",
       "      <td>...</td>\n",
       "      <td>...</td>\n",
       "      <td>...</td>\n",
       "      <td>...</td>\n",
       "      <td>...</td>\n",
       "      <td>...</td>\n",
       "      <td>...</td>\n",
       "      <td>...</td>\n",
       "      <td>...</td>\n",
       "      <td>...</td>\n",
       "      <td>...</td>\n",
       "    </tr>\n",
       "    <tr>\n",
       "      <th>261</th>\n",
       "      <td>27168</td>\n",
       "      <td>2018-04-30 00:52:05</td>\n",
       "      <td>-66841.0</td>\n",
       "      <td>2018-04-30</td>\n",
       "      <td>2018</td>\n",
       "      <td>4</td>\n",
       "      <td>April</td>\n",
       "      <td>30</td>\n",
       "      <td>00:52:05</td>\n",
       "      <td>0</td>\n",
       "      <td>52</td>\n",
       "      <td>5</td>\n",
       "    </tr>\n",
       "    <tr>\n",
       "      <th>262</th>\n",
       "      <td>27367</td>\n",
       "      <td>2018-04-30 12:19:34</td>\n",
       "      <td>-184171.0</td>\n",
       "      <td>2018-04-30</td>\n",
       "      <td>2018</td>\n",
       "      <td>4</td>\n",
       "      <td>April</td>\n",
       "      <td>30</td>\n",
       "      <td>12:19:34</td>\n",
       "      <td>12</td>\n",
       "      <td>19</td>\n",
       "      <td>34</td>\n",
       "    </tr>\n",
       "    <tr>\n",
       "      <th>263</th>\n",
       "      <td>27542</td>\n",
       "      <td>2018-04-30 16:43:32</td>\n",
       "      <td>28835.0</td>\n",
       "      <td>2018-04-30</td>\n",
       "      <td>2018</td>\n",
       "      <td>4</td>\n",
       "      <td>April</td>\n",
       "      <td>30</td>\n",
       "      <td>16:43:32</td>\n",
       "      <td>16</td>\n",
       "      <td>43</td>\n",
       "      <td>32</td>\n",
       "    </tr>\n",
       "    <tr>\n",
       "      <th>264</th>\n",
       "      <td>27543</td>\n",
       "      <td>2018-04-30 16:43:42</td>\n",
       "      <td>-26159.0</td>\n",
       "      <td>2018-04-30</td>\n",
       "      <td>2018</td>\n",
       "      <td>4</td>\n",
       "      <td>April</td>\n",
       "      <td>30</td>\n",
       "      <td>16:43:42</td>\n",
       "      <td>16</td>\n",
       "      <td>43</td>\n",
       "      <td>42</td>\n",
       "    </tr>\n",
       "    <tr>\n",
       "      <th>265</th>\n",
       "      <td>27623</td>\n",
       "      <td>2018-04-30 18:17:44</td>\n",
       "      <td>-89836.0</td>\n",
       "      <td>2018-04-30</td>\n",
       "      <td>2018</td>\n",
       "      <td>4</td>\n",
       "      <td>April</td>\n",
       "      <td>30</td>\n",
       "      <td>18:17:44</td>\n",
       "      <td>18</td>\n",
       "      <td>17</td>\n",
       "      <td>44</td>\n",
       "    </tr>\n",
       "  </tbody>\n",
       "</table>\n",
       "<p>266 rows × 12 columns</p>\n",
       "</div>"
      ],
      "text/plain": [
       "     Unnamed: 0           timestamp  point_amount_cumsum  \\\n",
       "0            23 2018-04-01 00:24:41             -38857.0   \n",
       "1            44 2018-04-01 00:46:09             147382.0   \n",
       "2            53 2018-04-01 00:59:44              16366.0   \n",
       "3            54 2018-04-01 00:59:51             -35682.0   \n",
       "4           156 2018-04-01 07:53:19              -5367.0   \n",
       "..          ...                 ...                  ...   \n",
       "261       27168 2018-04-30 00:52:05             -66841.0   \n",
       "262       27367 2018-04-30 12:19:34            -184171.0   \n",
       "263       27542 2018-04-30 16:43:32              28835.0   \n",
       "264       27543 2018-04-30 16:43:42             -26159.0   \n",
       "265       27623 2018-04-30 18:17:44             -89836.0   \n",
       "\n",
       "    timestamp_year_month_day  timestamp_year  timestamp_month  \\\n",
       "0                 2018-04-01            2018                4   \n",
       "1                 2018-04-01            2018                4   \n",
       "2                 2018-04-01            2018                4   \n",
       "3                 2018-04-01            2018                4   \n",
       "4                 2018-04-01            2018                4   \n",
       "..                       ...             ...              ...   \n",
       "261               2018-04-30            2018                4   \n",
       "262               2018-04-30            2018                4   \n",
       "263               2018-04-30            2018                4   \n",
       "264               2018-04-30            2018                4   \n",
       "265               2018-04-30            2018                4   \n",
       "\n",
       "    timestamp_month_name  timestamp_day timestamp_time  timestamp_hour  \\\n",
       "0                  April              1       00:24:41               0   \n",
       "1                  April              1       00:46:09               0   \n",
       "2                  April              1       00:59:44               0   \n",
       "3                  April              1       00:59:51               0   \n",
       "4                  April              1       07:53:19               7   \n",
       "..                   ...            ...            ...             ...   \n",
       "261                April             30       00:52:05               0   \n",
       "262                April             30       12:19:34              12   \n",
       "263                April             30       16:43:32              16   \n",
       "264                April             30       16:43:42              16   \n",
       "265                April             30       18:17:44              18   \n",
       "\n",
       "     timestamp_minute  timestamp_second  \n",
       "0                  24                41  \n",
       "1                  46                 9  \n",
       "2                  59                44  \n",
       "3                  59                51  \n",
       "4                  53                19  \n",
       "..                ...               ...  \n",
       "261                52                 5  \n",
       "262                19                34  \n",
       "263                43                32  \n",
       "264                43                42  \n",
       "265                17                44  \n",
       "\n",
       "[266 rows x 12 columns]"
      ]
     },
     "execution_count": 6,
     "metadata": {},
     "output_type": "execute_result"
    }
   ],
   "source": [
    "df"
   ]
  },
  {
   "cell_type": "code",
   "execution_count": 7,
   "metadata": {},
   "outputs": [],
   "source": [
    "## creating 'day - amount' connection\n",
    "group_day_amount = df['point_amount_cumsum'].groupby(df['timestamp_year_month_day'])"
   ]
  },
  {
   "cell_type": "code",
   "execution_count": 8,
   "metadata": {},
   "outputs": [
    {
     "data": {
      "text/plain": [
       "timestamp_year_month_day\n",
       "2018-04-01      83842.0\n",
       "2018-04-02    1295437.0\n",
       "2018-04-03    1246040.0\n",
       "2018-04-04     914424.0\n",
       "2018-04-05    1406985.0\n",
       "2018-04-06     701784.0\n",
       "2018-04-07     876096.0\n",
       "2018-04-08     370738.0\n",
       "2018-04-09    -106319.0\n",
       "2018-04-10     424393.0\n",
       "2018-04-11     194524.0\n",
       "2018-04-12    1282502.0\n",
       "2018-04-13     741251.0\n",
       "2018-04-14     488367.0\n",
       "2018-04-15    1127753.0\n",
       "2018-04-16     866373.0\n",
       "2018-04-17     743528.0\n",
       "2018-04-18     387831.0\n",
       "2018-04-19     161988.0\n",
       "2018-04-20    2625019.0\n",
       "2018-04-21    1977607.0\n",
       "2018-04-22     397215.0\n",
       "2018-04-23     704834.0\n",
       "2018-04-24     820814.0\n",
       "2018-04-25    2579290.0\n",
       "2018-04-26     965159.0\n",
       "2018-04-27     402395.0\n",
       "2018-04-28     152471.0\n",
       "2018-04-29     473279.0\n",
       "2018-04-30    -338172.0\n",
       "Name: point_amount_cumsum, dtype: float64"
      ]
     },
     "execution_count": 8,
     "metadata": {},
     "output_type": "execute_result"
    }
   ],
   "source": [
    "## 일별 총 손익량\n",
    "group_day_amount.sum()"
   ]
  },
  {
   "cell_type": "code",
   "execution_count": 9,
   "metadata": {},
   "outputs": [
    {
     "data": {
      "text/plain": [
       "[timestamp_year_month_day\n",
       " 2018-04-01      83842.0\n",
       " 2018-04-02    1295437.0\n",
       " 2018-04-03    1246040.0\n",
       " 2018-04-04     914424.0\n",
       " 2018-04-05    1406985.0\n",
       " 2018-04-06     701784.0\n",
       " 2018-04-07     876096.0\n",
       " 2018-04-08     370738.0\n",
       " 2018-04-09    -106319.0\n",
       " 2018-04-10     424393.0\n",
       " 2018-04-11     194524.0\n",
       " 2018-04-12    1282502.0\n",
       " 2018-04-13     741251.0\n",
       " 2018-04-14     488367.0\n",
       " 2018-04-15    1127753.0\n",
       " 2018-04-16     866373.0\n",
       " 2018-04-17     743528.0\n",
       " 2018-04-18     387831.0\n",
       " 2018-04-19     161988.0\n",
       " 2018-04-20    2625019.0\n",
       " 2018-04-21    1977607.0\n",
       " 2018-04-22     397215.0\n",
       " 2018-04-23     704834.0\n",
       " 2018-04-24     820814.0\n",
       " 2018-04-25    2579290.0\n",
       " 2018-04-26     965159.0\n",
       " 2018-04-27     402395.0\n",
       " 2018-04-28     152471.0\n",
       " 2018-04-29     473279.0\n",
       " 2018-04-30    -338172.0\n",
       " Name: point_amount_cumsum, dtype: float64]"
      ]
     },
     "execution_count": 9,
     "metadata": {},
     "output_type": "execute_result"
    }
   ],
   "source": [
    "## 일별 계산 table 생성\n",
    "dfs = [group_day_amount.sum()]\n",
    "dfs"
   ]
  },
  {
   "cell_type": "code",
   "execution_count": 10,
   "metadata": {},
   "outputs": [
    {
     "data": {
      "text/plain": [
       "timestamp_year_month_day\n",
       "2018-04-01      83842.0\n",
       "2018-04-02    1295437.0\n",
       "2018-04-03    1246040.0\n",
       "2018-04-04     914424.0\n",
       "2018-04-05    1406985.0\n",
       "2018-04-06     701784.0\n",
       "2018-04-07     876096.0\n",
       "2018-04-08     370738.0\n",
       "2018-04-09    -106319.0\n",
       "2018-04-10     424393.0\n",
       "2018-04-11     194524.0\n",
       "2018-04-12    1282502.0\n",
       "2018-04-13     741251.0\n",
       "2018-04-14     488367.0\n",
       "2018-04-15    1127753.0\n",
       "2018-04-16     866373.0\n",
       "2018-04-17     743528.0\n",
       "2018-04-18     387831.0\n",
       "2018-04-19     161988.0\n",
       "2018-04-20    2625019.0\n",
       "2018-04-21    1977607.0\n",
       "2018-04-22     397215.0\n",
       "2018-04-23     704834.0\n",
       "2018-04-24     820814.0\n",
       "2018-04-25    2579290.0\n",
       "2018-04-26     965159.0\n",
       "2018-04-27     402395.0\n",
       "2018-04-28     152471.0\n",
       "2018-04-29     473279.0\n",
       "2018-04-30    -338172.0\n",
       "Name: point_amount_cumsum, dtype: float64"
      ]
     },
     "execution_count": 10,
     "metadata": {},
     "output_type": "execute_result"
    }
   ],
   "source": [
    "day_df_final = reduce(lambda left,right: pd.merge(left,right,on='timestamp_year_month_day'), dfs)\n",
    "day_df_final.columns = [ \"daily profit\"]\n",
    "day_df_final"
   ]
  },
  {
   "cell_type": "code",
   "execution_count": 11,
   "metadata": {},
   "outputs": [
    {
     "name": "stdout",
     "output_type": "stream",
     "text": [
      "timestamp_year_month_day\n",
      "2018-04-01      83842.0\n",
      "2018-04-02    1295437.0\n",
      "2018-04-03    1246040.0\n",
      "2018-04-04     914424.0\n",
      "2018-04-05    1406985.0\n",
      "2018-04-06     701784.0\n",
      "2018-04-07     876096.0\n",
      "2018-04-08     370738.0\n",
      "2018-04-09    -106319.0\n",
      "2018-04-10     424393.0\n",
      "2018-04-11     194524.0\n",
      "2018-04-12    1282502.0\n",
      "2018-04-13     741251.0\n",
      "2018-04-14     488367.0\n",
      "2018-04-15    1127753.0\n",
      "2018-04-16     866373.0\n",
      "2018-04-17     743528.0\n",
      "2018-04-18     387831.0\n",
      "2018-04-19     161988.0\n",
      "2018-04-20    2625019.0\n",
      "2018-04-21    1977607.0\n",
      "2018-04-22     397215.0\n",
      "2018-04-23     704834.0\n",
      "2018-04-24     820814.0\n",
      "2018-04-25    2579290.0\n",
      "2018-04-26     965159.0\n",
      "2018-04-27     402395.0\n",
      "2018-04-28     152471.0\n",
      "2018-04-29     473279.0\n",
      "2018-04-30    -338172.0\n",
      "Freq: D, Name: point_amount_cumsum, dtype: float64\n"
     ]
    }
   ],
   "source": [
    "print(day_df_final.asfreq('D'))"
   ]
  },
  {
   "cell_type": "code",
   "execution_count": 12,
   "metadata": {},
   "outputs": [],
   "source": [
    "day_df_final.index = pd.DatetimeIndex(day_df_final.index)"
   ]
  },
  {
   "cell_type": "code",
   "execution_count": 13,
   "metadata": {},
   "outputs": [
    {
     "name": "stdout",
     "output_type": "stream",
     "text": [
      "DatetimeIndex(['2018-01-01', '2018-01-02', '2018-01-03', '2018-01-04',\n",
      "               '2018-01-05', '2018-01-06', '2018-01-07', '2018-01-08',\n",
      "               '2018-01-09', '2018-01-10', '2018-01-11', '2018-01-12',\n",
      "               '2018-01-13', '2018-01-14', '2018-01-15', '2018-01-16',\n",
      "               '2018-01-17', '2018-01-18', '2018-01-19', '2018-01-20',\n",
      "               '2018-01-21', '2018-01-22', '2018-01-23', '2018-01-24',\n",
      "               '2018-01-25', '2018-01-26', '2018-01-27', '2018-01-28',\n",
      "               '2018-01-29', '2018-01-30', '2018-01-31'],\n",
      "              dtype='datetime64[ns]', freq='D')\n"
     ]
    }
   ],
   "source": [
    "year=2018\n",
    "i = 1\n",
    "idx = pd.date_range(start = \"{}-{}-1\".format(year, i), periods = pd.Period(\"{}-{}-1\".format(year, i)).days_in_month)\n",
    "print(idx)"
   ]
  },
  {
   "cell_type": "code",
   "execution_count": 14,
   "metadata": {},
   "outputs": [],
   "source": [
    "day_df_final.to_csv(\"/Users/hamin/ITE3035_Python/Data_Science/endingPrice/dailyProfit/dailyProfit04(zero_to_zero).csv\", header=True, index=True, encoding = 'utf-8')"
   ]
  },
  {
   "cell_type": "code",
   "execution_count": null,
   "metadata": {},
   "outputs": [],
   "source": []
  },
  {
   "cell_type": "code",
   "execution_count": null,
   "metadata": {},
   "outputs": [],
   "source": []
  },
  {
   "cell_type": "code",
   "execution_count": null,
   "metadata": {},
   "outputs": [],
   "source": []
  },
  {
   "cell_type": "code",
   "execution_count": null,
   "metadata": {},
   "outputs": [],
   "source": []
  },
  {
   "cell_type": "code",
   "execution_count": null,
   "metadata": {},
   "outputs": [],
   "source": []
  },
  {
   "cell_type": "code",
   "execution_count": null,
   "metadata": {},
   "outputs": [],
   "source": []
  },
  {
   "cell_type": "code",
   "execution_count": null,
   "metadata": {},
   "outputs": [],
   "source": []
  },
  {
   "cell_type": "code",
   "execution_count": null,
   "metadata": {},
   "outputs": [],
   "source": []
  },
  {
   "cell_type": "code",
   "execution_count": 42,
   "metadata": {},
   "outputs": [],
   "source": []
  },
  {
   "cell_type": "code",
   "execution_count": null,
   "metadata": {},
   "outputs": [],
   "source": []
  },
  {
   "cell_type": "code",
   "execution_count": null,
   "metadata": {},
   "outputs": [],
   "source": []
  }
 ],
 "metadata": {
  "kernelspec": {
   "display_name": "Python 3.6.1 64-bit ('py36': conda)",
   "language": "python",
   "name": "python36164bitpy36condaf671229c5204498c818fa54442373f5a"
  },
  "language_info": {
   "codemirror_mode": {
    "name": "ipython",
    "version": 3
   },
   "file_extension": ".py",
   "mimetype": "text/x-python",
   "name": "python",
   "nbconvert_exporter": "python",
   "pygments_lexer": "ipython3",
   "version": "3.6.1"
  }
 },
 "nbformat": 4,
 "nbformat_minor": 4
}
