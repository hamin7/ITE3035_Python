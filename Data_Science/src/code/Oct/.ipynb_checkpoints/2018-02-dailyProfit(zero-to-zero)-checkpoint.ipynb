{
 "cells": [
  {
   "cell_type": "code",
   "execution_count": 2,
   "metadata": {},
   "outputs": [],
   "source": [
    "import pandas as pd\n",
    "import numpy as np\n",
    "from functools import reduce\n",
    "import matplotlib.pyplot as plt\n",
    "from pylab import figure, axes, pie, title, savefig"
   ]
  },
  {
   "cell_type": "code",
   "execution_count": 3,
   "metadata": {},
   "outputs": [],
   "source": [
    "df = pd.read_csv(\"/Users/hamin/ITE3035_Python/Data_Science/endingPrice/profit_point/bithumb-2018-02-btc-profit_point_graph_table.csv\")"
   ]
  },
  {
   "cell_type": "code",
   "execution_count": 4,
   "metadata": {},
   "outputs": [
    {
     "data": {
      "text/plain": [
       "Unnamed: 0               int64\n",
       "timestamp               object\n",
       "point_amount_cumsum    float64\n",
       "dtype: object"
      ]
     },
     "execution_count": 4,
     "metadata": {},
     "output_type": "execute_result"
    }
   ],
   "source": [
    "df.dtypes"
   ]
  },
  {
   "cell_type": "code",
   "execution_count": 5,
   "metadata": {},
   "outputs": [
    {
     "data": {
      "text/plain": [
       "Unnamed: 0                      int64\n",
       "timestamp              datetime64[ns]\n",
       "point_amount_cumsum           float64\n",
       "dtype: object"
      ]
     },
     "execution_count": 5,
     "metadata": {},
     "output_type": "execute_result"
    }
   ],
   "source": [
    "# converting timestamp column type 'object' to 'datetime'\n",
    "df['timestamp'] = pd.to_datetime(df['timestamp'], format = '%Y-%m-%d %H:%M:%S', errors='raise')\n",
    "df.dtypes"
   ]
  },
  {
   "cell_type": "code",
   "execution_count": 6,
   "metadata": {},
   "outputs": [],
   "source": [
    "## converting timestamp to detailed date column\n",
    "df['timestamp_year_month_day']       = df['timestamp'].dt.date         # YYYY-MM-DD(문자)\n",
    "df['timestamp_year']       = df['timestamp'].dt.year         # 연(4자리숫자)\n",
    "df['timestamp_month']      = df['timestamp'].dt.month        # 월(숫자)\n",
    "df['timestamp_month_name'] = df['timestamp'].dt.month_name() # 월(문자)\n",
    "df['timestamp_day']        = df['timestamp'].dt.day          # 일(숫자)\n",
    "df['timestamp_time']       = df['timestamp'].dt.time         # HH:MM:SS(문자)\n",
    "df['timestamp_hour']       = df['timestamp'].dt.hour         # 시(숫자)\n",
    "df['timestamp_minute']     = df['timestamp'].dt.minute       # 분(숫자)\n",
    "df['timestamp_second']     = df['timestamp'].dt.second       # 초(숫자)"
   ]
  },
  {
   "cell_type": "code",
   "execution_count": 7,
   "metadata": {},
   "outputs": [
    {
     "data": {
      "text/html": [
       "<div>\n",
       "<style scoped>\n",
       "    .dataframe tbody tr th:only-of-type {\n",
       "        vertical-align: middle;\n",
       "    }\n",
       "\n",
       "    .dataframe tbody tr th {\n",
       "        vertical-align: top;\n",
       "    }\n",
       "\n",
       "    .dataframe thead th {\n",
       "        text-align: right;\n",
       "    }\n",
       "</style>\n",
       "<table border=\"1\" class=\"dataframe\">\n",
       "  <thead>\n",
       "    <tr style=\"text-align: right;\">\n",
       "      <th></th>\n",
       "      <th>Unnamed: 0</th>\n",
       "      <th>timestamp</th>\n",
       "      <th>point_amount_cumsum</th>\n",
       "      <th>timestamp_year_month_day</th>\n",
       "      <th>timestamp_year</th>\n",
       "      <th>timestamp_month</th>\n",
       "      <th>timestamp_month_name</th>\n",
       "      <th>timestamp_day</th>\n",
       "      <th>timestamp_time</th>\n",
       "      <th>timestamp_hour</th>\n",
       "      <th>timestamp_minute</th>\n",
       "      <th>timestamp_second</th>\n",
       "    </tr>\n",
       "  </thead>\n",
       "  <tbody>\n",
       "    <tr>\n",
       "      <th>0</th>\n",
       "      <td>1</td>\n",
       "      <td>2018-02-14 00:12:12</td>\n",
       "      <td>-5593.0</td>\n",
       "      <td>2018-02-14</td>\n",
       "      <td>2018</td>\n",
       "      <td>2</td>\n",
       "      <td>February</td>\n",
       "      <td>14</td>\n",
       "      <td>00:12:12</td>\n",
       "      <td>0</td>\n",
       "      <td>12</td>\n",
       "      <td>12</td>\n",
       "    </tr>\n",
       "    <tr>\n",
       "      <th>1</th>\n",
       "      <td>3</td>\n",
       "      <td>2018-02-14 00:15:41</td>\n",
       "      <td>1155.0</td>\n",
       "      <td>2018-02-14</td>\n",
       "      <td>2018</td>\n",
       "      <td>2</td>\n",
       "      <td>February</td>\n",
       "      <td>14</td>\n",
       "      <td>00:15:41</td>\n",
       "      <td>0</td>\n",
       "      <td>15</td>\n",
       "      <td>41</td>\n",
       "    </tr>\n",
       "    <tr>\n",
       "      <th>2</th>\n",
       "      <td>6</td>\n",
       "      <td>2018-02-14 00:20:44</td>\n",
       "      <td>33302.0</td>\n",
       "      <td>2018-02-14</td>\n",
       "      <td>2018</td>\n",
       "      <td>2</td>\n",
       "      <td>February</td>\n",
       "      <td>14</td>\n",
       "      <td>00:20:44</td>\n",
       "      <td>0</td>\n",
       "      <td>20</td>\n",
       "      <td>44</td>\n",
       "    </tr>\n",
       "    <tr>\n",
       "      <th>3</th>\n",
       "      <td>14</td>\n",
       "      <td>2018-02-14 00:28:28</td>\n",
       "      <td>-28345.0</td>\n",
       "      <td>2018-02-14</td>\n",
       "      <td>2018</td>\n",
       "      <td>2</td>\n",
       "      <td>February</td>\n",
       "      <td>14</td>\n",
       "      <td>00:28:28</td>\n",
       "      <td>0</td>\n",
       "      <td>28</td>\n",
       "      <td>28</td>\n",
       "    </tr>\n",
       "    <tr>\n",
       "      <th>4</th>\n",
       "      <td>19</td>\n",
       "      <td>2018-02-14 00:33:24</td>\n",
       "      <td>-17011.0</td>\n",
       "      <td>2018-02-14</td>\n",
       "      <td>2018</td>\n",
       "      <td>2</td>\n",
       "      <td>February</td>\n",
       "      <td>14</td>\n",
       "      <td>00:33:24</td>\n",
       "      <td>0</td>\n",
       "      <td>33</td>\n",
       "      <td>24</td>\n",
       "    </tr>\n",
       "    <tr>\n",
       "      <th>...</th>\n",
       "      <td>...</td>\n",
       "      <td>...</td>\n",
       "      <td>...</td>\n",
       "      <td>...</td>\n",
       "      <td>...</td>\n",
       "      <td>...</td>\n",
       "      <td>...</td>\n",
       "      <td>...</td>\n",
       "      <td>...</td>\n",
       "      <td>...</td>\n",
       "      <td>...</td>\n",
       "      <td>...</td>\n",
       "    </tr>\n",
       "    <tr>\n",
       "      <th>3154</th>\n",
       "      <td>18325</td>\n",
       "      <td>2018-02-28 23:01:28</td>\n",
       "      <td>-33984.0</td>\n",
       "      <td>2018-02-28</td>\n",
       "      <td>2018</td>\n",
       "      <td>2</td>\n",
       "      <td>February</td>\n",
       "      <td>28</td>\n",
       "      <td>23:01:28</td>\n",
       "      <td>23</td>\n",
       "      <td>1</td>\n",
       "      <td>28</td>\n",
       "    </tr>\n",
       "    <tr>\n",
       "      <th>3155</th>\n",
       "      <td>18334</td>\n",
       "      <td>2018-02-28 23:06:56</td>\n",
       "      <td>681.0</td>\n",
       "      <td>2018-02-28</td>\n",
       "      <td>2018</td>\n",
       "      <td>2</td>\n",
       "      <td>February</td>\n",
       "      <td>28</td>\n",
       "      <td>23:06:56</td>\n",
       "      <td>23</td>\n",
       "      <td>6</td>\n",
       "      <td>56</td>\n",
       "    </tr>\n",
       "    <tr>\n",
       "      <th>3156</th>\n",
       "      <td>18349</td>\n",
       "      <td>2018-02-28 23:25:17</td>\n",
       "      <td>82345.0</td>\n",
       "      <td>2018-02-28</td>\n",
       "      <td>2018</td>\n",
       "      <td>2</td>\n",
       "      <td>February</td>\n",
       "      <td>28</td>\n",
       "      <td>23:25:17</td>\n",
       "      <td>23</td>\n",
       "      <td>25</td>\n",
       "      <td>17</td>\n",
       "    </tr>\n",
       "    <tr>\n",
       "      <th>3157</th>\n",
       "      <td>18365</td>\n",
       "      <td>2018-02-28 23:59:49</td>\n",
       "      <td>-22352.0</td>\n",
       "      <td>2018-02-28</td>\n",
       "      <td>2018</td>\n",
       "      <td>2</td>\n",
       "      <td>February</td>\n",
       "      <td>28</td>\n",
       "      <td>23:59:49</td>\n",
       "      <td>23</td>\n",
       "      <td>59</td>\n",
       "      <td>49</td>\n",
       "    </tr>\n",
       "    <tr>\n",
       "      <th>3158</th>\n",
       "      <td>18366</td>\n",
       "      <td>2018-02-28 23:59:49</td>\n",
       "      <td>2385.0</td>\n",
       "      <td>2018-02-28</td>\n",
       "      <td>2018</td>\n",
       "      <td>2</td>\n",
       "      <td>February</td>\n",
       "      <td>28</td>\n",
       "      <td>23:59:49</td>\n",
       "      <td>23</td>\n",
       "      <td>59</td>\n",
       "      <td>49</td>\n",
       "    </tr>\n",
       "  </tbody>\n",
       "</table>\n",
       "<p>3159 rows × 12 columns</p>\n",
       "</div>"
      ],
      "text/plain": [
       "      Unnamed: 0           timestamp  point_amount_cumsum  \\\n",
       "0              1 2018-02-14 00:12:12              -5593.0   \n",
       "1              3 2018-02-14 00:15:41               1155.0   \n",
       "2              6 2018-02-14 00:20:44              33302.0   \n",
       "3             14 2018-02-14 00:28:28             -28345.0   \n",
       "4             19 2018-02-14 00:33:24             -17011.0   \n",
       "...          ...                 ...                  ...   \n",
       "3154       18325 2018-02-28 23:01:28             -33984.0   \n",
       "3155       18334 2018-02-28 23:06:56                681.0   \n",
       "3156       18349 2018-02-28 23:25:17              82345.0   \n",
       "3157       18365 2018-02-28 23:59:49             -22352.0   \n",
       "3158       18366 2018-02-28 23:59:49               2385.0   \n",
       "\n",
       "     timestamp_year_month_day  timestamp_year  timestamp_month  \\\n",
       "0                  2018-02-14            2018                2   \n",
       "1                  2018-02-14            2018                2   \n",
       "2                  2018-02-14            2018                2   \n",
       "3                  2018-02-14            2018                2   \n",
       "4                  2018-02-14            2018                2   \n",
       "...                       ...             ...              ...   \n",
       "3154               2018-02-28            2018                2   \n",
       "3155               2018-02-28            2018                2   \n",
       "3156               2018-02-28            2018                2   \n",
       "3157               2018-02-28            2018                2   \n",
       "3158               2018-02-28            2018                2   \n",
       "\n",
       "     timestamp_month_name  timestamp_day timestamp_time  timestamp_hour  \\\n",
       "0                February             14       00:12:12               0   \n",
       "1                February             14       00:15:41               0   \n",
       "2                February             14       00:20:44               0   \n",
       "3                February             14       00:28:28               0   \n",
       "4                February             14       00:33:24               0   \n",
       "...                   ...            ...            ...             ...   \n",
       "3154             February             28       23:01:28              23   \n",
       "3155             February             28       23:06:56              23   \n",
       "3156             February             28       23:25:17              23   \n",
       "3157             February             28       23:59:49              23   \n",
       "3158             February             28       23:59:49              23   \n",
       "\n",
       "      timestamp_minute  timestamp_second  \n",
       "0                   12                12  \n",
       "1                   15                41  \n",
       "2                   20                44  \n",
       "3                   28                28  \n",
       "4                   33                24  \n",
       "...                ...               ...  \n",
       "3154                 1                28  \n",
       "3155                 6                56  \n",
       "3156                25                17  \n",
       "3157                59                49  \n",
       "3158                59                49  \n",
       "\n",
       "[3159 rows x 12 columns]"
      ]
     },
     "execution_count": 7,
     "metadata": {},
     "output_type": "execute_result"
    }
   ],
   "source": [
    "df"
   ]
  },
  {
   "cell_type": "code",
   "execution_count": 9,
   "metadata": {},
   "outputs": [],
   "source": [
    "## creating 'day - amount' connection\n",
    "group_day_amount = df['point_amount_cumsum'].groupby(df['timestamp_year_month_day'])"
   ]
  },
  {
   "cell_type": "code",
   "execution_count": 10,
   "metadata": {},
   "outputs": [
    {
     "data": {
      "text/plain": [
       "timestamp_year_month_day\n",
       "2018-02-14    1560315.0\n",
       "2018-02-15    1476057.0\n",
       "2018-02-16    1399283.0\n",
       "2018-02-17    1432140.0\n",
       "2018-02-18    1128401.0\n",
       "2018-02-19     738823.0\n",
       "2018-02-20    1998820.0\n",
       "2018-02-21     930171.0\n",
       "2018-02-22     974781.0\n",
       "2018-02-23    2225587.0\n",
       "2018-02-24    1013740.0\n",
       "2018-02-25     570258.0\n",
       "2018-02-26    1527497.0\n",
       "2018-02-27    1898874.0\n",
       "2018-02-28    1182698.0\n",
       "Name: point_amount_cumsum, dtype: float64"
      ]
     },
     "execution_count": 10,
     "metadata": {},
     "output_type": "execute_result"
    }
   ],
   "source": [
    "## 일별 총 손익량\n",
    "group_day_amount.sum()"
   ]
  },
  {
   "cell_type": "code",
   "execution_count": 11,
   "metadata": {},
   "outputs": [
    {
     "data": {
      "text/plain": [
       "[timestamp_year_month_day\n",
       " 2018-02-14    1560315.0\n",
       " 2018-02-15    1476057.0\n",
       " 2018-02-16    1399283.0\n",
       " 2018-02-17    1432140.0\n",
       " 2018-02-18    1128401.0\n",
       " 2018-02-19     738823.0\n",
       " 2018-02-20    1998820.0\n",
       " 2018-02-21     930171.0\n",
       " 2018-02-22     974781.0\n",
       " 2018-02-23    2225587.0\n",
       " 2018-02-24    1013740.0\n",
       " 2018-02-25     570258.0\n",
       " 2018-02-26    1527497.0\n",
       " 2018-02-27    1898874.0\n",
       " 2018-02-28    1182698.0\n",
       " Name: point_amount_cumsum, dtype: float64]"
      ]
     },
     "execution_count": 11,
     "metadata": {},
     "output_type": "execute_result"
    }
   ],
   "source": [
    "## 일별 계산 table 생성\n",
    "dfs = [group_day_amount.sum()]\n",
    "dfs"
   ]
  },
  {
   "cell_type": "code",
   "execution_count": 12,
   "metadata": {},
   "outputs": [
    {
     "data": {
      "text/plain": [
       "timestamp_year_month_day\n",
       "2018-02-14    1560315.0\n",
       "2018-02-15    1476057.0\n",
       "2018-02-16    1399283.0\n",
       "2018-02-17    1432140.0\n",
       "2018-02-18    1128401.0\n",
       "2018-02-19     738823.0\n",
       "2018-02-20    1998820.0\n",
       "2018-02-21     930171.0\n",
       "2018-02-22     974781.0\n",
       "2018-02-23    2225587.0\n",
       "2018-02-24    1013740.0\n",
       "2018-02-25     570258.0\n",
       "2018-02-26    1527497.0\n",
       "2018-02-27    1898874.0\n",
       "2018-02-28    1182698.0\n",
       "Name: point_amount_cumsum, dtype: float64"
      ]
     },
     "execution_count": 12,
     "metadata": {},
     "output_type": "execute_result"
    }
   ],
   "source": [
    "day_df_final = reduce(lambda left,right: pd.merge(left,right,on='timestamp_year_month_day'), dfs)\n",
    "day_df_final.columns = [ \"daily profit\"]\n",
    "day_df_final"
   ]
  },
  {
   "cell_type": "code",
   "execution_count": 13,
   "metadata": {},
   "outputs": [
    {
     "name": "stdout",
     "output_type": "stream",
     "text": [
      "timestamp_year_month_day\n",
      "2018-02-14    1560315.0\n",
      "2018-02-15    1476057.0\n",
      "2018-02-16    1399283.0\n",
      "2018-02-17    1432140.0\n",
      "2018-02-18    1128401.0\n",
      "2018-02-19     738823.0\n",
      "2018-02-20    1998820.0\n",
      "2018-02-21     930171.0\n",
      "2018-02-22     974781.0\n",
      "2018-02-23    2225587.0\n",
      "2018-02-24    1013740.0\n",
      "2018-02-25     570258.0\n",
      "2018-02-26    1527497.0\n",
      "2018-02-27    1898874.0\n",
      "2018-02-28    1182698.0\n",
      "Freq: D, Name: point_amount_cumsum, dtype: float64\n"
     ]
    }
   ],
   "source": [
    "print(day_df_final.asfreq('D'))"
   ]
  },
  {
   "cell_type": "code",
   "execution_count": 14,
   "metadata": {},
   "outputs": [],
   "source": [
    "day_df_final.index = pd.DatetimeIndex(day_df_final.index)"
   ]
  },
  {
   "cell_type": "code",
   "execution_count": 15,
   "metadata": {},
   "outputs": [
    {
     "name": "stdout",
     "output_type": "stream",
     "text": [
      "DatetimeIndex(['2018-01-01', '2018-01-02', '2018-01-03', '2018-01-04',\n",
      "               '2018-01-05', '2018-01-06', '2018-01-07', '2018-01-08',\n",
      "               '2018-01-09', '2018-01-10', '2018-01-11', '2018-01-12',\n",
      "               '2018-01-13', '2018-01-14', '2018-01-15', '2018-01-16',\n",
      "               '2018-01-17', '2018-01-18', '2018-01-19', '2018-01-20',\n",
      "               '2018-01-21', '2018-01-22', '2018-01-23', '2018-01-24',\n",
      "               '2018-01-25', '2018-01-26', '2018-01-27', '2018-01-28',\n",
      "               '2018-01-29', '2018-01-30', '2018-01-31'],\n",
      "              dtype='datetime64[ns]', freq='D')\n"
     ]
    }
   ],
   "source": [
    "year=2018\n",
    "i = 1\n",
    "idx = pd.date_range(start = \"{}-{}-1\".format(year, i), periods = pd.Period(\"{}-{}-1\".format(year, i)).days_in_month)\n",
    "print(idx)"
   ]
  },
  {
   "cell_type": "code",
   "execution_count": 18,
   "metadata": {},
   "outputs": [],
   "source": [
    "day_df_final.to_csv(\"/Users/hamin/ITE3035_Python/Data_Science/endingPrice/dailyProfit/dailyProfit02(zero_to_zero).csv\", header=True, index=True, encoding = 'utf-8')"
   ]
  },
  {
   "cell_type": "code",
   "execution_count": null,
   "metadata": {},
   "outputs": [],
   "source": []
  },
  {
   "cell_type": "code",
   "execution_count": null,
   "metadata": {},
   "outputs": [],
   "source": []
  },
  {
   "cell_type": "code",
   "execution_count": null,
   "metadata": {},
   "outputs": [],
   "source": []
  },
  {
   "cell_type": "code",
   "execution_count": null,
   "metadata": {},
   "outputs": [],
   "source": []
  },
  {
   "cell_type": "code",
   "execution_count": null,
   "metadata": {},
   "outputs": [],
   "source": []
  },
  {
   "cell_type": "code",
   "execution_count": null,
   "metadata": {},
   "outputs": [],
   "source": []
  },
  {
   "cell_type": "code",
   "execution_count": null,
   "metadata": {},
   "outputs": [],
   "source": []
  },
  {
   "cell_type": "code",
   "execution_count": null,
   "metadata": {},
   "outputs": [],
   "source": []
  },
  {
   "cell_type": "code",
   "execution_count": 42,
   "metadata": {},
   "outputs": [],
   "source": []
  },
  {
   "cell_type": "code",
   "execution_count": null,
   "metadata": {},
   "outputs": [],
   "source": []
  },
  {
   "cell_type": "code",
   "execution_count": null,
   "metadata": {},
   "outputs": [],
   "source": []
  }
 ],
 "metadata": {
  "kernelspec": {
   "display_name": "Python 3.6.1 64-bit ('py36': conda)",
   "language": "python",
   "name": "python36164bitpy36condaf671229c5204498c818fa54442373f5a"
  },
  "language_info": {
   "codemirror_mode": {
    "name": "ipython",
    "version": 3
   },
   "file_extension": ".py",
   "mimetype": "text/x-python",
   "name": "python",
   "nbconvert_exporter": "python",
   "pygments_lexer": "ipython3",
   "version": "3.6.1"
  }
 },
 "nbformat": 4,
 "nbformat_minor": 4
}
