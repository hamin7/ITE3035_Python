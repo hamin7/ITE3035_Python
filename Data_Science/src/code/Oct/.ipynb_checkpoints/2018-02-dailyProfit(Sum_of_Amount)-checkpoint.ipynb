{
 "cells": [
  {
   "cell_type": "code",
   "execution_count": 1,
   "metadata": {},
   "outputs": [],
   "source": [
    "import pandas as pd\n",
    "import numpy as np\n",
    "from functools import reduce\n",
    "import matplotlib.pyplot as plt\n",
    "from pylab import figure, axes, pie, title, savefig"
   ]
  },
  {
   "cell_type": "code",
   "execution_count": 2,
   "metadata": {},
   "outputs": [],
   "source": [
    "df = pd.read_csv(\"/Users/hamin/bithumb_bot_data/include/2018-new/2018-02-btc-krw.csv\")"
   ]
  },
  {
   "cell_type": "code",
   "execution_count": 3,
   "metadata": {},
   "outputs": [
    {
     "data": {
      "text/plain": [
       "timestamp      object\n",
       "quantity      float64\n",
       "price           int64\n",
       "fee           float64\n",
       "amount          int64\n",
       "side            int64\n",
       "Unnamed: 6    float64\n",
       "Unnamed: 7     object\n",
       "Unnamed: 8    float64\n",
       "Unnamed: 9    float64\n",
       "dtype: object"
      ]
     },
     "execution_count": 3,
     "metadata": {},
     "output_type": "execute_result"
    }
   ],
   "source": [
    "df.dtypes"
   ]
  },
  {
   "cell_type": "code",
   "execution_count": 4,
   "metadata": {},
   "outputs": [
    {
     "data": {
      "text/plain": [
       "timestamp     datetime64[ns]\n",
       "quantity             float64\n",
       "price                  int64\n",
       "fee                  float64\n",
       "amount                 int64\n",
       "side                   int64\n",
       "Unnamed: 6           float64\n",
       "Unnamed: 7            object\n",
       "Unnamed: 8           float64\n",
       "Unnamed: 9           float64\n",
       "dtype: object"
      ]
     },
     "execution_count": 4,
     "metadata": {},
     "output_type": "execute_result"
    }
   ],
   "source": [
    "# converting timestamp column type 'object' to 'datetime'\n",
    "df['timestamp'] = pd.to_datetime(df['timestamp'], format = '%Y-%m-%d %H:%M:%S', errors='raise')\n",
    "df.dtypes"
   ]
  },
  {
   "cell_type": "code",
   "execution_count": 5,
   "metadata": {},
   "outputs": [],
   "source": [
    "## converting timestamp to detailed date column\n",
    "df['timestamp_year_month_day']       = df['timestamp'].dt.date         # YYYY-MM-DD(문자)\n",
    "df['timestamp_year']       = df['timestamp'].dt.year         # 연(4자리숫자)\n",
    "df['timestamp_month']      = df['timestamp'].dt.month        # 월(숫자)\n",
    "df['timestamp_month_name'] = df['timestamp'].dt.month_name() # 월(문자)\n",
    "df['timestamp_day']        = df['timestamp'].dt.day          # 일(숫자)\n",
    "df['timestamp_time']       = df['timestamp'].dt.time         # HH:MM:SS(문자)\n",
    "df['timestamp_hour']       = df['timestamp'].dt.hour         # 시(숫자)\n",
    "df['timestamp_minute']     = df['timestamp'].dt.minute       # 분(숫자)\n",
    "df['timestamp_second']     = df['timestamp'].dt.second       # 초(숫자)"
   ]
  },
  {
   "cell_type": "code",
   "execution_count": 6,
   "metadata": {},
   "outputs": [
    {
     "data": {
      "text/html": [
       "<div>\n",
       "<style scoped>\n",
       "    .dataframe tbody tr th:only-of-type {\n",
       "        vertical-align: middle;\n",
       "    }\n",
       "\n",
       "    .dataframe tbody tr th {\n",
       "        vertical-align: top;\n",
       "    }\n",
       "\n",
       "    .dataframe thead th {\n",
       "        text-align: right;\n",
       "    }\n",
       "</style>\n",
       "<table border=\"1\" class=\"dataframe\">\n",
       "  <thead>\n",
       "    <tr style=\"text-align: right;\">\n",
       "      <th></th>\n",
       "      <th>timestamp</th>\n",
       "      <th>quantity</th>\n",
       "      <th>price</th>\n",
       "      <th>fee</th>\n",
       "      <th>amount</th>\n",
       "      <th>side</th>\n",
       "      <th>Unnamed: 6</th>\n",
       "      <th>Unnamed: 7</th>\n",
       "      <th>Unnamed: 8</th>\n",
       "      <th>Unnamed: 9</th>\n",
       "      <th>timestamp_year_month_day</th>\n",
       "      <th>timestamp_year</th>\n",
       "      <th>timestamp_month</th>\n",
       "      <th>timestamp_month_name</th>\n",
       "      <th>timestamp_day</th>\n",
       "      <th>timestamp_time</th>\n",
       "      <th>timestamp_hour</th>\n",
       "      <th>timestamp_minute</th>\n",
       "      <th>timestamp_second</th>\n",
       "    </tr>\n",
       "  </thead>\n",
       "  <tbody>\n",
       "    <tr>\n",
       "      <th>0</th>\n",
       "      <td>2018-02-14 00:11:00</td>\n",
       "      <td>0.7990</td>\n",
       "      <td>9861000</td>\n",
       "      <td>0.0</td>\n",
       "      <td>-7878939</td>\n",
       "      <td>0</td>\n",
       "      <td>NaN</td>\n",
       "      <td>2018.2.14</td>\n",
       "      <td>-7777826.0</td>\n",
       "      <td>7777826.0</td>\n",
       "      <td>2018-02-14</td>\n",
       "      <td>2018</td>\n",
       "      <td>2</td>\n",
       "      <td>February</td>\n",
       "      <td>14</td>\n",
       "      <td>00:11:00</td>\n",
       "      <td>0</td>\n",
       "      <td>11</td>\n",
       "      <td>0</td>\n",
       "    </tr>\n",
       "    <tr>\n",
       "      <th>1</th>\n",
       "      <td>2018-02-14 00:12:00</td>\n",
       "      <td>0.7990</td>\n",
       "      <td>9854000</td>\n",
       "      <td>0.0</td>\n",
       "      <td>7873346</td>\n",
       "      <td>1</td>\n",
       "      <td>NaN</td>\n",
       "      <td>2018.2.15</td>\n",
       "      <td>117703.0</td>\n",
       "      <td>-117703.0</td>\n",
       "      <td>2018-02-14</td>\n",
       "      <td>2018</td>\n",
       "      <td>2</td>\n",
       "      <td>February</td>\n",
       "      <td>14</td>\n",
       "      <td>00:12:00</td>\n",
       "      <td>0</td>\n",
       "      <td>12</td>\n",
       "      <td>0</td>\n",
       "    </tr>\n",
       "    <tr>\n",
       "      <th>2</th>\n",
       "      <td>2018-02-14 00:15:00</td>\n",
       "      <td>0.1050</td>\n",
       "      <td>9849000</td>\n",
       "      <td>0.0</td>\n",
       "      <td>-1034145</td>\n",
       "      <td>0</td>\n",
       "      <td>NaN</td>\n",
       "      <td>2018.2.16</td>\n",
       "      <td>6715796.0</td>\n",
       "      <td>-6715796.0</td>\n",
       "      <td>2018-02-14</td>\n",
       "      <td>2018</td>\n",
       "      <td>2</td>\n",
       "      <td>February</td>\n",
       "      <td>14</td>\n",
       "      <td>00:15:00</td>\n",
       "      <td>0</td>\n",
       "      <td>15</td>\n",
       "      <td>0</td>\n",
       "    </tr>\n",
       "    <tr>\n",
       "      <th>3</th>\n",
       "      <td>2018-02-14 00:15:00</td>\n",
       "      <td>0.1050</td>\n",
       "      <td>9860000</td>\n",
       "      <td>0.0</td>\n",
       "      <td>1035300</td>\n",
       "      <td>1</td>\n",
       "      <td>NaN</td>\n",
       "      <td>2018.2.17</td>\n",
       "      <td>-6375594.0</td>\n",
       "      <td>6375594.0</td>\n",
       "      <td>2018-02-14</td>\n",
       "      <td>2018</td>\n",
       "      <td>2</td>\n",
       "      <td>February</td>\n",
       "      <td>14</td>\n",
       "      <td>00:15:00</td>\n",
       "      <td>0</td>\n",
       "      <td>15</td>\n",
       "      <td>0</td>\n",
       "    </tr>\n",
       "    <tr>\n",
       "      <th>4</th>\n",
       "      <td>2018-02-14 00:20:00</td>\n",
       "      <td>1.5000</td>\n",
       "      <td>9859000</td>\n",
       "      <td>0.0</td>\n",
       "      <td>-14788500</td>\n",
       "      <td>0</td>\n",
       "      <td>NaN</td>\n",
       "      <td>2018.2.18</td>\n",
       "      <td>-170484.0</td>\n",
       "      <td>170484.0</td>\n",
       "      <td>2018-02-14</td>\n",
       "      <td>2018</td>\n",
       "      <td>2</td>\n",
       "      <td>February</td>\n",
       "      <td>14</td>\n",
       "      <td>00:20:00</td>\n",
       "      <td>0</td>\n",
       "      <td>20</td>\n",
       "      <td>0</td>\n",
       "    </tr>\n",
       "    <tr>\n",
       "      <th>...</th>\n",
       "      <td>...</td>\n",
       "      <td>...</td>\n",
       "      <td>...</td>\n",
       "      <td>...</td>\n",
       "      <td>...</td>\n",
       "      <td>...</td>\n",
       "      <td>...</td>\n",
       "      <td>...</td>\n",
       "      <td>...</td>\n",
       "      <td>...</td>\n",
       "      <td>...</td>\n",
       "      <td>...</td>\n",
       "      <td>...</td>\n",
       "      <td>...</td>\n",
       "      <td>...</td>\n",
       "      <td>...</td>\n",
       "      <td>...</td>\n",
       "      <td>...</td>\n",
       "      <td>...</td>\n",
       "    </tr>\n",
       "    <tr>\n",
       "      <th>18362</th>\n",
       "      <td>2018-02-28 23:59:00</td>\n",
       "      <td>0.0100</td>\n",
       "      <td>11924000</td>\n",
       "      <td>0.0</td>\n",
       "      <td>119240</td>\n",
       "      <td>1</td>\n",
       "      <td>NaN</td>\n",
       "      <td>NaN</td>\n",
       "      <td>NaN</td>\n",
       "      <td>NaN</td>\n",
       "      <td>2018-02-28</td>\n",
       "      <td>2018</td>\n",
       "      <td>2</td>\n",
       "      <td>February</td>\n",
       "      <td>28</td>\n",
       "      <td>23:59:00</td>\n",
       "      <td>23</td>\n",
       "      <td>59</td>\n",
       "      <td>0</td>\n",
       "    </tr>\n",
       "    <tr>\n",
       "      <th>18363</th>\n",
       "      <td>2018-02-28 23:59:00</td>\n",
       "      <td>0.0002</td>\n",
       "      <td>11924000</td>\n",
       "      <td>0.0</td>\n",
       "      <td>2385</td>\n",
       "      <td>1</td>\n",
       "      <td>NaN</td>\n",
       "      <td>NaN</td>\n",
       "      <td>NaN</td>\n",
       "      <td>NaN</td>\n",
       "      <td>2018-02-28</td>\n",
       "      <td>2018</td>\n",
       "      <td>2</td>\n",
       "      <td>February</td>\n",
       "      <td>28</td>\n",
       "      <td>23:59:00</td>\n",
       "      <td>23</td>\n",
       "      <td>59</td>\n",
       "      <td>0</td>\n",
       "    </tr>\n",
       "    <tr>\n",
       "      <th>18364</th>\n",
       "      <td>2018-02-28 23:59:00</td>\n",
       "      <td>0.0296</td>\n",
       "      <td>11923000</td>\n",
       "      <td>0.0</td>\n",
       "      <td>352921</td>\n",
       "      <td>1</td>\n",
       "      <td>NaN</td>\n",
       "      <td>NaN</td>\n",
       "      <td>NaN</td>\n",
       "      <td>NaN</td>\n",
       "      <td>2018-02-28</td>\n",
       "      <td>2018</td>\n",
       "      <td>2</td>\n",
       "      <td>February</td>\n",
       "      <td>28</td>\n",
       "      <td>23:59:00</td>\n",
       "      <td>23</td>\n",
       "      <td>59</td>\n",
       "      <td>0</td>\n",
       "    </tr>\n",
       "    <tr>\n",
       "      <th>18365</th>\n",
       "      <td>2018-02-28 23:59:00</td>\n",
       "      <td>0.5662</td>\n",
       "      <td>11923000</td>\n",
       "      <td>0.0</td>\n",
       "      <td>6750803</td>\n",
       "      <td>1</td>\n",
       "      <td>NaN</td>\n",
       "      <td>NaN</td>\n",
       "      <td>NaN</td>\n",
       "      <td>NaN</td>\n",
       "      <td>2018-02-28</td>\n",
       "      <td>2018</td>\n",
       "      <td>2</td>\n",
       "      <td>February</td>\n",
       "      <td>28</td>\n",
       "      <td>23:59:00</td>\n",
       "      <td>23</td>\n",
       "      <td>59</td>\n",
       "      <td>0</td>\n",
       "    </tr>\n",
       "    <tr>\n",
       "      <th>18366</th>\n",
       "      <td>2018-02-28 23:59:00</td>\n",
       "      <td>0.0002</td>\n",
       "      <td>11923000</td>\n",
       "      <td>0.0</td>\n",
       "      <td>2385</td>\n",
       "      <td>1</td>\n",
       "      <td>NaN</td>\n",
       "      <td>NaN</td>\n",
       "      <td>NaN</td>\n",
       "      <td>NaN</td>\n",
       "      <td>2018-02-28</td>\n",
       "      <td>2018</td>\n",
       "      <td>2</td>\n",
       "      <td>February</td>\n",
       "      <td>28</td>\n",
       "      <td>23:59:00</td>\n",
       "      <td>23</td>\n",
       "      <td>59</td>\n",
       "      <td>0</td>\n",
       "    </tr>\n",
       "  </tbody>\n",
       "</table>\n",
       "<p>18367 rows × 19 columns</p>\n",
       "</div>"
      ],
      "text/plain": [
       "                timestamp  quantity     price  fee    amount  side  \\\n",
       "0     2018-02-14 00:11:00    0.7990   9861000  0.0  -7878939     0   \n",
       "1     2018-02-14 00:12:00    0.7990   9854000  0.0   7873346     1   \n",
       "2     2018-02-14 00:15:00    0.1050   9849000  0.0  -1034145     0   \n",
       "3     2018-02-14 00:15:00    0.1050   9860000  0.0   1035300     1   \n",
       "4     2018-02-14 00:20:00    1.5000   9859000  0.0 -14788500     0   \n",
       "...                   ...       ...       ...  ...       ...   ...   \n",
       "18362 2018-02-28 23:59:00    0.0100  11924000  0.0    119240     1   \n",
       "18363 2018-02-28 23:59:00    0.0002  11924000  0.0      2385     1   \n",
       "18364 2018-02-28 23:59:00    0.0296  11923000  0.0    352921     1   \n",
       "18365 2018-02-28 23:59:00    0.5662  11923000  0.0   6750803     1   \n",
       "18366 2018-02-28 23:59:00    0.0002  11923000  0.0      2385     1   \n",
       "\n",
       "       Unnamed: 6 Unnamed: 7  Unnamed: 8  Unnamed: 9 timestamp_year_month_day  \\\n",
       "0             NaN  2018.2.14  -7777826.0   7777826.0               2018-02-14   \n",
       "1             NaN  2018.2.15    117703.0   -117703.0               2018-02-14   \n",
       "2             NaN  2018.2.16   6715796.0  -6715796.0               2018-02-14   \n",
       "3             NaN  2018.2.17  -6375594.0   6375594.0               2018-02-14   \n",
       "4             NaN  2018.2.18   -170484.0    170484.0               2018-02-14   \n",
       "...           ...        ...         ...         ...                      ...   \n",
       "18362         NaN        NaN         NaN         NaN               2018-02-28   \n",
       "18363         NaN        NaN         NaN         NaN               2018-02-28   \n",
       "18364         NaN        NaN         NaN         NaN               2018-02-28   \n",
       "18365         NaN        NaN         NaN         NaN               2018-02-28   \n",
       "18366         NaN        NaN         NaN         NaN               2018-02-28   \n",
       "\n",
       "       timestamp_year  timestamp_month timestamp_month_name  timestamp_day  \\\n",
       "0                2018                2             February             14   \n",
       "1                2018                2             February             14   \n",
       "2                2018                2             February             14   \n",
       "3                2018                2             February             14   \n",
       "4                2018                2             February             14   \n",
       "...               ...              ...                  ...            ...   \n",
       "18362            2018                2             February             28   \n",
       "18363            2018                2             February             28   \n",
       "18364            2018                2             February             28   \n",
       "18365            2018                2             February             28   \n",
       "18366            2018                2             February             28   \n",
       "\n",
       "      timestamp_time  timestamp_hour  timestamp_minute  timestamp_second  \n",
       "0           00:11:00               0                11                 0  \n",
       "1           00:12:00               0                12                 0  \n",
       "2           00:15:00               0                15                 0  \n",
       "3           00:15:00               0                15                 0  \n",
       "4           00:20:00               0                20                 0  \n",
       "...              ...             ...               ...               ...  \n",
       "18362       23:59:00              23                59                 0  \n",
       "18363       23:59:00              23                59                 0  \n",
       "18364       23:59:00              23                59                 0  \n",
       "18365       23:59:00              23                59                 0  \n",
       "18366       23:59:00              23                59                 0  \n",
       "\n",
       "[18367 rows x 19 columns]"
      ]
     },
     "execution_count": 6,
     "metadata": {},
     "output_type": "execute_result"
    }
   ],
   "source": [
    "df"
   ]
  },
  {
   "cell_type": "code",
   "execution_count": 7,
   "metadata": {},
   "outputs": [],
   "source": [
    "## creating 'day - amount' connection\n",
    "group_day_amount = df['amount'].groupby(df['timestamp_year_month_day'])"
   ]
  },
  {
   "cell_type": "code",
   "execution_count": 8,
   "metadata": {},
   "outputs": [
    {
     "data": {
      "text/plain": [
       "timestamp_year_month_day\n",
       "2018-02-14   -13986080\n",
       "2018-02-15      756965\n",
       "2018-02-16    17687643\n",
       "2018-02-17     1432140\n",
       "2018-02-18   -12068675\n",
       "2018-02-19    13935899\n",
       "2018-02-20     1998820\n",
       "2018-02-21     -274696\n",
       "2018-02-22    -7300157\n",
       "2018-02-23    11705392\n",
       "2018-02-24     1013740\n",
       "2018-02-25      570258\n",
       "2018-02-26   -10570854\n",
       "2018-02-27    -6746483\n",
       "2018-02-28    21926406\n",
       "Name: amount, dtype: int64"
      ]
     },
     "execution_count": 8,
     "metadata": {},
     "output_type": "execute_result"
    }
   ],
   "source": [
    "## 일별 총 손익량\n",
    "group_day_amount.sum()"
   ]
  },
  {
   "cell_type": "code",
   "execution_count": 9,
   "metadata": {},
   "outputs": [
    {
     "data": {
      "text/plain": [
       "[timestamp_year_month_day\n",
       " 2018-02-14   -13986080\n",
       " 2018-02-15      756965\n",
       " 2018-02-16    17687643\n",
       " 2018-02-17     1432140\n",
       " 2018-02-18   -12068675\n",
       " 2018-02-19    13935899\n",
       " 2018-02-20     1998820\n",
       " 2018-02-21     -274696\n",
       " 2018-02-22    -7300157\n",
       " 2018-02-23    11705392\n",
       " 2018-02-24     1013740\n",
       " 2018-02-25      570258\n",
       " 2018-02-26   -10570854\n",
       " 2018-02-27    -6746483\n",
       " 2018-02-28    21926406\n",
       " Name: amount, dtype: int64]"
      ]
     },
     "execution_count": 9,
     "metadata": {},
     "output_type": "execute_result"
    }
   ],
   "source": [
    "## 일별 계산 table 생성\n",
    "dfs = [group_day_amount.sum()]\n",
    "dfs"
   ]
  },
  {
   "cell_type": "code",
   "execution_count": 10,
   "metadata": {},
   "outputs": [
    {
     "data": {
      "text/plain": [
       "timestamp_year_month_day\n",
       "2018-02-14   -13986080\n",
       "2018-02-15      756965\n",
       "2018-02-16    17687643\n",
       "2018-02-17     1432140\n",
       "2018-02-18   -12068675\n",
       "2018-02-19    13935899\n",
       "2018-02-20     1998820\n",
       "2018-02-21     -274696\n",
       "2018-02-22    -7300157\n",
       "2018-02-23    11705392\n",
       "2018-02-24     1013740\n",
       "2018-02-25      570258\n",
       "2018-02-26   -10570854\n",
       "2018-02-27    -6746483\n",
       "2018-02-28    21926406\n",
       "Name: amount, dtype: int64"
      ]
     },
     "execution_count": 10,
     "metadata": {},
     "output_type": "execute_result"
    }
   ],
   "source": [
    "day_df_final = reduce(lambda left,right: pd.merge(left,right,on='timestamp_year_month_day'), dfs)\n",
    "day_df_final.columns = [ \"daily profit\"]\n",
    "day_df_final"
   ]
  },
  {
   "cell_type": "code",
   "execution_count": 11,
   "metadata": {},
   "outputs": [
    {
     "name": "stdout",
     "output_type": "stream",
     "text": [
      "timestamp_year_month_day\n",
      "2018-02-14   -13986080\n",
      "2018-02-15      756965\n",
      "2018-02-16    17687643\n",
      "2018-02-17     1432140\n",
      "2018-02-18   -12068675\n",
      "2018-02-19    13935899\n",
      "2018-02-20     1998820\n",
      "2018-02-21     -274696\n",
      "2018-02-22    -7300157\n",
      "2018-02-23    11705392\n",
      "2018-02-24     1013740\n",
      "2018-02-25      570258\n",
      "2018-02-26   -10570854\n",
      "2018-02-27    -6746483\n",
      "2018-02-28    21926406\n",
      "Freq: D, Name: amount, dtype: int64\n"
     ]
    }
   ],
   "source": [
    "print(day_df_final.asfreq('D'))"
   ]
  },
  {
   "cell_type": "code",
   "execution_count": 12,
   "metadata": {},
   "outputs": [],
   "source": [
    "day_df_final.index = pd.DatetimeIndex(day_df_final.index)"
   ]
  },
  {
   "cell_type": "code",
   "execution_count": 13,
   "metadata": {},
   "outputs": [
    {
     "name": "stdout",
     "output_type": "stream",
     "text": [
      "DatetimeIndex(['2018-01-01', '2018-01-02', '2018-01-03', '2018-01-04',\n",
      "               '2018-01-05', '2018-01-06', '2018-01-07', '2018-01-08',\n",
      "               '2018-01-09', '2018-01-10', '2018-01-11', '2018-01-12',\n",
      "               '2018-01-13', '2018-01-14', '2018-01-15', '2018-01-16',\n",
      "               '2018-01-17', '2018-01-18', '2018-01-19', '2018-01-20',\n",
      "               '2018-01-21', '2018-01-22', '2018-01-23', '2018-01-24',\n",
      "               '2018-01-25', '2018-01-26', '2018-01-27', '2018-01-28',\n",
      "               '2018-01-29', '2018-01-30', '2018-01-31'],\n",
      "              dtype='datetime64[ns]', freq='D')\n"
     ]
    }
   ],
   "source": [
    "year=2018\n",
    "i = 1\n",
    "idx = pd.date_range(start = \"{}-{}-1\".format(year, i), periods = pd.Period(\"{}-{}-1\".format(year, i)).days_in_month)\n",
    "print(idx)"
   ]
  },
  {
   "cell_type": "code",
   "execution_count": 72,
   "metadata": {},
   "outputs": [],
   "source": [
    "day_df_final.to_csv(\"/Users/hamin/bithumb_bot_data/endingPrice/dailyProfit/dailyProfit02.csv\", header=True, index=True, encoding = 'utf-8')"
   ]
  },
  {
   "cell_type": "code",
   "execution_count": null,
   "metadata": {},
   "outputs": [],
   "source": []
  },
  {
   "cell_type": "code",
   "execution_count": null,
   "metadata": {},
   "outputs": [],
   "source": []
  },
  {
   "cell_type": "code",
   "execution_count": null,
   "metadata": {},
   "outputs": [],
   "source": []
  },
  {
   "cell_type": "code",
   "execution_count": null,
   "metadata": {},
   "outputs": [],
   "source": []
  },
  {
   "cell_type": "code",
   "execution_count": null,
   "metadata": {},
   "outputs": [],
   "source": []
  },
  {
   "cell_type": "code",
   "execution_count": null,
   "metadata": {},
   "outputs": [],
   "source": []
  },
  {
   "cell_type": "code",
   "execution_count": null,
   "metadata": {},
   "outputs": [],
   "source": []
  },
  {
   "cell_type": "code",
   "execution_count": null,
   "metadata": {},
   "outputs": [],
   "source": []
  },
  {
   "cell_type": "code",
   "execution_count": 42,
   "metadata": {},
   "outputs": [],
   "source": []
  },
  {
   "cell_type": "code",
   "execution_count": null,
   "metadata": {},
   "outputs": [],
   "source": []
  },
  {
   "cell_type": "code",
   "execution_count": null,
   "metadata": {},
   "outputs": [],
   "source": []
  }
 ],
 "metadata": {
  "kernelspec": {
   "display_name": "Python 3.6.1 64-bit ('py36': conda)",
   "language": "python",
   "name": "python36164bitpy36condaf671229c5204498c818fa54442373f5a"
  },
  "language_info": {
   "codemirror_mode": {
    "name": "ipython",
    "version": 3
   },
   "file_extension": ".py",
   "mimetype": "text/x-python",
   "name": "python",
   "nbconvert_exporter": "python",
   "pygments_lexer": "ipython3",
   "version": "3.6.1"
  }
 },
 "nbformat": 4,
 "nbformat_minor": 4
}
