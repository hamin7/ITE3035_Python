{
 "cells": [
  {
   "cell_type": "code",
   "execution_count": 1,
   "metadata": {},
   "outputs": [],
   "source": [
    "import pandas as pd\n",
    "import numpy as np\n",
    "from functools import reduce\n",
    "import matplotlib.pyplot as plt\n",
    "from pylab import figure, axes, pie, title, savefig"
   ]
  },
  {
   "cell_type": "code",
   "execution_count": 2,
   "metadata": {},
   "outputs": [],
   "source": [
    "df = pd.read_csv(\"/Users/hamin/bithumb_bot_data/include/2018-new/2018-07-btc-krw.csv\")"
   ]
  },
  {
   "cell_type": "code",
   "execution_count": 3,
   "metadata": {},
   "outputs": [
    {
     "data": {
      "text/plain": [
       "timestamp     object\n",
       "quantity     float64\n",
       "price          int64\n",
       "fee            int64\n",
       "amount         int64\n",
       "side           int64\n",
       "dtype: object"
      ]
     },
     "execution_count": 3,
     "metadata": {},
     "output_type": "execute_result"
    }
   ],
   "source": [
    "df.dtypes"
   ]
  },
  {
   "cell_type": "code",
   "execution_count": 4,
   "metadata": {},
   "outputs": [
    {
     "data": {
      "text/plain": [
       "timestamp    datetime64[ns]\n",
       "quantity            float64\n",
       "price                 int64\n",
       "fee                   int64\n",
       "amount                int64\n",
       "side                  int64\n",
       "dtype: object"
      ]
     },
     "execution_count": 4,
     "metadata": {},
     "output_type": "execute_result"
    }
   ],
   "source": [
    "# converting timestamp column type 'object' to 'datetime'\n",
    "df['timestamp'] = pd.to_datetime(df['timestamp'], format = '%Y-%m-%d %H:%M:%S', errors='raise')\n",
    "df.dtypes"
   ]
  },
  {
   "cell_type": "code",
   "execution_count": 5,
   "metadata": {},
   "outputs": [],
   "source": [
    "## converting timestamp to detailed date column\n",
    "df['timestamp_year_month_day']       = df['timestamp'].dt.date         # YYYY-MM-DD(문자)\n",
    "df['timestamp_year']       = df['timestamp'].dt.year         # 연(4자리숫자)\n",
    "df['timestamp_month']      = df['timestamp'].dt.month        # 월(숫자)\n",
    "df['timestamp_month_name'] = df['timestamp'].dt.month_name() # 월(문자)\n",
    "df['timestamp_day']        = df['timestamp'].dt.day          # 일(숫자)\n",
    "df['timestamp_time']       = df['timestamp'].dt.time         # HH:MM:SS(문자)\n",
    "df['timestamp_hour']       = df['timestamp'].dt.hour         # 시(숫자)\n",
    "df['timestamp_minute']     = df['timestamp'].dt.minute       # 분(숫자)\n",
    "df['timestamp_second']     = df['timestamp'].dt.second       # 초(숫자)"
   ]
  },
  {
   "cell_type": "code",
   "execution_count": 6,
   "metadata": {},
   "outputs": [
    {
     "data": {
      "text/html": [
       "<div>\n",
       "<style scoped>\n",
       "    .dataframe tbody tr th:only-of-type {\n",
       "        vertical-align: middle;\n",
       "    }\n",
       "\n",
       "    .dataframe tbody tr th {\n",
       "        vertical-align: top;\n",
       "    }\n",
       "\n",
       "    .dataframe thead th {\n",
       "        text-align: right;\n",
       "    }\n",
       "</style>\n",
       "<table border=\"1\" class=\"dataframe\">\n",
       "  <thead>\n",
       "    <tr style=\"text-align: right;\">\n",
       "      <th></th>\n",
       "      <th>timestamp</th>\n",
       "      <th>quantity</th>\n",
       "      <th>price</th>\n",
       "      <th>fee</th>\n",
       "      <th>amount</th>\n",
       "      <th>side</th>\n",
       "      <th>timestamp_year_month_day</th>\n",
       "      <th>timestamp_year</th>\n",
       "      <th>timestamp_month</th>\n",
       "      <th>timestamp_month_name</th>\n",
       "      <th>timestamp_day</th>\n",
       "      <th>timestamp_time</th>\n",
       "      <th>timestamp_hour</th>\n",
       "      <th>timestamp_minute</th>\n",
       "      <th>timestamp_second</th>\n",
       "    </tr>\n",
       "  </thead>\n",
       "  <tbody>\n",
       "    <tr>\n",
       "      <th>0</th>\n",
       "      <td>2018-07-01 02:04:00</td>\n",
       "      <td>0.0750</td>\n",
       "      <td>7109000</td>\n",
       "      <td>0</td>\n",
       "      <td>-533175</td>\n",
       "      <td>0</td>\n",
       "      <td>2018-07-01</td>\n",
       "      <td>2018</td>\n",
       "      <td>7</td>\n",
       "      <td>July</td>\n",
       "      <td>1</td>\n",
       "      <td>02:04:00</td>\n",
       "      <td>2</td>\n",
       "      <td>4</td>\n",
       "      <td>0</td>\n",
       "    </tr>\n",
       "    <tr>\n",
       "      <th>1</th>\n",
       "      <td>2018-07-01 02:05:00</td>\n",
       "      <td>0.0750</td>\n",
       "      <td>7112000</td>\n",
       "      <td>0</td>\n",
       "      <td>533400</td>\n",
       "      <td>1</td>\n",
       "      <td>2018-07-01</td>\n",
       "      <td>2018</td>\n",
       "      <td>7</td>\n",
       "      <td>July</td>\n",
       "      <td>1</td>\n",
       "      <td>02:05:00</td>\n",
       "      <td>2</td>\n",
       "      <td>5</td>\n",
       "      <td>0</td>\n",
       "    </tr>\n",
       "    <tr>\n",
       "      <th>2</th>\n",
       "      <td>2018-07-01 02:42:00</td>\n",
       "      <td>0.0800</td>\n",
       "      <td>7094000</td>\n",
       "      <td>0</td>\n",
       "      <td>-567520</td>\n",
       "      <td>0</td>\n",
       "      <td>2018-07-01</td>\n",
       "      <td>2018</td>\n",
       "      <td>7</td>\n",
       "      <td>July</td>\n",
       "      <td>1</td>\n",
       "      <td>02:42:00</td>\n",
       "      <td>2</td>\n",
       "      <td>42</td>\n",
       "      <td>0</td>\n",
       "    </tr>\n",
       "    <tr>\n",
       "      <th>3</th>\n",
       "      <td>2018-07-01 02:44:00</td>\n",
       "      <td>0.0025</td>\n",
       "      <td>7094000</td>\n",
       "      <td>0</td>\n",
       "      <td>17735</td>\n",
       "      <td>1</td>\n",
       "      <td>2018-07-01</td>\n",
       "      <td>2018</td>\n",
       "      <td>7</td>\n",
       "      <td>July</td>\n",
       "      <td>1</td>\n",
       "      <td>02:44:00</td>\n",
       "      <td>2</td>\n",
       "      <td>44</td>\n",
       "      <td>0</td>\n",
       "    </tr>\n",
       "    <tr>\n",
       "      <th>4</th>\n",
       "      <td>2018-07-01 02:46:00</td>\n",
       "      <td>0.0775</td>\n",
       "      <td>7094000</td>\n",
       "      <td>0</td>\n",
       "      <td>549785</td>\n",
       "      <td>1</td>\n",
       "      <td>2018-07-01</td>\n",
       "      <td>2018</td>\n",
       "      <td>7</td>\n",
       "      <td>July</td>\n",
       "      <td>1</td>\n",
       "      <td>02:46:00</td>\n",
       "      <td>2</td>\n",
       "      <td>46</td>\n",
       "      <td>0</td>\n",
       "    </tr>\n",
       "    <tr>\n",
       "      <th>...</th>\n",
       "      <td>...</td>\n",
       "      <td>...</td>\n",
       "      <td>...</td>\n",
       "      <td>...</td>\n",
       "      <td>...</td>\n",
       "      <td>...</td>\n",
       "      <td>...</td>\n",
       "      <td>...</td>\n",
       "      <td>...</td>\n",
       "      <td>...</td>\n",
       "      <td>...</td>\n",
       "      <td>...</td>\n",
       "      <td>...</td>\n",
       "      <td>...</td>\n",
       "      <td>...</td>\n",
       "    </tr>\n",
       "    <tr>\n",
       "      <th>9462</th>\n",
       "      <td>2018-07-16 23:59:00</td>\n",
       "      <td>0.0142</td>\n",
       "      <td>7384000</td>\n",
       "      <td>0</td>\n",
       "      <td>104853</td>\n",
       "      <td>1</td>\n",
       "      <td>2018-07-16</td>\n",
       "      <td>2018</td>\n",
       "      <td>7</td>\n",
       "      <td>July</td>\n",
       "      <td>16</td>\n",
       "      <td>23:59:00</td>\n",
       "      <td>23</td>\n",
       "      <td>59</td>\n",
       "      <td>0</td>\n",
       "    </tr>\n",
       "    <tr>\n",
       "      <th>9463</th>\n",
       "      <td>2018-07-16 23:59:00</td>\n",
       "      <td>0.1505</td>\n",
       "      <td>7384000</td>\n",
       "      <td>0</td>\n",
       "      <td>1111292</td>\n",
       "      <td>1</td>\n",
       "      <td>2018-07-16</td>\n",
       "      <td>2018</td>\n",
       "      <td>7</td>\n",
       "      <td>July</td>\n",
       "      <td>16</td>\n",
       "      <td>23:59:00</td>\n",
       "      <td>23</td>\n",
       "      <td>59</td>\n",
       "      <td>0</td>\n",
       "    </tr>\n",
       "    <tr>\n",
       "      <th>9464</th>\n",
       "      <td>2018-07-17 00:00:00</td>\n",
       "      <td>0.3153</td>\n",
       "      <td>7385000</td>\n",
       "      <td>0</td>\n",
       "      <td>2328491</td>\n",
       "      <td>1</td>\n",
       "      <td>2018-07-17</td>\n",
       "      <td>2018</td>\n",
       "      <td>7</td>\n",
       "      <td>July</td>\n",
       "      <td>17</td>\n",
       "      <td>00:00:00</td>\n",
       "      <td>0</td>\n",
       "      <td>0</td>\n",
       "      <td>0</td>\n",
       "    </tr>\n",
       "    <tr>\n",
       "      <th>9465</th>\n",
       "      <td>2018-07-17 00:00:00</td>\n",
       "      <td>0.0139</td>\n",
       "      <td>7385000</td>\n",
       "      <td>0</td>\n",
       "      <td>-102652</td>\n",
       "      <td>0</td>\n",
       "      <td>2018-07-17</td>\n",
       "      <td>2018</td>\n",
       "      <td>7</td>\n",
       "      <td>July</td>\n",
       "      <td>17</td>\n",
       "      <td>00:00:00</td>\n",
       "      <td>0</td>\n",
       "      <td>0</td>\n",
       "      <td>0</td>\n",
       "    </tr>\n",
       "    <tr>\n",
       "      <th>9466</th>\n",
       "      <td>2018-07-17 00:00:00</td>\n",
       "      <td>0.0139</td>\n",
       "      <td>7387000</td>\n",
       "      <td>0</td>\n",
       "      <td>102679</td>\n",
       "      <td>1</td>\n",
       "      <td>2018-07-17</td>\n",
       "      <td>2018</td>\n",
       "      <td>7</td>\n",
       "      <td>July</td>\n",
       "      <td>17</td>\n",
       "      <td>00:00:00</td>\n",
       "      <td>0</td>\n",
       "      <td>0</td>\n",
       "      <td>0</td>\n",
       "    </tr>\n",
       "  </tbody>\n",
       "</table>\n",
       "<p>9467 rows × 15 columns</p>\n",
       "</div>"
      ],
      "text/plain": [
       "               timestamp  quantity    price  fee   amount  side  \\\n",
       "0    2018-07-01 02:04:00    0.0750  7109000    0  -533175     0   \n",
       "1    2018-07-01 02:05:00    0.0750  7112000    0   533400     1   \n",
       "2    2018-07-01 02:42:00    0.0800  7094000    0  -567520     0   \n",
       "3    2018-07-01 02:44:00    0.0025  7094000    0    17735     1   \n",
       "4    2018-07-01 02:46:00    0.0775  7094000    0   549785     1   \n",
       "...                  ...       ...      ...  ...      ...   ...   \n",
       "9462 2018-07-16 23:59:00    0.0142  7384000    0   104853     1   \n",
       "9463 2018-07-16 23:59:00    0.1505  7384000    0  1111292     1   \n",
       "9464 2018-07-17 00:00:00    0.3153  7385000    0  2328491     1   \n",
       "9465 2018-07-17 00:00:00    0.0139  7385000    0  -102652     0   \n",
       "9466 2018-07-17 00:00:00    0.0139  7387000    0   102679     1   \n",
       "\n",
       "     timestamp_year_month_day  timestamp_year  timestamp_month  \\\n",
       "0                  2018-07-01            2018                7   \n",
       "1                  2018-07-01            2018                7   \n",
       "2                  2018-07-01            2018                7   \n",
       "3                  2018-07-01            2018                7   \n",
       "4                  2018-07-01            2018                7   \n",
       "...                       ...             ...              ...   \n",
       "9462               2018-07-16            2018                7   \n",
       "9463               2018-07-16            2018                7   \n",
       "9464               2018-07-17            2018                7   \n",
       "9465               2018-07-17            2018                7   \n",
       "9466               2018-07-17            2018                7   \n",
       "\n",
       "     timestamp_month_name  timestamp_day timestamp_time  timestamp_hour  \\\n",
       "0                    July              1       02:04:00               2   \n",
       "1                    July              1       02:05:00               2   \n",
       "2                    July              1       02:42:00               2   \n",
       "3                    July              1       02:44:00               2   \n",
       "4                    July              1       02:46:00               2   \n",
       "...                   ...            ...            ...             ...   \n",
       "9462                 July             16       23:59:00              23   \n",
       "9463                 July             16       23:59:00              23   \n",
       "9464                 July             17       00:00:00               0   \n",
       "9465                 July             17       00:00:00               0   \n",
       "9466                 July             17       00:00:00               0   \n",
       "\n",
       "      timestamp_minute  timestamp_second  \n",
       "0                    4                 0  \n",
       "1                    5                 0  \n",
       "2                   42                 0  \n",
       "3                   44                 0  \n",
       "4                   46                 0  \n",
       "...                ...               ...  \n",
       "9462                59                 0  \n",
       "9463                59                 0  \n",
       "9464                 0                 0  \n",
       "9465                 0                 0  \n",
       "9466                 0                 0  \n",
       "\n",
       "[9467 rows x 15 columns]"
      ]
     },
     "execution_count": 6,
     "metadata": {},
     "output_type": "execute_result"
    }
   ],
   "source": [
    "df"
   ]
  },
  {
   "cell_type": "code",
   "execution_count": 7,
   "metadata": {},
   "outputs": [],
   "source": [
    "## creating 'day - amount' connection\n",
    "group_day_amount = df['amount'].groupby(df['timestamp_year_month_day'])"
   ]
  },
  {
   "cell_type": "code",
   "execution_count": 8,
   "metadata": {},
   "outputs": [
    {
     "data": {
      "text/plain": [
       "timestamp_year_month_day\n",
       "2018-07-01   -14585370\n",
       "2018-07-02    15168016\n",
       "2018-07-03      167826\n",
       "2018-07-04   -18993006\n",
       "2018-07-05    19456952\n",
       "2018-07-06   -21771154\n",
       "2018-07-07     6844664\n",
       "2018-07-08    15315231\n",
       "2018-07-09   -12685945\n",
       "2018-07-10    -9070107\n",
       "2018-07-11    18322011\n",
       "2018-07-12   -16529390\n",
       "2018-07-13      108019\n",
       "2018-07-14    -2453009\n",
       "2018-07-15     4226376\n",
       "2018-07-16    14644517\n",
       "2018-07-17     2328518\n",
       "Name: amount, dtype: int64"
      ]
     },
     "execution_count": 8,
     "metadata": {},
     "output_type": "execute_result"
    }
   ],
   "source": [
    "## 일별 총 손익량\n",
    "group_day_amount.sum()"
   ]
  },
  {
   "cell_type": "code",
   "execution_count": 9,
   "metadata": {},
   "outputs": [
    {
     "data": {
      "text/plain": [
       "[timestamp_year_month_day\n",
       " 2018-07-01   -14585370\n",
       " 2018-07-02    15168016\n",
       " 2018-07-03      167826\n",
       " 2018-07-04   -18993006\n",
       " 2018-07-05    19456952\n",
       " 2018-07-06   -21771154\n",
       " 2018-07-07     6844664\n",
       " 2018-07-08    15315231\n",
       " 2018-07-09   -12685945\n",
       " 2018-07-10    -9070107\n",
       " 2018-07-11    18322011\n",
       " 2018-07-12   -16529390\n",
       " 2018-07-13      108019\n",
       " 2018-07-14    -2453009\n",
       " 2018-07-15     4226376\n",
       " 2018-07-16    14644517\n",
       " 2018-07-17     2328518\n",
       " Name: amount, dtype: int64]"
      ]
     },
     "execution_count": 9,
     "metadata": {},
     "output_type": "execute_result"
    }
   ],
   "source": [
    "## 일별 계산 table 생성\n",
    "dfs = [group_day_amount.sum()]\n",
    "dfs"
   ]
  },
  {
   "cell_type": "code",
   "execution_count": 10,
   "metadata": {},
   "outputs": [
    {
     "data": {
      "text/plain": [
       "timestamp_year_month_day\n",
       "2018-07-01   -14585370\n",
       "2018-07-02    15168016\n",
       "2018-07-03      167826\n",
       "2018-07-04   -18993006\n",
       "2018-07-05    19456952\n",
       "2018-07-06   -21771154\n",
       "2018-07-07     6844664\n",
       "2018-07-08    15315231\n",
       "2018-07-09   -12685945\n",
       "2018-07-10    -9070107\n",
       "2018-07-11    18322011\n",
       "2018-07-12   -16529390\n",
       "2018-07-13      108019\n",
       "2018-07-14    -2453009\n",
       "2018-07-15     4226376\n",
       "2018-07-16    14644517\n",
       "2018-07-17     2328518\n",
       "Name: amount, dtype: int64"
      ]
     },
     "execution_count": 10,
     "metadata": {},
     "output_type": "execute_result"
    }
   ],
   "source": [
    "day_df_final = reduce(lambda left,right: pd.merge(left,right,on='timestamp_year_month_day'), dfs)\n",
    "day_df_final.columns = [ \"daily profit\"]\n",
    "day_df_final"
   ]
  },
  {
   "cell_type": "code",
   "execution_count": 11,
   "metadata": {},
   "outputs": [
    {
     "name": "stdout",
     "output_type": "stream",
     "text": [
      "timestamp_year_month_day\n",
      "2018-07-01   -14585370\n",
      "2018-07-02    15168016\n",
      "2018-07-03      167826\n",
      "2018-07-04   -18993006\n",
      "2018-07-05    19456952\n",
      "2018-07-06   -21771154\n",
      "2018-07-07     6844664\n",
      "2018-07-08    15315231\n",
      "2018-07-09   -12685945\n",
      "2018-07-10    -9070107\n",
      "2018-07-11    18322011\n",
      "2018-07-12   -16529390\n",
      "2018-07-13      108019\n",
      "2018-07-14    -2453009\n",
      "2018-07-15     4226376\n",
      "2018-07-16    14644517\n",
      "2018-07-17     2328518\n",
      "Freq: D, Name: amount, dtype: int64\n"
     ]
    }
   ],
   "source": [
    "print(day_df_final.asfreq('D'))"
   ]
  },
  {
   "cell_type": "code",
   "execution_count": 12,
   "metadata": {},
   "outputs": [],
   "source": [
    "day_df_final.index = pd.DatetimeIndex(day_df_final.index)"
   ]
  },
  {
   "cell_type": "code",
   "execution_count": 13,
   "metadata": {},
   "outputs": [
    {
     "name": "stdout",
     "output_type": "stream",
     "text": [
      "DatetimeIndex(['2018-01-01', '2018-01-02', '2018-01-03', '2018-01-04',\n",
      "               '2018-01-05', '2018-01-06', '2018-01-07', '2018-01-08',\n",
      "               '2018-01-09', '2018-01-10', '2018-01-11', '2018-01-12',\n",
      "               '2018-01-13', '2018-01-14', '2018-01-15', '2018-01-16',\n",
      "               '2018-01-17', '2018-01-18', '2018-01-19', '2018-01-20',\n",
      "               '2018-01-21', '2018-01-22', '2018-01-23', '2018-01-24',\n",
      "               '2018-01-25', '2018-01-26', '2018-01-27', '2018-01-28',\n",
      "               '2018-01-29', '2018-01-30', '2018-01-31'],\n",
      "              dtype='datetime64[ns]', freq='D')\n"
     ]
    }
   ],
   "source": [
    "year=2018\n",
    "i = 1\n",
    "idx = pd.date_range(start = \"{}-{}-1\".format(year, i), periods = pd.Period(\"{}-{}-1\".format(year, i)).days_in_month)\n",
    "print(idx)"
   ]
  },
  {
   "cell_type": "code",
   "execution_count": 14,
   "metadata": {},
   "outputs": [],
   "source": [
    "day_df_final.to_csv(\"/Users/hamin/bithumb_bot_data/endingPrice/dailyProfit/dailyProfit07.csv\", header=True, index=True, encoding = 'utf-8')"
   ]
  },
  {
   "cell_type": "code",
   "execution_count": null,
   "metadata": {},
   "outputs": [],
   "source": []
  },
  {
   "cell_type": "code",
   "execution_count": null,
   "metadata": {},
   "outputs": [],
   "source": []
  },
  {
   "cell_type": "code",
   "execution_count": null,
   "metadata": {},
   "outputs": [],
   "source": []
  },
  {
   "cell_type": "code",
   "execution_count": null,
   "metadata": {},
   "outputs": [],
   "source": []
  },
  {
   "cell_type": "code",
   "execution_count": null,
   "metadata": {},
   "outputs": [],
   "source": []
  },
  {
   "cell_type": "code",
   "execution_count": null,
   "metadata": {},
   "outputs": [],
   "source": []
  },
  {
   "cell_type": "code",
   "execution_count": null,
   "metadata": {},
   "outputs": [],
   "source": []
  },
  {
   "cell_type": "code",
   "execution_count": null,
   "metadata": {},
   "outputs": [],
   "source": []
  },
  {
   "cell_type": "code",
   "execution_count": 42,
   "metadata": {},
   "outputs": [],
   "source": []
  },
  {
   "cell_type": "code",
   "execution_count": null,
   "metadata": {},
   "outputs": [],
   "source": []
  },
  {
   "cell_type": "code",
   "execution_count": null,
   "metadata": {},
   "outputs": [],
   "source": []
  }
 ],
 "metadata": {
  "kernelspec": {
   "display_name": "Python 3.6.1 64-bit ('py36': conda)",
   "language": "python",
   "name": "python36164bitpy36condaf671229c5204498c818fa54442373f5a"
  },
  "language_info": {
   "codemirror_mode": {
    "name": "ipython",
    "version": 3
   },
   "file_extension": ".py",
   "mimetype": "text/x-python",
   "name": "python",
   "nbconvert_exporter": "python",
   "pygments_lexer": "ipython3",
   "version": "3.6.1"
  }
 },
 "nbformat": 4,
 "nbformat_minor": 4
}
