{
 "cells": [
  {
   "cell_type": "code",
   "execution_count": 1,
   "metadata": {},
   "outputs": [],
   "source": [
    "import pandas as pd\n",
    "import numpy as np\n",
    "from functools import reduce\n",
    "import matplotlib.pyplot as plt\n",
    "from pylab import figure, axes, pie, title, savefig"
   ]
  },
  {
   "cell_type": "code",
   "execution_count": 2,
   "metadata": {},
   "outputs": [],
   "source": [
    "df = pd.read_csv(\"/Users/hamin/ITE3035_Python/Data_Science/endingPrice/profit_point/bithumb-2018-06-btc-profit_point_graph_table.csv\")"
   ]
  },
  {
   "cell_type": "code",
   "execution_count": 3,
   "metadata": {},
   "outputs": [
    {
     "data": {
      "text/plain": [
       "Unnamed: 0               int64\n",
       "timestamp               object\n",
       "point_amount_cumsum    float64\n",
       "dtype: object"
      ]
     },
     "execution_count": 3,
     "metadata": {},
     "output_type": "execute_result"
    }
   ],
   "source": [
    "df.dtypes"
   ]
  },
  {
   "cell_type": "code",
   "execution_count": 4,
   "metadata": {},
   "outputs": [
    {
     "data": {
      "text/plain": [
       "Unnamed: 0                      int64\n",
       "timestamp              datetime64[ns]\n",
       "point_amount_cumsum           float64\n",
       "dtype: object"
      ]
     },
     "execution_count": 4,
     "metadata": {},
     "output_type": "execute_result"
    }
   ],
   "source": [
    "# converting timestamp column type 'object' to 'datetime'\n",
    "df['timestamp'] = pd.to_datetime(df['timestamp'], format = '%Y-%m-%d %H:%M:%S', errors='raise')\n",
    "df.dtypes"
   ]
  },
  {
   "cell_type": "code",
   "execution_count": 5,
   "metadata": {},
   "outputs": [],
   "source": [
    "## converting timestamp to detailed date column\n",
    "df['timestamp_year_month_day']       = df['timestamp'].dt.date         # YYYY-MM-DD(문자)\n",
    "df['timestamp_year']       = df['timestamp'].dt.year         # 연(4자리숫자)\n",
    "df['timestamp_month']      = df['timestamp'].dt.month        # 월(숫자)\n",
    "df['timestamp_month_name'] = df['timestamp'].dt.month_name() # 월(문자)\n",
    "df['timestamp_day']        = df['timestamp'].dt.day          # 일(숫자)\n",
    "df['timestamp_time']       = df['timestamp'].dt.time         # HH:MM:SS(문자)\n",
    "df['timestamp_hour']       = df['timestamp'].dt.hour         # 시(숫자)\n",
    "df['timestamp_minute']     = df['timestamp'].dt.minute       # 분(숫자)\n",
    "df['timestamp_second']     = df['timestamp'].dt.second       # 초(숫자)"
   ]
  },
  {
   "cell_type": "code",
   "execution_count": 6,
   "metadata": {},
   "outputs": [
    {
     "data": {
      "text/html": [
       "<div>\n",
       "<style scoped>\n",
       "    .dataframe tbody tr th:only-of-type {\n",
       "        vertical-align: middle;\n",
       "    }\n",
       "\n",
       "    .dataframe tbody tr th {\n",
       "        vertical-align: top;\n",
       "    }\n",
       "\n",
       "    .dataframe thead th {\n",
       "        text-align: right;\n",
       "    }\n",
       "</style>\n",
       "<table border=\"1\" class=\"dataframe\">\n",
       "  <thead>\n",
       "    <tr style=\"text-align: right;\">\n",
       "      <th></th>\n",
       "      <th>Unnamed: 0</th>\n",
       "      <th>timestamp</th>\n",
       "      <th>point_amount_cumsum</th>\n",
       "      <th>timestamp_year_month_day</th>\n",
       "      <th>timestamp_year</th>\n",
       "      <th>timestamp_month</th>\n",
       "      <th>timestamp_month_name</th>\n",
       "      <th>timestamp_day</th>\n",
       "      <th>timestamp_time</th>\n",
       "      <th>timestamp_hour</th>\n",
       "      <th>timestamp_minute</th>\n",
       "      <th>timestamp_second</th>\n",
       "    </tr>\n",
       "  </thead>\n",
       "  <tbody>\n",
       "    <tr>\n",
       "      <th>0</th>\n",
       "      <td>6</td>\n",
       "      <td>2018-06-01 02:00:45</td>\n",
       "      <td>-702.0</td>\n",
       "      <td>2018-06-01</td>\n",
       "      <td>2018</td>\n",
       "      <td>6</td>\n",
       "      <td>June</td>\n",
       "      <td>1</td>\n",
       "      <td>02:00:45</td>\n",
       "      <td>2</td>\n",
       "      <td>0</td>\n",
       "      <td>45</td>\n",
       "    </tr>\n",
       "    <tr>\n",
       "      <th>1</th>\n",
       "      <td>7</td>\n",
       "      <td>2018-06-01 02:05:02</td>\n",
       "      <td>-37431.0</td>\n",
       "      <td>2018-06-01</td>\n",
       "      <td>2018</td>\n",
       "      <td>6</td>\n",
       "      <td>June</td>\n",
       "      <td>1</td>\n",
       "      <td>02:05:02</td>\n",
       "      <td>2</td>\n",
       "      <td>5</td>\n",
       "      <td>2</td>\n",
       "    </tr>\n",
       "    <tr>\n",
       "      <th>2</th>\n",
       "      <td>8</td>\n",
       "      <td>2018-06-01 02:05:54</td>\n",
       "      <td>37499.0</td>\n",
       "      <td>2018-06-01</td>\n",
       "      <td>2018</td>\n",
       "      <td>6</td>\n",
       "      <td>June</td>\n",
       "      <td>1</td>\n",
       "      <td>02:05:54</td>\n",
       "      <td>2</td>\n",
       "      <td>5</td>\n",
       "      <td>54</td>\n",
       "    </tr>\n",
       "    <tr>\n",
       "      <th>3</th>\n",
       "      <td>13</td>\n",
       "      <td>2018-06-01 03:43:16</td>\n",
       "      <td>-4739.0</td>\n",
       "      <td>2018-06-01</td>\n",
       "      <td>2018</td>\n",
       "      <td>6</td>\n",
       "      <td>June</td>\n",
       "      <td>1</td>\n",
       "      <td>03:43:16</td>\n",
       "      <td>3</td>\n",
       "      <td>43</td>\n",
       "      <td>16</td>\n",
       "    </tr>\n",
       "    <tr>\n",
       "      <th>4</th>\n",
       "      <td>57</td>\n",
       "      <td>2018-06-01 06:02:29</td>\n",
       "      <td>13870.0</td>\n",
       "      <td>2018-06-01</td>\n",
       "      <td>2018</td>\n",
       "      <td>6</td>\n",
       "      <td>June</td>\n",
       "      <td>1</td>\n",
       "      <td>06:02:29</td>\n",
       "      <td>6</td>\n",
       "      <td>2</td>\n",
       "      <td>29</td>\n",
       "    </tr>\n",
       "    <tr>\n",
       "      <th>...</th>\n",
       "      <td>...</td>\n",
       "      <td>...</td>\n",
       "      <td>...</td>\n",
       "      <td>...</td>\n",
       "      <td>...</td>\n",
       "      <td>...</td>\n",
       "      <td>...</td>\n",
       "      <td>...</td>\n",
       "      <td>...</td>\n",
       "      <td>...</td>\n",
       "      <td>...</td>\n",
       "      <td>...</td>\n",
       "    </tr>\n",
       "    <tr>\n",
       "      <th>1243</th>\n",
       "      <td>8766</td>\n",
       "      <td>2018-06-30 21:43:31</td>\n",
       "      <td>61170.0</td>\n",
       "      <td>2018-06-30</td>\n",
       "      <td>2018</td>\n",
       "      <td>6</td>\n",
       "      <td>June</td>\n",
       "      <td>30</td>\n",
       "      <td>21:43:31</td>\n",
       "      <td>21</td>\n",
       "      <td>43</td>\n",
       "      <td>31</td>\n",
       "    </tr>\n",
       "    <tr>\n",
       "      <th>1244</th>\n",
       "      <td>8769</td>\n",
       "      <td>2018-06-30 21:53:26</td>\n",
       "      <td>118.0</td>\n",
       "      <td>2018-06-30</td>\n",
       "      <td>2018</td>\n",
       "      <td>6</td>\n",
       "      <td>June</td>\n",
       "      <td>30</td>\n",
       "      <td>21:53:26</td>\n",
       "      <td>21</td>\n",
       "      <td>53</td>\n",
       "      <td>26</td>\n",
       "    </tr>\n",
       "    <tr>\n",
       "      <th>1245</th>\n",
       "      <td>8770</td>\n",
       "      <td>2018-06-30 23:04:48</td>\n",
       "      <td>-40040.0</td>\n",
       "      <td>2018-06-30</td>\n",
       "      <td>2018</td>\n",
       "      <td>6</td>\n",
       "      <td>June</td>\n",
       "      <td>30</td>\n",
       "      <td>23:04:48</td>\n",
       "      <td>23</td>\n",
       "      <td>4</td>\n",
       "      <td>48</td>\n",
       "    </tr>\n",
       "    <tr>\n",
       "      <th>1246</th>\n",
       "      <td>8775</td>\n",
       "      <td>2018-06-30 23:07:17</td>\n",
       "      <td>36731.0</td>\n",
       "      <td>2018-06-30</td>\n",
       "      <td>2018</td>\n",
       "      <td>6</td>\n",
       "      <td>June</td>\n",
       "      <td>30</td>\n",
       "      <td>23:07:17</td>\n",
       "      <td>23</td>\n",
       "      <td>7</td>\n",
       "      <td>17</td>\n",
       "    </tr>\n",
       "    <tr>\n",
       "      <th>1247</th>\n",
       "      <td>8778</td>\n",
       "      <td>2018-06-30 23:25:30</td>\n",
       "      <td>56.0</td>\n",
       "      <td>2018-06-30</td>\n",
       "      <td>2018</td>\n",
       "      <td>6</td>\n",
       "      <td>June</td>\n",
       "      <td>30</td>\n",
       "      <td>23:25:30</td>\n",
       "      <td>23</td>\n",
       "      <td>25</td>\n",
       "      <td>30</td>\n",
       "    </tr>\n",
       "  </tbody>\n",
       "</table>\n",
       "<p>1248 rows × 12 columns</p>\n",
       "</div>"
      ],
      "text/plain": [
       "      Unnamed: 0           timestamp  point_amount_cumsum  \\\n",
       "0              6 2018-06-01 02:00:45               -702.0   \n",
       "1              7 2018-06-01 02:05:02             -37431.0   \n",
       "2              8 2018-06-01 02:05:54              37499.0   \n",
       "3             13 2018-06-01 03:43:16              -4739.0   \n",
       "4             57 2018-06-01 06:02:29              13870.0   \n",
       "...          ...                 ...                  ...   \n",
       "1243        8766 2018-06-30 21:43:31              61170.0   \n",
       "1244        8769 2018-06-30 21:53:26                118.0   \n",
       "1245        8770 2018-06-30 23:04:48             -40040.0   \n",
       "1246        8775 2018-06-30 23:07:17              36731.0   \n",
       "1247        8778 2018-06-30 23:25:30                 56.0   \n",
       "\n",
       "     timestamp_year_month_day  timestamp_year  timestamp_month  \\\n",
       "0                  2018-06-01            2018                6   \n",
       "1                  2018-06-01            2018                6   \n",
       "2                  2018-06-01            2018                6   \n",
       "3                  2018-06-01            2018                6   \n",
       "4                  2018-06-01            2018                6   \n",
       "...                       ...             ...              ...   \n",
       "1243               2018-06-30            2018                6   \n",
       "1244               2018-06-30            2018                6   \n",
       "1245               2018-06-30            2018                6   \n",
       "1246               2018-06-30            2018                6   \n",
       "1247               2018-06-30            2018                6   \n",
       "\n",
       "     timestamp_month_name  timestamp_day timestamp_time  timestamp_hour  \\\n",
       "0                    June              1       02:00:45               2   \n",
       "1                    June              1       02:05:02               2   \n",
       "2                    June              1       02:05:54               2   \n",
       "3                    June              1       03:43:16               3   \n",
       "4                    June              1       06:02:29               6   \n",
       "...                   ...            ...            ...             ...   \n",
       "1243                 June             30       21:43:31              21   \n",
       "1244                 June             30       21:53:26              21   \n",
       "1245                 June             30       23:04:48              23   \n",
       "1246                 June             30       23:07:17              23   \n",
       "1247                 June             30       23:25:30              23   \n",
       "\n",
       "      timestamp_minute  timestamp_second  \n",
       "0                    0                45  \n",
       "1                    5                 2  \n",
       "2                    5                54  \n",
       "3                   43                16  \n",
       "4                    2                29  \n",
       "...                ...               ...  \n",
       "1243                43                31  \n",
       "1244                53                26  \n",
       "1245                 4                48  \n",
       "1246                 7                17  \n",
       "1247                25                30  \n",
       "\n",
       "[1248 rows x 12 columns]"
      ]
     },
     "execution_count": 6,
     "metadata": {},
     "output_type": "execute_result"
    }
   ],
   "source": [
    "df"
   ]
  },
  {
   "cell_type": "code",
   "execution_count": 7,
   "metadata": {},
   "outputs": [],
   "source": [
    "## creating 'day - amount' connection\n",
    "group_day_amount = df['point_amount_cumsum'].groupby(df['timestamp_year_month_day'])"
   ]
  },
  {
   "cell_type": "code",
   "execution_count": 8,
   "metadata": {},
   "outputs": [
    {
     "data": {
      "text/plain": [
       "timestamp_year_month_day\n",
       "2018-06-01    -129920.0\n",
       "2018-06-02      25622.0\n",
       "2018-06-03     245492.0\n",
       "2018-06-04    -137958.0\n",
       "2018-06-05      77060.0\n",
       "2018-06-06     596013.0\n",
       "2018-06-07     306809.0\n",
       "2018-06-08     101945.0\n",
       "2018-06-09     254221.0\n",
       "2018-06-10    -239243.0\n",
       "2018-06-11    -196706.0\n",
       "2018-06-12     303336.0\n",
       "2018-06-13      39922.0\n",
       "2018-06-14     512364.0\n",
       "2018-06-15     661295.0\n",
       "2018-06-16      75841.0\n",
       "2018-06-17     588591.0\n",
       "2018-06-18      -7084.0\n",
       "2018-06-19      76805.0\n",
       "2018-06-20     -89624.0\n",
       "2018-06-21     322135.0\n",
       "2018-06-22    -491323.0\n",
       "2018-06-23      31449.0\n",
       "2018-06-24     106854.0\n",
       "2018-06-25      82444.0\n",
       "2018-06-26     197792.0\n",
       "2018-06-27    -115889.0\n",
       "2018-06-28      43101.0\n",
       "2018-06-29     -22237.0\n",
       "2018-06-30    1294735.0\n",
       "Name: point_amount_cumsum, dtype: float64"
      ]
     },
     "execution_count": 8,
     "metadata": {},
     "output_type": "execute_result"
    }
   ],
   "source": [
    "## 일별 총 손익량\n",
    "group_day_amount.sum()"
   ]
  },
  {
   "cell_type": "code",
   "execution_count": 9,
   "metadata": {},
   "outputs": [
    {
     "data": {
      "text/plain": [
       "[timestamp_year_month_day\n",
       " 2018-06-01    -129920.0\n",
       " 2018-06-02      25622.0\n",
       " 2018-06-03     245492.0\n",
       " 2018-06-04    -137958.0\n",
       " 2018-06-05      77060.0\n",
       " 2018-06-06     596013.0\n",
       " 2018-06-07     306809.0\n",
       " 2018-06-08     101945.0\n",
       " 2018-06-09     254221.0\n",
       " 2018-06-10    -239243.0\n",
       " 2018-06-11    -196706.0\n",
       " 2018-06-12     303336.0\n",
       " 2018-06-13      39922.0\n",
       " 2018-06-14     512364.0\n",
       " 2018-06-15     661295.0\n",
       " 2018-06-16      75841.0\n",
       " 2018-06-17     588591.0\n",
       " 2018-06-18      -7084.0\n",
       " 2018-06-19      76805.0\n",
       " 2018-06-20     -89624.0\n",
       " 2018-06-21     322135.0\n",
       " 2018-06-22    -491323.0\n",
       " 2018-06-23      31449.0\n",
       " 2018-06-24     106854.0\n",
       " 2018-06-25      82444.0\n",
       " 2018-06-26     197792.0\n",
       " 2018-06-27    -115889.0\n",
       " 2018-06-28      43101.0\n",
       " 2018-06-29     -22237.0\n",
       " 2018-06-30    1294735.0\n",
       " Name: point_amount_cumsum, dtype: float64]"
      ]
     },
     "execution_count": 9,
     "metadata": {},
     "output_type": "execute_result"
    }
   ],
   "source": [
    "## 일별 계산 table 생성\n",
    "dfs = [group_day_amount.sum()]\n",
    "dfs"
   ]
  },
  {
   "cell_type": "code",
   "execution_count": 10,
   "metadata": {},
   "outputs": [
    {
     "data": {
      "text/plain": [
       "timestamp_year_month_day\n",
       "2018-06-01    -129920.0\n",
       "2018-06-02      25622.0\n",
       "2018-06-03     245492.0\n",
       "2018-06-04    -137958.0\n",
       "2018-06-05      77060.0\n",
       "2018-06-06     596013.0\n",
       "2018-06-07     306809.0\n",
       "2018-06-08     101945.0\n",
       "2018-06-09     254221.0\n",
       "2018-06-10    -239243.0\n",
       "2018-06-11    -196706.0\n",
       "2018-06-12     303336.0\n",
       "2018-06-13      39922.0\n",
       "2018-06-14     512364.0\n",
       "2018-06-15     661295.0\n",
       "2018-06-16      75841.0\n",
       "2018-06-17     588591.0\n",
       "2018-06-18      -7084.0\n",
       "2018-06-19      76805.0\n",
       "2018-06-20     -89624.0\n",
       "2018-06-21     322135.0\n",
       "2018-06-22    -491323.0\n",
       "2018-06-23      31449.0\n",
       "2018-06-24     106854.0\n",
       "2018-06-25      82444.0\n",
       "2018-06-26     197792.0\n",
       "2018-06-27    -115889.0\n",
       "2018-06-28      43101.0\n",
       "2018-06-29     -22237.0\n",
       "2018-06-30    1294735.0\n",
       "Name: point_amount_cumsum, dtype: float64"
      ]
     },
     "execution_count": 10,
     "metadata": {},
     "output_type": "execute_result"
    }
   ],
   "source": [
    "day_df_final = reduce(lambda left,right: pd.merge(left,right,on='timestamp_year_month_day'), dfs)\n",
    "day_df_final.columns = [ \"daily profit\"]\n",
    "day_df_final"
   ]
  },
  {
   "cell_type": "code",
   "execution_count": 11,
   "metadata": {},
   "outputs": [
    {
     "name": "stdout",
     "output_type": "stream",
     "text": [
      "timestamp_year_month_day\n",
      "2018-06-01    -129920.0\n",
      "2018-06-02      25622.0\n",
      "2018-06-03     245492.0\n",
      "2018-06-04    -137958.0\n",
      "2018-06-05      77060.0\n",
      "2018-06-06     596013.0\n",
      "2018-06-07     306809.0\n",
      "2018-06-08     101945.0\n",
      "2018-06-09     254221.0\n",
      "2018-06-10    -239243.0\n",
      "2018-06-11    -196706.0\n",
      "2018-06-12     303336.0\n",
      "2018-06-13      39922.0\n",
      "2018-06-14     512364.0\n",
      "2018-06-15     661295.0\n",
      "2018-06-16      75841.0\n",
      "2018-06-17     588591.0\n",
      "2018-06-18      -7084.0\n",
      "2018-06-19      76805.0\n",
      "2018-06-20     -89624.0\n",
      "2018-06-21     322135.0\n",
      "2018-06-22    -491323.0\n",
      "2018-06-23      31449.0\n",
      "2018-06-24     106854.0\n",
      "2018-06-25      82444.0\n",
      "2018-06-26     197792.0\n",
      "2018-06-27    -115889.0\n",
      "2018-06-28      43101.0\n",
      "2018-06-29     -22237.0\n",
      "2018-06-30    1294735.0\n",
      "Freq: D, Name: point_amount_cumsum, dtype: float64\n"
     ]
    }
   ],
   "source": [
    "print(day_df_final.asfreq('D'))"
   ]
  },
  {
   "cell_type": "code",
   "execution_count": 12,
   "metadata": {},
   "outputs": [],
   "source": [
    "day_df_final.index = pd.DatetimeIndex(day_df_final.index)"
   ]
  },
  {
   "cell_type": "code",
   "execution_count": 13,
   "metadata": {},
   "outputs": [
    {
     "name": "stdout",
     "output_type": "stream",
     "text": [
      "DatetimeIndex(['2018-01-01', '2018-01-02', '2018-01-03', '2018-01-04',\n",
      "               '2018-01-05', '2018-01-06', '2018-01-07', '2018-01-08',\n",
      "               '2018-01-09', '2018-01-10', '2018-01-11', '2018-01-12',\n",
      "               '2018-01-13', '2018-01-14', '2018-01-15', '2018-01-16',\n",
      "               '2018-01-17', '2018-01-18', '2018-01-19', '2018-01-20',\n",
      "               '2018-01-21', '2018-01-22', '2018-01-23', '2018-01-24',\n",
      "               '2018-01-25', '2018-01-26', '2018-01-27', '2018-01-28',\n",
      "               '2018-01-29', '2018-01-30', '2018-01-31'],\n",
      "              dtype='datetime64[ns]', freq='D')\n"
     ]
    }
   ],
   "source": [
    "year=2018\n",
    "i = 1\n",
    "idx = pd.date_range(start = \"{}-{}-1\".format(year, i), periods = pd.Period(\"{}-{}-1\".format(year, i)).days_in_month)\n",
    "print(idx)"
   ]
  },
  {
   "cell_type": "code",
   "execution_count": 14,
   "metadata": {},
   "outputs": [],
   "source": [
    "day_df_final.to_csv(\"/Users/hamin/ITE3035_Python/Data_Science/endingPrice/dailyProfit/dailyProfit06(zero_to_zero).csv\", header=True, index=True, encoding = 'utf-8')"
   ]
  },
  {
   "cell_type": "code",
   "execution_count": null,
   "metadata": {},
   "outputs": [],
   "source": []
  },
  {
   "cell_type": "code",
   "execution_count": null,
   "metadata": {},
   "outputs": [],
   "source": []
  },
  {
   "cell_type": "code",
   "execution_count": null,
   "metadata": {},
   "outputs": [],
   "source": []
  },
  {
   "cell_type": "code",
   "execution_count": null,
   "metadata": {},
   "outputs": [],
   "source": []
  },
  {
   "cell_type": "code",
   "execution_count": null,
   "metadata": {},
   "outputs": [],
   "source": []
  },
  {
   "cell_type": "code",
   "execution_count": null,
   "metadata": {},
   "outputs": [],
   "source": []
  },
  {
   "cell_type": "code",
   "execution_count": null,
   "metadata": {},
   "outputs": [],
   "source": []
  },
  {
   "cell_type": "code",
   "execution_count": null,
   "metadata": {},
   "outputs": [],
   "source": []
  },
  {
   "cell_type": "code",
   "execution_count": 42,
   "metadata": {},
   "outputs": [],
   "source": []
  },
  {
   "cell_type": "code",
   "execution_count": null,
   "metadata": {},
   "outputs": [],
   "source": []
  },
  {
   "cell_type": "code",
   "execution_count": null,
   "metadata": {},
   "outputs": [],
   "source": []
  }
 ],
 "metadata": {
  "kernelspec": {
   "display_name": "Python 3.6.1 64-bit ('py36': conda)",
   "language": "python",
   "name": "python36164bitpy36condaf671229c5204498c818fa54442373f5a"
  },
  "language_info": {
   "codemirror_mode": {
    "name": "ipython",
    "version": 3
   },
   "file_extension": ".py",
   "mimetype": "text/x-python",
   "name": "python",
   "nbconvert_exporter": "python",
   "pygments_lexer": "ipython3",
   "version": "3.6.1"
  }
 },
 "nbformat": 4,
 "nbformat_minor": 4
}
