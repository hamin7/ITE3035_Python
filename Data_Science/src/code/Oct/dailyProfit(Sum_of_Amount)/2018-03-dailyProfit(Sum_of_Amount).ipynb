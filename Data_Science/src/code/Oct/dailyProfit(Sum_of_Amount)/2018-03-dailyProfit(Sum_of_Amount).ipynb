{
 "cells": [
  {
   "cell_type": "code",
   "execution_count": 1,
   "metadata": {},
   "outputs": [],
   "source": [
    "import pandas as pd\n",
    "import numpy as np\n",
    "from functools import reduce\n",
    "import matplotlib.pyplot as plt\n",
    "from pylab import figure, axes, pie, title, savefig"
   ]
  },
  {
   "cell_type": "code",
   "execution_count": 59,
   "metadata": {},
   "outputs": [],
   "source": [
    "df = pd.read_csv(\"/Users/hamin/bithumb_bot_data/include/2018-new/2018-03-btc-krw.csv\")"
   ]
  },
  {
   "cell_type": "code",
   "execution_count": 60,
   "metadata": {},
   "outputs": [
    {
     "data": {
      "text/plain": [
       "timestamp     object\n",
       "quantity     float64\n",
       "price        float64\n",
       "fee          float64\n",
       "amount         int64\n",
       "side         float64\n",
       "dtype: object"
      ]
     },
     "execution_count": 60,
     "metadata": {},
     "output_type": "execute_result"
    }
   ],
   "source": [
    "df.dtypes"
   ]
  },
  {
   "cell_type": "code",
   "execution_count": 61,
   "metadata": {},
   "outputs": [
    {
     "data": {
      "text/plain": [
       "timestamp    datetime64[ns]\n",
       "quantity            float64\n",
       "price               float64\n",
       "fee                 float64\n",
       "amount                int64\n",
       "side                float64\n",
       "dtype: object"
      ]
     },
     "execution_count": 61,
     "metadata": {},
     "output_type": "execute_result"
    }
   ],
   "source": [
    "# converting timestamp column type 'object' to 'datetime'\n",
    "df['timestamp'] = pd.to_datetime(df['timestamp'], format = '%Y-%m-%d %H:%M:%S', errors='raise')\n",
    "df.dtypes"
   ]
  },
  {
   "cell_type": "code",
   "execution_count": 62,
   "metadata": {},
   "outputs": [],
   "source": [
    "## converting timestamp to detailed date column\n",
    "df['timestamp_year_month_day']       = df['timestamp'].dt.date         # YYYY-MM-DD(문자)\n",
    "df['timestamp_year']       = df['timestamp'].dt.year         # 연(4자리숫자)\n",
    "df['timestamp_month']      = df['timestamp'].dt.month        # 월(숫자)\n",
    "df['timestamp_month_name'] = df['timestamp'].dt.month_name() # 월(문자)\n",
    "df['timestamp_day']        = df['timestamp'].dt.day          # 일(숫자)\n",
    "df['timestamp_time']       = df['timestamp'].dt.time         # HH:MM:SS(문자)\n",
    "df['timestamp_hour']       = df['timestamp'].dt.hour         # 시(숫자)\n",
    "df['timestamp_minute']     = df['timestamp'].dt.minute       # 분(숫자)\n",
    "df['timestamp_second']     = df['timestamp'].dt.second       # 초(숫자)"
   ]
  },
  {
   "cell_type": "code",
   "execution_count": 63,
   "metadata": {},
   "outputs": [
    {
     "data": {
      "text/html": [
       "<div>\n",
       "<style scoped>\n",
       "    .dataframe tbody tr th:only-of-type {\n",
       "        vertical-align: middle;\n",
       "    }\n",
       "\n",
       "    .dataframe tbody tr th {\n",
       "        vertical-align: top;\n",
       "    }\n",
       "\n",
       "    .dataframe thead th {\n",
       "        text-align: right;\n",
       "    }\n",
       "</style>\n",
       "<table border=\"1\" class=\"dataframe\">\n",
       "  <thead>\n",
       "    <tr style=\"text-align: right;\">\n",
       "      <th></th>\n",
       "      <th>timestamp</th>\n",
       "      <th>quantity</th>\n",
       "      <th>price</th>\n",
       "      <th>fee</th>\n",
       "      <th>amount</th>\n",
       "      <th>side</th>\n",
       "      <th>timestamp_year_month_day</th>\n",
       "      <th>timestamp_year</th>\n",
       "      <th>timestamp_month</th>\n",
       "      <th>timestamp_month_name</th>\n",
       "      <th>timestamp_day</th>\n",
       "      <th>timestamp_time</th>\n",
       "      <th>timestamp_hour</th>\n",
       "      <th>timestamp_minute</th>\n",
       "      <th>timestamp_second</th>\n",
       "    </tr>\n",
       "  </thead>\n",
       "  <tbody>\n",
       "    <tr>\n",
       "      <th>0</th>\n",
       "      <td>2018-03-01 00:11:00</td>\n",
       "      <td>0.9563</td>\n",
       "      <td>11929000.0</td>\n",
       "      <td>0.0</td>\n",
       "      <td>-11407703</td>\n",
       "      <td>0.0</td>\n",
       "      <td>2018-03-01</td>\n",
       "      <td>2018.0</td>\n",
       "      <td>3.0</td>\n",
       "      <td>March</td>\n",
       "      <td>1.0</td>\n",
       "      <td>00:11:00</td>\n",
       "      <td>0.0</td>\n",
       "      <td>11.0</td>\n",
       "      <td>0.0</td>\n",
       "    </tr>\n",
       "    <tr>\n",
       "      <th>1</th>\n",
       "      <td>2018-03-01 00:12:00</td>\n",
       "      <td>0.1422</td>\n",
       "      <td>11936000.0</td>\n",
       "      <td>0.0</td>\n",
       "      <td>-1697299</td>\n",
       "      <td>0.0</td>\n",
       "      <td>2018-03-01</td>\n",
       "      <td>2018.0</td>\n",
       "      <td>3.0</td>\n",
       "      <td>March</td>\n",
       "      <td>1.0</td>\n",
       "      <td>00:12:00</td>\n",
       "      <td>0.0</td>\n",
       "      <td>12.0</td>\n",
       "      <td>0.0</td>\n",
       "    </tr>\n",
       "    <tr>\n",
       "      <th>2</th>\n",
       "      <td>2018-03-01 00:12:00</td>\n",
       "      <td>0.0100</td>\n",
       "      <td>11941000.0</td>\n",
       "      <td>0.0</td>\n",
       "      <td>119410</td>\n",
       "      <td>1.0</td>\n",
       "      <td>2018-03-01</td>\n",
       "      <td>2018.0</td>\n",
       "      <td>3.0</td>\n",
       "      <td>March</td>\n",
       "      <td>1.0</td>\n",
       "      <td>00:12:00</td>\n",
       "      <td>0.0</td>\n",
       "      <td>12.0</td>\n",
       "      <td>0.0</td>\n",
       "    </tr>\n",
       "    <tr>\n",
       "      <th>3</th>\n",
       "      <td>2018-03-01 00:12:00</td>\n",
       "      <td>0.0032</td>\n",
       "      <td>11941000.0</td>\n",
       "      <td>0.0</td>\n",
       "      <td>38211</td>\n",
       "      <td>1.0</td>\n",
       "      <td>2018-03-01</td>\n",
       "      <td>2018.0</td>\n",
       "      <td>3.0</td>\n",
       "      <td>March</td>\n",
       "      <td>1.0</td>\n",
       "      <td>00:12:00</td>\n",
       "      <td>0.0</td>\n",
       "      <td>12.0</td>\n",
       "      <td>0.0</td>\n",
       "    </tr>\n",
       "    <tr>\n",
       "      <th>4</th>\n",
       "      <td>2018-03-01 00:12:00</td>\n",
       "      <td>0.1328</td>\n",
       "      <td>11940000.0</td>\n",
       "      <td>0.0</td>\n",
       "      <td>1585632</td>\n",
       "      <td>1.0</td>\n",
       "      <td>2018-03-01</td>\n",
       "      <td>2018.0</td>\n",
       "      <td>3.0</td>\n",
       "      <td>March</td>\n",
       "      <td>1.0</td>\n",
       "      <td>00:12:00</td>\n",
       "      <td>0.0</td>\n",
       "      <td>12.0</td>\n",
       "      <td>0.0</td>\n",
       "    </tr>\n",
       "    <tr>\n",
       "      <th>...</th>\n",
       "      <td>...</td>\n",
       "      <td>...</td>\n",
       "      <td>...</td>\n",
       "      <td>...</td>\n",
       "      <td>...</td>\n",
       "      <td>...</td>\n",
       "      <td>...</td>\n",
       "      <td>...</td>\n",
       "      <td>...</td>\n",
       "      <td>...</td>\n",
       "      <td>...</td>\n",
       "      <td>...</td>\n",
       "      <td>...</td>\n",
       "      <td>...</td>\n",
       "      <td>...</td>\n",
       "    </tr>\n",
       "    <tr>\n",
       "      <th>33145</th>\n",
       "      <td>2018-03-31 23:59:00</td>\n",
       "      <td>0.1000</td>\n",
       "      <td>7796000.0</td>\n",
       "      <td>0.0</td>\n",
       "      <td>779600</td>\n",
       "      <td>1.0</td>\n",
       "      <td>2018-03-31</td>\n",
       "      <td>2018.0</td>\n",
       "      <td>3.0</td>\n",
       "      <td>March</td>\n",
       "      <td>31.0</td>\n",
       "      <td>23:59:00</td>\n",
       "      <td>23.0</td>\n",
       "      <td>59.0</td>\n",
       "      <td>0.0</td>\n",
       "    </tr>\n",
       "    <tr>\n",
       "      <th>33146</th>\n",
       "      <td>2018-03-31 23:59:00</td>\n",
       "      <td>0.0416</td>\n",
       "      <td>7797000.0</td>\n",
       "      <td>0.0</td>\n",
       "      <td>324355</td>\n",
       "      <td>1.0</td>\n",
       "      <td>2018-03-31</td>\n",
       "      <td>2018.0</td>\n",
       "      <td>3.0</td>\n",
       "      <td>March</td>\n",
       "      <td>31.0</td>\n",
       "      <td>23:59:00</td>\n",
       "      <td>23.0</td>\n",
       "      <td>59.0</td>\n",
       "      <td>0.0</td>\n",
       "    </tr>\n",
       "    <tr>\n",
       "      <th>33147</th>\n",
       "      <td>2018-03-31 23:59:00</td>\n",
       "      <td>0.0009</td>\n",
       "      <td>7794000.0</td>\n",
       "      <td>0.0</td>\n",
       "      <td>7015</td>\n",
       "      <td>1.0</td>\n",
       "      <td>2018-03-31</td>\n",
       "      <td>2018.0</td>\n",
       "      <td>3.0</td>\n",
       "      <td>March</td>\n",
       "      <td>31.0</td>\n",
       "      <td>23:59:00</td>\n",
       "      <td>23.0</td>\n",
       "      <td>59.0</td>\n",
       "      <td>0.0</td>\n",
       "    </tr>\n",
       "    <tr>\n",
       "      <th>33148</th>\n",
       "      <td>2018-03-31 23:59:00</td>\n",
       "      <td>0.3152</td>\n",
       "      <td>7794000.0</td>\n",
       "      <td>0.0</td>\n",
       "      <td>2456669</td>\n",
       "      <td>1.0</td>\n",
       "      <td>2018-03-31</td>\n",
       "      <td>2018.0</td>\n",
       "      <td>3.0</td>\n",
       "      <td>March</td>\n",
       "      <td>31.0</td>\n",
       "      <td>23:59:00</td>\n",
       "      <td>23.0</td>\n",
       "      <td>59.0</td>\n",
       "      <td>0.0</td>\n",
       "    </tr>\n",
       "    <tr>\n",
       "      <th>33149</th>\n",
       "      <td>NaT</td>\n",
       "      <td>NaN</td>\n",
       "      <td>NaN</td>\n",
       "      <td>NaN</td>\n",
       "      <td>-8951034</td>\n",
       "      <td>NaN</td>\n",
       "      <td>NaT</td>\n",
       "      <td>NaN</td>\n",
       "      <td>NaN</td>\n",
       "      <td>NaN</td>\n",
       "      <td>NaN</td>\n",
       "      <td>NaT</td>\n",
       "      <td>NaN</td>\n",
       "      <td>NaN</td>\n",
       "      <td>NaN</td>\n",
       "    </tr>\n",
       "  </tbody>\n",
       "</table>\n",
       "<p>33150 rows × 15 columns</p>\n",
       "</div>"
      ],
      "text/plain": [
       "                timestamp  quantity       price  fee    amount  side  \\\n",
       "0     2018-03-01 00:11:00    0.9563  11929000.0  0.0 -11407703   0.0   \n",
       "1     2018-03-01 00:12:00    0.1422  11936000.0  0.0  -1697299   0.0   \n",
       "2     2018-03-01 00:12:00    0.0100  11941000.0  0.0    119410   1.0   \n",
       "3     2018-03-01 00:12:00    0.0032  11941000.0  0.0     38211   1.0   \n",
       "4     2018-03-01 00:12:00    0.1328  11940000.0  0.0   1585632   1.0   \n",
       "...                   ...       ...         ...  ...       ...   ...   \n",
       "33145 2018-03-31 23:59:00    0.1000   7796000.0  0.0    779600   1.0   \n",
       "33146 2018-03-31 23:59:00    0.0416   7797000.0  0.0    324355   1.0   \n",
       "33147 2018-03-31 23:59:00    0.0009   7794000.0  0.0      7015   1.0   \n",
       "33148 2018-03-31 23:59:00    0.3152   7794000.0  0.0   2456669   1.0   \n",
       "33149                 NaT       NaN         NaN  NaN  -8951034   NaN   \n",
       "\n",
       "      timestamp_year_month_day  timestamp_year  timestamp_month  \\\n",
       "0                   2018-03-01          2018.0              3.0   \n",
       "1                   2018-03-01          2018.0              3.0   \n",
       "2                   2018-03-01          2018.0              3.0   \n",
       "3                   2018-03-01          2018.0              3.0   \n",
       "4                   2018-03-01          2018.0              3.0   \n",
       "...                        ...             ...              ...   \n",
       "33145               2018-03-31          2018.0              3.0   \n",
       "33146               2018-03-31          2018.0              3.0   \n",
       "33147               2018-03-31          2018.0              3.0   \n",
       "33148               2018-03-31          2018.0              3.0   \n",
       "33149                      NaT             NaN              NaN   \n",
       "\n",
       "      timestamp_month_name  timestamp_day timestamp_time  timestamp_hour  \\\n",
       "0                    March            1.0       00:11:00             0.0   \n",
       "1                    March            1.0       00:12:00             0.0   \n",
       "2                    March            1.0       00:12:00             0.0   \n",
       "3                    March            1.0       00:12:00             0.0   \n",
       "4                    March            1.0       00:12:00             0.0   \n",
       "...                    ...            ...            ...             ...   \n",
       "33145                March           31.0       23:59:00            23.0   \n",
       "33146                March           31.0       23:59:00            23.0   \n",
       "33147                March           31.0       23:59:00            23.0   \n",
       "33148                March           31.0       23:59:00            23.0   \n",
       "33149                  NaN            NaN            NaT             NaN   \n",
       "\n",
       "       timestamp_minute  timestamp_second  \n",
       "0                  11.0               0.0  \n",
       "1                  12.0               0.0  \n",
       "2                  12.0               0.0  \n",
       "3                  12.0               0.0  \n",
       "4                  12.0               0.0  \n",
       "...                 ...               ...  \n",
       "33145              59.0               0.0  \n",
       "33146              59.0               0.0  \n",
       "33147              59.0               0.0  \n",
       "33148              59.0               0.0  \n",
       "33149               NaN               NaN  \n",
       "\n",
       "[33150 rows x 15 columns]"
      ]
     },
     "execution_count": 63,
     "metadata": {},
     "output_type": "execute_result"
    }
   ],
   "source": [
    "df"
   ]
  },
  {
   "cell_type": "code",
   "execution_count": 64,
   "metadata": {},
   "outputs": [],
   "source": [
    "## creating 'day - amount' connection\n",
    "group_day_amount = df['amount'].groupby(df['timestamp_year_month_day'])"
   ]
  },
  {
   "cell_type": "code",
   "execution_count": null,
   "metadata": {},
   "outputs": [],
   "source": []
  },
  {
   "cell_type": "code",
   "execution_count": 65,
   "metadata": {},
   "outputs": [
    {
     "data": {
      "text/plain": [
       "timestamp_year_month_day\n",
       "2018-03-01      842310\n",
       "2018-03-02    -9850277\n",
       "2018-03-03    12052822\n",
       "2018-03-04   -17687024\n",
       "2018-03-05    -2474659\n",
       "2018-03-08   -11229029\n",
       "2018-03-09    14113709\n",
       "2018-03-10     1472564\n",
       "2018-03-11     1168065\n",
       "2018-03-12     1339762\n",
       "2018-03-13      534832\n",
       "2018-03-14      579270\n",
       "2018-03-15     1668246\n",
       "2018-03-16     -492516\n",
       "2018-03-17   -19028555\n",
       "2018-03-18    19884617\n",
       "2018-03-19     7314411\n",
       "2018-03-20     2737783\n",
       "2018-03-21    -2746455\n",
       "2018-03-22     5255741\n",
       "2018-03-23      857685\n",
       "2018-03-24   -13545062\n",
       "2018-03-25    15396091\n",
       "2018-03-26     -230397\n",
       "2018-03-27   -15649586\n",
       "2018-03-28    17142294\n",
       "2018-03-29      381138\n",
       "2018-03-30   -16682822\n",
       "2018-03-31    19011544\n",
       "Name: amount, dtype: int64"
      ]
     },
     "execution_count": 65,
     "metadata": {},
     "output_type": "execute_result"
    }
   ],
   "source": [
    "## 일별 총 손익량\n",
    "group_day_amount.sum()"
   ]
  },
  {
   "cell_type": "code",
   "execution_count": 67,
   "metadata": {},
   "outputs": [
    {
     "data": {
      "text/plain": [
       "[timestamp_year_month_day\n",
       " 2018-03-01      842310\n",
       " 2018-03-02    -9850277\n",
       " 2018-03-03    12052822\n",
       " 2018-03-04   -17687024\n",
       " 2018-03-05    -2474659\n",
       " 2018-03-08   -11229029\n",
       " 2018-03-09    14113709\n",
       " 2018-03-10     1472564\n",
       " 2018-03-11     1168065\n",
       " 2018-03-12     1339762\n",
       " 2018-03-13      534832\n",
       " 2018-03-14      579270\n",
       " 2018-03-15     1668246\n",
       " 2018-03-16     -492516\n",
       " 2018-03-17   -19028555\n",
       " 2018-03-18    19884617\n",
       " 2018-03-19     7314411\n",
       " 2018-03-20     2737783\n",
       " 2018-03-21    -2746455\n",
       " 2018-03-22     5255741\n",
       " 2018-03-23      857685\n",
       " 2018-03-24   -13545062\n",
       " 2018-03-25    15396091\n",
       " 2018-03-26     -230397\n",
       " 2018-03-27   -15649586\n",
       " 2018-03-28    17142294\n",
       " 2018-03-29      381138\n",
       " 2018-03-30   -16682822\n",
       " 2018-03-31    19011544\n",
       " Name: amount, dtype: int64]"
      ]
     },
     "execution_count": 67,
     "metadata": {},
     "output_type": "execute_result"
    }
   ],
   "source": [
    "## 일별 계산 table 생성\n",
    "dfs = [group_day_amount.sum()]\n",
    "dfs"
   ]
  },
  {
   "cell_type": "code",
   "execution_count": 68,
   "metadata": {},
   "outputs": [
    {
     "data": {
      "text/plain": [
       "timestamp_year_month_day\n",
       "2018-03-01      842310\n",
       "2018-03-02    -9850277\n",
       "2018-03-03    12052822\n",
       "2018-03-04   -17687024\n",
       "2018-03-05    -2474659\n",
       "2018-03-08   -11229029\n",
       "2018-03-09    14113709\n",
       "2018-03-10     1472564\n",
       "2018-03-11     1168065\n",
       "2018-03-12     1339762\n",
       "2018-03-13      534832\n",
       "2018-03-14      579270\n",
       "2018-03-15     1668246\n",
       "2018-03-16     -492516\n",
       "2018-03-17   -19028555\n",
       "2018-03-18    19884617\n",
       "2018-03-19     7314411\n",
       "2018-03-20     2737783\n",
       "2018-03-21    -2746455\n",
       "2018-03-22     5255741\n",
       "2018-03-23      857685\n",
       "2018-03-24   -13545062\n",
       "2018-03-25    15396091\n",
       "2018-03-26     -230397\n",
       "2018-03-27   -15649586\n",
       "2018-03-28    17142294\n",
       "2018-03-29      381138\n",
       "2018-03-30   -16682822\n",
       "2018-03-31    19011544\n",
       "Name: amount, dtype: int64"
      ]
     },
     "execution_count": 68,
     "metadata": {},
     "output_type": "execute_result"
    }
   ],
   "source": [
    "day_df_final = reduce(lambda left,right: pd.merge(left,right,on='timestamp_year_month_day'), dfs)\n",
    "day_df_final.columns = [ \"daily profit\"]\n",
    "day_df_final"
   ]
  },
  {
   "cell_type": "code",
   "execution_count": 69,
   "metadata": {},
   "outputs": [
    {
     "name": "stdout",
     "output_type": "stream",
     "text": [
      "timestamp_year_month_day\n",
      "2018-03-01      842310.0\n",
      "2018-03-02    -9850277.0\n",
      "2018-03-03    12052822.0\n",
      "2018-03-04   -17687024.0\n",
      "2018-03-05    -2474659.0\n",
      "2018-03-06           NaN\n",
      "2018-03-07           NaN\n",
      "2018-03-08   -11229029.0\n",
      "2018-03-09    14113709.0\n",
      "2018-03-10     1472564.0\n",
      "2018-03-11     1168065.0\n",
      "2018-03-12     1339762.0\n",
      "2018-03-13      534832.0\n",
      "2018-03-14      579270.0\n",
      "2018-03-15     1668246.0\n",
      "2018-03-16     -492516.0\n",
      "2018-03-17   -19028555.0\n",
      "2018-03-18    19884617.0\n",
      "2018-03-19     7314411.0\n",
      "2018-03-20     2737783.0\n",
      "2018-03-21    -2746455.0\n",
      "2018-03-22     5255741.0\n",
      "2018-03-23      857685.0\n",
      "2018-03-24   -13545062.0\n",
      "2018-03-25    15396091.0\n",
      "2018-03-26     -230397.0\n",
      "2018-03-27   -15649586.0\n",
      "2018-03-28    17142294.0\n",
      "2018-03-29      381138.0\n",
      "2018-03-30   -16682822.0\n",
      "2018-03-31    19011544.0\n",
      "Freq: D, Name: amount, dtype: float64\n"
     ]
    }
   ],
   "source": [
    "print(day_df_final.asfreq('D'))"
   ]
  },
  {
   "cell_type": "code",
   "execution_count": 70,
   "metadata": {},
   "outputs": [],
   "source": [
    "day_df_final.index = pd.DatetimeIndex(day_df_final.index)"
   ]
  },
  {
   "cell_type": "code",
   "execution_count": 71,
   "metadata": {},
   "outputs": [
    {
     "name": "stdout",
     "output_type": "stream",
     "text": [
      "DatetimeIndex(['2018-01-01', '2018-01-02', '2018-01-03', '2018-01-04',\n",
      "               '2018-01-05', '2018-01-06', '2018-01-07', '2018-01-08',\n",
      "               '2018-01-09', '2018-01-10', '2018-01-11', '2018-01-12',\n",
      "               '2018-01-13', '2018-01-14', '2018-01-15', '2018-01-16',\n",
      "               '2018-01-17', '2018-01-18', '2018-01-19', '2018-01-20',\n",
      "               '2018-01-21', '2018-01-22', '2018-01-23', '2018-01-24',\n",
      "               '2018-01-25', '2018-01-26', '2018-01-27', '2018-01-28',\n",
      "               '2018-01-29', '2018-01-30', '2018-01-31'],\n",
      "              dtype='datetime64[ns]', freq='D')\n"
     ]
    }
   ],
   "source": [
    "year=2018\n",
    "i = 1\n",
    "idx = pd.date_range(start = \"{}-{}-1\".format(year, i), periods = pd.Period(\"{}-{}-1\".format(year, i)).days_in_month)\n",
    "print(idx)"
   ]
  },
  {
   "cell_type": "code",
   "execution_count": 72,
   "metadata": {},
   "outputs": [],
   "source": [
    "day_df_final.to_csv(\"/Users/hamin/bithumb_bot_data/endingPrice/dailyProfit/dailyProfit03.csv\", header=True, index=True, encoding = 'utf-8')"
   ]
  },
  {
   "cell_type": "code",
   "execution_count": null,
   "metadata": {},
   "outputs": [],
   "source": []
  },
  {
   "cell_type": "code",
   "execution_count": null,
   "metadata": {},
   "outputs": [],
   "source": []
  },
  {
   "cell_type": "code",
   "execution_count": null,
   "metadata": {},
   "outputs": [],
   "source": []
  },
  {
   "cell_type": "code",
   "execution_count": null,
   "metadata": {},
   "outputs": [],
   "source": []
  },
  {
   "cell_type": "code",
   "execution_count": null,
   "metadata": {},
   "outputs": [],
   "source": []
  },
  {
   "cell_type": "code",
   "execution_count": null,
   "metadata": {},
   "outputs": [],
   "source": []
  },
  {
   "cell_type": "code",
   "execution_count": null,
   "metadata": {},
   "outputs": [],
   "source": []
  },
  {
   "cell_type": "code",
   "execution_count": 42,
   "metadata": {},
   "outputs": [],
   "source": []
  },
  {
   "cell_type": "code",
   "execution_count": null,
   "metadata": {},
   "outputs": [],
   "source": []
  },
  {
   "cell_type": "code",
   "execution_count": null,
   "metadata": {},
   "outputs": [],
   "source": []
  }
 ],
 "metadata": {
  "kernelspec": {
   "display_name": "Python 3.6.1 64-bit ('py36': conda)",
   "language": "python",
   "name": "python36164bitpy36condaf671229c5204498c818fa54442373f5a"
  },
  "language_info": {
   "codemirror_mode": {
    "name": "ipython",
    "version": 3
   },
   "file_extension": ".py",
   "mimetype": "text/x-python",
   "name": "python",
   "nbconvert_exporter": "python",
   "pygments_lexer": "ipython3",
   "version": "3.6.1"
  }
 },
 "nbformat": 4,
 "nbformat_minor": 4
}
