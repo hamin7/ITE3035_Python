{
 "cells": [
  {
   "cell_type": "code",
   "execution_count": 2,
   "metadata": {},
   "outputs": [],
   "source": [
    "# ############################################################\n",
    "\n",
    "# ## parsing_by_dayofweek ##\n",
    "\n",
    "# ############################################################\n",
    "\n",
    "# -- Designed by\n",
    "\n",
    "#    김상원\n",
    "\n",
    "# -- Produced by Mar. 31, 2020. (Ver.1.)\n",
    "\n",
    "# -- Description: xxx\n",
    "\n",
    "# ============================================================"
   ]
  },
  {
   "cell_type": "code",
   "execution_count": 22,
   "metadata": {},
   "outputs": [],
   "source": [
    "import pandas as pd\n",
    "import numpy as np\n",
    "from functools import reduce\n",
    "import matplotlib.pyplot as plt\n",
    "from pylab import figure, axes, pie, title, savefig"
   ]
  },
  {
   "cell_type": "code",
   "execution_count": 4,
   "metadata": {},
   "outputs": [],
   "source": [
    "df = pd.read_csv(\"/Users/sangwon/workspace/school/bithumb_analysis/raw_data/2018-05-btc-krw.csv\") # csv load"
   ]
  },
  {
   "cell_type": "code",
   "execution_count": 5,
   "metadata": {},
   "outputs": [
    {
     "data": {
      "text/plain": [
       "timestamp     object\n",
       "quantity     float64\n",
       "price          int64\n",
       "fee            int64\n",
       "amount         int64\n",
       "side           int64\n",
       "dtype: object"
      ]
     },
     "execution_count": 5,
     "metadata": {},
     "output_type": "execute_result"
    }
   ],
   "source": [
    "df.dtypes # identifying column type "
   ]
  },
  {
   "cell_type": "code",
   "execution_count": 6,
   "metadata": {},
   "outputs": [
    {
     "data": {
      "text/plain": [
       "timestamp    datetime64[ns]\n",
       "quantity            float64\n",
       "price                 int64\n",
       "fee                   int64\n",
       "amount                int64\n",
       "side                  int64\n",
       "dtype: object"
      ]
     },
     "execution_count": 6,
     "metadata": {},
     "output_type": "execute_result"
    }
   ],
   "source": [
    "## converting timestamp column type 'object' to 'datetime'\n",
    "df['timestamp'] = pd.to_datetime(df['timestamp'], format='%Y-%m-%d %H:%M:%S', errors='raise')\n",
    "df.dtypes"
   ]
  },
  {
   "cell_type": "code",
   "execution_count": 7,
   "metadata": {},
   "outputs": [],
   "source": [
    "## converting timestamp to detailed date column\n",
    "df['timestamp_year_month_day']       = df['timestamp'].dt.date         # YYYY-MM-DD(문자)\n",
    "df['timestamp_year']       = df['timestamp'].dt.year         # 연(4자리숫자)\n",
    "df['timestamp_month']      = df['timestamp'].dt.month        # 월(숫자)\n",
    "df['timestamp_month_name'] = df['timestamp'].dt.month_name() # 월(문자)\n",
    "\n",
    "df['timestamp_day']        = df['timestamp'].dt.day          # 일(숫자)\n",
    "df['timestamp_time']       = df['timestamp'].dt.time         # HH:MM:SS(문자)\n",
    "df['timestamp_hour']       = df['timestamp'].dt.hour         # 시(숫자)\n",
    "df['timestamp_minute']     = df['timestamp'].dt.minute       # 분(숫자)\n",
    "df['timestamp_second']     = df['timestamp'].dt.second       # 초(숫자)\n",
    "df['timestamp_dayofweek']     = df['timestamp'].dt.weekday_name      # 요일(문자)"
   ]
  },
  {
   "cell_type": "code",
   "execution_count": 8,
   "metadata": {},
   "outputs": [
    {
     "data": {
      "text/html": [
       "<div>\n",
       "<style scoped>\n",
       "    .dataframe tbody tr th:only-of-type {\n",
       "        vertical-align: middle;\n",
       "    }\n",
       "\n",
       "    .dataframe tbody tr th {\n",
       "        vertical-align: top;\n",
       "    }\n",
       "\n",
       "    .dataframe thead th {\n",
       "        text-align: right;\n",
       "    }\n",
       "</style>\n",
       "<table border=\"1\" class=\"dataframe\">\n",
       "  <thead>\n",
       "    <tr style=\"text-align: right;\">\n",
       "      <th></th>\n",
       "      <th>timestamp</th>\n",
       "      <th>quantity</th>\n",
       "      <th>price</th>\n",
       "      <th>fee</th>\n",
       "      <th>amount</th>\n",
       "      <th>side</th>\n",
       "      <th>timestamp_year_month_day</th>\n",
       "      <th>timestamp_year</th>\n",
       "      <th>timestamp_month</th>\n",
       "      <th>timestamp_month_name</th>\n",
       "      <th>timestamp_day</th>\n",
       "      <th>timestamp_time</th>\n",
       "      <th>timestamp_hour</th>\n",
       "      <th>timestamp_minute</th>\n",
       "      <th>timestamp_second</th>\n",
       "      <th>timestamp_dayofweek</th>\n",
       "    </tr>\n",
       "  </thead>\n",
       "  <tbody>\n",
       "    <tr>\n",
       "      <td>0</td>\n",
       "      <td>2018-05-01 01:06:02</td>\n",
       "      <td>0.8064</td>\n",
       "      <td>10164000</td>\n",
       "      <td>0</td>\n",
       "      <td>-8196250</td>\n",
       "      <td>0</td>\n",
       "      <td>2018-05-01</td>\n",
       "      <td>2018</td>\n",
       "      <td>5</td>\n",
       "      <td>May</td>\n",
       "      <td>1</td>\n",
       "      <td>01:06:02</td>\n",
       "      <td>1</td>\n",
       "      <td>6</td>\n",
       "      <td>2</td>\n",
       "      <td>Tuesday</td>\n",
       "    </tr>\n",
       "    <tr>\n",
       "      <td>1</td>\n",
       "      <td>2018-05-01 01:06:16</td>\n",
       "      <td>0.1000</td>\n",
       "      <td>10163000</td>\n",
       "      <td>0</td>\n",
       "      <td>1016300</td>\n",
       "      <td>1</td>\n",
       "      <td>2018-05-01</td>\n",
       "      <td>2018</td>\n",
       "      <td>5</td>\n",
       "      <td>May</td>\n",
       "      <td>1</td>\n",
       "      <td>01:06:16</td>\n",
       "      <td>1</td>\n",
       "      <td>6</td>\n",
       "      <td>16</td>\n",
       "      <td>Tuesday</td>\n",
       "    </tr>\n",
       "    <tr>\n",
       "      <td>2</td>\n",
       "      <td>2018-05-01 01:06:20</td>\n",
       "      <td>0.1000</td>\n",
       "      <td>10163000</td>\n",
       "      <td>0</td>\n",
       "      <td>1016300</td>\n",
       "      <td>1</td>\n",
       "      <td>2018-05-01</td>\n",
       "      <td>2018</td>\n",
       "      <td>5</td>\n",
       "      <td>May</td>\n",
       "      <td>1</td>\n",
       "      <td>01:06:20</td>\n",
       "      <td>1</td>\n",
       "      <td>6</td>\n",
       "      <td>20</td>\n",
       "      <td>Tuesday</td>\n",
       "    </tr>\n",
       "    <tr>\n",
       "      <td>3</td>\n",
       "      <td>2018-05-01 01:06:24</td>\n",
       "      <td>0.3382</td>\n",
       "      <td>10162000</td>\n",
       "      <td>0</td>\n",
       "      <td>3436788</td>\n",
       "      <td>1</td>\n",
       "      <td>2018-05-01</td>\n",
       "      <td>2018</td>\n",
       "      <td>5</td>\n",
       "      <td>May</td>\n",
       "      <td>1</td>\n",
       "      <td>01:06:24</td>\n",
       "      <td>1</td>\n",
       "      <td>6</td>\n",
       "      <td>24</td>\n",
       "      <td>Tuesday</td>\n",
       "    </tr>\n",
       "    <tr>\n",
       "      <td>4</td>\n",
       "      <td>2018-05-01 01:06:28</td>\n",
       "      <td>0.1000</td>\n",
       "      <td>10153000</td>\n",
       "      <td>0</td>\n",
       "      <td>1015300</td>\n",
       "      <td>1</td>\n",
       "      <td>2018-05-01</td>\n",
       "      <td>2018</td>\n",
       "      <td>5</td>\n",
       "      <td>May</td>\n",
       "      <td>1</td>\n",
       "      <td>01:06:28</td>\n",
       "      <td>1</td>\n",
       "      <td>6</td>\n",
       "      <td>28</td>\n",
       "      <td>Tuesday</td>\n",
       "    </tr>\n",
       "    <tr>\n",
       "      <td>...</td>\n",
       "      <td>...</td>\n",
       "      <td>...</td>\n",
       "      <td>...</td>\n",
       "      <td>...</td>\n",
       "      <td>...</td>\n",
       "      <td>...</td>\n",
       "      <td>...</td>\n",
       "      <td>...</td>\n",
       "      <td>...</td>\n",
       "      <td>...</td>\n",
       "      <td>...</td>\n",
       "      <td>...</td>\n",
       "      <td>...</td>\n",
       "      <td>...</td>\n",
       "      <td>...</td>\n",
       "      <td>...</td>\n",
       "    </tr>\n",
       "    <tr>\n",
       "      <td>23290</td>\n",
       "      <td>2018-05-31 23:19:25</td>\n",
       "      <td>0.2509</td>\n",
       "      <td>8338000</td>\n",
       "      <td>0</td>\n",
       "      <td>2092004</td>\n",
       "      <td>1</td>\n",
       "      <td>2018-05-31</td>\n",
       "      <td>2018</td>\n",
       "      <td>5</td>\n",
       "      <td>May</td>\n",
       "      <td>31</td>\n",
       "      <td>23:19:25</td>\n",
       "      <td>23</td>\n",
       "      <td>19</td>\n",
       "      <td>25</td>\n",
       "      <td>Thursday</td>\n",
       "    </tr>\n",
       "    <tr>\n",
       "      <td>23291</td>\n",
       "      <td>2018-05-31 23:21:03</td>\n",
       "      <td>0.0390</td>\n",
       "      <td>8342000</td>\n",
       "      <td>0</td>\n",
       "      <td>325338</td>\n",
       "      <td>1</td>\n",
       "      <td>2018-05-31</td>\n",
       "      <td>2018</td>\n",
       "      <td>5</td>\n",
       "      <td>May</td>\n",
       "      <td>31</td>\n",
       "      <td>23:21:03</td>\n",
       "      <td>23</td>\n",
       "      <td>21</td>\n",
       "      <td>3</td>\n",
       "      <td>Thursday</td>\n",
       "    </tr>\n",
       "    <tr>\n",
       "      <td>23292</td>\n",
       "      <td>2018-05-31 23:21:05</td>\n",
       "      <td>0.4258</td>\n",
       "      <td>8342000</td>\n",
       "      <td>0</td>\n",
       "      <td>3552024</td>\n",
       "      <td>1</td>\n",
       "      <td>2018-05-31</td>\n",
       "      <td>2018</td>\n",
       "      <td>5</td>\n",
       "      <td>May</td>\n",
       "      <td>31</td>\n",
       "      <td>23:21:05</td>\n",
       "      <td>23</td>\n",
       "      <td>21</td>\n",
       "      <td>5</td>\n",
       "      <td>Thursday</td>\n",
       "    </tr>\n",
       "    <tr>\n",
       "      <td>23293</td>\n",
       "      <td>2018-05-31 23:21:08</td>\n",
       "      <td>0.1126</td>\n",
       "      <td>8342000</td>\n",
       "      <td>0</td>\n",
       "      <td>939309</td>\n",
       "      <td>1</td>\n",
       "      <td>2018-05-31</td>\n",
       "      <td>2018</td>\n",
       "      <td>5</td>\n",
       "      <td>May</td>\n",
       "      <td>31</td>\n",
       "      <td>23:21:08</td>\n",
       "      <td>23</td>\n",
       "      <td>21</td>\n",
       "      <td>8</td>\n",
       "      <td>Thursday</td>\n",
       "    </tr>\n",
       "    <tr>\n",
       "      <td>23294</td>\n",
       "      <td>2018-05-31 23:21:17</td>\n",
       "      <td>0.3680</td>\n",
       "      <td>8342000</td>\n",
       "      <td>0</td>\n",
       "      <td>3069856</td>\n",
       "      <td>1</td>\n",
       "      <td>2018-05-31</td>\n",
       "      <td>2018</td>\n",
       "      <td>5</td>\n",
       "      <td>May</td>\n",
       "      <td>31</td>\n",
       "      <td>23:21:17</td>\n",
       "      <td>23</td>\n",
       "      <td>21</td>\n",
       "      <td>17</td>\n",
       "      <td>Thursday</td>\n",
       "    </tr>\n",
       "  </tbody>\n",
       "</table>\n",
       "<p>23295 rows × 16 columns</p>\n",
       "</div>"
      ],
      "text/plain": [
       "                timestamp  quantity     price  fee   amount  side  \\\n",
       "0     2018-05-01 01:06:02    0.8064  10164000    0 -8196250     0   \n",
       "1     2018-05-01 01:06:16    0.1000  10163000    0  1016300     1   \n",
       "2     2018-05-01 01:06:20    0.1000  10163000    0  1016300     1   \n",
       "3     2018-05-01 01:06:24    0.3382  10162000    0  3436788     1   \n",
       "4     2018-05-01 01:06:28    0.1000  10153000    0  1015300     1   \n",
       "...                   ...       ...       ...  ...      ...   ...   \n",
       "23290 2018-05-31 23:19:25    0.2509   8338000    0  2092004     1   \n",
       "23291 2018-05-31 23:21:03    0.0390   8342000    0   325338     1   \n",
       "23292 2018-05-31 23:21:05    0.4258   8342000    0  3552024     1   \n",
       "23293 2018-05-31 23:21:08    0.1126   8342000    0   939309     1   \n",
       "23294 2018-05-31 23:21:17    0.3680   8342000    0  3069856     1   \n",
       "\n",
       "      timestamp_year_month_day  timestamp_year  timestamp_month  \\\n",
       "0                   2018-05-01            2018                5   \n",
       "1                   2018-05-01            2018                5   \n",
       "2                   2018-05-01            2018                5   \n",
       "3                   2018-05-01            2018                5   \n",
       "4                   2018-05-01            2018                5   \n",
       "...                        ...             ...              ...   \n",
       "23290               2018-05-31            2018                5   \n",
       "23291               2018-05-31            2018                5   \n",
       "23292               2018-05-31            2018                5   \n",
       "23293               2018-05-31            2018                5   \n",
       "23294               2018-05-31            2018                5   \n",
       "\n",
       "      timestamp_month_name  timestamp_day timestamp_time  timestamp_hour  \\\n",
       "0                      May              1       01:06:02               1   \n",
       "1                      May              1       01:06:16               1   \n",
       "2                      May              1       01:06:20               1   \n",
       "3                      May              1       01:06:24               1   \n",
       "4                      May              1       01:06:28               1   \n",
       "...                    ...            ...            ...             ...   \n",
       "23290                  May             31       23:19:25              23   \n",
       "23291                  May             31       23:21:03              23   \n",
       "23292                  May             31       23:21:05              23   \n",
       "23293                  May             31       23:21:08              23   \n",
       "23294                  May             31       23:21:17              23   \n",
       "\n",
       "       timestamp_minute  timestamp_second timestamp_dayofweek  \n",
       "0                     6                 2             Tuesday  \n",
       "1                     6                16             Tuesday  \n",
       "2                     6                20             Tuesday  \n",
       "3                     6                24             Tuesday  \n",
       "4                     6                28             Tuesday  \n",
       "...                 ...               ...                 ...  \n",
       "23290                19                25            Thursday  \n",
       "23291                21                 3            Thursday  \n",
       "23292                21                 5            Thursday  \n",
       "23293                21                 8            Thursday  \n",
       "23294                21                17            Thursday  \n",
       "\n",
       "[23295 rows x 16 columns]"
      ]
     },
     "execution_count": 8,
     "metadata": {},
     "output_type": "execute_result"
    }
   ],
   "source": [
    "df"
   ]
  },
  {
   "cell_type": "code",
   "execution_count": 9,
   "metadata": {},
   "outputs": [],
   "source": [
    "## creating 'dayofweek - amount' connection\n",
    "group_dayofweek_amount = df['amount'].groupby(df['timestamp_dayofweek'])"
   ]
  },
  {
   "cell_type": "code",
   "execution_count": 10,
   "metadata": {},
   "outputs": [
    {
     "data": {
      "text/plain": [
       "timestamp_dayofweek\n",
       "Friday       3517\n",
       "Monday       3135\n",
       "Saturday     2883\n",
       "Sunday       2832\n",
       "Thursday     3208\n",
       "Tuesday      3887\n",
       "Wednesday    3833\n",
       "Name: amount, dtype: int64"
      ]
     },
     "execution_count": 10,
     "metadata": {},
     "output_type": "execute_result"
    }
   ],
   "source": [
    "## 요일별 transaction 수\n",
    "group_dayofweek_amount.size()"
   ]
  },
  {
   "cell_type": "code",
   "execution_count": 11,
   "metadata": {},
   "outputs": [
    {
     "data": {
      "text/plain": [
       "timestamp_dayofweek\n",
       "Friday       30070846\n",
       "Monday       13408322\n",
       "Saturday    -12036404\n",
       "Sunday      -37623660\n",
       "Thursday     17844015\n",
       "Tuesday     -30094735\n",
       "Wednesday    30430922\n",
       "Name: amount, dtype: int64"
      ]
     },
     "execution_count": 11,
     "metadata": {},
     "output_type": "execute_result"
    }
   ],
   "source": [
    "## 요일별 총 손익량\n",
    "group_dayofweek_amount.sum()"
   ]
  },
  {
   "cell_type": "code",
   "execution_count": 12,
   "metadata": {},
   "outputs": [],
   "source": [
    "## creating 'dayofweek - earning amount' connection\n",
    "df2 = df.copy()\n",
    "df2 =df2[df2['amount'] > 0]\n",
    "group_dayofweek_amount_positive = df2['amount'].groupby(df2['timestamp_dayofweek'])"
   ]
  },
  {
   "cell_type": "code",
   "execution_count": 13,
   "metadata": {},
   "outputs": [
    {
     "data": {
      "text/plain": [
       "timestamp_dayofweek\n",
       "Friday       2234\n",
       "Monday       2017\n",
       "Saturday     1805\n",
       "Sunday       1831\n",
       "Thursday     1927\n",
       "Tuesday      2645\n",
       "Wednesday    2409\n",
       "Name: amount, dtype: int64"
      ]
     },
     "execution_count": 13,
     "metadata": {},
     "output_type": "execute_result"
    }
   ],
   "source": [
    "# 요일별 수익 transaction 수\n",
    "group_dayofweek_amount_positive.size()"
   ]
  },
  {
   "cell_type": "code",
   "execution_count": 14,
   "metadata": {},
   "outputs": [
    {
     "data": {
      "text/plain": [
       "timestamp_dayofweek\n",
       "Friday       5757050144\n",
       "Monday       5080898929\n",
       "Saturday     3951046180\n",
       "Sunday       3983087119\n",
       "Thursday     4938014335\n",
       "Tuesday      6796592511\n",
       "Wednesday    6127587298\n",
       "Name: amount, dtype: int64"
      ]
     },
     "execution_count": 14,
     "metadata": {},
     "output_type": "execute_result"
    }
   ],
   "source": [
    "# 요일별 수익량\n",
    "group_dayofweek_amount_positive.sum()"
   ]
  },
  {
   "cell_type": "code",
   "execution_count": 15,
   "metadata": {},
   "outputs": [],
   "source": [
    "## creating 'dayofweek - loss amount' connection\n",
    "df3 = df.copy()\n",
    "df3 = df3[df3['amount'] < 0]\n",
    "group_dayofweek_amount_negative = df3['amount'].groupby(df3['timestamp_dayofweek'])"
   ]
  },
  {
   "cell_type": "code",
   "execution_count": 16,
   "metadata": {},
   "outputs": [
    {
     "data": {
      "text/plain": [
       "timestamp_dayofweek\n",
       "Friday       1283\n",
       "Monday       1118\n",
       "Saturday     1078\n",
       "Sunday       1001\n",
       "Thursday     1281\n",
       "Tuesday      1242\n",
       "Wednesday    1424\n",
       "Name: amount, dtype: int64"
      ]
     },
     "execution_count": 16,
     "metadata": {},
     "output_type": "execute_result"
    }
   ],
   "source": [
    "# 요일별 손해 transaction 수\n",
    "group_dayofweek_amount_negative.size()"
   ]
  },
  {
   "cell_type": "code",
   "execution_count": 17,
   "metadata": {},
   "outputs": [
    {
     "data": {
      "text/plain": [
       "timestamp_dayofweek\n",
       "Friday      -5726979298\n",
       "Monday      -5067490607\n",
       "Saturday    -3963082584\n",
       "Sunday      -4020710779\n",
       "Thursday    -4920170320\n",
       "Tuesday     -6826687246\n",
       "Wednesday   -6097156376\n",
       "Name: amount, dtype: int64"
      ]
     },
     "execution_count": 17,
     "metadata": {},
     "output_type": "execute_result"
    }
   ],
   "source": [
    "# 요일별 손해량\n",
    "group_dayofweek_amount_negative.sum()"
   ]
  },
  {
   "cell_type": "code",
   "execution_count": 18,
   "metadata": {},
   "outputs": [
    {
     "data": {
      "text/plain": [
       "timestamp_dayofweek\n",
       "Friday       11484029442\n",
       "Monday       10148389536\n",
       "Saturday      7914128764\n",
       "Sunday        8003797898\n",
       "Thursday      9858184655\n",
       "Tuesday      13623279757\n",
       "Wednesday    12224743674\n",
       "Name: amount, dtype: int64"
      ]
     },
     "execution_count": 18,
     "metadata": {},
     "output_type": "execute_result"
    }
   ],
   "source": [
    "# 요일별 절대값 총합\n",
    "absolute_negative_sum=group_dayofweek_amount_negative.sum()\n",
    "absolute_negative_sum = absolute_negative_sum * (-1)\n",
    "absolute_total_amout=absolute_negative_sum+group_dayofweek_amount_positive.sum()\n",
    "absolute_total_amout"
   ]
  },
  {
   "cell_type": "code",
   "execution_count": 26,
   "metadata": {},
   "outputs": [
    {
     "data": {
      "text/html": [
       "<div>\n",
       "<style scoped>\n",
       "    .dataframe tbody tr th:only-of-type {\n",
       "        vertical-align: middle;\n",
       "    }\n",
       "\n",
       "    .dataframe tbody tr th {\n",
       "        vertical-align: top;\n",
       "    }\n",
       "\n",
       "    .dataframe thead th {\n",
       "        text-align: right;\n",
       "    }\n",
       "</style>\n",
       "<table border=\"1\" class=\"dataframe\">\n",
       "  <thead>\n",
       "    <tr style=\"text-align: right;\">\n",
       "      <th></th>\n",
       "      <th>dayofweek transaction</th>\n",
       "      <th>dayofweek income</th>\n",
       "      <th>dayofweek Yield transaction</th>\n",
       "      <th>dayofweek Yield</th>\n",
       "      <th>dayofweek loss transaction</th>\n",
       "      <th>dayofweek loss</th>\n",
       "      <th>dayofweek absolute amount</th>\n",
       "      <th>dayofweek absolute negative amount</th>\n",
       "    </tr>\n",
       "    <tr>\n",
       "      <th>timestamp_dayofweek</th>\n",
       "      <th></th>\n",
       "      <th></th>\n",
       "      <th></th>\n",
       "      <th></th>\n",
       "      <th></th>\n",
       "      <th></th>\n",
       "      <th></th>\n",
       "      <th></th>\n",
       "    </tr>\n",
       "  </thead>\n",
       "  <tbody>\n",
       "    <tr>\n",
       "      <td>Friday</td>\n",
       "      <td>3517</td>\n",
       "      <td>30070846</td>\n",
       "      <td>2234</td>\n",
       "      <td>5757050144</td>\n",
       "      <td>1283</td>\n",
       "      <td>-5726979298</td>\n",
       "      <td>11484029442</td>\n",
       "      <td>5726979298</td>\n",
       "    </tr>\n",
       "    <tr>\n",
       "      <td>Monday</td>\n",
       "      <td>3135</td>\n",
       "      <td>13408322</td>\n",
       "      <td>2017</td>\n",
       "      <td>5080898929</td>\n",
       "      <td>1118</td>\n",
       "      <td>-5067490607</td>\n",
       "      <td>10148389536</td>\n",
       "      <td>5067490607</td>\n",
       "    </tr>\n",
       "    <tr>\n",
       "      <td>Saturday</td>\n",
       "      <td>2883</td>\n",
       "      <td>-12036404</td>\n",
       "      <td>1805</td>\n",
       "      <td>3951046180</td>\n",
       "      <td>1078</td>\n",
       "      <td>-3963082584</td>\n",
       "      <td>7914128764</td>\n",
       "      <td>3963082584</td>\n",
       "    </tr>\n",
       "    <tr>\n",
       "      <td>Sunday</td>\n",
       "      <td>2832</td>\n",
       "      <td>-37623660</td>\n",
       "      <td>1831</td>\n",
       "      <td>3983087119</td>\n",
       "      <td>1001</td>\n",
       "      <td>-4020710779</td>\n",
       "      <td>8003797898</td>\n",
       "      <td>4020710779</td>\n",
       "    </tr>\n",
       "    <tr>\n",
       "      <td>Thursday</td>\n",
       "      <td>3208</td>\n",
       "      <td>17844015</td>\n",
       "      <td>1927</td>\n",
       "      <td>4938014335</td>\n",
       "      <td>1281</td>\n",
       "      <td>-4920170320</td>\n",
       "      <td>9858184655</td>\n",
       "      <td>4920170320</td>\n",
       "    </tr>\n",
       "    <tr>\n",
       "      <td>Tuesday</td>\n",
       "      <td>3887</td>\n",
       "      <td>-30094735</td>\n",
       "      <td>2645</td>\n",
       "      <td>6796592511</td>\n",
       "      <td>1242</td>\n",
       "      <td>-6826687246</td>\n",
       "      <td>13623279757</td>\n",
       "      <td>6826687246</td>\n",
       "    </tr>\n",
       "    <tr>\n",
       "      <td>Wednesday</td>\n",
       "      <td>3833</td>\n",
       "      <td>30430922</td>\n",
       "      <td>2409</td>\n",
       "      <td>6127587298</td>\n",
       "      <td>1424</td>\n",
       "      <td>-6097156376</td>\n",
       "      <td>12224743674</td>\n",
       "      <td>6097156376</td>\n",
       "    </tr>\n",
       "  </tbody>\n",
       "</table>\n",
       "</div>"
      ],
      "text/plain": [
       "                     dayofweek transaction  dayofweek income  \\\n",
       "timestamp_dayofweek                                            \n",
       "Friday                                3517          30070846   \n",
       "Monday                                3135          13408322   \n",
       "Saturday                              2883         -12036404   \n",
       "Sunday                                2832         -37623660   \n",
       "Thursday                              3208          17844015   \n",
       "Tuesday                               3887         -30094735   \n",
       "Wednesday                             3833          30430922   \n",
       "\n",
       "                     dayofweek Yield transaction  dayofweek Yield  \\\n",
       "timestamp_dayofweek                                                 \n",
       "Friday                                      2234       5757050144   \n",
       "Monday                                      2017       5080898929   \n",
       "Saturday                                    1805       3951046180   \n",
       "Sunday                                      1831       3983087119   \n",
       "Thursday                                    1927       4938014335   \n",
       "Tuesday                                     2645       6796592511   \n",
       "Wednesday                                   2409       6127587298   \n",
       "\n",
       "                     dayofweek loss transaction  dayofweek loss  \\\n",
       "timestamp_dayofweek                                               \n",
       "Friday                                     1283     -5726979298   \n",
       "Monday                                     1118     -5067490607   \n",
       "Saturday                                   1078     -3963082584   \n",
       "Sunday                                     1001     -4020710779   \n",
       "Thursday                                   1281     -4920170320   \n",
       "Tuesday                                    1242     -6826687246   \n",
       "Wednesday                                  1424     -6097156376   \n",
       "\n",
       "                     dayofweek absolute amount  \\\n",
       "timestamp_dayofweek                              \n",
       "Friday                             11484029442   \n",
       "Monday                             10148389536   \n",
       "Saturday                            7914128764   \n",
       "Sunday                              8003797898   \n",
       "Thursday                            9858184655   \n",
       "Tuesday                            13623279757   \n",
       "Wednesday                          12224743674   \n",
       "\n",
       "                     dayofweek absolute negative amount  \n",
       "timestamp_dayofweek                                      \n",
       "Friday                                       5726979298  \n",
       "Monday                                       5067490607  \n",
       "Saturday                                     3963082584  \n",
       "Sunday                                       4020710779  \n",
       "Thursday                                     4920170320  \n",
       "Tuesday                                      6826687246  \n",
       "Wednesday                                    6097156376  "
      ]
     },
     "execution_count": 26,
     "metadata": {},
     "output_type": "execute_result"
    }
   ],
   "source": [
    "## 일별 계산 table 생성\n",
    "dfs = [group_dayofweek_amount.size(), group_dayofweek_amount.sum(), group_dayofweek_amount_positive.size(), group_dayofweek_amount_positive.sum(), group_dayofweek_amount_negative.size(), group_dayofweek_amount_negative.sum(), absolute_total_amout, absolute_negative_sum]\n",
    "day_df_final = reduce(lambda left,right: pd.merge(left,right,on='timestamp_dayofweek'), dfs)\n",
    "day_df_final.columns = [ \"dayofweek transaction\", \"dayofweek income\", \"dayofweek Yield transaction\", \"dayofweek Yield\", \"dayofweek loss transaction\", \"dayofweek loss\", \"dayofweek absolute amount\", \"dayofweek absolute negative amount\"]\n",
    "day_df_final"
   ]
  },
  {
   "cell_type": "code",
   "execution_count": 36,
   "metadata": {},
   "outputs": [],
   "source": [
    "day_df_final=day_df_final.reindex([\"Monday\", \"Tuesday\", \"Wednesday\", \"Thursday\", \"Friday\", \"Saturday\", \"Sunday\"])"
   ]
  },
  {
   "cell_type": "code",
   "execution_count": 37,
   "metadata": {},
   "outputs": [],
   "source": [
    "day_df_final.to_csv(\"/Users/sangwon/workspace/school/bithumb_analysis/table/dayofweek_result_table.csv\", header=True, index=True, encoding = 'utf-8')"
   ]
  },
  {
   "cell_type": "code",
   "execution_count": 50,
   "metadata": {},
   "outputs": [
    {
     "data": {
      "image/png": "[encoded data removed]",
      "text/plain": [
       "<Figure size 432x288 with 1 Axes>"
      ]
     },
     "metadata": {
      "needs_background": "light"
     },
     "output_type": "display_data"
    }
   ],
   "source": [
    "day_df_final[['dayofweek transaction', 'dayofweek Yield transaction', 'dayofweek loss transaction']].plot(title='dayofweek transaction count', marker='o')\n",
    "plt.savefig('/Users/sangwon/workspace/school/bithumb_analysis/graph/dayofweek transaction count.png', dpi=300)"
   ]
  },
  {
   "cell_type": "code",
   "execution_count": 48,
   "metadata": {
    "scrolled": true
   },
   "outputs": [
    {
     "data": {
      "image/png": "[encoded data removed]",
      "text/plain": [
       "<Figure size 432x288 with 1 Axes>"
      ]
     },
     "metadata": {
      "needs_background": "light"
     },
     "output_type": "display_data"
    }
   ],
   "source": [
    "day_df_final[['dayofweek income', 'dayofweek Yield', 'dayofweek absolute negative amount']].plot(title='dayofweek income', marker='o')\n",
    "plt.savefig('/Users/sangwon/workspace/school/bithumb_analysis/graph/dayofweek income.png', dpi=300)"
   ]
  },
  {
   "cell_type": "code",
   "execution_count": 49,
   "metadata": {},
   "outputs": [
    {
     "data": {
      "image/png": "[encoded data removed]",
      "text/plain": [
       "<Figure size 432x288 with 1 Axes>"
      ]
     },
     "metadata": {
      "needs_background": "light"
     },
     "output_type": "display_data"
    }
   ],
   "source": [
    "day_df_final[['dayofweek income']].plot(title='dayofweek income only', marker='o')\n",
    "plt.savefig('/Users/sangwon/workspace/school/bithumb_analysis/graph/datofweek income only.png', dpi=300)"
   ]
  },
  {
   "cell_type": "code",
   "execution_count": null,
   "metadata": {},
   "outputs": [],
   "source": []
  }
 ],
 "metadata": {
  "kernelspec": {
   "display_name": "Python 3",
   "language": "python",
   "name": "python3"
  },
  "language_info": {
   "codemirror_mode": {
    "name": "ipython",
    "version": 3
   },
   "file_extension": ".py",
   "mimetype": "text/x-python",
   "name": "python",
   "nbconvert_exporter": "python",
   "pygments_lexer": "ipython3",
   "version": "3.7.1"
  }
 },
 "nbformat": 4,
 "nbformat_minor": 2
}
