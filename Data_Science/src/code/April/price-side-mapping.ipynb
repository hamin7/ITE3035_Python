{
 "cells": [
  {
   "cell_type": "code",
   "execution_count": 1,
   "metadata": {},
   "outputs": [],
   "source": [
    "import pandas as pd\n",
    "import numpy as np\n",
    "import matplotlib.pyplot as plt\n",
    "import seaborn as sns\n",
    "from functools import reduce\n",
    "from pylab import figure, axes, pie, title, savefig\n",
    "%matplotlib inline"
   ]
  },
  {
   "cell_type": "code",
   "execution_count": 2,
   "metadata": {},
   "outputs": [],
   "source": [
    "df = pd.read_csv(\"/Users/hamin/Documents/bithumb_analysis/include/2018-05-btc-krw.csv\")"
   ]
  },
  {
   "cell_type": "code",
   "execution_count": 3,
   "metadata": {},
   "outputs": [
    {
     "data": {
      "text/plain": [
       "timestamp     object\n",
       "quantity     float64\n",
       "price          int64\n",
       "fee            int64\n",
       "amount         int64\n",
       "side           int64\n",
       "dtype: object"
      ]
     },
     "execution_count": 3,
     "metadata": {},
     "output_type": "execute_result"
    }
   ],
   "source": [
    "# identifying column type \n",
    "df.dtypes"
   ]
  },
  {
   "cell_type": "code",
   "execution_count": 4,
   "metadata": {},
   "outputs": [],
   "source": [
    "# creating 'price - side' connection - price가 같은것 끼리 묶는다.\n",
    "side_price = df['side'].groupby(df['price'])"
   ]
  },
  {
   "cell_type": "code",
   "execution_count": 6,
   "metadata": {},
   "outputs": [
    {
     "data": {
      "text/plain": [
       "price\n",
       "7853000    -1.405690e+05\n",
       "7858000     1.982837e+05\n",
       "7859000    -1.206985e+07\n",
       "7862000     1.392675e+06\n",
       "7864000    -6.849545e+05\n",
       "                ...     \n",
       "10947000    1.970500e+04\n",
       "10948000    4.379200e+06\n",
       "10949000    1.780308e+06\n",
       "10951000   -8.343020e+06\n",
       "10953000    2.173622e+06\n",
       "Name: amount, Length: 2749, dtype: float64"
      ]
     },
     "execution_count": 6,
     "metadata": {},
     "output_type": "execute_result"
    }
   ],
   "source": [
    "# price 별 side의 평균\n",
    "side_price.mean()"
   ]
  },
  {
   "cell_type": "code",
   "execution_count": 7,
   "metadata": {},
   "outputs": [],
   "source": [
    "# 가격을 10 구간 으로 구간 나눔\n",
    "factor_price=pd.cut(df.price,10)"
   ]
  },
  {
   "cell_type": "code",
   "execution_count": 8,
   "metadata": {},
   "outputs": [
    {
     "data": {
      "text/plain": [
       "0        (10023000.0, 10333000.0]\n",
       "1        (10023000.0, 10333000.0]\n",
       "2        (10023000.0, 10333000.0]\n",
       "3        (10023000.0, 10333000.0]\n",
       "4        (10023000.0, 10333000.0]\n",
       "                   ...           \n",
       "23290      (8163000.0, 8473000.0]\n",
       "23291      (8163000.0, 8473000.0]\n",
       "23292      (8163000.0, 8473000.0]\n",
       "23293      (8163000.0, 8473000.0]\n",
       "23294      (8163000.0, 8473000.0]\n",
       "Name: price, Length: 23295, dtype: category\n",
       "Categories (10, interval[float64]): [(7849900.0, 8163000.0] < (8163000.0, 8473000.0] < (8473000.0, 8783000.0] < (8783000.0, 9093000.0] ... (9713000.0, 10023000.0] < (10023000.0, 10333000.0] < (10333000.0, 10643000.0] < (10643000.0, 10953000.0]]"
      ]
     },
     "execution_count": 8,
     "metadata": {},
     "output_type": "execute_result"
    }
   ],
   "source": [
    "factor_price"
   ]
  },
  {
   "cell_type": "code",
   "execution_count": 9,
   "metadata": {},
   "outputs": [],
   "source": [
    "group_side_by_priceGroup = df['side'].groupby(factor_price)"
   ]
  },
  {
   "cell_type": "code",
   "execution_count": 10,
   "metadata": {},
   "outputs": [
    {
     "data": {
      "text/plain": [
       "price\n",
       "(7849900.0, 8163000.0]       865\n",
       "(8163000.0, 8473000.0]      2012\n",
       "(8473000.0, 8783000.0]       451\n",
       "(8783000.0, 9093000.0]      1535\n",
       "(9093000.0, 9403000.0]      5297\n",
       "(9403000.0, 9713000.0]      3755\n",
       "(9713000.0, 10023000.0]     2686\n",
       "(10023000.0, 10333000.0]    2525\n",
       "(10333000.0, 10643000.0]    2887\n",
       "(10643000.0, 10953000.0]    1282\n",
       "Name: side, dtype: int64"
      ]
     },
     "execution_count": 10,
     "metadata": {},
     "output_type": "execute_result"
    }
   ],
   "source": [
    "group_side_by_priceGroup.size()"
   ]
  },
  {
   "cell_type": "code",
   "execution_count": 11,
   "metadata": {},
   "outputs": [
    {
     "data": {
      "text/plain": [
       "price\n",
       "(7849900.0, 8163000.0]      0.594220\n",
       "(8163000.0, 8473000.0]      0.594433\n",
       "(8473000.0, 8783000.0]      0.600887\n",
       "(8783000.0, 9093000.0]      0.698371\n",
       "(9093000.0, 9403000.0]      0.643572\n",
       "(9403000.0, 9713000.0]      0.662850\n",
       "(9713000.0, 10023000.0]     0.618392\n",
       "(10023000.0, 10333000.0]    0.624158\n",
       "(10333000.0, 10643000.0]    0.648424\n",
       "(10643000.0, 10953000.0]    0.630265\n",
       "Name: side, dtype: float64"
      ]
     },
     "execution_count": 11,
     "metadata": {},
     "output_type": "execute_result"
    }
   ],
   "source": [
    "group_side_by_priceGroup.mean()"
   ]
  },
  {
   "cell_type": "code",
   "execution_count": 12,
   "metadata": {},
   "outputs": [
    {
     "data": {
      "text/plain": [
       "price\n",
       "(7849900.0, 8163000.0]       514\n",
       "(8163000.0, 8473000.0]      1196\n",
       "(8473000.0, 8783000.0]       271\n",
       "(8783000.0, 9093000.0]      1072\n",
       "(9093000.0, 9403000.0]      3409\n",
       "(9403000.0, 9713000.0]      2489\n",
       "(9713000.0, 10023000.0]     1661\n",
       "(10023000.0, 10333000.0]    1576\n",
       "(10333000.0, 10643000.0]    1872\n",
       "(10643000.0, 10953000.0]     808\n",
       "Name: side, dtype: int64"
      ]
     },
     "execution_count": 12,
     "metadata": {},
     "output_type": "execute_result"
    }
   ],
   "source": [
    "group_side_by_priceGroup.sum()"
   ]
  },
  {
   "cell_type": "code",
   "execution_count": 15,
   "metadata": {},
   "outputs": [],
   "source": [
    "group_side_by_priceGroup_table = [group_side_by_priceGroup.size(), group_side_by_priceGroup.mean(), group_side_by_priceGroup.sum()]\n",
    "side_by_priceGroup = reduce(lambda left, right: pd.merge(left,right, on='price'), group_side_by_priceGroup_table)\n",
    "side_by_priceGroup.columns = [\"# of side\", \"mean of side\", \"sum of side\"]"
   ]
  },
  {
   "cell_type": "code",
   "execution_count": 16,
   "metadata": {},
   "outputs": [
    {
     "data": {
      "text/html": [
       "<div>\n",
       "<style scoped>\n",
       "    .dataframe tbody tr th:only-of-type {\n",
       "        vertical-align: middle;\n",
       "    }\n",
       "\n",
       "    .dataframe tbody tr th {\n",
       "        vertical-align: top;\n",
       "    }\n",
       "\n",
       "    .dataframe thead th {\n",
       "        text-align: right;\n",
       "    }\n",
       "</style>\n",
       "<table border=\"1\" class=\"dataframe\">\n",
       "  <thead>\n",
       "    <tr style=\"text-align: right;\">\n",
       "      <th></th>\n",
       "      <th># of side</th>\n",
       "      <th>mean of side</th>\n",
       "      <th>sum of side</th>\n",
       "    </tr>\n",
       "    <tr>\n",
       "      <th>price</th>\n",
       "      <th></th>\n",
       "      <th></th>\n",
       "      <th></th>\n",
       "    </tr>\n",
       "  </thead>\n",
       "  <tbody>\n",
       "    <tr>\n",
       "      <th>(7849900.0, 8163000.0]</th>\n",
       "      <td>865</td>\n",
       "      <td>0.594220</td>\n",
       "      <td>514</td>\n",
       "    </tr>\n",
       "    <tr>\n",
       "      <th>(8163000.0, 8473000.0]</th>\n",
       "      <td>2012</td>\n",
       "      <td>0.594433</td>\n",
       "      <td>1196</td>\n",
       "    </tr>\n",
       "    <tr>\n",
       "      <th>(8473000.0, 8783000.0]</th>\n",
       "      <td>451</td>\n",
       "      <td>0.600887</td>\n",
       "      <td>271</td>\n",
       "    </tr>\n",
       "    <tr>\n",
       "      <th>(8783000.0, 9093000.0]</th>\n",
       "      <td>1535</td>\n",
       "      <td>0.698371</td>\n",
       "      <td>1072</td>\n",
       "    </tr>\n",
       "    <tr>\n",
       "      <th>(9093000.0, 9403000.0]</th>\n",
       "      <td>5297</td>\n",
       "      <td>0.643572</td>\n",
       "      <td>3409</td>\n",
       "    </tr>\n",
       "    <tr>\n",
       "      <th>(9403000.0, 9713000.0]</th>\n",
       "      <td>3755</td>\n",
       "      <td>0.662850</td>\n",
       "      <td>2489</td>\n",
       "    </tr>\n",
       "    <tr>\n",
       "      <th>(9713000.0, 10023000.0]</th>\n",
       "      <td>2686</td>\n",
       "      <td>0.618392</td>\n",
       "      <td>1661</td>\n",
       "    </tr>\n",
       "    <tr>\n",
       "      <th>(10023000.0, 10333000.0]</th>\n",
       "      <td>2525</td>\n",
       "      <td>0.624158</td>\n",
       "      <td>1576</td>\n",
       "    </tr>\n",
       "    <tr>\n",
       "      <th>(10333000.0, 10643000.0]</th>\n",
       "      <td>2887</td>\n",
       "      <td>0.648424</td>\n",
       "      <td>1872</td>\n",
       "    </tr>\n",
       "    <tr>\n",
       "      <th>(10643000.0, 10953000.0]</th>\n",
       "      <td>1282</td>\n",
       "      <td>0.630265</td>\n",
       "      <td>808</td>\n",
       "    </tr>\n",
       "  </tbody>\n",
       "</table>\n",
       "</div>"
      ],
      "text/plain": [
       "                          # of side  mean of side  sum of side\n",
       "price                                                         \n",
       "(7849900.0, 8163000.0]          865      0.594220          514\n",
       "(8163000.0, 8473000.0]         2012      0.594433         1196\n",
       "(8473000.0, 8783000.0]          451      0.600887          271\n",
       "(8783000.0, 9093000.0]         1535      0.698371         1072\n",
       "(9093000.0, 9403000.0]         5297      0.643572         3409\n",
       "(9403000.0, 9713000.0]         3755      0.662850         2489\n",
       "(9713000.0, 10023000.0]        2686      0.618392         1661\n",
       "(10023000.0, 10333000.0]       2525      0.624158         1576\n",
       "(10333000.0, 10643000.0]       2887      0.648424         1872\n",
       "(10643000.0, 10953000.0]       1282      0.630265          808"
      ]
     },
     "execution_count": 16,
     "metadata": {},
     "output_type": "execute_result"
    }
   ],
   "source": [
    "side_by_priceGroup"
   ]
  },
  {
   "cell_type": "code",
   "execution_count": 17,
   "metadata": {},
   "outputs": [],
   "source": [
    "side_by_priceGroup.to_csv(\"/Users/hamin/Documents/bithumb_analysis/table/side_by_price_Group.csv\")"
   ]
  },
  {
   "cell_type": "code",
   "execution_count": 19,
   "metadata": {},
   "outputs": [
    {
     "data": {
      "image/png": "[encoded data removed]",
      "text/plain": [
       "<Figure size 432x288 with 1 Axes>"
      ]
     },
     "metadata": {
      "needs_background": "light"
     },
     "output_type": "display_data"
    }
   ],
   "source": [
    "# priceGroup-side 간 그래프\n",
    "side_by_priceGroup.plot(title='side by price Group', marker='o')\n",
    "plt.savefig('/Users/hamin/Documents/bithumb_analysis/graph/side_by_price_Group.png', dpi=300)"
   ]
  },
  {
   "cell_type": "code",
   "execution_count": 20,
   "metadata": {},
   "outputs": [
    {
     "data": {
      "image/png": "[encoded data removed]",
      "text/plain": [
       "<Figure size 432x288 with 1 Axes>"
      ]
     },
     "metadata": {
      "needs_background": "light"
     },
     "output_type": "display_data"
    }
   ],
   "source": [
    "# priceGroup-mean of side 간 그래프 (0.5보다 크면 산 것이 더 많다는 것)\n",
    "side_by_priceGroup.plot(y='mean of side',title='mean of side by price Group', marker='o')\n",
    "plt.savefig('/Users/hamin/Documents/bithumb_analysis/graph/mean_of_side_by_price_Group.png', dpi=300)"
   ]
  },
  {
   "cell_type": "code",
   "execution_count": null,
   "metadata": {},
   "outputs": [],
   "source": []
  }
 ],
 "metadata": {
  "kernelspec": {
   "display_name": "Python 3",
   "language": "python",
   "name": "python3"
  },
  "language_info": {
   "codemirror_mode": {
    "name": "ipython",
    "version": 3
   },
   "file_extension": ".py",
   "mimetype": "text/x-python",
   "name": "python",
   "nbconvert_exporter": "python",
   "pygments_lexer": "ipython3",
   "version": "3.7.1"
  }
 },
 "nbformat": 4,
 "nbformat_minor": 4
}
