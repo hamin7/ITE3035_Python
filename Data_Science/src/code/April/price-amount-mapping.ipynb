{
 "cells": [
  {
   "cell_type": "code",
   "execution_count": 1,
   "metadata": {},
   "outputs": [],
   "source": [
    "import pandas as pd\n",
    "import numpy as np\n",
    "import matplotlib.pyplot as plt\n",
    "import seaborn as sns\n",
    "from functools import reduce\n",
    "from pylab import figure, axes, pie, title, savefig\n",
    "%matplotlib inline"
   ]
  },
  {
   "cell_type": "code",
   "execution_count": 2,
   "metadata": {},
   "outputs": [],
   "source": [
    "df = pd.read_csv(\"/Users/hamin/Documents/bithumb_analysis/include/2018-05-btc-krw.csv\")"
   ]
  },
  {
   "cell_type": "code",
   "execution_count": 3,
   "metadata": {},
   "outputs": [
    {
     "data": {
      "text/plain": [
       "timestamp     object\n",
       "quantity     float64\n",
       "price          int64\n",
       "fee            int64\n",
       "amount         int64\n",
       "side           int64\n",
       "dtype: object"
      ]
     },
     "execution_count": 3,
     "metadata": {},
     "output_type": "execute_result"
    }
   ],
   "source": [
    "# identifying column type \n",
    "df.dtypes"
   ]
  },
  {
   "cell_type": "code",
   "execution_count": 4,
   "metadata": {},
   "outputs": [],
   "source": [
    "# creating 'price - amount' connection - price가 같은것 끼리 묶는다.\n",
    "amount_price = df['amount'].groupby(df['price'])"
   ]
  },
  {
   "cell_type": "code",
   "execution_count": 5,
   "metadata": {},
   "outputs": [
    {
     "data": {
      "text/plain": [
       "price\n",
       "7853000    -1.405690e+05\n",
       "7858000     1.982837e+05\n",
       "7859000    -1.206985e+07\n",
       "7862000     1.392675e+06\n",
       "7864000    -6.849545e+05\n",
       "                ...     \n",
       "10947000    1.970500e+04\n",
       "10948000    4.379200e+06\n",
       "10949000    1.780308e+06\n",
       "10951000   -8.343020e+06\n",
       "10953000    2.173622e+06\n",
       "Name: amount, Length: 2749, dtype: float64"
      ]
     },
     "execution_count": 5,
     "metadata": {},
     "output_type": "execute_result"
    }
   ],
   "source": [
    "# price 별 amount의 평균\n",
    "amount_price.mean()"
   ]
  },
  {
   "cell_type": "code",
   "execution_count": 6,
   "metadata": {},
   "outputs": [],
   "source": [
    "# 가격을 10 구간 으로 구간 나눔\n",
    "factor_price=pd.cut(df.price,10)"
   ]
  },
  {
   "cell_type": "code",
   "execution_count": 7,
   "metadata": {},
   "outputs": [
    {
     "data": {
      "text/plain": [
       "0        (10023000.0, 10333000.0]\n",
       "1        (10023000.0, 10333000.0]\n",
       "2        (10023000.0, 10333000.0]\n",
       "3        (10023000.0, 10333000.0]\n",
       "4        (10023000.0, 10333000.0]\n",
       "                   ...           \n",
       "23290      (8163000.0, 8473000.0]\n",
       "23291      (8163000.0, 8473000.0]\n",
       "23292      (8163000.0, 8473000.0]\n",
       "23293      (8163000.0, 8473000.0]\n",
       "23294      (8163000.0, 8473000.0]\n",
       "Name: price, Length: 23295, dtype: category\n",
       "Categories (10, interval[float64]): [(7849900.0, 8163000.0] < (8163000.0, 8473000.0] < (8473000.0, 8783000.0] < (8783000.0, 9093000.0] ... (9713000.0, 10023000.0] < (10023000.0, 10333000.0] < (10333000.0, 10643000.0] < (10643000.0, 10953000.0]]"
      ]
     },
     "execution_count": 7,
     "metadata": {},
     "output_type": "execute_result"
    }
   ],
   "source": [
    "factor_price"
   ]
  },
  {
   "cell_type": "code",
   "execution_count": 8,
   "metadata": {},
   "outputs": [],
   "source": [
    "group_amount_by_priceGroup = df['amount'].groupby(factor_price)"
   ]
  },
  {
   "cell_type": "code",
   "execution_count": 9,
   "metadata": {},
   "outputs": [
    {
     "data": {
      "text/plain": [
       "price\n",
       "(7849900.0, 8163000.0]       865\n",
       "(8163000.0, 8473000.0]      2012\n",
       "(8473000.0, 8783000.0]       451\n",
       "(8783000.0, 9093000.0]      1535\n",
       "(9093000.0, 9403000.0]      5297\n",
       "(9403000.0, 9713000.0]      3755\n",
       "(9713000.0, 10023000.0]     2686\n",
       "(10023000.0, 10333000.0]    2525\n",
       "(10333000.0, 10643000.0]    2887\n",
       "(10643000.0, 10953000.0]    1282\n",
       "Name: amount, dtype: int64"
      ]
     },
     "execution_count": 9,
     "metadata": {},
     "output_type": "execute_result"
    }
   ],
   "source": [
    "group_amount_by_priceGroup.size()"
   ]
  },
  {
   "cell_type": "code",
   "execution_count": 10,
   "metadata": {},
   "outputs": [
    {
     "data": {
      "text/plain": [
       "price\n",
       "(7849900.0, 8163000.0]       -336.387283\n",
       "(8163000.0, 8473000.0]       -975.011431\n",
       "(8473000.0, 8783000.0]     -29993.463415\n",
       "(8783000.0, 9093000.0]     -78418.174593\n",
       "(9093000.0, 9403000.0]       3178.292996\n",
       "(9403000.0, 9713000.0]      72006.282024\n",
       "(9713000.0, 10023000.0]    -53587.653760\n",
       "(10023000.0, 10333000.0]   -92779.711287\n",
       "(10333000.0, 10643000.0]    61137.858330\n",
       "(10643000.0, 10953000.0]    48855.038222\n",
       "Name: amount, dtype: float64"
      ]
     },
     "execution_count": 10,
     "metadata": {},
     "output_type": "execute_result"
    }
   ],
   "source": [
    "group_amount_by_priceGroup.mean()"
   ]
  },
  {
   "cell_type": "code",
   "execution_count": 11,
   "metadata": {},
   "outputs": [
    {
     "data": {
      "text/plain": [
       "price\n",
       "(7849900.0, 8163000.0]        -290975\n",
       "(8163000.0, 8473000.0]       -1961723\n",
       "(8473000.0, 8783000.0]      -13527052\n",
       "(8783000.0, 9093000.0]     -120371898\n",
       "(9093000.0, 9403000.0]       16835418\n",
       "(9403000.0, 9713000.0]      270383589\n",
       "(9713000.0, 10023000.0]    -143936438\n",
       "(10023000.0, 10333000.0]   -234268771\n",
       "(10333000.0, 10643000.0]    176504997\n",
       "(10643000.0, 10953000.0]     62632159\n",
       "Name: amount, dtype: int64"
      ]
     },
     "execution_count": 11,
     "metadata": {},
     "output_type": "execute_result"
    }
   ],
   "source": [
    "group_amount_by_priceGroup.sum()"
   ]
  },
  {
   "cell_type": "code",
   "execution_count": 12,
   "metadata": {},
   "outputs": [],
   "source": [
    "group_amount_by_priceGroup_table = [group_amount_by_priceGroup.size(), group_amount_by_priceGroup.mean(), group_amount_by_priceGroup.sum()]\n",
    "amount_by_priceGroup = reduce(lambda left, right: pd.merge(left,right, on='price'), group_amount_by_priceGroup_table)\n",
    "amount_by_priceGroup.columns = [\"# of amount\", \"mean of amount\", \"sum of amount\"]"
   ]
  },
  {
   "cell_type": "code",
   "execution_count": 13,
   "metadata": {},
   "outputs": [
    {
     "data": {
      "text/html": [
       "<div>\n",
       "<style scoped>\n",
       "    .dataframe tbody tr th:only-of-type {\n",
       "        vertical-align: middle;\n",
       "    }\n",
       "\n",
       "    .dataframe tbody tr th {\n",
       "        vertical-align: top;\n",
       "    }\n",
       "\n",
       "    .dataframe thead th {\n",
       "        text-align: right;\n",
       "    }\n",
       "</style>\n",
       "<table border=\"1\" class=\"dataframe\">\n",
       "  <thead>\n",
       "    <tr style=\"text-align: right;\">\n",
       "      <th></th>\n",
       "      <th># of amount</th>\n",
       "      <th>mean of amount</th>\n",
       "      <th>sum of amount</th>\n",
       "    </tr>\n",
       "    <tr>\n",
       "      <th>price</th>\n",
       "      <th></th>\n",
       "      <th></th>\n",
       "      <th></th>\n",
       "    </tr>\n",
       "  </thead>\n",
       "  <tbody>\n",
       "    <tr>\n",
       "      <th>(7849900.0, 8163000.0]</th>\n",
       "      <td>865</td>\n",
       "      <td>-336.387283</td>\n",
       "      <td>-290975</td>\n",
       "    </tr>\n",
       "    <tr>\n",
       "      <th>(8163000.0, 8473000.0]</th>\n",
       "      <td>2012</td>\n",
       "      <td>-975.011431</td>\n",
       "      <td>-1961723</td>\n",
       "    </tr>\n",
       "    <tr>\n",
       "      <th>(8473000.0, 8783000.0]</th>\n",
       "      <td>451</td>\n",
       "      <td>-29993.463415</td>\n",
       "      <td>-13527052</td>\n",
       "    </tr>\n",
       "    <tr>\n",
       "      <th>(8783000.0, 9093000.0]</th>\n",
       "      <td>1535</td>\n",
       "      <td>-78418.174593</td>\n",
       "      <td>-120371898</td>\n",
       "    </tr>\n",
       "    <tr>\n",
       "      <th>(9093000.0, 9403000.0]</th>\n",
       "      <td>5297</td>\n",
       "      <td>3178.292996</td>\n",
       "      <td>16835418</td>\n",
       "    </tr>\n",
       "    <tr>\n",
       "      <th>(9403000.0, 9713000.0]</th>\n",
       "      <td>3755</td>\n",
       "      <td>72006.282024</td>\n",
       "      <td>270383589</td>\n",
       "    </tr>\n",
       "    <tr>\n",
       "      <th>(9713000.0, 10023000.0]</th>\n",
       "      <td>2686</td>\n",
       "      <td>-53587.653760</td>\n",
       "      <td>-143936438</td>\n",
       "    </tr>\n",
       "    <tr>\n",
       "      <th>(10023000.0, 10333000.0]</th>\n",
       "      <td>2525</td>\n",
       "      <td>-92779.711287</td>\n",
       "      <td>-234268771</td>\n",
       "    </tr>\n",
       "    <tr>\n",
       "      <th>(10333000.0, 10643000.0]</th>\n",
       "      <td>2887</td>\n",
       "      <td>61137.858330</td>\n",
       "      <td>176504997</td>\n",
       "    </tr>\n",
       "    <tr>\n",
       "      <th>(10643000.0, 10953000.0]</th>\n",
       "      <td>1282</td>\n",
       "      <td>48855.038222</td>\n",
       "      <td>62632159</td>\n",
       "    </tr>\n",
       "  </tbody>\n",
       "</table>\n",
       "</div>"
      ],
      "text/plain": [
       "                          # of amount  mean of amount  sum of amount\n",
       "price                                                               \n",
       "(7849900.0, 8163000.0]            865     -336.387283        -290975\n",
       "(8163000.0, 8473000.0]           2012     -975.011431       -1961723\n",
       "(8473000.0, 8783000.0]            451   -29993.463415      -13527052\n",
       "(8783000.0, 9093000.0]           1535   -78418.174593     -120371898\n",
       "(9093000.0, 9403000.0]           5297     3178.292996       16835418\n",
       "(9403000.0, 9713000.0]           3755    72006.282024      270383589\n",
       "(9713000.0, 10023000.0]          2686   -53587.653760     -143936438\n",
       "(10023000.0, 10333000.0]         2525   -92779.711287     -234268771\n",
       "(10333000.0, 10643000.0]         2887    61137.858330      176504997\n",
       "(10643000.0, 10953000.0]         1282    48855.038222       62632159"
      ]
     },
     "execution_count": 13,
     "metadata": {},
     "output_type": "execute_result"
    }
   ],
   "source": [
    "amount_by_priceGroup"
   ]
  },
  {
   "cell_type": "code",
   "execution_count": 14,
   "metadata": {},
   "outputs": [],
   "source": [
    "amount_by_priceGroup.to_csv(\"/Users/hamin/Documents/bithumb_analysis/table/amount_by_price_Group.csv\")"
   ]
  },
  {
   "cell_type": "code",
   "execution_count": 15,
   "metadata": {},
   "outputs": [
    {
     "data": {
      "image/png": "[encoded data removed]",
      "text/plain": [
       "<Figure size 432x288 with 1 Axes>"
      ]
     },
     "metadata": {
      "needs_background": "light"
     },
     "output_type": "display_data"
    }
   ],
   "source": [
    "# priceGroup-amount 간 그래프\n",
    "amount_by_priceGroup.plot(title='amount by price Group', marker='o')\n",
    "plt.savefig('/Users/hamin/Documents/bithumb_analysis/graph/amount_by_price_Group.png', dpi=300)"
   ]
  },
  {
   "cell_type": "code",
   "execution_count": 16,
   "metadata": {},
   "outputs": [
    {
     "data": {
      "image/png": "[encoded data removed]",
      "text/plain": [
       "<Figure size 432x288 with 1 Axes>"
      ]
     },
     "metadata": {
      "needs_background": "light"
     },
     "output_type": "display_data"
    }
   ],
   "source": [
    "# priceGroup-# of amount 간 그래프\n",
    "amount_by_priceGroup.plot(y='# of amount',title='# of amount by price Group', marker='o')\n",
    "plt.savefig('/Users/hamin/Documents/bithumb_analysis/graph/#_of_amount_by_price_Group.png', dpi=300)"
   ]
  },
  {
   "cell_type": "code",
   "execution_count": 17,
   "metadata": {},
   "outputs": [
    {
     "data": {
      "image/png": "[encoded data removed]",
      "text/plain": [
       "<Figure size 432x288 with 1 Axes>"
      ]
     },
     "metadata": {
      "needs_background": "light"
     },
     "output_type": "display_data"
    }
   ],
   "source": [
    "# priceGroup-mean of amount 간 그래프\n",
    "amount_by_priceGroup.plot(y='mean of amount',title='mean of amount by price Group', marker='o')\n",
    "plt.savefig('/Users/hamin/Documents/bithumb_analysis/graph/mean_of_amount_by_price_Group.png', dpi=300)"
   ]
  },
  {
   "cell_type": "code",
   "execution_count": 18,
   "metadata": {},
   "outputs": [
    {
     "data": {
      "image/png": "[encoded data removed]",
      "text/plain": [
       "<Figure size 432x288 with 1 Axes>"
      ]
     },
     "metadata": {
      "needs_background": "light"
     },
     "output_type": "display_data"
    }
   ],
   "source": [
    "# priceGroup-sum of amount 간 그래프\n",
    "amount_by_priceGroup.plot(y='sum of amount',title='sum of amount by price Group', marker='o')\n",
    "plt.savefig('/Users/hamin/Documents/bithumb_analysis/graph/sum_of_amount_by_price_Group.png', dpi=300)"
   ]
  },
  {
   "cell_type": "code",
   "execution_count": null,
   "metadata": {},
   "outputs": [],
   "source": []
  }
 ],
 "metadata": {
  "kernelspec": {
   "display_name": "Python 3",
   "language": "python",
   "name": "python3"
  },
  "language_info": {
   "codemirror_mode": {
    "name": "ipython",
    "version": 3
   },
   "file_extension": ".py",
   "mimetype": "text/x-python",
   "name": "python",
   "nbconvert_exporter": "python",
   "pygments_lexer": "ipython3",
   "version": "3.7.7"
  }
 },
 "nbformat": 4,
 "nbformat_minor": 4
}
