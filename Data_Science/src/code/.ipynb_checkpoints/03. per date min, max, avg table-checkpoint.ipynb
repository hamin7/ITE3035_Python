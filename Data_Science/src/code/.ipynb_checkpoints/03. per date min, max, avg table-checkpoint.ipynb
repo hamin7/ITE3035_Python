{
 "cells": [
  {
   "cell_type": "code",
   "execution_count": 1,
   "metadata": {},
   "outputs": [],
   "source": [
    "# ############################################################\n",
    "\n",
    "# ## parsing_by_hour ##\n",
    "\n",
    "# ############################################################\n",
    "\n",
    "# -- Designed by\n",
    "\n",
    "#    김상원\n",
    "\n",
    "# -- Produced by Mar. 31, 2020. (Ver.1.)\n",
    "\n",
    "# -- Description: xxx\n",
    "\n",
    "# ============================================================"
   ]
  },
  {
   "cell_type": "code",
   "execution_count": 2,
   "metadata": {},
   "outputs": [],
   "source": [
    "import pandas as pd\n",
    "import numpy as np\n",
    "from functools import reduce"
   ]
  },
  {
   "cell_type": "code",
   "execution_count": 3,
   "metadata": {},
   "outputs": [],
   "source": [
    "df = pd.read_csv(\"/Users/sangwon/workspace/school/bithumb_bot/data/2018-05-btc-krw.csv\") # csv load"
   ]
  },
  {
   "cell_type": "code",
   "execution_count": 4,
   "metadata": {},
   "outputs": [
    {
     "data": {
      "text/plain": [
       "timestamp     object\n",
       "quantity     float64\n",
       "price          int64\n",
       "fee            int64\n",
       "amount         int64\n",
       "side           int64\n",
       "dtype: object"
      ]
     },
     "execution_count": 4,
     "metadata": {},
     "output_type": "execute_result"
    }
   ],
   "source": [
    "df.dtypes # identifying column type "
   ]
  },
  {
   "cell_type": "code",
   "execution_count": 5,
   "metadata": {},
   "outputs": [
    {
     "data": {
      "text/plain": [
       "timestamp    datetime64[ns]\n",
       "quantity            float64\n",
       "price                 int64\n",
       "fee                   int64\n",
       "amount                int64\n",
       "side                  int64\n",
       "dtype: object"
      ]
     },
     "execution_count": 5,
     "metadata": {},
     "output_type": "execute_result"
    }
   ],
   "source": [
    "## converting timestamp column type 'object' to 'datetime'\n",
    "df['timestamp'] = pd.to_datetime(df['timestamp'], format='%Y-%m-%d %H:%M:%S', errors='raise')\n",
    "df.dtypes"
   ]
  },
  {
   "cell_type": "code",
   "execution_count": 6,
   "metadata": {},
   "outputs": [],
   "source": [
    "## converting timestamp to detailed date column\n",
    "df['timestamp_year_month_day']       = df['timestamp'].dt.date         # YYYY-MM-DD(문자)\n",
    "df['timestamp_year']       = df['timestamp'].dt.year         # 연(4자리숫자)\n",
    "df['timestamp_month']      = df['timestamp'].dt.month        # 월(숫자)\n",
    "df['timestamp_month_name'] = df['timestamp'].dt.month_name() # 월(문자)\n",
    "\n",
    "df['timestamp_day']        = df['timestamp'].dt.day          # 일(숫자)\n",
    "df['timestamp_time']       = df['timestamp'].dt.time         # HH:MM:SS(문자)\n",
    "df['timestamp_hour']       = df['timestamp'].dt.hour         # 시(숫자)\n",
    "df['timestamp_minute']     = df['timestamp'].dt.minute       # 분(숫자)\n",
    "df['timestamp_second']     = df['timestamp'].dt.second       # 초(숫자)\n",
    "df['Date_day'] = df['timestamp'].dt.to_period(freq = 'D') "
   ]
  },
  {
   "cell_type": "code",
   "execution_count": 7,
   "metadata": {},
   "outputs": [
    {
     "data": {
      "text/html": [
       "<div>\n",
       "<style scoped>\n",
       "    .dataframe tbody tr th:only-of-type {\n",
       "        vertical-align: middle;\n",
       "    }\n",
       "\n",
       "    .dataframe tbody tr th {\n",
       "        vertical-align: top;\n",
       "    }\n",
       "\n",
       "    .dataframe thead th {\n",
       "        text-align: right;\n",
       "    }\n",
       "</style>\n",
       "<table border=\"1\" class=\"dataframe\">\n",
       "  <thead>\n",
       "    <tr style=\"text-align: right;\">\n",
       "      <th></th>\n",
       "      <th>timestamp</th>\n",
       "      <th>quantity</th>\n",
       "      <th>price</th>\n",
       "      <th>fee</th>\n",
       "      <th>amount</th>\n",
       "      <th>side</th>\n",
       "      <th>timestamp_year_month_day</th>\n",
       "      <th>timestamp_year</th>\n",
       "      <th>timestamp_month</th>\n",
       "      <th>timestamp_month_name</th>\n",
       "      <th>timestamp_day</th>\n",
       "      <th>timestamp_time</th>\n",
       "      <th>timestamp_hour</th>\n",
       "      <th>timestamp_minute</th>\n",
       "      <th>timestamp_second</th>\n",
       "      <th>Date_day</th>\n",
       "    </tr>\n",
       "  </thead>\n",
       "  <tbody>\n",
       "    <tr>\n",
       "      <td>0</td>\n",
       "      <td>2018-05-01 01:06:02</td>\n",
       "      <td>0.8064</td>\n",
       "      <td>10164000</td>\n",
       "      <td>0</td>\n",
       "      <td>-8196250</td>\n",
       "      <td>0</td>\n",
       "      <td>2018-05-01</td>\n",
       "      <td>2018</td>\n",
       "      <td>5</td>\n",
       "      <td>May</td>\n",
       "      <td>1</td>\n",
       "      <td>01:06:02</td>\n",
       "      <td>1</td>\n",
       "      <td>6</td>\n",
       "      <td>2</td>\n",
       "      <td>2018-05-01</td>\n",
       "    </tr>\n",
       "    <tr>\n",
       "      <td>1</td>\n",
       "      <td>2018-05-01 01:06:16</td>\n",
       "      <td>0.1000</td>\n",
       "      <td>10163000</td>\n",
       "      <td>0</td>\n",
       "      <td>1016300</td>\n",
       "      <td>1</td>\n",
       "      <td>2018-05-01</td>\n",
       "      <td>2018</td>\n",
       "      <td>5</td>\n",
       "      <td>May</td>\n",
       "      <td>1</td>\n",
       "      <td>01:06:16</td>\n",
       "      <td>1</td>\n",
       "      <td>6</td>\n",
       "      <td>16</td>\n",
       "      <td>2018-05-01</td>\n",
       "    </tr>\n",
       "    <tr>\n",
       "      <td>2</td>\n",
       "      <td>2018-05-01 01:06:20</td>\n",
       "      <td>0.1000</td>\n",
       "      <td>10163000</td>\n",
       "      <td>0</td>\n",
       "      <td>1016300</td>\n",
       "      <td>1</td>\n",
       "      <td>2018-05-01</td>\n",
       "      <td>2018</td>\n",
       "      <td>5</td>\n",
       "      <td>May</td>\n",
       "      <td>1</td>\n",
       "      <td>01:06:20</td>\n",
       "      <td>1</td>\n",
       "      <td>6</td>\n",
       "      <td>20</td>\n",
       "      <td>2018-05-01</td>\n",
       "    </tr>\n",
       "    <tr>\n",
       "      <td>3</td>\n",
       "      <td>2018-05-01 01:06:24</td>\n",
       "      <td>0.3382</td>\n",
       "      <td>10162000</td>\n",
       "      <td>0</td>\n",
       "      <td>3436788</td>\n",
       "      <td>1</td>\n",
       "      <td>2018-05-01</td>\n",
       "      <td>2018</td>\n",
       "      <td>5</td>\n",
       "      <td>May</td>\n",
       "      <td>1</td>\n",
       "      <td>01:06:24</td>\n",
       "      <td>1</td>\n",
       "      <td>6</td>\n",
       "      <td>24</td>\n",
       "      <td>2018-05-01</td>\n",
       "    </tr>\n",
       "    <tr>\n",
       "      <td>4</td>\n",
       "      <td>2018-05-01 01:06:28</td>\n",
       "      <td>0.1000</td>\n",
       "      <td>10153000</td>\n",
       "      <td>0</td>\n",
       "      <td>1015300</td>\n",
       "      <td>1</td>\n",
       "      <td>2018-05-01</td>\n",
       "      <td>2018</td>\n",
       "      <td>5</td>\n",
       "      <td>May</td>\n",
       "      <td>1</td>\n",
       "      <td>01:06:28</td>\n",
       "      <td>1</td>\n",
       "      <td>6</td>\n",
       "      <td>28</td>\n",
       "      <td>2018-05-01</td>\n",
       "    </tr>\n",
       "    <tr>\n",
       "      <td>...</td>\n",
       "      <td>...</td>\n",
       "      <td>...</td>\n",
       "      <td>...</td>\n",
       "      <td>...</td>\n",
       "      <td>...</td>\n",
       "      <td>...</td>\n",
       "      <td>...</td>\n",
       "      <td>...</td>\n",
       "      <td>...</td>\n",
       "      <td>...</td>\n",
       "      <td>...</td>\n",
       "      <td>...</td>\n",
       "      <td>...</td>\n",
       "      <td>...</td>\n",
       "      <td>...</td>\n",
       "      <td>...</td>\n",
       "    </tr>\n",
       "    <tr>\n",
       "      <td>23290</td>\n",
       "      <td>2018-05-31 23:19:25</td>\n",
       "      <td>0.2509</td>\n",
       "      <td>8338000</td>\n",
       "      <td>0</td>\n",
       "      <td>2092004</td>\n",
       "      <td>1</td>\n",
       "      <td>2018-05-31</td>\n",
       "      <td>2018</td>\n",
       "      <td>5</td>\n",
       "      <td>May</td>\n",
       "      <td>31</td>\n",
       "      <td>23:19:25</td>\n",
       "      <td>23</td>\n",
       "      <td>19</td>\n",
       "      <td>25</td>\n",
       "      <td>2018-05-31</td>\n",
       "    </tr>\n",
       "    <tr>\n",
       "      <td>23291</td>\n",
       "      <td>2018-05-31 23:21:03</td>\n",
       "      <td>0.0390</td>\n",
       "      <td>8342000</td>\n",
       "      <td>0</td>\n",
       "      <td>325338</td>\n",
       "      <td>1</td>\n",
       "      <td>2018-05-31</td>\n",
       "      <td>2018</td>\n",
       "      <td>5</td>\n",
       "      <td>May</td>\n",
       "      <td>31</td>\n",
       "      <td>23:21:03</td>\n",
       "      <td>23</td>\n",
       "      <td>21</td>\n",
       "      <td>3</td>\n",
       "      <td>2018-05-31</td>\n",
       "    </tr>\n",
       "    <tr>\n",
       "      <td>23292</td>\n",
       "      <td>2018-05-31 23:21:05</td>\n",
       "      <td>0.4258</td>\n",
       "      <td>8342000</td>\n",
       "      <td>0</td>\n",
       "      <td>3552024</td>\n",
       "      <td>1</td>\n",
       "      <td>2018-05-31</td>\n",
       "      <td>2018</td>\n",
       "      <td>5</td>\n",
       "      <td>May</td>\n",
       "      <td>31</td>\n",
       "      <td>23:21:05</td>\n",
       "      <td>23</td>\n",
       "      <td>21</td>\n",
       "      <td>5</td>\n",
       "      <td>2018-05-31</td>\n",
       "    </tr>\n",
       "    <tr>\n",
       "      <td>23293</td>\n",
       "      <td>2018-05-31 23:21:08</td>\n",
       "      <td>0.1126</td>\n",
       "      <td>8342000</td>\n",
       "      <td>0</td>\n",
       "      <td>939309</td>\n",
       "      <td>1</td>\n",
       "      <td>2018-05-31</td>\n",
       "      <td>2018</td>\n",
       "      <td>5</td>\n",
       "      <td>May</td>\n",
       "      <td>31</td>\n",
       "      <td>23:21:08</td>\n",
       "      <td>23</td>\n",
       "      <td>21</td>\n",
       "      <td>8</td>\n",
       "      <td>2018-05-31</td>\n",
       "    </tr>\n",
       "    <tr>\n",
       "      <td>23294</td>\n",
       "      <td>2018-05-31 23:21:17</td>\n",
       "      <td>0.3680</td>\n",
       "      <td>8342000</td>\n",
       "      <td>0</td>\n",
       "      <td>3069856</td>\n",
       "      <td>1</td>\n",
       "      <td>2018-05-31</td>\n",
       "      <td>2018</td>\n",
       "      <td>5</td>\n",
       "      <td>May</td>\n",
       "      <td>31</td>\n",
       "      <td>23:21:17</td>\n",
       "      <td>23</td>\n",
       "      <td>21</td>\n",
       "      <td>17</td>\n",
       "      <td>2018-05-31</td>\n",
       "    </tr>\n",
       "  </tbody>\n",
       "</table>\n",
       "<p>23295 rows × 16 columns</p>\n",
       "</div>"
      ],
      "text/plain": [
       "                timestamp  quantity     price  fee   amount  side  \\\n",
       "0     2018-05-01 01:06:02    0.8064  10164000    0 -8196250     0   \n",
       "1     2018-05-01 01:06:16    0.1000  10163000    0  1016300     1   \n",
       "2     2018-05-01 01:06:20    0.1000  10163000    0  1016300     1   \n",
       "3     2018-05-01 01:06:24    0.3382  10162000    0  3436788     1   \n",
       "4     2018-05-01 01:06:28    0.1000  10153000    0  1015300     1   \n",
       "...                   ...       ...       ...  ...      ...   ...   \n",
       "23290 2018-05-31 23:19:25    0.2509   8338000    0  2092004     1   \n",
       "23291 2018-05-31 23:21:03    0.0390   8342000    0   325338     1   \n",
       "23292 2018-05-31 23:21:05    0.4258   8342000    0  3552024     1   \n",
       "23293 2018-05-31 23:21:08    0.1126   8342000    0   939309     1   \n",
       "23294 2018-05-31 23:21:17    0.3680   8342000    0  3069856     1   \n",
       "\n",
       "      timestamp_year_month_day  timestamp_year  timestamp_month  \\\n",
       "0                   2018-05-01            2018                5   \n",
       "1                   2018-05-01            2018                5   \n",
       "2                   2018-05-01            2018                5   \n",
       "3                   2018-05-01            2018                5   \n",
       "4                   2018-05-01            2018                5   \n",
       "...                        ...             ...              ...   \n",
       "23290               2018-05-31            2018                5   \n",
       "23291               2018-05-31            2018                5   \n",
       "23292               2018-05-31            2018                5   \n",
       "23293               2018-05-31            2018                5   \n",
       "23294               2018-05-31            2018                5   \n",
       "\n",
       "      timestamp_month_name  timestamp_day timestamp_time  timestamp_hour  \\\n",
       "0                      May              1       01:06:02               1   \n",
       "1                      May              1       01:06:16               1   \n",
       "2                      May              1       01:06:20               1   \n",
       "3                      May              1       01:06:24               1   \n",
       "4                      May              1       01:06:28               1   \n",
       "...                    ...            ...            ...             ...   \n",
       "23290                  May             31       23:19:25              23   \n",
       "23291                  May             31       23:21:03              23   \n",
       "23292                  May             31       23:21:05              23   \n",
       "23293                  May             31       23:21:08              23   \n",
       "23294                  May             31       23:21:17              23   \n",
       "\n",
       "       timestamp_minute  timestamp_second    Date_day  \n",
       "0                     6                 2  2018-05-01  \n",
       "1                     6                16  2018-05-01  \n",
       "2                     6                20  2018-05-01  \n",
       "3                     6                24  2018-05-01  \n",
       "4                     6                28  2018-05-01  \n",
       "...                 ...               ...         ...  \n",
       "23290                19                25  2018-05-31  \n",
       "23291                21                 3  2018-05-31  \n",
       "23292                21                 5  2018-05-31  \n",
       "23293                21                 8  2018-05-31  \n",
       "23294                21                17  2018-05-31  \n",
       "\n",
       "[23295 rows x 16 columns]"
      ]
     },
     "execution_count": 7,
     "metadata": {},
     "output_type": "execute_result"
    }
   ],
   "source": [
    "df"
   ]
  },
  {
   "cell_type": "code",
   "execution_count": 8,
   "metadata": {},
   "outputs": [],
   "source": [
    "## creating 'hour - amount' connection\n",
    "group_day_amount = df['amount'].groupby(df['Date_day'])"
   ]
  },
  {
   "cell_type": "code",
   "execution_count": 9,
   "metadata": {},
   "outputs": [
    {
     "data": {
      "text/plain": [
       "1494"
      ]
     },
     "execution_count": 9,
     "metadata": {},
     "output_type": "execute_result"
    }
   ],
   "source": [
    "## 시간별 transaction 수\n",
    "group_day_amount.size().max()"
   ]
  },
  {
   "cell_type": "code",
   "execution_count": 10,
   "metadata": {},
   "outputs": [
    {
     "data": {
      "text/plain": [
       "222"
      ]
     },
     "execution_count": 10,
     "metadata": {},
     "output_type": "execute_result"
    }
   ],
   "source": [
    "group_day_amount.size().min()"
   ]
  },
  {
   "cell_type": "code",
   "execution_count": 11,
   "metadata": {},
   "outputs": [
    {
     "data": {
      "text/plain": [
       "751.4516129032259"
      ]
     },
     "execution_count": 11,
     "metadata": {},
     "output_type": "execute_result"
    }
   ],
   "source": [
    "group_day_amount.size().mean()"
   ]
  },
  {
   "cell_type": "code",
   "execution_count": 12,
   "metadata": {},
   "outputs": [
    {
     "data": {
      "text/plain": [
       "950"
      ]
     },
     "execution_count": 12,
     "metadata": {},
     "output_type": "execute_result"
    }
   ],
   "source": [
    "## creating 'hour - earning amount' connection\n",
    "df2 = df.copy()\n",
    "df2 =df2[df2['amount'] > 0]\n",
    "group_day_amount_positive = df2['amount'].groupby(df2['Date_day'])\n",
    "\n",
    "# 시간별 수익 transaction 수\n",
    "group_day_amount_positive.size().max()"
   ]
  },
  {
   "cell_type": "code",
   "execution_count": 13,
   "metadata": {},
   "outputs": [
    {
     "data": {
      "text/plain": [
       "138"
      ]
     },
     "execution_count": 13,
     "metadata": {},
     "output_type": "execute_result"
    }
   ],
   "source": [
    "group_day_amount_positive.size().min()"
   ]
  },
  {
   "cell_type": "code",
   "execution_count": 14,
   "metadata": {},
   "outputs": [
    {
     "data": {
      "text/plain": [
       "479.61290322580646"
      ]
     },
     "execution_count": 14,
     "metadata": {},
     "output_type": "execute_result"
    }
   ],
   "source": [
    "group_day_amount_positive.size().mean()"
   ]
  },
  {
   "cell_type": "code",
   "execution_count": 15,
   "metadata": {},
   "outputs": [
    {
     "data": {
      "text/plain": [
       "544"
      ]
     },
     "execution_count": 15,
     "metadata": {},
     "output_type": "execute_result"
    }
   ],
   "source": [
    "## creating 'day - loss amount' connection\n",
    "df3 = df.copy()\n",
    "df3 = df3[df3['amount'] < 0]\n",
    "group_day_amount_negative = df3['amount'].groupby(df3['Date_day'])\n",
    "\n",
    "# 시간별 손해 transaction 수\n",
    "group_day_amount_negative.size().max()"
   ]
  },
  {
   "cell_type": "code",
   "execution_count": 16,
   "metadata": {},
   "outputs": [
    {
     "data": {
      "text/plain": [
       "84"
      ]
     },
     "execution_count": 16,
     "metadata": {},
     "output_type": "execute_result"
    }
   ],
   "source": [
    "group_day_amount_negative.size().min()"
   ]
  },
  {
   "cell_type": "code",
   "execution_count": 17,
   "metadata": {},
   "outputs": [
    {
     "data": {
      "text/plain": [
       "271.83870967741933"
      ]
     },
     "execution_count": 17,
     "metadata": {},
     "output_type": "execute_result"
    }
   ],
   "source": [
    "group_day_amount_negative.size().mean()"
   ]
  },
  {
   "cell_type": "code",
   "execution_count": 18,
   "metadata": {},
   "outputs": [
    {
     "data": {
      "text/html": [
       "<div>\n",
       "<style scoped>\n",
       "    .dataframe tbody tr th:only-of-type {\n",
       "        vertical-align: middle;\n",
       "    }\n",
       "\n",
       "    .dataframe tbody tr th {\n",
       "        vertical-align: top;\n",
       "    }\n",
       "\n",
       "    .dataframe thead th {\n",
       "        text-align: right;\n",
       "    }\n",
       "</style>\n",
       "<table border=\"1\" class=\"dataframe\">\n",
       "  <thead>\n",
       "    <tr style=\"text-align: right;\">\n",
       "      <th></th>\n",
       "      <th>B_min</th>\n",
       "      <th>B_max</th>\n",
       "      <th>B_avg</th>\n",
       "      <th>S_min</th>\n",
       "      <th>S_max</th>\n",
       "      <th>S_avg</th>\n",
       "      <th>T_min</th>\n",
       "      <th>T_max</th>\n",
       "      <th>T_avg</th>\n",
       "    </tr>\n",
       "  </thead>\n",
       "  <tbody>\n",
       "    <tr>\n",
       "      <td>date</td>\n",
       "      <td>84</td>\n",
       "      <td>544</td>\n",
       "      <td>271.83871</td>\n",
       "      <td>138</td>\n",
       "      <td>950</td>\n",
       "      <td>479.612903</td>\n",
       "      <td>222</td>\n",
       "      <td>1494</td>\n",
       "      <td>751.451613</td>\n",
       "    </tr>\n",
       "  </tbody>\n",
       "</table>\n",
       "</div>"
      ],
      "text/plain": [
       "      B_min  B_max      B_avg  S_min  S_max       S_avg  T_min  T_max  \\\n",
       "date     84    544  271.83871    138    950  479.612903    222   1494   \n",
       "\n",
       "           T_avg  \n",
       "date  751.451613  "
      ]
     },
     "metadata": {},
     "output_type": "display_data"
    }
   ],
   "source": [
    "my_df = pd.DataFrame(data={'B_min':[group_day_amount_negative.size().min()], 'B_max': [group_day_amount_negative.size().max()], 'B_avg': [group_day_amount_negative.size().mean()], 'S_min': [group_day_amount_positive.size().min()], 'S_max': [group_day_amount_positive.size().max()], 'S_avg': [group_day_amount_positive.size().mean()],'T_min': [group_day_amount.size().min()], 'T_max': [group_day_amount.size().max()], 'T_avg': [group_day_amount.size().mean()]}, index=['date'], columns=['B_min', 'B_max', 'B_avg', 'S_min', 'S_max', 'S_avg','T_min', 'T_max', 'T_avg'])\n",
    "display(pd.DataFrame(my_df))"
   ]
  },
  {
   "cell_type": "code",
   "execution_count": 19,
   "metadata": {},
   "outputs": [],
   "source": [
    "df2 = pd.read_csv(\"/Users/sangwon/workspace/school/bithumb_bot/bithumb_bot/sangwon_code/table/overall_table.csv\")"
   ]
  },
  {
   "cell_type": "code",
   "execution_count": 20,
   "metadata": {},
   "outputs": [
    {
     "data": {
      "text/html": [
       "<div>\n",
       "<style scoped>\n",
       "    .dataframe tbody tr th:only-of-type {\n",
       "        vertical-align: middle;\n",
       "    }\n",
       "\n",
       "    .dataframe tbody tr th {\n",
       "        vertical-align: top;\n",
       "    }\n",
       "\n",
       "    .dataframe thead th {\n",
       "        text-align: right;\n",
       "    }\n",
       "</style>\n",
       "<table border=\"1\" class=\"dataframe\">\n",
       "  <thead>\n",
       "    <tr style=\"text-align: right;\">\n",
       "      <th></th>\n",
       "      <th>B_min</th>\n",
       "      <th>B_max</th>\n",
       "      <th>B_avg</th>\n",
       "      <th>S_min</th>\n",
       "      <th>S_max</th>\n",
       "      <th>S_avg</th>\n",
       "      <th>T_min</th>\n",
       "      <th>T_max</th>\n",
       "      <th>T_avg</th>\n",
       "    </tr>\n",
       "  </thead>\n",
       "  <tbody>\n",
       "    <tr>\n",
       "      <td>0</td>\n",
       "      <td>1</td>\n",
       "      <td>44</td>\n",
       "      <td>1.715245</td>\n",
       "      <td>1</td>\n",
       "      <td>32</td>\n",
       "      <td>2.017915</td>\n",
       "      <td>1</td>\n",
       "      <td>44</td>\n",
       "      <td>2.099216</td>\n",
       "    </tr>\n",
       "    <tr>\n",
       "      <td>1</td>\n",
       "      <td>1</td>\n",
       "      <td>73</td>\n",
       "      <td>11.819074</td>\n",
       "      <td>1</td>\n",
       "      <td>129</td>\n",
       "      <td>20.535912</td>\n",
       "      <td>1</td>\n",
       "      <td>198</td>\n",
       "      <td>31.998626</td>\n",
       "    </tr>\n",
       "  </tbody>\n",
       "</table>\n",
       "</div>"
      ],
      "text/plain": [
       "   B_min  B_max      B_avg  S_min  S_max      S_avg  T_min  T_max      T_avg\n",
       "0      1     44   1.715245      1     32   2.017915      1     44   2.099216\n",
       "1      1     73  11.819074      1    129  20.535912      1    198  31.998626"
      ]
     },
     "execution_count": 20,
     "metadata": {},
     "output_type": "execute_result"
    }
   ],
   "source": [
    "df2"
   ]
  },
  {
   "cell_type": "code",
   "execution_count": 21,
   "metadata": {},
   "outputs": [],
   "source": [
    "df2= df2.append(my_df)"
   ]
  },
  {
   "cell_type": "code",
   "execution_count": 22,
   "metadata": {},
   "outputs": [
    {
     "data": {
      "text/html": [
       "<div>\n",
       "<style scoped>\n",
       "    .dataframe tbody tr th:only-of-type {\n",
       "        vertical-align: middle;\n",
       "    }\n",
       "\n",
       "    .dataframe tbody tr th {\n",
       "        vertical-align: top;\n",
       "    }\n",
       "\n",
       "    .dataframe thead th {\n",
       "        text-align: right;\n",
       "    }\n",
       "</style>\n",
       "<table border=\"1\" class=\"dataframe\">\n",
       "  <thead>\n",
       "    <tr style=\"text-align: right;\">\n",
       "      <th></th>\n",
       "      <th>B_min</th>\n",
       "      <th>B_max</th>\n",
       "      <th>B_avg</th>\n",
       "      <th>S_min</th>\n",
       "      <th>S_max</th>\n",
       "      <th>S_avg</th>\n",
       "      <th>T_min</th>\n",
       "      <th>T_max</th>\n",
       "      <th>T_avg</th>\n",
       "    </tr>\n",
       "  </thead>\n",
       "  <tbody>\n",
       "    <tr>\n",
       "      <td>0</td>\n",
       "      <td>1</td>\n",
       "      <td>44</td>\n",
       "      <td>1.715245</td>\n",
       "      <td>1</td>\n",
       "      <td>32</td>\n",
       "      <td>2.017915</td>\n",
       "      <td>1</td>\n",
       "      <td>44</td>\n",
       "      <td>2.099216</td>\n",
       "    </tr>\n",
       "    <tr>\n",
       "      <td>1</td>\n",
       "      <td>1</td>\n",
       "      <td>73</td>\n",
       "      <td>11.819074</td>\n",
       "      <td>1</td>\n",
       "      <td>129</td>\n",
       "      <td>20.535912</td>\n",
       "      <td>1</td>\n",
       "      <td>198</td>\n",
       "      <td>31.998626</td>\n",
       "    </tr>\n",
       "    <tr>\n",
       "      <td>date</td>\n",
       "      <td>84</td>\n",
       "      <td>544</td>\n",
       "      <td>271.838710</td>\n",
       "      <td>138</td>\n",
       "      <td>950</td>\n",
       "      <td>479.612903</td>\n",
       "      <td>222</td>\n",
       "      <td>1494</td>\n",
       "      <td>751.451613</td>\n",
       "    </tr>\n",
       "  </tbody>\n",
       "</table>\n",
       "</div>"
      ],
      "text/plain": [
       "      B_min  B_max       B_avg  S_min  S_max       S_avg  T_min  T_max  \\\n",
       "0         1     44    1.715245      1     32    2.017915      1     44   \n",
       "1         1     73   11.819074      1    129   20.535912      1    198   \n",
       "date     84    544  271.838710    138    950  479.612903    222   1494   \n",
       "\n",
       "           T_avg  \n",
       "0       2.099216  \n",
       "1      31.998626  \n",
       "date  751.451613  "
      ]
     },
     "execution_count": 22,
     "metadata": {},
     "output_type": "execute_result"
    }
   ],
   "source": [
    "df2"
   ]
  },
  {
   "cell_type": "code",
   "execution_count": 23,
   "metadata": {},
   "outputs": [],
   "source": [
    "df2.rename(index={0:'minute', 1:'hour'}, inplace=True)"
   ]
  },
  {
   "cell_type": "code",
   "execution_count": 24,
   "metadata": {},
   "outputs": [
    {
     "data": {
      "text/html": [
       "<div>\n",
       "<style scoped>\n",
       "    .dataframe tbody tr th:only-of-type {\n",
       "        vertical-align: middle;\n",
       "    }\n",
       "\n",
       "    .dataframe tbody tr th {\n",
       "        vertical-align: top;\n",
       "    }\n",
       "\n",
       "    .dataframe thead th {\n",
       "        text-align: right;\n",
       "    }\n",
       "</style>\n",
       "<table border=\"1\" class=\"dataframe\">\n",
       "  <thead>\n",
       "    <tr style=\"text-align: right;\">\n",
       "      <th></th>\n",
       "      <th>B_min</th>\n",
       "      <th>B_max</th>\n",
       "      <th>B_avg</th>\n",
       "      <th>S_min</th>\n",
       "      <th>S_max</th>\n",
       "      <th>S_avg</th>\n",
       "      <th>T_min</th>\n",
       "      <th>T_max</th>\n",
       "      <th>T_avg</th>\n",
       "    </tr>\n",
       "  </thead>\n",
       "  <tbody>\n",
       "    <tr>\n",
       "      <td>minute</td>\n",
       "      <td>1</td>\n",
       "      <td>44</td>\n",
       "      <td>1.715245</td>\n",
       "      <td>1</td>\n",
       "      <td>32</td>\n",
       "      <td>2.017915</td>\n",
       "      <td>1</td>\n",
       "      <td>44</td>\n",
       "      <td>2.099216</td>\n",
       "    </tr>\n",
       "    <tr>\n",
       "      <td>hour</td>\n",
       "      <td>1</td>\n",
       "      <td>73</td>\n",
       "      <td>11.819074</td>\n",
       "      <td>1</td>\n",
       "      <td>129</td>\n",
       "      <td>20.535912</td>\n",
       "      <td>1</td>\n",
       "      <td>198</td>\n",
       "      <td>31.998626</td>\n",
       "    </tr>\n",
       "    <tr>\n",
       "      <td>date</td>\n",
       "      <td>84</td>\n",
       "      <td>544</td>\n",
       "      <td>271.838710</td>\n",
       "      <td>138</td>\n",
       "      <td>950</td>\n",
       "      <td>479.612903</td>\n",
       "      <td>222</td>\n",
       "      <td>1494</td>\n",
       "      <td>751.451613</td>\n",
       "    </tr>\n",
       "  </tbody>\n",
       "</table>\n",
       "</div>"
      ],
      "text/plain": [
       "        B_min  B_max       B_avg  S_min  S_max       S_avg  T_min  T_max  \\\n",
       "minute      1     44    1.715245      1     32    2.017915      1     44   \n",
       "hour        1     73   11.819074      1    129   20.535912      1    198   \n",
       "date       84    544  271.838710    138    950  479.612903    222   1494   \n",
       "\n",
       "             T_avg  \n",
       "minute    2.099216  \n",
       "hour     31.998626  \n",
       "date    751.451613  "
      ]
     },
     "execution_count": 24,
     "metadata": {},
     "output_type": "execute_result"
    }
   ],
   "source": [
    "df2"
   ]
  },
  {
   "cell_type": "code",
   "execution_count": 27,
   "metadata": {},
   "outputs": [],
   "source": [
    "df2.to_csv(\"/Users/sangwon/workspace/school/bithumb_bot/bithumb_bot/sangwon_code/table/overall_table.csv\", header=True, index=True, encoding = 'utf-8')"
   ]
  },
  {
   "cell_type": "code",
   "execution_count": null,
   "metadata": {},
   "outputs": [],
   "source": []
  }
 ],
 "metadata": {
  "kernelspec": {
   "display_name": "Python 3",
   "language": "python",
   "name": "python3"
  },
  "language_info": {
   "codemirror_mode": {
    "name": "ipython",
    "version": 3
   },
   "file_extension": ".py",
   "mimetype": "text/x-python",
   "name": "python",
   "nbconvert_exporter": "python",
   "pygments_lexer": "ipython3",
   "version": "3.7.1"
  }
 },
 "nbformat": 4,
 "nbformat_minor": 2
}
