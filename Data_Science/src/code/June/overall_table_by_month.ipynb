{
 "cells": [
  {
   "cell_type": "code",
   "execution_count": 1,
   "metadata": {},
   "outputs": [],
   "source": [
    "# ############################################################\n",
    "\n",
    "# ## parsing_by_date ##\n",
    "\n",
    "# ############################################################\n",
    "\n",
    "# -- Designed by\n",
    "\n",
    "#    Lee hamin\n",
    "\n",
    "# -- Produced by Jun. 29, 2020. (Ver.1.)\n",
    "\n",
    "# -- Description: xxx\n",
    "\n",
    "# ============================================================"
   ]
  },
  {
   "cell_type": "code",
   "execution_count": 2,
   "metadata": {},
   "outputs": [],
   "source": [
    "import pandas as pd\n",
    "import numpy as np\n",
    "from functools import reduce\n",
    "import matplotlib.pyplot as plt\n",
    "from pylab import figure, axes, pie, title, savefig"
   ]
  },
  {
   "cell_type": "code",
   "execution_count": 3,
   "metadata": {},
   "outputs": [],
   "source": [
    "df1 = pd.read_csv(\"/Users/hamin/bithumb_bot_data/include/2018-new/2018-01-btc-krw.csv\")   # load csv\n",
    "df2 = pd.read_csv(\"/Users/hamin/bithumb_bot_data/include/2018-new/2018-02-btc-krw.csv\")   # load csv\n",
    "df3 = pd.read_csv(\"/Users/hamin/bithumb_bot_data/include/2018-new/2018-03-btc-krw.csv\")   # load csv\n",
    "df4 = pd.read_csv(\"/Users/hamin/bithumb_bot_data/include/2018-new/2018-04-btc-krw.csv\")   # load csv\n",
    "df5 = pd.read_csv(\"/Users/hamin/bithumb_bot_data/include/2018-new/2018-05-btc-krw.csv\")   # load csv\n",
    "df6 = pd.read_csv(\"/Users/hamin/bithumb_bot_data/include/2018-new/2018-06-btc-krw.csv\")   # load csv\n",
    "df7 = pd.read_csv(\"/Users/hamin/bithumb_bot_data/include/2018-new/2018-07-btc-krw.csv\")   # load csv"
   ]
  },
  {
   "cell_type": "code",
   "execution_count": 4,
   "metadata": {
    "scrolled": true
   },
   "outputs": [],
   "source": [
    "## converting timestamp column type 'object' to 'datetime'\n",
    "df1['timestamp'] = pd.to_datetime(df1['timestamp'], format='%Y-%m-%d %H:%M:%S', errors='raise')\n",
    "df2['timestamp'] = pd.to_datetime(df2['timestamp'], format='%Y-%m-%d %H:%M:%S', errors='raise')\n",
    "df3['timestamp'] = pd.to_datetime(df3['timestamp'], format='%Y-%m-%d %H:%M:%S', errors='raise')\n",
    "df4['timestamp'] = pd.to_datetime(df4['timestamp'], format='%Y-%m-%d %H:%M:%S', errors='raise')\n",
    "df5['timestamp'] = pd.to_datetime(df5['timestamp'], format='%Y-%m-%d %H:%M:%S', errors='raise')\n",
    "df6['timestamp'] = pd.to_datetime(df6['timestamp'], format='%Y-%m-%d %H:%M:%S', errors='raise')\n",
    "df7['timestamp'] = pd.to_datetime(df7['timestamp'], format='%Y-%m-%d %H:%M:%S', errors='raise')"
   ]
  },
  {
   "cell_type": "code",
   "execution_count": 5,
   "metadata": {},
   "outputs": [],
   "source": [
    "# quantity에 부호 붙이기\n",
    "for i, row in df1.iterrows(): \n",
    "    if row[\"side\"]==0:\n",
    "        row[\"quantity\"]=-row[\"quantity\"]\n",
    "    df1.at[i,'sign_quantity'] = row[\"quantity\"]"
   ]
  },
  {
   "cell_type": "code",
   "execution_count": 6,
   "metadata": {},
   "outputs": [],
   "source": [
    "# quantity에 부호 붙이기\n",
    "for i, row in df2.iterrows(): \n",
    "    if row[\"side\"]==0:\n",
    "        row[\"quantity\"]=-row[\"quantity\"]\n",
    "    df2.at[i,'sign_quantity'] = row[\"quantity\"]"
   ]
  },
  {
   "cell_type": "code",
   "execution_count": 7,
   "metadata": {},
   "outputs": [],
   "source": [
    "# quantity에 부호 붙이기\n",
    "for i, row in df3.iterrows(): \n",
    "    if row[\"side\"]==0:\n",
    "        row[\"quantity\"]=-row[\"quantity\"]\n",
    "    df3.at[i,'sign_quantity'] = row[\"quantity\"]"
   ]
  },
  {
   "cell_type": "code",
   "execution_count": 8,
   "metadata": {},
   "outputs": [],
   "source": [
    "# quantity에 부호 붙이기\n",
    "for i, row in df4.iterrows(): \n",
    "    if row[\"side\"]==0:\n",
    "        row[\"quantity\"]=-row[\"quantity\"]\n",
    "    df4.at[i,'sign_quantity'] = row[\"quantity\"]"
   ]
  },
  {
   "cell_type": "code",
   "execution_count": 9,
   "metadata": {},
   "outputs": [],
   "source": [
    "# quantity에 부호 붙이기\n",
    "for i, row in df5.iterrows(): \n",
    "    if row[\"side\"]==0:\n",
    "        row[\"quantity\"]=-row[\"quantity\"]\n",
    "    df5.at[i,'sign_quantity'] = row[\"quantity\"]"
   ]
  },
  {
   "cell_type": "code",
   "execution_count": 10,
   "metadata": {},
   "outputs": [],
   "source": [
    "# quantity에 부호 붙이기\n",
    "for i, row in df6.iterrows(): \n",
    "    if row[\"side\"]==0:\n",
    "        row[\"quantity\"]=-row[\"quantity\"]\n",
    "    df6.at[i,'sign_quantity'] = row[\"quantity\"]"
   ]
  },
  {
   "cell_type": "code",
   "execution_count": 11,
   "metadata": {},
   "outputs": [],
   "source": [
    "# quantity에 부호 붙이기\n",
    "for i, row in df7.iterrows(): \n",
    "    if row[\"side\"]==0:\n",
    "        row[\"quantity\"]=-row[\"quantity\"]\n",
    "    df7.at[i,'sign_quantity'] = row[\"quantity\"]"
   ]
  },
  {
   "cell_type": "code",
   "execution_count": 12,
   "metadata": {},
   "outputs": [],
   "source": [
    "sign_quantity_cumsum1=df1[\"sign_quantity\"].cumsum()\n",
    "sign_quantity_cumsum2=df2[\"sign_quantity\"].cumsum()\n",
    "sign_quantity_cumsum3=df3[\"sign_quantity\"].cumsum()\n",
    "sign_quantity_cumsum4=df4[\"sign_quantity\"].cumsum()\n",
    "sign_quantity_cumsum5=df5[\"sign_quantity\"].cumsum()\n",
    "sign_quantity_cumsum6=df6[\"sign_quantity\"].cumsum()\n",
    "sign_quantity_cumsum7=df7[\"sign_quantity\"].cumsum()"
   ]
  },
  {
   "cell_type": "code",
   "execution_count": 13,
   "metadata": {},
   "outputs": [],
   "source": [
    "amount_cumsum1=df1[\"amount\"].cumsum()\n",
    "amount_cumsum2=df2[\"amount\"].cumsum()\n",
    "amount_cumsum3=df3[\"amount\"].cumsum()\n",
    "amount_cumsum4=df4[\"amount\"].cumsum()\n",
    "amount_cumsum5=df5[\"amount\"].cumsum()\n",
    "amount_cumsum6=df6[\"amount\"].cumsum()\n",
    "amount_cumsum7=df7[\"amount\"].cumsum()"
   ]
  },
  {
   "cell_type": "code",
   "execution_count": 14,
   "metadata": {},
   "outputs": [],
   "source": [
    "sign_quantity_cumsum1 = sign_quantity_cumsum1.astype('float16')\n",
    "sign_quantity_cumsum2 = sign_quantity_cumsum2.astype('float16')\n",
    "sign_quantity_cumsum3 = sign_quantity_cumsum3.astype('float16')\n",
    "sign_quantity_cumsum4 = sign_quantity_cumsum4.astype('float16')\n",
    "sign_quantity_cumsum5 = sign_quantity_cumsum5.astype('float16')\n",
    "sign_quantity_cumsum6 = sign_quantity_cumsum6.astype('float16')\n",
    "sign_quantity_cumsum7 = sign_quantity_cumsum7.astype('float16')"
   ]
  },
  {
   "cell_type": "code",
   "execution_count": 15,
   "metadata": {},
   "outputs": [],
   "source": [
    "cumsum_df1 = pd.concat([df1,sign_quantity_cumsum1,amount_cumsum1],axis=1)\n",
    "cumsum_df2 = pd.concat([df2,sign_quantity_cumsum2,amount_cumsum2],axis=1)\n",
    "cumsum_df3 = pd.concat([df3,sign_quantity_cumsum3,amount_cumsum3],axis=1)\n",
    "cumsum_df4 = pd.concat([df4,sign_quantity_cumsum4,amount_cumsum4],axis=1)\n",
    "cumsum_df5 = pd.concat([df5,sign_quantity_cumsum5,amount_cumsum5],axis=1)\n",
    "cumsum_df6 = pd.concat([df6,sign_quantity_cumsum6,amount_cumsum6],axis=1)\n",
    "cumsum_df7 = pd.concat([df7,sign_quantity_cumsum7,amount_cumsum7],axis=1)"
   ]
  },
  {
   "cell_type": "code",
   "execution_count": 16,
   "metadata": {},
   "outputs": [],
   "source": [
    "cumsum_df1.columns = ['timestamp', 'quantity', 'price', 'fee', 'amount', 'side', 'sign_quantity', 'sign_quantity_cumsum(coin)', 'amount_cumsum']\n",
    "cumsum_df2.columns = ['timestamp', 'quantity', 'price', 'fee', 'amount', 'side', 'sign_quantity', 'sign_quantity_cumsum(coin)', 'amount_cumsum']\n",
    "cumsum_df3.columns = ['timestamp', 'quantity', 'price', 'fee', 'amount', 'side', 'sign_quantity', 'sign_quantity_cumsum(coin)', 'amount_cumsum']\n",
    "cumsum_df4.columns = ['timestamp', 'quantity', 'price', 'fee', 'amount', 'side', 'sign_quantity', 'sign_quantity_cumsum(coin)', 'amount_cumsum']\n",
    "cumsum_df5.columns = ['timestamp', 'quantity', 'price', 'fee', 'amount', 'side', 'sign_quantity', 'sign_quantity_cumsum(coin)', 'amount_cumsum']\n",
    "cumsum_df6.columns = ['timestamp', 'quantity', 'price', 'fee', 'amount', 'side', 'sign_quantity', 'sign_quantity_cumsum(coin)', 'amount_cumsum']\n",
    "cumsum_df7.columns = ['timestamp', 'quantity', 'price', 'fee', 'amount', 'side', 'sign_quantity', 'sign_quantity_cumsum(coin)', 'amount_cumsum']"
   ]
  },
  {
   "cell_type": "code",
   "execution_count": 17,
   "metadata": {},
   "outputs": [],
   "source": [
    "cumsum_df_zero_point1=cumsum_df1[ (cumsum_df1['sign_quantity_cumsum(coin)'] < 0.01) & (cumsum_df1['sign_quantity_cumsum(coin)'] > -0.01)]\n",
    "cumsum_df_zero_point2=cumsum_df2[ (cumsum_df2['sign_quantity_cumsum(coin)'] < 0.01) & (cumsum_df2['sign_quantity_cumsum(coin)'] > -0.01)]\n",
    "cumsum_df_zero_point3=cumsum_df3[ (cumsum_df3['sign_quantity_cumsum(coin)'] < 0.01) & (cumsum_df3['sign_quantity_cumsum(coin)'] > -0.01)]\n",
    "cumsum_df_zero_point4=cumsum_df4[ (cumsum_df4['sign_quantity_cumsum(coin)'] < 0.01) & (cumsum_df4['sign_quantity_cumsum(coin)'] > -0.01)]\n",
    "cumsum_df_zero_point5=cumsum_df5[ (cumsum_df5['sign_quantity_cumsum(coin)'] < 0.01) & (cumsum_df5['sign_quantity_cumsum(coin)'] > -0.01)]\n",
    "cumsum_df_zero_point6=cumsum_df6[ (cumsum_df6['sign_quantity_cumsum(coin)'] < 0.01) & (cumsum_df6['sign_quantity_cumsum(coin)'] > -0.01)]\n",
    "cumsum_df_zero_point7=cumsum_df7[ (cumsum_df7['sign_quantity_cumsum(coin)'] < 0.01) & (cumsum_df7['sign_quantity_cumsum(coin)'] > -0.01)]"
   ]
  },
  {
   "cell_type": "code",
   "execution_count": 18,
   "metadata": {},
   "outputs": [],
   "source": [
    "compare1=cumsum_df_zero_point1['amount_cumsum']\n",
    "compare1=compare1.shift(1)[:]"
   ]
  },
  {
   "cell_type": "code",
   "execution_count": 19,
   "metadata": {},
   "outputs": [],
   "source": [
    "compare2=cumsum_df_zero_point2['amount_cumsum']\n",
    "compare2=compare2.shift(1)[:]"
   ]
  },
  {
   "cell_type": "code",
   "execution_count": 20,
   "metadata": {},
   "outputs": [],
   "source": [
    "compare3=cumsum_df_zero_point3['amount_cumsum']\n",
    "compare3=compare3.shift(1)[:]"
   ]
  },
  {
   "cell_type": "code",
   "execution_count": 21,
   "metadata": {},
   "outputs": [],
   "source": [
    "compare4=cumsum_df_zero_point4['amount_cumsum']\n",
    "compare4=compare4.shift(1)[:]"
   ]
  },
  {
   "cell_type": "code",
   "execution_count": 22,
   "metadata": {},
   "outputs": [],
   "source": [
    "compare5=cumsum_df_zero_point5['amount_cumsum']\n",
    "compare5=compare5.shift(1)[:]"
   ]
  },
  {
   "cell_type": "code",
   "execution_count": 23,
   "metadata": {},
   "outputs": [],
   "source": [
    "compare6=cumsum_df_zero_point6['amount_cumsum']\n",
    "compare6=compare6.shift(1)[:]"
   ]
  },
  {
   "cell_type": "code",
   "execution_count": 24,
   "metadata": {},
   "outputs": [],
   "source": [
    "compare7=cumsum_df_zero_point7['amount_cumsum']\n",
    "compare7=compare7.shift(1)[:]"
   ]
  },
  {
   "cell_type": "code",
   "execution_count": 25,
   "metadata": {},
   "outputs": [],
   "source": [
    "cumsum_df_zero_point1 = pd.concat([cumsum_df_zero_point1,compare1],axis=1)\n",
    "cumsum_df_zero_point1 = cumsum_df_zero_point1.fillna(0)"
   ]
  },
  {
   "cell_type": "code",
   "execution_count": 26,
   "metadata": {},
   "outputs": [],
   "source": [
    "cumsum_df_zero_point2 = pd.concat([cumsum_df_zero_point2,compare2],axis=1)\n",
    "cumsum_df_zero_point2 = cumsum_df_zero_point2.fillna(0)"
   ]
  },
  {
   "cell_type": "code",
   "execution_count": 27,
   "metadata": {},
   "outputs": [],
   "source": [
    "cumsum_df_zero_point3 = pd.concat([cumsum_df_zero_point3,compare3],axis=1)\n",
    "cumsum_df_zero_point3 = cumsum_df_zero_point3.fillna(0)"
   ]
  },
  {
   "cell_type": "code",
   "execution_count": 28,
   "metadata": {},
   "outputs": [],
   "source": [
    "cumsum_df_zero_point4 = pd.concat([cumsum_df_zero_point4,compare4],axis=1)\n",
    "cumsum_df_zero_point4 = cumsum_df_zero_point4.fillna(0)"
   ]
  },
  {
   "cell_type": "code",
   "execution_count": 29,
   "metadata": {},
   "outputs": [],
   "source": [
    "cumsum_df_zero_point5 = pd.concat([cumsum_df_zero_point5,compare5],axis=1)\n",
    "cumsum_df_zero_point5 = cumsum_df_zero_point5.fillna(0)"
   ]
  },
  {
   "cell_type": "code",
   "execution_count": 30,
   "metadata": {},
   "outputs": [],
   "source": [
    "cumsum_df_zero_point6 = pd.concat([cumsum_df_zero_point6,compare6],axis=1)\n",
    "cumsum_df_zero_point6 = cumsum_df_zero_point6.fillna(0)"
   ]
  },
  {
   "cell_type": "code",
   "execution_count": 31,
   "metadata": {},
   "outputs": [],
   "source": [
    "cumsum_df_zero_point7 = pd.concat([cumsum_df_zero_point7,compare7],axis=1)\n",
    "cumsum_df_zero_point7 = cumsum_df_zero_point7.fillna(0)"
   ]
  },
  {
   "cell_type": "code",
   "execution_count": 32,
   "metadata": {},
   "outputs": [],
   "source": [
    "cumsum_df_zero_point1.columns = ['timestamp', 'quantity', 'price', 'fee', 'amount', 'side', 'sign_quantity', 'sign_quantity_cumsum(coin)', 'amount_cumsum', 'compare']\n",
    "cumsum_df_zero_point2.columns = ['timestamp', 'quantity', 'price', 'fee', 'amount', 'side', 'sign_quantity', 'sign_quantity_cumsum(coin)', 'amount_cumsum', 'compare']\n",
    "cumsum_df_zero_point3.columns = ['timestamp', 'quantity', 'price', 'fee', 'amount', 'side', 'sign_quantity', 'sign_quantity_cumsum(coin)', 'amount_cumsum', 'compare']\n",
    "cumsum_df_zero_point4.columns = ['timestamp', 'quantity', 'price', 'fee', 'amount', 'side', 'sign_quantity', 'sign_quantity_cumsum(coin)', 'amount_cumsum', 'compare']\n",
    "cumsum_df_zero_point5.columns = ['timestamp', 'quantity', 'price', 'fee', 'amount', 'side', 'sign_quantity', 'sign_quantity_cumsum(coin)', 'amount_cumsum', 'compare']\n",
    "cumsum_df_zero_point6.columns = ['timestamp', 'quantity', 'price', 'fee', 'amount', 'side', 'sign_quantity', 'sign_quantity_cumsum(coin)', 'amount_cumsum', 'compare']\n",
    "cumsum_df_zero_point7.columns = ['timestamp', 'quantity', 'price', 'fee', 'amount', 'side', 'sign_quantity', 'sign_quantity_cumsum(coin)', 'amount_cumsum', 'compare']"
   ]
  },
  {
   "cell_type": "code",
   "execution_count": 33,
   "metadata": {},
   "outputs": [],
   "source": [
    "cumsum_df_zero_point1['point_amount_cumsum'] = cumsum_df_zero_point1['amount_cumsum'] - cumsum_df_zero_point1['compare']\n",
    "cumsum_df_zero_point2['point_amount_cumsum'] = cumsum_df_zero_point2['amount_cumsum'] - cumsum_df_zero_point2['compare']\n",
    "cumsum_df_zero_point3['point_amount_cumsum'] = cumsum_df_zero_point3['amount_cumsum'] - cumsum_df_zero_point3['compare']\n",
    "cumsum_df_zero_point4['point_amount_cumsum'] = cumsum_df_zero_point4['amount_cumsum'] - cumsum_df_zero_point4['compare']\n",
    "cumsum_df_zero_point5['point_amount_cumsum'] = cumsum_df_zero_point5['amount_cumsum'] - cumsum_df_zero_point5['compare']\n",
    "cumsum_df_zero_point6['point_amount_cumsum'] = cumsum_df_zero_point6['amount_cumsum'] - cumsum_df_zero_point6['compare']\n",
    "cumsum_df_zero_point7['point_amount_cumsum'] = cumsum_df_zero_point7['amount_cumsum'] - cumsum_df_zero_point7['compare']"
   ]
  },
  {
   "cell_type": "code",
   "execution_count": 34,
   "metadata": {},
   "outputs": [],
   "source": [
    "cumsum_df_zero_point1=cumsum_df_zero_point1.fillna(0)\n",
    "cumsum_df_zero_point2=cumsum_df_zero_point2.fillna(0)\n",
    "cumsum_df_zero_point3=cumsum_df_zero_point3.fillna(0)\n",
    "cumsum_df_zero_point4=cumsum_df_zero_point4.fillna(0)\n",
    "cumsum_df_zero_point5=cumsum_df_zero_point5.fillna(0)\n",
    "cumsum_df_zero_point6=cumsum_df_zero_point6.fillna(0)\n",
    "cumsum_df_zero_point7=cumsum_df_zero_point7.fillna(0)"
   ]
  },
  {
   "cell_type": "code",
   "execution_count": 35,
   "metadata": {},
   "outputs": [],
   "source": [
    "## converting timestamp to detailed date column\n",
    "df1['timestamp_year_month_day']       = df1['timestamp'].dt.date         # YYYY-MM-DD(문자)\n",
    "df1['timestamp_year']       = df1['timestamp'].dt.year         # 연(4자리숫자)\n",
    "df1['timestamp_month']      = df1['timestamp'].dt.month        # 월(숫자)\n",
    "df1['timestamp_month_name'] = df1['timestamp'].dt.month_name() # 월(문자)\n",
    "\n",
    "df1['timestamp_day']        = df1['timestamp'].dt.day          # 일(숫자)\n",
    "df1['timestamp_time']       = df1['timestamp'].dt.time         # HH:MM:SS(문자)\n",
    "df1['timestamp_hour']       = df1['timestamp'].dt.hour         # 시(숫자)\n",
    "df1['timestamp_minute']     = df1['timestamp'].dt.minute       # 분(숫자)\n",
    "df1['timestamp_second']     = df1['timestamp'].dt.second       # 초(숫자)"
   ]
  },
  {
   "cell_type": "code",
   "execution_count": 36,
   "metadata": {},
   "outputs": [],
   "source": [
    "## converting timestamp to detailed date column\n",
    "df2['timestamp_year_month_day']       = df2['timestamp'].dt.date         # YYYY-MM-DD(문자)\n",
    "df2['timestamp_year']       = df2['timestamp'].dt.year         # 연(4자리숫자)\n",
    "df2['timestamp_month']      = df2['timestamp'].dt.month        # 월(숫자)\n",
    "df2['timestamp_month_name'] = df2['timestamp'].dt.month_name() # 월(문자)\n",
    "\n",
    "df2['timestamp_day']        = df2['timestamp'].dt.day          # 일(숫자)\n",
    "df2['timestamp_time']       = df2['timestamp'].dt.time         # HH:MM:SS(문자)\n",
    "df2['timestamp_hour']       = df2['timestamp'].dt.hour         # 시(숫자)\n",
    "df2['timestamp_minute']     = df2['timestamp'].dt.minute       # 분(숫자)\n",
    "df2['timestamp_second']     = df2['timestamp'].dt.second       # 초(숫자)"
   ]
  },
  {
   "cell_type": "code",
   "execution_count": 37,
   "metadata": {},
   "outputs": [],
   "source": [
    "## converting timestamp to detailed date column\n",
    "df3['timestamp_year_month_day']       = df3['timestamp'].dt.date         # YYYY-MM-DD(문자)\n",
    "df3['timestamp_year']       = df3['timestamp'].dt.year         # 연(4자리숫자)\n",
    "df3['timestamp_month']      = df3['timestamp'].dt.month        # 월(숫자)\n",
    "df3['timestamp_month_name'] = df3['timestamp'].dt.month_name() # 월(문자)\n",
    "\n",
    "df3['timestamp_day']        = df3['timestamp'].dt.day          # 일(숫자)\n",
    "df3['timestamp_time']       = df3['timestamp'].dt.time         # HH:MM:SS(문자)\n",
    "df3['timestamp_hour']       = df3['timestamp'].dt.hour         # 시(숫자)\n",
    "df3['timestamp_minute']     = df3['timestamp'].dt.minute       # 분(숫자)\n",
    "df3['timestamp_second']     = df3['timestamp'].dt.second       # 초(숫자)"
   ]
  },
  {
   "cell_type": "code",
   "execution_count": 38,
   "metadata": {},
   "outputs": [],
   "source": [
    "## converting timestamp to detailed date column\n",
    "df4['timestamp_year_month_day']       = df4['timestamp'].dt.date         # YYYY-MM-DD(문자)\n",
    "df4['timestamp_year']       = df4['timestamp'].dt.year         # 연(4자리숫자)\n",
    "df4['timestamp_month']      = df4['timestamp'].dt.month        # 월(숫자)\n",
    "df4['timestamp_month_name'] = df4['timestamp'].dt.month_name() # 월(문자)\n",
    "\n",
    "df4['timestamp_day']        = df4['timestamp'].dt.day          # 일(숫자)\n",
    "df4['timestamp_time']       = df4['timestamp'].dt.time         # HH:MM:SS(문자)\n",
    "df4['timestamp_hour']       = df4['timestamp'].dt.hour         # 시(숫자)\n",
    "df4['timestamp_minute']     = df4['timestamp'].dt.minute       # 분(숫자)\n",
    "df4['timestamp_second']     = df4['timestamp'].dt.second       # 초(숫자)"
   ]
  },
  {
   "cell_type": "code",
   "execution_count": 39,
   "metadata": {},
   "outputs": [],
   "source": [
    "## converting timestamp to detailed date column\n",
    "df5['timestamp_year_month_day']       = df5['timestamp'].dt.date         # YYYY-MM-DD(문자)\n",
    "df5['timestamp_year']       = df5['timestamp'].dt.year         # 연(4자리숫자)\n",
    "df5['timestamp_month']      = df5['timestamp'].dt.month        # 월(숫자)\n",
    "df5['timestamp_month_name'] = df5['timestamp'].dt.month_name() # 월(문자)\n",
    "\n",
    "df5['timestamp_day']        = df5['timestamp'].dt.day          # 일(숫자)\n",
    "df5['timestamp_time']       = df5['timestamp'].dt.time         # HH:MM:SS(문자)\n",
    "df5['timestamp_hour']       = df5['timestamp'].dt.hour         # 시(숫자)\n",
    "df5['timestamp_minute']     = df5['timestamp'].dt.minute       # 분(숫자)\n",
    "df5['timestamp_second']     = df5['timestamp'].dt.second       # 초(숫자)"
   ]
  },
  {
   "cell_type": "code",
   "execution_count": 40,
   "metadata": {},
   "outputs": [],
   "source": [
    "## converting timestamp to detailed date column\n",
    "df6['timestamp_year_month_day']       = df6['timestamp'].dt.date         # YYYY-MM-DD(문자)\n",
    "df6['timestamp_year']       = df6['timestamp'].dt.year         # 연(4자리숫자)\n",
    "df6['timestamp_month']      = df6['timestamp'].dt.month        # 월(숫자)\n",
    "df6['timestamp_month_name'] = df6['timestamp'].dt.month_name() # 월(문자)\n",
    "\n",
    "df6['timestamp_day']        = df6['timestamp'].dt.day          # 일(숫자)\n",
    "df6['timestamp_time']       = df6['timestamp'].dt.time         # HH:MM:SS(문자)\n",
    "df6['timestamp_hour']       = df6['timestamp'].dt.hour         # 시(숫자)\n",
    "df6['timestamp_minute']     = df6['timestamp'].dt.minute       # 분(숫자)\n",
    "df6['timestamp_second']     = df6['timestamp'].dt.second       # 초(숫자)"
   ]
  },
  {
   "cell_type": "code",
   "execution_count": 41,
   "metadata": {},
   "outputs": [],
   "source": [
    "## converting timestamp to detailed date column\n",
    "df7['timestamp_year_month_day']       = df7['timestamp'].dt.date         # YYYY-MM-DD(문자)\n",
    "df7['timestamp_year']       = df7['timestamp'].dt.year         # 연(4자리숫자)\n",
    "df7['timestamp_month']      = df7['timestamp'].dt.month        # 월(숫자)\n",
    "df7['timestamp_month_name'] = df7['timestamp'].dt.month_name() # 월(문자)\n",
    "\n",
    "df7['timestamp_day']        = df7['timestamp'].dt.day          # 일(숫자)\n",
    "df7['timestamp_time']       = df7['timestamp'].dt.time         # HH:MM:SS(문자)\n",
    "df7['timestamp_hour']       = df7['timestamp'].dt.hour         # 시(숫자)\n",
    "df7['timestamp_minute']     = df7['timestamp'].dt.minute       # 분(숫자)\n",
    "df7['timestamp_second']     = df7['timestamp'].dt.second       # 초(숫자)"
   ]
  },
  {
   "cell_type": "code",
   "execution_count": 42,
   "metadata": {},
   "outputs": [],
   "source": [
    "## creating 'day - earning amount' connection\n",
    "df1_1 = df1.copy()\n",
    "df1_1 =df1_1[df1_1['amount'] > 0]\n",
    "group_day_amount_positive1 = df1_1['amount']"
   ]
  },
  {
   "cell_type": "code",
   "execution_count": 43,
   "metadata": {},
   "outputs": [],
   "source": [
    "## creating 'day - earning amount' connection\n",
    "df2_1 = df2.copy()\n",
    "df2_1 =df2_1[df2_1['amount'] > 0]\n",
    "group_day_amount_positive2 = df2_1['amount']"
   ]
  },
  {
   "cell_type": "code",
   "execution_count": 44,
   "metadata": {},
   "outputs": [],
   "source": [
    "## creating 'day - earning amount' connection\n",
    "df3_1 = df3.copy()\n",
    "df3_1 =df3_1[df3_1['amount'] > 0]\n",
    "group_day_amount_positive3 = df3_1['amount']"
   ]
  },
  {
   "cell_type": "code",
   "execution_count": 45,
   "metadata": {},
   "outputs": [],
   "source": [
    "## creating 'day - earning amount' connection\n",
    "df4_1 = df4.copy()\n",
    "df4_1 =df4_1[df4_1['amount'] > 0]\n",
    "group_day_amount_positive4 = df4_1['amount']"
   ]
  },
  {
   "cell_type": "code",
   "execution_count": 46,
   "metadata": {},
   "outputs": [],
   "source": [
    "## creating 'day - earning amount' connection\n",
    "df5_1 = df5.copy()\n",
    "df5_1 =df5_1[df5_1['amount'] > 0]\n",
    "group_day_amount_positive5 = df5_1['amount']"
   ]
  },
  {
   "cell_type": "code",
   "execution_count": 47,
   "metadata": {},
   "outputs": [],
   "source": [
    "## creating 'day - earning amount' connection\n",
    "df6_1 = df6.copy()\n",
    "df6_1 =df6_1[df6_1['amount'] > 0]\n",
    "group_day_amount_positive6 = df6_1['amount']"
   ]
  },
  {
   "cell_type": "code",
   "execution_count": 48,
   "metadata": {},
   "outputs": [],
   "source": [
    "## creating 'day - earning amount' connection\n",
    "df7_1 = df7.copy()\n",
    "df7_1 =df7_1[df7_1['amount'] > 0]\n",
    "group_day_amount_positive7 = df7_1['amount']"
   ]
  },
  {
   "cell_type": "code",
   "execution_count": 49,
   "metadata": {},
   "outputs": [],
   "source": [
    "## creating 'day - loss amount' connection\n",
    "df1_2 = df1.copy()\n",
    "df1_2 = df1_2[df1_2['amount'] < 0]\n",
    "group_day_amount_negative1 = df1_2['amount']"
   ]
  },
  {
   "cell_type": "code",
   "execution_count": 50,
   "metadata": {},
   "outputs": [],
   "source": [
    "## creating 'day - loss amount' connection\n",
    "df2_2 = df2.copy()\n",
    "df2_2 = df2_2[df2_2['amount'] < 0]\n",
    "group_day_amount_negative2 = df2_2['amount']"
   ]
  },
  {
   "cell_type": "code",
   "execution_count": 51,
   "metadata": {},
   "outputs": [],
   "source": [
    "## creating 'day - loss amount' connection\n",
    "df3_2 = df3.copy()\n",
    "df3_2 = df3_2[df3_2['amount'] < 0]\n",
    "group_day_amount_negative3 = df3_2['amount']"
   ]
  },
  {
   "cell_type": "code",
   "execution_count": 52,
   "metadata": {},
   "outputs": [],
   "source": [
    "## creating 'day - loss amount' connection\n",
    "df4_2 = df4.copy()\n",
    "df4_2 = df4_2[df4_2['amount'] < 0]\n",
    "group_day_amount_negative4 = df4_2['amount']"
   ]
  },
  {
   "cell_type": "code",
   "execution_count": 53,
   "metadata": {},
   "outputs": [],
   "source": [
    "## creating 'day - loss amount' connection\n",
    "df5_2 = df5.copy()\n",
    "df5_2 = df5_2[df5_2['amount'] < 0]\n",
    "group_day_amount_negative5 = df5_2['amount']"
   ]
  },
  {
   "cell_type": "code",
   "execution_count": 54,
   "metadata": {},
   "outputs": [],
   "source": [
    "## creating 'day - loss amount' connection\n",
    "df6_2 = df6.copy()\n",
    "df6_2 = df6_2[df6_2['amount'] < 0]\n",
    "group_day_amount_negative6 = df6_2['amount']"
   ]
  },
  {
   "cell_type": "code",
   "execution_count": 55,
   "metadata": {},
   "outputs": [],
   "source": [
    "## creating 'day - loss amount' connection\n",
    "df7_2 = df7.copy()\n",
    "df7_2 = df7_2[df7_2['amount'] < 0]\n",
    "group_day_amount_negative7 = df7_2['amount']"
   ]
  },
  {
   "cell_type": "code",
   "execution_count": 60,
   "metadata": {},
   "outputs": [],
   "source": [
    "table_by_month = {\n",
    "    '2018-01': [len(df1), len(group_day_amount_positive1), len(group_day_amount_negative1), np.nan, np.nan],\n",
    "    '2018-02': [len(df2), len(group_day_amount_positive2), len(group_day_amount_negative2), cumsum_df_zero_point2.iloc[-1]['amount_cumsum'], cumsum_df_zero_point2.iloc[-1]['point_amount_cumsum']],\n",
    "    '2018-03': [len(df3), len(group_day_amount_positive3), len(group_day_amount_negative3), cumsum_df_zero_point3.iloc[-1]['amount_cumsum'], cumsum_df_zero_point3.iloc[-1]['point_amount_cumsum']],\n",
    "    '2018-04': [len(df4), len(group_day_amount_positive4), len(group_day_amount_negative4), cumsum_df_zero_point4.iloc[-1]['amount_cumsum'], cumsum_df_zero_point4.iloc[-1]['point_amount_cumsum']],\n",
    "    '2018-05': [len(df5), len(group_day_amount_positive5), len(group_day_amount_negative5), cumsum_df_zero_point5.iloc[-1]['amount_cumsum'], cumsum_df_zero_point5.iloc[-1]['point_amount_cumsum']],\n",
    "    '2018-06': [len(df6), len(group_day_amount_positive6), len(group_day_amount_negative6), cumsum_df_zero_point6.iloc[-1]['amount_cumsum'], cumsum_df_zero_point6.iloc[-1]['point_amount_cumsum']],\n",
    "    '2018-07': [len(df7), len(group_day_amount_positive7), len(group_day_amount_negative7), cumsum_df_zero_point7.iloc[-1]['amount_cumsum'], cumsum_df_zero_point7.iloc[-1]['point_amount_cumsum']],\n",
    "}\n",
    "table_by_month = pd.DataFrame(table_by_month, index=['# of trans.', '# of buy trans.', '# of sell trans.', 'cumsum_profit', 'point_cumsum_profit'])"
   ]
  },
  {
   "cell_type": "code",
   "execution_count": 61,
   "metadata": {},
   "outputs": [],
   "source": [
    "table_by_month.to_csv(\"/Users/hamin/bithumb_bot/hamin_code/table/overall_table.csv\", header=True, index=True, encoding = 'utf-8')\n"
   ]
  },
  {
   "cell_type": "code",
   "execution_count": null,
   "metadata": {},
   "outputs": [],
   "source": []
  }
 ],
 "metadata": {
  "kernelspec": {
   "display_name": "Python 3",
   "language": "python",
   "name": "python3"
  },
  "language_info": {
   "codemirror_mode": {
    "name": "ipython",
    "version": 3
   },
   "file_extension": ".py",
   "mimetype": "text/x-python",
   "name": "python",
   "nbconvert_exporter": "python",
   "pygments_lexer": "ipython3",
   "version": "3.7.7"
  }
 },
 "nbformat": 4,
 "nbformat_minor": 2
}
