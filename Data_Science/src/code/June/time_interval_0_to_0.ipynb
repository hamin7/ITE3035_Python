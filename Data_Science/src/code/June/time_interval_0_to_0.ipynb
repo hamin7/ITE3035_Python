{
 "cells": [
  {
   "cell_type": "code",
   "execution_count": 88,
   "metadata": {},
   "outputs": [],
   "source": [
    "# #################################################\n",
    "# ## point_to_point ##\n",
    "# #################################################\n",
    "# -- Designed by\n",
    "# Hamin lee\n",
    "# -- Produced in June 26, 2020. (Ver.1.0)\n",
    "# #################################################"
   ]
  },
  {
   "cell_type": "code",
   "execution_count": 89,
   "metadata": {},
   "outputs": [],
   "source": [
    "import pandas as pd\n",
    "import numpy as np\n",
    "from functools import reduce\n",
    "import matplotlib.pyplot as plt\n",
    "import seaborn as sns\n",
    "from pylab import figure, axes, pie, title, savefig\n",
    "import heapq\n",
    "\n",
    "%matplotlib inline\n",
    "# scientific notation을 사용하지 않는 경우\n",
    "# pd.options.display.float_format = '{:.4f}'.format"
   ]
  },
  {
   "cell_type": "code",
   "execution_count": 90,
   "metadata": {},
   "outputs": [],
   "source": [
    "df1 = pd.read_csv(\"/Users/hamin/bithumb_bot_data/include/2018-new/2018-01-btc-krw.csv\")   # load csv\n",
    "df2 = pd.read_csv(\"/Users/hamin/bithumb_bot_data/include/2018-new/2018-02-btc-krw.csv\")   # load csv\n",
    "df3 = pd.read_csv(\"/Users/hamin/bithumb_bot_data/include/2018-new/2018-03-btc-krw.csv\")   # load csv\n",
    "df4 = pd.read_csv(\"/Users/hamin/bithumb_bot_data/include/2018-new/2018-04-btc-krw.csv\")   # load csv\n",
    "df5 = pd.read_csv(\"/Users/hamin/bithumb_bot_data/include/2018-new/2018-05-btc-krw.csv\")   # load csv\n",
    "df6 = pd.read_csv(\"/Users/hamin/bithumb_bot_data/include/2018-new/2018-06-btc-krw.csv\")   # load csv\n",
    "df7 = pd.read_csv(\"/Users/hamin/bithumb_bot_data/include/2018-new/2018-07-btc-krw.csv\")   # load csv"
   ]
  },
  {
   "cell_type": "code",
   "execution_count": 91,
   "metadata": {},
   "outputs": [],
   "source": [
    "## converting timestamp column type 'object' to 'datetime'\n",
    "df1['timestamp'] = pd.to_datetime(df1['timestamp'], format='%Y-%m-%d %H:%M:%S', errors='raise')\n",
    "df2['timestamp'] = pd.to_datetime(df2['timestamp'], format='%Y-%m-%d %H:%M:%S', errors='raise')\n",
    "df3['timestamp'] = pd.to_datetime(df3['timestamp'], format='%Y-%m-%d %H:%M:%S', errors='raise')\n",
    "df4['timestamp'] = pd.to_datetime(df4['timestamp'], format='%Y-%m-%d %H:%M:%S', errors='raise')\n",
    "df5['timestamp'] = pd.to_datetime(df5['timestamp'], format='%Y-%m-%d %H:%M:%S', errors='raise')\n",
    "df6['timestamp'] = pd.to_datetime(df6['timestamp'], format='%Y-%m-%d %H:%M:%S', errors='raise')\n",
    "df7['timestamp'] = pd.to_datetime(df7['timestamp'], format='%Y-%m-%d %H:%M:%S', errors='raise')"
   ]
  },
  {
   "cell_type": "code",
   "execution_count": 92,
   "metadata": {},
   "outputs": [],
   "source": [
    "# quantity에 부호 붙이기\n",
    "for i, row in df1.iterrows(): \n",
    "    if row[\"side\"]==0:\n",
    "        row[\"quantity\"]=-row[\"quantity\"]\n",
    "    df1.at[i,'sign_quantity'] = row[\"quantity\"]"
   ]
  },
  {
   "cell_type": "code",
   "execution_count": 93,
   "metadata": {},
   "outputs": [],
   "source": [
    "# quantity에 부호 붙이기\n",
    "for i, row in df2.iterrows(): \n",
    "    if row[\"side\"]==0:\n",
    "        row[\"quantity\"]=-row[\"quantity\"]\n",
    "    df2.at[i,'sign_quantity'] = row[\"quantity\"]"
   ]
  },
  {
   "cell_type": "code",
   "execution_count": 94,
   "metadata": {},
   "outputs": [],
   "source": [
    "# quantity에 부호 붙이기\n",
    "for i, row in df3.iterrows(): \n",
    "    if row[\"side\"]==0:\n",
    "        row[\"quantity\"]=-row[\"quantity\"]\n",
    "    df3.at[i,'sign_quantity'] = row[\"quantity\"]"
   ]
  },
  {
   "cell_type": "code",
   "execution_count": 95,
   "metadata": {},
   "outputs": [],
   "source": [
    "# quantity에 부호 붙이기\n",
    "for i, row in df4.iterrows(): \n",
    "    if row[\"side\"]==0:\n",
    "        row[\"quantity\"]=-row[\"quantity\"]\n",
    "    df4.at[i,'sign_quantity'] = row[\"quantity\"]"
   ]
  },
  {
   "cell_type": "code",
   "execution_count": 96,
   "metadata": {},
   "outputs": [],
   "source": [
    "# quantity에 부호 붙이기\n",
    "for i, row in df5.iterrows(): \n",
    "    if row[\"side\"]==0:\n",
    "        row[\"quantity\"]=-row[\"quantity\"]\n",
    "    df5.at[i,'sign_quantity'] = row[\"quantity\"]"
   ]
  },
  {
   "cell_type": "code",
   "execution_count": 97,
   "metadata": {},
   "outputs": [],
   "source": [
    "# quantity에 부호 붙이기\n",
    "for i, row in df6.iterrows(): \n",
    "    if row[\"side\"]==0:\n",
    "        row[\"quantity\"]=-row[\"quantity\"]\n",
    "    df6.at[i,'sign_quantity'] = row[\"quantity\"]"
   ]
  },
  {
   "cell_type": "code",
   "execution_count": 98,
   "metadata": {},
   "outputs": [],
   "source": [
    "# quantity에 부호 붙이기\n",
    "for i, row in df7.iterrows(): \n",
    "    if row[\"side\"]==0:\n",
    "        row[\"quantity\"]=-row[\"quantity\"]\n",
    "    df7.at[i,'sign_quantity'] = row[\"quantity\"]"
   ]
  },
  {
   "cell_type": "code",
   "execution_count": 99,
   "metadata": {},
   "outputs": [
    {
     "data": {
      "text/html": [
       "<div>\n",
       "<style scoped>\n",
       "    .dataframe tbody tr th:only-of-type {\n",
       "        vertical-align: middle;\n",
       "    }\n",
       "\n",
       "    .dataframe tbody tr th {\n",
       "        vertical-align: top;\n",
       "    }\n",
       "\n",
       "    .dataframe thead th {\n",
       "        text-align: right;\n",
       "    }\n",
       "</style>\n",
       "<table border=\"1\" class=\"dataframe\">\n",
       "  <thead>\n",
       "    <tr style=\"text-align: right;\">\n",
       "      <th></th>\n",
       "      <th>timestamp</th>\n",
       "      <th>quantity</th>\n",
       "      <th>price</th>\n",
       "      <th>fee</th>\n",
       "      <th>amount</th>\n",
       "      <th>side</th>\n",
       "      <th>sign_quantity</th>\n",
       "    </tr>\n",
       "  </thead>\n",
       "  <tbody>\n",
       "    <tr>\n",
       "      <th>0</th>\n",
       "      <td>2018-01-03 13:44:04</td>\n",
       "      <td>0.161900</td>\n",
       "      <td>20668000</td>\n",
       "      <td>5019.000000</td>\n",
       "      <td>3341130</td>\n",
       "      <td>1</td>\n",
       "      <td>0.161900</td>\n",
       "    </tr>\n",
       "    <tr>\n",
       "      <th>1</th>\n",
       "      <td>2018-01-10 22:20:51</td>\n",
       "      <td>0.070594</td>\n",
       "      <td>20777000</td>\n",
       "      <td>0.000106</td>\n",
       "      <td>-1468934</td>\n",
       "      <td>0</td>\n",
       "      <td>-0.070594</td>\n",
       "    </tr>\n",
       "    <tr>\n",
       "      <th>2</th>\n",
       "      <td>2018-01-11 23:49:37</td>\n",
       "      <td>0.000999</td>\n",
       "      <td>19563000</td>\n",
       "      <td>0.000002</td>\n",
       "      <td>-19563</td>\n",
       "      <td>0</td>\n",
       "      <td>-0.000999</td>\n",
       "    </tr>\n",
       "    <tr>\n",
       "      <th>3</th>\n",
       "      <td>2018-01-18 23:09:41</td>\n",
       "      <td>0.000999</td>\n",
       "      <td>14572000</td>\n",
       "      <td>0.000002</td>\n",
       "      <td>-14572</td>\n",
       "      <td>0</td>\n",
       "      <td>-0.000999</td>\n",
       "    </tr>\n",
       "    <tr>\n",
       "      <th>4</th>\n",
       "      <td>2018-01-19 12:23:32</td>\n",
       "      <td>0.072600</td>\n",
       "      <td>14539000</td>\n",
       "      <td>1583.000000</td>\n",
       "      <td>1053948</td>\n",
       "      <td>1</td>\n",
       "      <td>0.072600</td>\n",
       "    </tr>\n",
       "    <tr>\n",
       "      <th>...</th>\n",
       "      <td>...</td>\n",
       "      <td>...</td>\n",
       "      <td>...</td>\n",
       "      <td>...</td>\n",
       "      <td>...</td>\n",
       "      <td>...</td>\n",
       "      <td>...</td>\n",
       "    </tr>\n",
       "    <tr>\n",
       "      <th>818</th>\n",
       "      <td>2018-01-25 21:47:46</td>\n",
       "      <td>0.001000</td>\n",
       "      <td>12849000</td>\n",
       "      <td>19.000000</td>\n",
       "      <td>12830</td>\n",
       "      <td>1</td>\n",
       "      <td>0.001000</td>\n",
       "    </tr>\n",
       "    <tr>\n",
       "      <th>819</th>\n",
       "      <td>2018-01-31 13:54:04</td>\n",
       "      <td>0.000999</td>\n",
       "      <td>11137000</td>\n",
       "      <td>0.000002</td>\n",
       "      <td>-11137</td>\n",
       "      <td>0</td>\n",
       "      <td>-0.000999</td>\n",
       "    </tr>\n",
       "    <tr>\n",
       "      <th>820</th>\n",
       "      <td>2018-01-31 13:59:03</td>\n",
       "      <td>0.001000</td>\n",
       "      <td>11105000</td>\n",
       "      <td>17.000000</td>\n",
       "      <td>11088</td>\n",
       "      <td>1</td>\n",
       "      <td>0.001000</td>\n",
       "    </tr>\n",
       "    <tr>\n",
       "      <th>821</th>\n",
       "      <td>2018-01-31 14:01:10</td>\n",
       "      <td>0.000999</td>\n",
       "      <td>11125000</td>\n",
       "      <td>0.000002</td>\n",
       "      <td>-11125</td>\n",
       "      <td>0</td>\n",
       "      <td>-0.000999</td>\n",
       "    </tr>\n",
       "    <tr>\n",
       "      <th>822</th>\n",
       "      <td>2018-01-31 14:01:32</td>\n",
       "      <td>0.001000</td>\n",
       "      <td>11105000</td>\n",
       "      <td>17.000000</td>\n",
       "      <td>11088</td>\n",
       "      <td>1</td>\n",
       "      <td>0.001000</td>\n",
       "    </tr>\n",
       "  </tbody>\n",
       "</table>\n",
       "<p>823 rows × 7 columns</p>\n",
       "</div>"
      ],
      "text/plain": [
       "              timestamp  quantity     price          fee   amount  side  \\\n",
       "0   2018-01-03 13:44:04  0.161900  20668000  5019.000000  3341130     1   \n",
       "1   2018-01-10 22:20:51  0.070594  20777000     0.000106 -1468934     0   \n",
       "2   2018-01-11 23:49:37  0.000999  19563000     0.000002   -19563     0   \n",
       "3   2018-01-18 23:09:41  0.000999  14572000     0.000002   -14572     0   \n",
       "4   2018-01-19 12:23:32  0.072600  14539000  1583.000000  1053948     1   \n",
       "..                  ...       ...       ...          ...      ...   ...   \n",
       "818 2018-01-25 21:47:46  0.001000  12849000    19.000000    12830     1   \n",
       "819 2018-01-31 13:54:04  0.000999  11137000     0.000002   -11137     0   \n",
       "820 2018-01-31 13:59:03  0.001000  11105000    17.000000    11088     1   \n",
       "821 2018-01-31 14:01:10  0.000999  11125000     0.000002   -11125     0   \n",
       "822 2018-01-31 14:01:32  0.001000  11105000    17.000000    11088     1   \n",
       "\n",
       "     sign_quantity  \n",
       "0         0.161900  \n",
       "1        -0.070594  \n",
       "2        -0.000999  \n",
       "3        -0.000999  \n",
       "4         0.072600  \n",
       "..             ...  \n",
       "818       0.001000  \n",
       "819      -0.000999  \n",
       "820       0.001000  \n",
       "821      -0.000999  \n",
       "822       0.001000  \n",
       "\n",
       "[823 rows x 7 columns]"
      ]
     },
     "execution_count": 99,
     "metadata": {},
     "output_type": "execute_result"
    }
   ],
   "source": [
    "# timestamp (시간), quantity (거래 코인 양), price (코인 1개 당 가격), fee (??), amount (q * price), side (0:판 것, 1:산 것)\n",
    "df1"
   ]
  },
  {
   "cell_type": "code",
   "execution_count": 100,
   "metadata": {},
   "outputs": [],
   "source": [
    "# sign_quantity 더하기 - sign_quantity_cumsum은 현재 시점 보유한 coin의 quantity\n",
    "sign_quantity_cumsum1=df1[\"sign_quantity\"].cumsum()\n",
    "sign_quantity_cumsum2=df2[\"sign_quantity\"].cumsum()\n",
    "sign_quantity_cumsum3=df3[\"sign_quantity\"].cumsum()\n",
    "sign_quantity_cumsum4=df4[\"sign_quantity\"].cumsum()\n",
    "sign_quantity_cumsum5=df5[\"sign_quantity\"].cumsum()\n",
    "sign_quantity_cumsum6=df6[\"sign_quantity\"].cumsum()\n",
    "sign_quantity_cumsum7=df7[\"sign_quantity\"].cumsum()"
   ]
  },
  {
   "cell_type": "code",
   "execution_count": 101,
   "metadata": {},
   "outputs": [],
   "source": [
    "# amount 더하기 - amount_cumsum이 profit임\n",
    "amount_cumsum1=df1[\"amount\"].cumsum()\n",
    "amount_cumsum2=df2[\"amount\"].cumsum()\n",
    "amount_cumsum3=df3[\"amount\"].cumsum()\n",
    "amount_cumsum4=df4[\"amount\"].cumsum()\n",
    "amount_cumsum5=df5[\"amount\"].cumsum()\n",
    "amount_cumsum6=df6[\"amount\"].cumsum()\n",
    "amount_cumsum7=df7[\"amount\"].cumsum()"
   ]
  },
  {
   "cell_type": "code",
   "execution_count": 102,
   "metadata": {},
   "outputs": [],
   "source": [
    "# float16 type으로 타입 변경\n",
    "sign_quantity_cumsum1 = sign_quantity_cumsum1.astype('float16')\n",
    "sign_quantity_cumsum2 = sign_quantity_cumsum2.astype('float16')\n",
    "sign_quantity_cumsum3 = sign_quantity_cumsum3.astype('float16')\n",
    "sign_quantity_cumsum4 = sign_quantity_cumsum4.astype('float16')\n",
    "sign_quantity_cumsum5 = sign_quantity_cumsum5.astype('float16')\n",
    "sign_quantity_cumsum6 = sign_quantity_cumsum6.astype('float16')\n",
    "sign_quantity_cumsum7 = sign_quantity_cumsum7.astype('float16')"
   ]
  },
  {
   "cell_type": "code",
   "execution_count": 103,
   "metadata": {},
   "outputs": [],
   "source": [
    "# 데이터프레임 df1, sign_quantity_cumsum, amount_cumsum 결합\n",
    "cumsum_df1 = pd.concat([df1,sign_quantity_cumsum1,amount_cumsum1],axis=1)\n",
    "cumsum_df2 = pd.concat([df2,sign_quantity_cumsum2,amount_cumsum2],axis=1)\n",
    "cumsum_df3 = pd.concat([df3,sign_quantity_cumsum3,amount_cumsum3],axis=1)\n",
    "cumsum_df4 = pd.concat([df4,sign_quantity_cumsum4,amount_cumsum4],axis=1)\n",
    "cumsum_df5 = pd.concat([df5,sign_quantity_cumsum5,amount_cumsum5],axis=1)\n",
    "cumsum_df6 = pd.concat([df6,sign_quantity_cumsum6,amount_cumsum6],axis=1)\n",
    "cumsum_df7 = pd.concat([df7,sign_quantity_cumsum7,amount_cumsum7],axis=1)"
   ]
  },
  {
   "cell_type": "code",
   "execution_count": 104,
   "metadata": {},
   "outputs": [],
   "source": [
    "# 칼럼 지정\n",
    "cumsum_df1.columns = ['timestamp', 'quantity', 'price', 'fee', 'amount', 'side', 'sign_quantity', 'sign_quantity_cumsum(coin)', 'amount_cumsum']\n",
    "cumsum_df2.columns = ['timestamp', 'quantity', 'price', 'fee', 'amount', 'side', 'sign_quantity', 'sign_quantity_cumsum(coin)', 'amount_cumsum']\n",
    "cumsum_df3.columns = ['timestamp', 'quantity', 'price', 'fee', 'amount', 'side', 'sign_quantity', 'sign_quantity_cumsum(coin)', 'amount_cumsum']\n",
    "cumsum_df4.columns = ['timestamp', 'quantity', 'price', 'fee', 'amount', 'side', 'sign_quantity', 'sign_quantity_cumsum(coin)', 'amount_cumsum']\n",
    "cumsum_df5.columns = ['timestamp', 'quantity', 'price', 'fee', 'amount', 'side', 'sign_quantity', 'sign_quantity_cumsum(coin)', 'amount_cumsum']\n",
    "cumsum_df6.columns = ['timestamp', 'quantity', 'price', 'fee', 'amount', 'side', 'sign_quantity', 'sign_quantity_cumsum(coin)', 'amount_cumsum']\n",
    "cumsum_df7.columns = ['timestamp', 'quantity', 'price', 'fee', 'amount', 'side', 'sign_quantity', 'sign_quantity_cumsum(coin)', 'amount_cumsum']"
   ]
  },
  {
   "cell_type": "code",
   "execution_count": 105,
   "metadata": {},
   "outputs": [],
   "source": [
    "# 소숫점 다섯째 자리에서 자르기\n",
    "cumsum_df_zero_point1=cumsum_df1[ (cumsum_df1['sign_quantity_cumsum(coin)'] < 0.01) & (cumsum_df1['sign_quantity_cumsum(coin)'] > -0.01)]\n",
    "cumsum_df_zero_point2=cumsum_df2[ (cumsum_df2['sign_quantity_cumsum(coin)'] < 0.01) & (cumsum_df2['sign_quantity_cumsum(coin)'] > -0.01)]\n",
    "cumsum_df_zero_point3=cumsum_df3[ (cumsum_df3['sign_quantity_cumsum(coin)'] < 0.01) & (cumsum_df3['sign_quantity_cumsum(coin)'] > -0.01)]\n",
    "cumsum_df_zero_point4=cumsum_df4[ (cumsum_df4['sign_quantity_cumsum(coin)'] < 0.01) & (cumsum_df4['sign_quantity_cumsum(coin)'] > -0.01)]\n",
    "cumsum_df_zero_point5=cumsum_df5[ (cumsum_df5['sign_quantity_cumsum(coin)'] < 0.01) & (cumsum_df5['sign_quantity_cumsum(coin)'] > -0.01)]\n",
    "cumsum_df_zero_point6=cumsum_df6[ (cumsum_df6['sign_quantity_cumsum(coin)'] < 0.01) & (cumsum_df6['sign_quantity_cumsum(coin)'] > -0.01)]\n",
    "cumsum_df_zero_point7=cumsum_df7[ (cumsum_df7['sign_quantity_cumsum(coin)'] < 0.01) & (cumsum_df7['sign_quantity_cumsum(coin)'] > -0.01)]"
   ]
  },
  {
   "cell_type": "code",
   "execution_count": 106,
   "metadata": {},
   "outputs": [],
   "source": [
    "# 데이터 한 칸씩 미루기\n",
    "compare1=cumsum_df_zero_point1['amount_cumsum']\n",
    "compare1=compare1.shift(1)[:]     # 인덱스는 그대로 두고 데이터 한 칸씩 이동"
   ]
  },
  {
   "cell_type": "code",
   "execution_count": 107,
   "metadata": {},
   "outputs": [],
   "source": [
    "compare2=cumsum_df_zero_point2['amount_cumsum']\n",
    "compare2=compare2.shift(1)[:]"
   ]
  },
  {
   "cell_type": "code",
   "execution_count": 108,
   "metadata": {},
   "outputs": [],
   "source": [
    "compare3=cumsum_df_zero_point3['amount_cumsum']\n",
    "compare3=compare3.shift(1)[:]"
   ]
  },
  {
   "cell_type": "code",
   "execution_count": 109,
   "metadata": {},
   "outputs": [],
   "source": [
    "compare4=cumsum_df_zero_point4['amount_cumsum']\n",
    "compare4=compare4.shift(1)[:]"
   ]
  },
  {
   "cell_type": "code",
   "execution_count": 110,
   "metadata": {},
   "outputs": [],
   "source": [
    "compare5=cumsum_df_zero_point5['amount_cumsum']\n",
    "compare5=compare5.shift(1)[:]"
   ]
  },
  {
   "cell_type": "code",
   "execution_count": 111,
   "metadata": {},
   "outputs": [],
   "source": [
    "compare6=cumsum_df_zero_point6['amount_cumsum']\n",
    "compare6=compare6.shift(1)[:]"
   ]
  },
  {
   "cell_type": "code",
   "execution_count": 112,
   "metadata": {},
   "outputs": [],
   "source": [
    "compare7=cumsum_df_zero_point7['amount_cumsum']\n",
    "compare7=compare7.shift(1)[:]"
   ]
  },
  {
   "cell_type": "code",
   "execution_count": 113,
   "metadata": {},
   "outputs": [
    {
     "data": {
      "text/plain": [
       "Series([], Name: amount_cumsum, dtype: float64)"
      ]
     },
     "execution_count": 113,
     "metadata": {},
     "output_type": "execute_result"
    }
   ],
   "source": [
    "compare1"
   ]
  },
  {
   "cell_type": "code",
   "execution_count": 114,
   "metadata": {},
   "outputs": [],
   "source": [
    "# 데이터 프레임 cumsum_df_zero_point()와 compare 결합\n",
    "cumsum_df_zero_point1 = pd.concat([cumsum_df_zero_point1,compare1],axis=1)\n",
    "cumsum_df_zero_point1 = cumsum_df_zero_point1.fillna(0)     # 결측값은 0으로 채우기"
   ]
  },
  {
   "cell_type": "code",
   "execution_count": 115,
   "metadata": {},
   "outputs": [],
   "source": [
    "cumsum_df_zero_point2 = pd.concat([cumsum_df_zero_point2,compare2],axis=1)\n",
    "cumsum_df_zero_point2 = cumsum_df_zero_point2.fillna(0)"
   ]
  },
  {
   "cell_type": "code",
   "execution_count": 116,
   "metadata": {},
   "outputs": [],
   "source": [
    "cumsum_df_zero_point3 = pd.concat([cumsum_df_zero_point3,compare3],axis=1)\n",
    "cumsum_df_zero_point3 = cumsum_df_zero_point3.fillna(0)"
   ]
  },
  {
   "cell_type": "code",
   "execution_count": 117,
   "metadata": {},
   "outputs": [],
   "source": [
    "cumsum_df_zero_point4 = pd.concat([cumsum_df_zero_point4,compare4],axis=1)\n",
    "cumsum_df_zero_point4 = cumsum_df_zero_point4.fillna(0)"
   ]
  },
  {
   "cell_type": "code",
   "execution_count": 118,
   "metadata": {},
   "outputs": [],
   "source": [
    "cumsum_df_zero_point5 = pd.concat([cumsum_df_zero_point5,compare5],axis=1)\n",
    "cumsum_df_zero_point5 = cumsum_df_zero_point5.fillna(0)"
   ]
  },
  {
   "cell_type": "code",
   "execution_count": 119,
   "metadata": {},
   "outputs": [],
   "source": [
    "cumsum_df_zero_point6 = pd.concat([cumsum_df_zero_point6,compare6],axis=1)\n",
    "cumsum_df_zero_point6 = cumsum_df_zero_point6.fillna(0)"
   ]
  },
  {
   "cell_type": "code",
   "execution_count": 120,
   "metadata": {},
   "outputs": [],
   "source": [
    "cumsum_df_zero_point7 = pd.concat([cumsum_df_zero_point7,compare7],axis=1)\n",
    "cumsum_df_zero_point7 = cumsum_df_zero_point7.fillna(0)"
   ]
  },
  {
   "cell_type": "code",
   "execution_count": 121,
   "metadata": {},
   "outputs": [],
   "source": [
    "# 칼럼 지정\n",
    "cumsum_df_zero_point1.columns = ['timestamp', 'quantity', 'price', 'fee', 'amount', 'side', 'sign_quantity', 'sign_quantity_cumsum(coin)', 'amount_cumsum', 'compare']\n",
    "cumsum_df_zero_point2.columns = ['timestamp', 'quantity', 'price', 'fee', 'amount', 'side', 'sign_quantity', 'sign_quantity_cumsum(coin)', 'amount_cumsum', 'compare']\n",
    "cumsum_df_zero_point3.columns = ['timestamp', 'quantity', 'price', 'fee', 'amount', 'side', 'sign_quantity', 'sign_quantity_cumsum(coin)', 'amount_cumsum', 'compare']\n",
    "cumsum_df_zero_point4.columns = ['timestamp', 'quantity', 'price', 'fee', 'amount', 'side', 'sign_quantity', 'sign_quantity_cumsum(coin)', 'amount_cumsum', 'compare']\n",
    "cumsum_df_zero_point5.columns = ['timestamp', 'quantity', 'price', 'fee', 'amount', 'side', 'sign_quantity', 'sign_quantity_cumsum(coin)', 'amount_cumsum', 'compare']\n",
    "cumsum_df_zero_point6.columns = ['timestamp', 'quantity', 'price', 'fee', 'amount', 'side', 'sign_quantity', 'sign_quantity_cumsum(coin)', 'amount_cumsum', 'compare']\n",
    "cumsum_df_zero_point7.columns = ['timestamp', 'quantity', 'price', 'fee', 'amount', 'side', 'sign_quantity', 'sign_quantity_cumsum(coin)', 'amount_cumsum', 'compare']"
   ]
  },
  {
   "cell_type": "code",
   "execution_count": 122,
   "metadata": {},
   "outputs": [
    {
     "data": {
      "text/html": [
       "<div>\n",
       "<style scoped>\n",
       "    .dataframe tbody tr th:only-of-type {\n",
       "        vertical-align: middle;\n",
       "    }\n",
       "\n",
       "    .dataframe tbody tr th {\n",
       "        vertical-align: top;\n",
       "    }\n",
       "\n",
       "    .dataframe thead th {\n",
       "        text-align: right;\n",
       "    }\n",
       "</style>\n",
       "<table border=\"1\" class=\"dataframe\">\n",
       "  <thead>\n",
       "    <tr style=\"text-align: right;\">\n",
       "      <th></th>\n",
       "      <th>timestamp</th>\n",
       "      <th>quantity</th>\n",
       "      <th>price</th>\n",
       "      <th>fee</th>\n",
       "      <th>amount</th>\n",
       "      <th>side</th>\n",
       "      <th>sign_quantity</th>\n",
       "      <th>sign_quantity_cumsum(coin)</th>\n",
       "      <th>amount_cumsum</th>\n",
       "      <th>compare</th>\n",
       "    </tr>\n",
       "  </thead>\n",
       "  <tbody>\n",
       "    <tr>\n",
       "      <th>1</th>\n",
       "      <td>2018-02-14 00:12:12</td>\n",
       "      <td>0.7990</td>\n",
       "      <td>9854000</td>\n",
       "      <td>0.0</td>\n",
       "      <td>7873346</td>\n",
       "      <td>1</td>\n",
       "      <td>0.7990</td>\n",
       "      <td>0.000000</td>\n",
       "      <td>-5593</td>\n",
       "      <td>0.0</td>\n",
       "    </tr>\n",
       "    <tr>\n",
       "      <th>3</th>\n",
       "      <td>2018-02-14 00:15:41</td>\n",
       "      <td>0.1050</td>\n",
       "      <td>9860000</td>\n",
       "      <td>0.0</td>\n",
       "      <td>1035300</td>\n",
       "      <td>1</td>\n",
       "      <td>0.1050</td>\n",
       "      <td>0.000000</td>\n",
       "      <td>-4438</td>\n",
       "      <td>-5593.0</td>\n",
       "    </tr>\n",
       "    <tr>\n",
       "      <th>6</th>\n",
       "      <td>2018-02-14 00:20:44</td>\n",
       "      <td>0.3015</td>\n",
       "      <td>9882000</td>\n",
       "      <td>0.0</td>\n",
       "      <td>2979423</td>\n",
       "      <td>1</td>\n",
       "      <td>0.3015</td>\n",
       "      <td>-0.000000</td>\n",
       "      <td>28864</td>\n",
       "      <td>-4438.0</td>\n",
       "    </tr>\n",
       "    <tr>\n",
       "      <th>14</th>\n",
       "      <td>2018-02-14 00:28:28</td>\n",
       "      <td>0.2978</td>\n",
       "      <td>9825000</td>\n",
       "      <td>0.0</td>\n",
       "      <td>2925885</td>\n",
       "      <td>1</td>\n",
       "      <td>0.2978</td>\n",
       "      <td>-0.000000</td>\n",
       "      <td>519</td>\n",
       "      <td>28864.0</td>\n",
       "    </tr>\n",
       "    <tr>\n",
       "      <th>19</th>\n",
       "      <td>2018-02-14 00:33:24</td>\n",
       "      <td>0.4805</td>\n",
       "      <td>9804000</td>\n",
       "      <td>0.0</td>\n",
       "      <td>4710822</td>\n",
       "      <td>1</td>\n",
       "      <td>0.4805</td>\n",
       "      <td>-0.000000</td>\n",
       "      <td>-16492</td>\n",
       "      <td>519.0</td>\n",
       "    </tr>\n",
       "    <tr>\n",
       "      <th>...</th>\n",
       "      <td>...</td>\n",
       "      <td>...</td>\n",
       "      <td>...</td>\n",
       "      <td>...</td>\n",
       "      <td>...</td>\n",
       "      <td>...</td>\n",
       "      <td>...</td>\n",
       "      <td>...</td>\n",
       "      <td>...</td>\n",
       "      <td>...</td>\n",
       "    </tr>\n",
       "    <tr>\n",
       "      <th>18325</th>\n",
       "      <td>2018-02-28 23:01:28</td>\n",
       "      <td>1.2093</td>\n",
       "      <td>11837000</td>\n",
       "      <td>0.0</td>\n",
       "      <td>14314484</td>\n",
       "      <td>1</td>\n",
       "      <td>1.2093</td>\n",
       "      <td>-0.000066</td>\n",
       "      <td>19994386</td>\n",
       "      <td>20028370.0</td>\n",
       "    </tr>\n",
       "    <tr>\n",
       "      <th>18334</th>\n",
       "      <td>2018-02-28 23:06:56</td>\n",
       "      <td>0.0154</td>\n",
       "      <td>11838000</td>\n",
       "      <td>0.0</td>\n",
       "      <td>182305</td>\n",
       "      <td>1</td>\n",
       "      <td>0.0154</td>\n",
       "      <td>-0.000066</td>\n",
       "      <td>19995067</td>\n",
       "      <td>19994386.0</td>\n",
       "    </tr>\n",
       "    <tr>\n",
       "      <th>18349</th>\n",
       "      <td>2018-02-28 23:25:17</td>\n",
       "      <td>0.2085</td>\n",
       "      <td>11884000</td>\n",
       "      <td>0.0</td>\n",
       "      <td>2477814</td>\n",
       "      <td>1</td>\n",
       "      <td>0.2085</td>\n",
       "      <td>-0.000056</td>\n",
       "      <td>20077412</td>\n",
       "      <td>19995067.0</td>\n",
       "    </tr>\n",
       "    <tr>\n",
       "      <th>18365</th>\n",
       "      <td>2018-02-28 23:59:49</td>\n",
       "      <td>0.5662</td>\n",
       "      <td>11923000</td>\n",
       "      <td>0.0</td>\n",
       "      <td>6750803</td>\n",
       "      <td>1</td>\n",
       "      <td>0.5662</td>\n",
       "      <td>-0.000280</td>\n",
       "      <td>20055060</td>\n",
       "      <td>20077412.0</td>\n",
       "    </tr>\n",
       "    <tr>\n",
       "      <th>18366</th>\n",
       "      <td>2018-02-28 23:59:49</td>\n",
       "      <td>0.0002</td>\n",
       "      <td>11923000</td>\n",
       "      <td>0.0</td>\n",
       "      <td>2385</td>\n",
       "      <td>1</td>\n",
       "      <td>0.0002</td>\n",
       "      <td>-0.000080</td>\n",
       "      <td>20057445</td>\n",
       "      <td>20055060.0</td>\n",
       "    </tr>\n",
       "  </tbody>\n",
       "</table>\n",
       "<p>3159 rows × 10 columns</p>\n",
       "</div>"
      ],
      "text/plain": [
       "                timestamp  quantity     price  fee    amount  side  \\\n",
       "1     2018-02-14 00:12:12    0.7990   9854000  0.0   7873346     1   \n",
       "3     2018-02-14 00:15:41    0.1050   9860000  0.0   1035300     1   \n",
       "6     2018-02-14 00:20:44    0.3015   9882000  0.0   2979423     1   \n",
       "14    2018-02-14 00:28:28    0.2978   9825000  0.0   2925885     1   \n",
       "19    2018-02-14 00:33:24    0.4805   9804000  0.0   4710822     1   \n",
       "...                   ...       ...       ...  ...       ...   ...   \n",
       "18325 2018-02-28 23:01:28    1.2093  11837000  0.0  14314484     1   \n",
       "18334 2018-02-28 23:06:56    0.0154  11838000  0.0    182305     1   \n",
       "18349 2018-02-28 23:25:17    0.2085  11884000  0.0   2477814     1   \n",
       "18365 2018-02-28 23:59:49    0.5662  11923000  0.0   6750803     1   \n",
       "18366 2018-02-28 23:59:49    0.0002  11923000  0.0      2385     1   \n",
       "\n",
       "       sign_quantity  sign_quantity_cumsum(coin)  amount_cumsum     compare  \n",
       "1             0.7990                    0.000000          -5593         0.0  \n",
       "3             0.1050                    0.000000          -4438     -5593.0  \n",
       "6             0.3015                   -0.000000          28864     -4438.0  \n",
       "14            0.2978                   -0.000000            519     28864.0  \n",
       "19            0.4805                   -0.000000         -16492       519.0  \n",
       "...              ...                         ...            ...         ...  \n",
       "18325         1.2093                   -0.000066       19994386  20028370.0  \n",
       "18334         0.0154                   -0.000066       19995067  19994386.0  \n",
       "18349         0.2085                   -0.000056       20077412  19995067.0  \n",
       "18365         0.5662                   -0.000280       20055060  20077412.0  \n",
       "18366         0.0002                   -0.000080       20057445  20055060.0  \n",
       "\n",
       "[3159 rows x 10 columns]"
      ]
     },
     "execution_count": 122,
     "metadata": {},
     "output_type": "execute_result"
    }
   ],
   "source": [
    "cumsum_df_zero_point2"
   ]
  },
  {
   "cell_type": "code",
   "execution_count": 123,
   "metadata": {},
   "outputs": [],
   "source": [
    "# 구간 별 profit 구하기 (point_amount_cumsum)\n",
    "cumsum_df_zero_point1['point_amount_cumsum'] = cumsum_df_zero_point1['amount_cumsum'] - cumsum_df_zero_point1['compare']\n",
    "cumsum_df_zero_point2['point_amount_cumsum'] = cumsum_df_zero_point2['amount_cumsum'] - cumsum_df_zero_point2['compare']\n",
    "cumsum_df_zero_point3['point_amount_cumsum'] = cumsum_df_zero_point3['amount_cumsum'] - cumsum_df_zero_point3['compare']\n",
    "cumsum_df_zero_point4['point_amount_cumsum'] = cumsum_df_zero_point4['amount_cumsum'] - cumsum_df_zero_point4['compare']\n",
    "cumsum_df_zero_point5['point_amount_cumsum'] = cumsum_df_zero_point5['amount_cumsum'] - cumsum_df_zero_point5['compare']\n",
    "cumsum_df_zero_point6['point_amount_cumsum'] = cumsum_df_zero_point6['amount_cumsum'] - cumsum_df_zero_point6['compare']\n",
    "cumsum_df_zero_point7['point_amount_cumsum'] = cumsum_df_zero_point7['amount_cumsum'] - cumsum_df_zero_point7['compare']"
   ]
  },
  {
   "cell_type": "code",
   "execution_count": 124,
   "metadata": {},
   "outputs": [],
   "source": [
    "# 결측값은 0으로 채우기\n",
    "# 이거 안해도 되지 않나\n",
    "cumsum_df_zero_point1=cumsum_df_zero_point1.fillna(0)\n",
    "cumsum_df_zero_point2=cumsum_df_zero_point2.fillna(0)\n",
    "cumsum_df_zero_point3=cumsum_df_zero_point3.fillna(0)\n",
    "cumsum_df_zero_point4=cumsum_df_zero_point4.fillna(0)\n",
    "cumsum_df_zero_point5=cumsum_df_zero_point5.fillna(0)\n",
    "cumsum_df_zero_point6=cumsum_df_zero_point6.fillna(0)\n",
    "cumsum_df_zero_point7=cumsum_df_zero_point7.fillna(0)"
   ]
  },
  {
   "cell_type": "code",
   "execution_count": 125,
   "metadata": {},
   "outputs": [],
   "source": [
    "# timestamp 한 row씩 미루기\n",
    "time_compare1 = cumsum_df_zero_point1['timestamp']\n",
    "time_compare1 = time_compare1.shift(1)[:]     # timestamp 한 row씩 미루기"
   ]
  },
  {
   "cell_type": "code",
   "execution_count": 126,
   "metadata": {},
   "outputs": [],
   "source": [
    "time_compare2 = cumsum_df_zero_point2['timestamp']\n",
    "time_compare2 = time_compare2.shift(1)[:]     # timestamp 한 row씩 미루기"
   ]
  },
  {
   "cell_type": "code",
   "execution_count": 127,
   "metadata": {},
   "outputs": [],
   "source": [
    "time_compare3 = cumsum_df_zero_point3['timestamp']\n",
    "time_compare3 = time_compare3.shift(1)[:]     # timestamp 한 row씩 미루기"
   ]
  },
  {
   "cell_type": "code",
   "execution_count": 128,
   "metadata": {},
   "outputs": [],
   "source": [
    "time_compare4 = cumsum_df_zero_point4['timestamp']\n",
    "time_compare4 = time_compare4.shift(1)[:]     # timestamp 한 row씩 미루기"
   ]
  },
  {
   "cell_type": "code",
   "execution_count": 129,
   "metadata": {},
   "outputs": [],
   "source": [
    "time_compare5 = cumsum_df_zero_point5['timestamp']\n",
    "time_compare5 = time_compare5.shift(1)[:]     # timestamp 한 row씩 미루기"
   ]
  },
  {
   "cell_type": "code",
   "execution_count": 130,
   "metadata": {},
   "outputs": [],
   "source": [
    "time_compare6 = cumsum_df_zero_point6['timestamp']\n",
    "time_compare6 = time_compare6.shift(1)[:]     # timestamp 한 row씩 미루기"
   ]
  },
  {
   "cell_type": "code",
   "execution_count": 131,
   "metadata": {},
   "outputs": [],
   "source": [
    "time_compare7 = cumsum_df_zero_point7['timestamp']\n",
    "time_compare7 = time_compare7.shift(1)[:]     # timestamp 한 row씩 미루기"
   ]
  },
  {
   "cell_type": "code",
   "execution_count": 132,
   "metadata": {},
   "outputs": [
    {
     "data": {
      "text/plain": [
       "1                       NaT\n",
       "3       2018-02-14 00:12:12\n",
       "6       2018-02-14 00:15:41\n",
       "14      2018-02-14 00:20:44\n",
       "19      2018-02-14 00:28:28\n",
       "                ...        \n",
       "18325   2018-02-28 22:40:53\n",
       "18334   2018-02-28 23:01:28\n",
       "18349   2018-02-28 23:06:56\n",
       "18365   2018-02-28 23:25:17\n",
       "18366   2018-02-28 23:59:49\n",
       "Name: timestamp, Length: 3159, dtype: datetime64[ns]"
      ]
     },
     "execution_count": 132,
     "metadata": {},
     "output_type": "execute_result"
    }
   ],
   "source": [
    "time_compare2"
   ]
  },
  {
   "cell_type": "code",
   "execution_count": 133,
   "metadata": {},
   "outputs": [],
   "source": [
    "# 시간 간격 계산 위해 이전 타임 세팅\n",
    "previous_time1 = cumsum_df_zero_point1['timestamp']\n",
    "previous_time2 = cumsum_df_zero_point2['timestamp']\n",
    "previous_time3 = cumsum_df_zero_point3['timestamp']\n",
    "previous_time4 = cumsum_df_zero_point4['timestamp']\n",
    "previous_time5 = cumsum_df_zero_point5['timestamp']\n",
    "previous_time6 = cumsum_df_zero_point6['timestamp']\n",
    "previous_time7 = cumsum_df_zero_point7['timestamp']"
   ]
  },
  {
   "cell_type": "code",
   "execution_count": 134,
   "metadata": {},
   "outputs": [
    {
     "data": {
      "text/plain": [
       "1       2018-02-14 00:12:12\n",
       "3       2018-02-14 00:15:41\n",
       "6       2018-02-14 00:20:44\n",
       "14      2018-02-14 00:28:28\n",
       "19      2018-02-14 00:33:24\n",
       "                ...        \n",
       "18325   2018-02-28 23:01:28\n",
       "18334   2018-02-28 23:06:56\n",
       "18349   2018-02-28 23:25:17\n",
       "18365   2018-02-28 23:59:49\n",
       "18366   2018-02-28 23:59:49\n",
       "Name: timestamp, Length: 3159, dtype: datetime64[ns]"
      ]
     },
     "execution_count": 134,
     "metadata": {},
     "output_type": "execute_result"
    }
   ],
   "source": [
    "previous_time2"
   ]
  },
  {
   "cell_type": "code",
   "execution_count": 135,
   "metadata": {},
   "outputs": [],
   "source": [
    "time_interval1 = (previous_time1 - time_compare1)\n",
    "time_interval2 = (previous_time2 - time_compare2)\n",
    "time_interval3 = (previous_time3 - time_compare3)\n",
    "time_interval4 = (previous_time4 - time_compare4)\n",
    "time_interval5 = (previous_time5 - time_compare5)\n",
    "time_interval6 = (previous_time6 - time_compare6)\n",
    "time_interval7 = (previous_time7 - time_compare7)"
   ]
  },
  {
   "cell_type": "code",
   "execution_count": 136,
   "metadata": {},
   "outputs": [
    {
     "data": {
      "text/plain": [
       "1            NaT\n",
       "3       00:03:29\n",
       "6       00:05:03\n",
       "14      00:07:44\n",
       "19      00:04:56\n",
       "          ...   \n",
       "18325   00:20:35\n",
       "18334   00:05:28\n",
       "18349   00:18:21\n",
       "18365   00:34:32\n",
       "18366   00:00:00\n",
       "Name: timestamp, Length: 3159, dtype: timedelta64[ns]"
      ]
     },
     "execution_count": 136,
     "metadata": {},
     "output_type": "execute_result"
    }
   ],
   "source": [
    "time_interval2"
   ]
  },
  {
   "cell_type": "code",
   "execution_count": 137,
   "metadata": {},
   "outputs": [],
   "source": [
    "# 데이터 프레임 cumsum_df_zero_point()와 time_compare 결합\n",
    "cumsum_df_zero_point1 = pd.concat([cumsum_df_zero_point1,time_interval1],axis=1)\n",
    "# cumsum_df_zero_point1 = cumsum_df_zero_point1.fillna(0)     # 결측값은 0으로 채우기"
   ]
  },
  {
   "cell_type": "code",
   "execution_count": 138,
   "metadata": {},
   "outputs": [],
   "source": [
    "cumsum_df_zero_point2 = pd.concat([cumsum_df_zero_point2,time_interval2],axis=1)\n",
    "# cumsum_df_zero_point2 = cumsum_df_zero_point2.fillna(0)     # 결측값은 0으로 채우기"
   ]
  },
  {
   "cell_type": "code",
   "execution_count": 139,
   "metadata": {},
   "outputs": [],
   "source": [
    "cumsum_df_zero_point3 = pd.concat([cumsum_df_zero_point3,time_interval3],axis=1)\n",
    "# cumsum_df_zero_point3 = cumsum_df_zero_point3.fillna(0)     # 결측값은 0으로 채우기"
   ]
  },
  {
   "cell_type": "code",
   "execution_count": 140,
   "metadata": {},
   "outputs": [],
   "source": [
    "cumsum_df_zero_point4 = pd.concat([cumsum_df_zero_point4,time_interval4],axis=1)\n",
    "# cumsum_df_zero_point4 = cumsum_df_zero_point4.fillna(0)     # 결측값은 0으로 채우기"
   ]
  },
  {
   "cell_type": "code",
   "execution_count": 141,
   "metadata": {},
   "outputs": [],
   "source": [
    "cumsum_df_zero_point5 = pd.concat([cumsum_df_zero_point5,time_interval5],axis=1)\n",
    "# cumsum_df_zero_point5 = cumsum_df_zero_point5.fillna(0)     # 결측값은 0으로 채우기"
   ]
  },
  {
   "cell_type": "code",
   "execution_count": 142,
   "metadata": {},
   "outputs": [],
   "source": [
    "cumsum_df_zero_point6 = pd.concat([cumsum_df_zero_point6,time_interval6],axis=1)\n",
    "# cumsum_df_zero_point6 = cumsum_df_zero_point6.fillna(0)     # 결측값은 0으로 채우기"
   ]
  },
  {
   "cell_type": "code",
   "execution_count": 143,
   "metadata": {},
   "outputs": [],
   "source": [
    "cumsum_df_zero_point7 = pd.concat([cumsum_df_zero_point7,time_interval7],axis=1)\n",
    "# cumsum_df_zero_point7 = cumsum_df_zero_point7.fillna(0)     # 결측값은 0으로 채우기"
   ]
  },
  {
   "cell_type": "code",
   "execution_count": 144,
   "metadata": {},
   "outputs": [],
   "source": [
    "# 칼럼 지정\n",
    "cumsum_df_zero_point1.columns = ['timestamp', 'quantity', 'price', 'fee', 'amount', 'side', 'sign_quantity', 'sign_quantity_cumsum(coin)', 'amount_cumsum', 'compare', 'point_amount_cumsum', 'time_interval']\n",
    "cumsum_df_zero_point2.columns = ['timestamp', 'quantity', 'price', 'fee', 'amount', 'side', 'sign_quantity', 'sign_quantity_cumsum(coin)', 'amount_cumsum', 'compare', 'point_amount_cumsum', 'time_interval']\n",
    "cumsum_df_zero_point3.columns = ['timestamp', 'quantity', 'price', 'fee', 'amount', 'side', 'sign_quantity', 'sign_quantity_cumsum(coin)', 'amount_cumsum', 'compare', 'point_amount_cumsum', 'time_interval']\n",
    "cumsum_df_zero_point4.columns = ['timestamp', 'quantity', 'price', 'fee', 'amount', 'side', 'sign_quantity', 'sign_quantity_cumsum(coin)', 'amount_cumsum', 'compare', 'point_amount_cumsum', 'time_interval']\n",
    "cumsum_df_zero_point5.columns = ['timestamp', 'quantity', 'price', 'fee', 'amount', 'side', 'sign_quantity', 'sign_quantity_cumsum(coin)', 'amount_cumsum', 'compare', 'point_amount_cumsum', 'time_interval']\n",
    "cumsum_df_zero_point6.columns = ['timestamp', 'quantity', 'price', 'fee', 'amount', 'side', 'sign_quantity', 'sign_quantity_cumsum(coin)', 'amount_cumsum', 'compare', 'point_amount_cumsum', 'time_interval']\n",
    "cumsum_df_zero_point7.columns = ['timestamp', 'quantity', 'price', 'fee', 'amount', 'side', 'sign_quantity', 'sign_quantity_cumsum(coin)', 'amount_cumsum', 'compare', 'point_amount_cumsum', 'time_interval']"
   ]
  },
  {
   "cell_type": "code",
   "execution_count": 145,
   "metadata": {},
   "outputs": [
    {
     "data": {
      "text/html": [
       "<div>\n",
       "<style scoped>\n",
       "    .dataframe tbody tr th:only-of-type {\n",
       "        vertical-align: middle;\n",
       "    }\n",
       "\n",
       "    .dataframe tbody tr th {\n",
       "        vertical-align: top;\n",
       "    }\n",
       "\n",
       "    .dataframe thead th {\n",
       "        text-align: right;\n",
       "    }\n",
       "</style>\n",
       "<table border=\"1\" class=\"dataframe\">\n",
       "  <thead>\n",
       "    <tr style=\"text-align: right;\">\n",
       "      <th></th>\n",
       "      <th>timestamp</th>\n",
       "      <th>quantity</th>\n",
       "      <th>price</th>\n",
       "      <th>fee</th>\n",
       "      <th>amount</th>\n",
       "      <th>side</th>\n",
       "      <th>sign_quantity</th>\n",
       "      <th>sign_quantity_cumsum(coin)</th>\n",
       "      <th>amount_cumsum</th>\n",
       "      <th>compare</th>\n",
       "      <th>point_amount_cumsum</th>\n",
       "      <th>time_interval</th>\n",
       "    </tr>\n",
       "  </thead>\n",
       "  <tbody>\n",
       "    <tr>\n",
       "      <th>1</th>\n",
       "      <td>2018-02-14 00:12:12</td>\n",
       "      <td>0.7990</td>\n",
       "      <td>9854000</td>\n",
       "      <td>0.0</td>\n",
       "      <td>7873346</td>\n",
       "      <td>1</td>\n",
       "      <td>0.7990</td>\n",
       "      <td>0.000000</td>\n",
       "      <td>-5593</td>\n",
       "      <td>0.0</td>\n",
       "      <td>-5593.0</td>\n",
       "      <td>NaT</td>\n",
       "    </tr>\n",
       "    <tr>\n",
       "      <th>3</th>\n",
       "      <td>2018-02-14 00:15:41</td>\n",
       "      <td>0.1050</td>\n",
       "      <td>9860000</td>\n",
       "      <td>0.0</td>\n",
       "      <td>1035300</td>\n",
       "      <td>1</td>\n",
       "      <td>0.1050</td>\n",
       "      <td>0.000000</td>\n",
       "      <td>-4438</td>\n",
       "      <td>-5593.0</td>\n",
       "      <td>1155.0</td>\n",
       "      <td>00:03:29</td>\n",
       "    </tr>\n",
       "    <tr>\n",
       "      <th>6</th>\n",
       "      <td>2018-02-14 00:20:44</td>\n",
       "      <td>0.3015</td>\n",
       "      <td>9882000</td>\n",
       "      <td>0.0</td>\n",
       "      <td>2979423</td>\n",
       "      <td>1</td>\n",
       "      <td>0.3015</td>\n",
       "      <td>-0.000000</td>\n",
       "      <td>28864</td>\n",
       "      <td>-4438.0</td>\n",
       "      <td>33302.0</td>\n",
       "      <td>00:05:03</td>\n",
       "    </tr>\n",
       "    <tr>\n",
       "      <th>14</th>\n",
       "      <td>2018-02-14 00:28:28</td>\n",
       "      <td>0.2978</td>\n",
       "      <td>9825000</td>\n",
       "      <td>0.0</td>\n",
       "      <td>2925885</td>\n",
       "      <td>1</td>\n",
       "      <td>0.2978</td>\n",
       "      <td>-0.000000</td>\n",
       "      <td>519</td>\n",
       "      <td>28864.0</td>\n",
       "      <td>-28345.0</td>\n",
       "      <td>00:07:44</td>\n",
       "    </tr>\n",
       "    <tr>\n",
       "      <th>19</th>\n",
       "      <td>2018-02-14 00:33:24</td>\n",
       "      <td>0.4805</td>\n",
       "      <td>9804000</td>\n",
       "      <td>0.0</td>\n",
       "      <td>4710822</td>\n",
       "      <td>1</td>\n",
       "      <td>0.4805</td>\n",
       "      <td>-0.000000</td>\n",
       "      <td>-16492</td>\n",
       "      <td>519.0</td>\n",
       "      <td>-17011.0</td>\n",
       "      <td>00:04:56</td>\n",
       "    </tr>\n",
       "    <tr>\n",
       "      <th>...</th>\n",
       "      <td>...</td>\n",
       "      <td>...</td>\n",
       "      <td>...</td>\n",
       "      <td>...</td>\n",
       "      <td>...</td>\n",
       "      <td>...</td>\n",
       "      <td>...</td>\n",
       "      <td>...</td>\n",
       "      <td>...</td>\n",
       "      <td>...</td>\n",
       "      <td>...</td>\n",
       "      <td>...</td>\n",
       "    </tr>\n",
       "    <tr>\n",
       "      <th>18325</th>\n",
       "      <td>2018-02-28 23:01:28</td>\n",
       "      <td>1.2093</td>\n",
       "      <td>11837000</td>\n",
       "      <td>0.0</td>\n",
       "      <td>14314484</td>\n",
       "      <td>1</td>\n",
       "      <td>1.2093</td>\n",
       "      <td>-0.000066</td>\n",
       "      <td>19994386</td>\n",
       "      <td>20028370.0</td>\n",
       "      <td>-33984.0</td>\n",
       "      <td>00:20:35</td>\n",
       "    </tr>\n",
       "    <tr>\n",
       "      <th>18334</th>\n",
       "      <td>2018-02-28 23:06:56</td>\n",
       "      <td>0.0154</td>\n",
       "      <td>11838000</td>\n",
       "      <td>0.0</td>\n",
       "      <td>182305</td>\n",
       "      <td>1</td>\n",
       "      <td>0.0154</td>\n",
       "      <td>-0.000066</td>\n",
       "      <td>19995067</td>\n",
       "      <td>19994386.0</td>\n",
       "      <td>681.0</td>\n",
       "      <td>00:05:28</td>\n",
       "    </tr>\n",
       "    <tr>\n",
       "      <th>18349</th>\n",
       "      <td>2018-02-28 23:25:17</td>\n",
       "      <td>0.2085</td>\n",
       "      <td>11884000</td>\n",
       "      <td>0.0</td>\n",
       "      <td>2477814</td>\n",
       "      <td>1</td>\n",
       "      <td>0.2085</td>\n",
       "      <td>-0.000056</td>\n",
       "      <td>20077412</td>\n",
       "      <td>19995067.0</td>\n",
       "      <td>82345.0</td>\n",
       "      <td>00:18:21</td>\n",
       "    </tr>\n",
       "    <tr>\n",
       "      <th>18365</th>\n",
       "      <td>2018-02-28 23:59:49</td>\n",
       "      <td>0.5662</td>\n",
       "      <td>11923000</td>\n",
       "      <td>0.0</td>\n",
       "      <td>6750803</td>\n",
       "      <td>1</td>\n",
       "      <td>0.5662</td>\n",
       "      <td>-0.000280</td>\n",
       "      <td>20055060</td>\n",
       "      <td>20077412.0</td>\n",
       "      <td>-22352.0</td>\n",
       "      <td>00:34:32</td>\n",
       "    </tr>\n",
       "    <tr>\n",
       "      <th>18366</th>\n",
       "      <td>2018-02-28 23:59:49</td>\n",
       "      <td>0.0002</td>\n",
       "      <td>11923000</td>\n",
       "      <td>0.0</td>\n",
       "      <td>2385</td>\n",
       "      <td>1</td>\n",
       "      <td>0.0002</td>\n",
       "      <td>-0.000080</td>\n",
       "      <td>20057445</td>\n",
       "      <td>20055060.0</td>\n",
       "      <td>2385.0</td>\n",
       "      <td>00:00:00</td>\n",
       "    </tr>\n",
       "  </tbody>\n",
       "</table>\n",
       "<p>3159 rows × 12 columns</p>\n",
       "</div>"
      ],
      "text/plain": [
       "                timestamp  quantity     price  fee    amount  side  \\\n",
       "1     2018-02-14 00:12:12    0.7990   9854000  0.0   7873346     1   \n",
       "3     2018-02-14 00:15:41    0.1050   9860000  0.0   1035300     1   \n",
       "6     2018-02-14 00:20:44    0.3015   9882000  0.0   2979423     1   \n",
       "14    2018-02-14 00:28:28    0.2978   9825000  0.0   2925885     1   \n",
       "19    2018-02-14 00:33:24    0.4805   9804000  0.0   4710822     1   \n",
       "...                   ...       ...       ...  ...       ...   ...   \n",
       "18325 2018-02-28 23:01:28    1.2093  11837000  0.0  14314484     1   \n",
       "18334 2018-02-28 23:06:56    0.0154  11838000  0.0    182305     1   \n",
       "18349 2018-02-28 23:25:17    0.2085  11884000  0.0   2477814     1   \n",
       "18365 2018-02-28 23:59:49    0.5662  11923000  0.0   6750803     1   \n",
       "18366 2018-02-28 23:59:49    0.0002  11923000  0.0      2385     1   \n",
       "\n",
       "       sign_quantity  sign_quantity_cumsum(coin)  amount_cumsum     compare  \\\n",
       "1             0.7990                    0.000000          -5593         0.0   \n",
       "3             0.1050                    0.000000          -4438     -5593.0   \n",
       "6             0.3015                   -0.000000          28864     -4438.0   \n",
       "14            0.2978                   -0.000000            519     28864.0   \n",
       "19            0.4805                   -0.000000         -16492       519.0   \n",
       "...              ...                         ...            ...         ...   \n",
       "18325         1.2093                   -0.000066       19994386  20028370.0   \n",
       "18334         0.0154                   -0.000066       19995067  19994386.0   \n",
       "18349         0.2085                   -0.000056       20077412  19995067.0   \n",
       "18365         0.5662                   -0.000280       20055060  20077412.0   \n",
       "18366         0.0002                   -0.000080       20057445  20055060.0   \n",
       "\n",
       "       point_amount_cumsum time_interval  \n",
       "1                  -5593.0           NaT  \n",
       "3                   1155.0      00:03:29  \n",
       "6                  33302.0      00:05:03  \n",
       "14                -28345.0      00:07:44  \n",
       "19                -17011.0      00:04:56  \n",
       "...                    ...           ...  \n",
       "18325             -33984.0      00:20:35  \n",
       "18334                681.0      00:05:28  \n",
       "18349              82345.0      00:18:21  \n",
       "18365             -22352.0      00:34:32  \n",
       "18366               2385.0      00:00:00  \n",
       "\n",
       "[3159 rows x 12 columns]"
      ]
     },
     "execution_count": 145,
     "metadata": {},
     "output_type": "execute_result"
    }
   ],
   "source": [
    "cumsum_df_zero_point2"
   ]
  },
  {
   "cell_type": "code",
   "execution_count": 146,
   "metadata": {},
   "outputs": [],
   "source": [
    "# time_interval - point_amount_cumsum 추출하기\n",
    "# t_inter_p_cumsum1 = cumsum_df_zero_point1.ilic[:, [11, 10]]     # 1월은 데이터가 안 나와서 제외\n",
    "t_inter_p_cumsum2 = cumsum_df_zero_point2.iloc[:, [11, 10]]\n",
    "t_inter_p_cumsum3 = cumsum_df_zero_point3.iloc[:, [11, 10]]\n",
    "t_inter_p_cumsum4 = cumsum_df_zero_point4.iloc[:, [11, 10]]\n",
    "t_inter_p_cumsum5 = cumsum_df_zero_point5.iloc[:, [11, 10]]\n",
    "t_inter_p_cumsum6 = cumsum_df_zero_point6.iloc[:, [11, 10]]\n",
    "t_inter_p_cumsum7 = cumsum_df_zero_point7.iloc[:, [11, 10]]"
   ]
  },
  {
   "cell_type": "code",
   "execution_count": 147,
   "metadata": {},
   "outputs": [
    {
     "data": {
      "text/html": [
       "<div>\n",
       "<style scoped>\n",
       "    .dataframe tbody tr th:only-of-type {\n",
       "        vertical-align: middle;\n",
       "    }\n",
       "\n",
       "    .dataframe tbody tr th {\n",
       "        vertical-align: top;\n",
       "    }\n",
       "\n",
       "    .dataframe thead th {\n",
       "        text-align: right;\n",
       "    }\n",
       "</style>\n",
       "<table border=\"1\" class=\"dataframe\">\n",
       "  <thead>\n",
       "    <tr style=\"text-align: right;\">\n",
       "      <th></th>\n",
       "      <th>time_interval</th>\n",
       "      <th>point_amount_cumsum</th>\n",
       "    </tr>\n",
       "  </thead>\n",
       "  <tbody>\n",
       "    <tr>\n",
       "      <th>8</th>\n",
       "      <td>NaT</td>\n",
       "      <td>10680.0</td>\n",
       "    </tr>\n",
       "    <tr>\n",
       "      <th>11</th>\n",
       "      <td>00:10:43</td>\n",
       "      <td>11414.0</td>\n",
       "    </tr>\n",
       "    <tr>\n",
       "      <th>14</th>\n",
       "      <td>00:04:49</td>\n",
       "      <td>-133.0</td>\n",
       "    </tr>\n",
       "    <tr>\n",
       "      <th>18</th>\n",
       "      <td>00:12:35</td>\n",
       "      <td>6159.0</td>\n",
       "    </tr>\n",
       "    <tr>\n",
       "      <th>20</th>\n",
       "      <td>00:00:56</td>\n",
       "      <td>-42.0</td>\n",
       "    </tr>\n",
       "    <tr>\n",
       "      <th>44</th>\n",
       "      <td>00:15:59</td>\n",
       "      <td>-21655.0</td>\n",
       "    </tr>\n",
       "    <tr>\n",
       "      <th>47</th>\n",
       "      <td>00:03:13</td>\n",
       "      <td>3938.0</td>\n",
       "    </tr>\n",
       "    <tr>\n",
       "      <th>57</th>\n",
       "      <td>00:17:30</td>\n",
       "      <td>-11323.0</td>\n",
       "    </tr>\n",
       "    <tr>\n",
       "      <th>64</th>\n",
       "      <td>00:06:06</td>\n",
       "      <td>-4828.0</td>\n",
       "    </tr>\n",
       "    <tr>\n",
       "      <th>68</th>\n",
       "      <td>00:05:43</td>\n",
       "      <td>39565.0</td>\n",
       "    </tr>\n",
       "  </tbody>\n",
       "</table>\n",
       "</div>"
      ],
      "text/plain": [
       "   time_interval  point_amount_cumsum\n",
       "8            NaT              10680.0\n",
       "11      00:10:43              11414.0\n",
       "14      00:04:49               -133.0\n",
       "18      00:12:35               6159.0\n",
       "20      00:00:56                -42.0\n",
       "44      00:15:59             -21655.0\n",
       "47      00:03:13               3938.0\n",
       "57      00:17:30             -11323.0\n",
       "64      00:06:06              -4828.0\n",
       "68      00:05:43              39565.0"
      ]
     },
     "execution_count": 147,
     "metadata": {},
     "output_type": "execute_result"
    }
   ],
   "source": [
    "t_inter_p_cumsum3.head(10)"
   ]
  },
  {
   "cell_type": "code",
   "execution_count": 148,
   "metadata": {},
   "outputs": [],
   "source": [
    "# 처음에 NaT 있는것 제외\n",
    "t_inter_p_cumsum2 = t_inter_p_cumsum2.iloc[1:]\n",
    "t_inter_p_cumsum3 = t_inter_p_cumsum3.iloc[1:]\n",
    "t_inter_p_cumsum4 = t_inter_p_cumsum4.iloc[1:]\n",
    "t_inter_p_cumsum5 = t_inter_p_cumsum5.iloc[1:]\n",
    "t_inter_p_cumsum6 = t_inter_p_cumsum6.iloc[1:]\n",
    "t_inter_p_cumsum7 = t_inter_p_cumsum7.iloc[1:]"
   ]
  },
  {
   "cell_type": "code",
   "execution_count": 149,
   "metadata": {},
   "outputs": [
    {
     "data": {
      "text/html": [
       "<div>\n",
       "<style scoped>\n",
       "    .dataframe tbody tr th:only-of-type {\n",
       "        vertical-align: middle;\n",
       "    }\n",
       "\n",
       "    .dataframe tbody tr th {\n",
       "        vertical-align: top;\n",
       "    }\n",
       "\n",
       "    .dataframe thead th {\n",
       "        text-align: right;\n",
       "    }\n",
       "</style>\n",
       "<table border=\"1\" class=\"dataframe\">\n",
       "  <thead>\n",
       "    <tr style=\"text-align: right;\">\n",
       "      <th></th>\n",
       "      <th>time_interval</th>\n",
       "      <th>point_amount_cumsum</th>\n",
       "    </tr>\n",
       "  </thead>\n",
       "  <tbody>\n",
       "    <tr>\n",
       "      <th>11</th>\n",
       "      <td>00:10:43</td>\n",
       "      <td>11414.0</td>\n",
       "    </tr>\n",
       "    <tr>\n",
       "      <th>14</th>\n",
       "      <td>00:04:49</td>\n",
       "      <td>-133.0</td>\n",
       "    </tr>\n",
       "    <tr>\n",
       "      <th>18</th>\n",
       "      <td>00:12:35</td>\n",
       "      <td>6159.0</td>\n",
       "    </tr>\n",
       "    <tr>\n",
       "      <th>20</th>\n",
       "      <td>00:00:56</td>\n",
       "      <td>-42.0</td>\n",
       "    </tr>\n",
       "    <tr>\n",
       "      <th>44</th>\n",
       "      <td>00:15:59</td>\n",
       "      <td>-21655.0</td>\n",
       "    </tr>\n",
       "    <tr>\n",
       "      <th>...</th>\n",
       "      <td>...</td>\n",
       "      <td>...</td>\n",
       "    </tr>\n",
       "    <tr>\n",
       "      <th>5531</th>\n",
       "      <td>00:11:30</td>\n",
       "      <td>2201.0</td>\n",
       "    </tr>\n",
       "    <tr>\n",
       "      <th>5534</th>\n",
       "      <td>00:14:01</td>\n",
       "      <td>-1914.0</td>\n",
       "    </tr>\n",
       "    <tr>\n",
       "      <th>5535</th>\n",
       "      <td>00:05:10</td>\n",
       "      <td>-106973.0</td>\n",
       "    </tr>\n",
       "    <tr>\n",
       "      <th>5536</th>\n",
       "      <td>00:03:26</td>\n",
       "      <td>106845.0</td>\n",
       "    </tr>\n",
       "    <tr>\n",
       "      <th>5553</th>\n",
       "      <td>00:32:15</td>\n",
       "      <td>-31333.0</td>\n",
       "    </tr>\n",
       "  </tbody>\n",
       "</table>\n",
       "<p>834 rows × 2 columns</p>\n",
       "</div>"
      ],
      "text/plain": [
       "     time_interval  point_amount_cumsum\n",
       "11        00:10:43              11414.0\n",
       "14        00:04:49               -133.0\n",
       "18        00:12:35               6159.0\n",
       "20        00:00:56                -42.0\n",
       "44        00:15:59             -21655.0\n",
       "...            ...                  ...\n",
       "5531      00:11:30               2201.0\n",
       "5534      00:14:01              -1914.0\n",
       "5535      00:05:10            -106973.0\n",
       "5536      00:03:26             106845.0\n",
       "5553      00:32:15             -31333.0\n",
       "\n",
       "[834 rows x 2 columns]"
      ]
     },
     "execution_count": 149,
     "metadata": {},
     "output_type": "execute_result"
    }
   ],
   "source": [
    "t_inter_p_cumsum3"
   ]
  },
  {
   "cell_type": "code",
   "execution_count": null,
   "metadata": {},
   "outputs": [],
   "source": []
  },
  {
   "cell_type": "code",
   "execution_count": 150,
   "metadata": {},
   "outputs": [
    {
     "data": {
      "image/png": "[encoded data removed]",
      "text/plain": [
       "<Figure size 432x288 with 1 Axes>"
      ]
     },
     "metadata": {
      "needs_background": "light"
     },
     "output_type": "display_data"
    }
   ],
   "source": [
    "# 2월 time-interval - profig graph\n",
    "t_inter_p_cumsum2_graph = t_inter_p_cumsum2.plot(title='February time interval-profit graph', x='time_interval', y='point_amount_cumsum')\n",
    "t_inter_p_cumsum2_graph.set_xlabel('time interval(sec)')\n",
    "# t_inter_p_cumsum2_graph.set_ylable('profit(KRW)')\n",
    "plt.savefig('/Users/hamin/bithumb_bot/hamin_code/graph/time interval - profit/time_interval_profit_graph_Feb.png', dpi=300)"
   ]
  },
  {
   "cell_type": "code",
   "execution_count": 151,
   "metadata": {},
   "outputs": [
    {
     "data": {
      "image/png": "[encoded data removed]",
      "text/plain": [
       "<Figure size 432x288 with 1 Axes>"
      ]
     },
     "metadata": {
      "needs_background": "light"
     },
     "output_type": "display_data"
    }
   ],
   "source": [
    "# 3월 time-interval - profig graph\n",
    "t_inter_p_cumsum3_graph = t_inter_p_cumsum3.plot(title='March time interval-profit graph', x='time_interval', y='point_amount_cumsum')\n",
    "t_inter_p_cumsum3_graph.set_xlabel('time interval(sec)')\n",
    "# t_inter_p_cumsum3_graph.set_ylable('profit(KRW)')\n",
    "plt.savefig('/Users/hamin/bithumb_bot/hamin_code/graph/time interval - profit/time_interval_profit_graph_Mar.png', dpi=300)"
   ]
  },
  {
   "cell_type": "code",
   "execution_count": 152,
   "metadata": {},
   "outputs": [
    {
     "data": {
      "image/png": "[encoded data removed]",
      "text/plain": [
       "<Figure size 432x288 with 1 Axes>"
      ]
     },
     "metadata": {
      "needs_background": "light"
     },
     "output_type": "display_data"
    }
   ],
   "source": [
    "# 4월 time-interval - profig graph\n",
    "t_inter_p_cumsum4_graph = t_inter_p_cumsum4.plot(title='April time interval-profit graph', x='time_interval', y='point_amount_cumsum')\n",
    "t_inter_p_cumsum4_graph.set_xlabel('time interval(sec)')\n",
    "# t_inter_p_cumsum4_graph.set_ylable('profit(KRW)')\n",
    "plt.savefig('/Users/hamin/bithumb_bot/hamin_code/graph/time interval - profit/time_interval_profit_graph_Apr.png', dpi=300)"
   ]
  },
  {
   "cell_type": "code",
   "execution_count": 153,
   "metadata": {},
   "outputs": [
    {
     "data": {
      "image/png": "[encoded data removed]",
      "text/plain": [
       "<Figure size 432x288 with 1 Axes>"
      ]
     },
     "metadata": {
      "needs_background": "light"
     },
     "output_type": "display_data"
    }
   ],
   "source": [
    "# 5월 time-interval - profig graph\n",
    "t_inter_p_cumsum5_graph = t_inter_p_cumsum5.plot(title='May time interval-profit graph', x='time_interval', y='point_amount_cumsum')\n",
    "t_inter_p_cumsum5_graph.set_xlabel('time interval(sec)')\n",
    "# t_inter_p_cumsum5_graph.set_ylable('profit(KRW)')\n",
    "plt.savefig('/Users/hamin/bithumb_bot/hamin_code/graph/time interval - profit/time_interval_profit_graph_May.png', dpi=300)"
   ]
  },
  {
   "cell_type": "code",
   "execution_count": 154,
   "metadata": {},
   "outputs": [
    {
     "data": {
      "image/png": "[encoded data removed]",
      "text/plain": [
       "<Figure size 432x288 with 1 Axes>"
      ]
     },
     "metadata": {
      "needs_background": "light"
     },
     "output_type": "display_data"
    }
   ],
   "source": [
    "# 6월 time-interval - profig graph\n",
    "t_inter_p_cumsum6_graph = t_inter_p_cumsum6.plot(title='June time interval-profit graph', x='time_interval', y='point_amount_cumsum')\n",
    "t_inter_p_cumsum6_graph.set_xlabel('time interval(sec)')\n",
    "# t_inter_p_cumsum6_graph.set_ylable('profit(KRW)')\n",
    "plt.savefig('/Users/hamin/bithumb_bot/hamin_code/graph/time interval - profit/time_interval_profit_graph_Jun.png', dpi=300)"
   ]
  },
  {
   "cell_type": "code",
   "execution_count": 155,
   "metadata": {},
   "outputs": [
    {
     "data": {
      "image/png": "[encoded data removed]",
      "text/plain": [
       "<Figure size 432x288 with 1 Axes>"
      ]
     },
     "metadata": {
      "needs_background": "light"
     },
     "output_type": "display_data"
    }
   ],
   "source": [
    "# 7월 time-interval - profig graph\n",
    "t_inter_p_cumsum7_graph = t_inter_p_cumsum7.plot(title='July time interval-profit graph', x='time_interval', y='point_amount_cumsum')\n",
    "t_inter_p_cumsum7_graph.set_xlabel('time interval(sec)')\n",
    "# t_inter_p_cumsum7_graph.set_ylable('profit(KRW)')\n",
    "plt.savefig('/Users/hamin/bithumb_bot/hamin_code/graph/time interval - profit/time_interval_profit_graph_Jul.png', dpi=300)"
   ]
  },
  {
   "cell_type": "code",
   "execution_count": 156,
   "metadata": {},
   "outputs": [
    {
     "data": {
      "text/plain": [
       "1            NaT\n",
       "3       00:03:29\n",
       "6       00:05:03\n",
       "14      00:07:44\n",
       "19      00:04:56\n",
       "          ...   \n",
       "18325   00:20:35\n",
       "18334   00:05:28\n",
       "18349   00:18:21\n",
       "18365   00:34:32\n",
       "18366   00:00:00\n",
       "Name: time_interval, Length: 3159, dtype: timedelta64[ns]"
      ]
     },
     "execution_count": 156,
     "metadata": {},
     "output_type": "execute_result"
    }
   ],
   "source": [
    "# 2월의 time interval 칼럼\n",
    "cumsum_df_zero_point2['time_interval']"
   ]
  },
  {
   "cell_type": "code",
   "execution_count": 157,
   "metadata": {},
   "outputs": [
    {
     "data": {
      "text/plain": [
       "3       00:03:29\n",
       "6       00:05:03\n",
       "14      00:07:44\n",
       "19      00:04:56\n",
       "28      00:20:53\n",
       "          ...   \n",
       "18309   00:01:00\n",
       "18325   00:20:35\n",
       "18334   00:05:28\n",
       "18349   00:18:21\n",
       "18365   00:34:32\n",
       "Name: time_interval, Length: 3157, dtype: timedelta64[ns]"
      ]
     },
     "execution_count": 157,
     "metadata": {},
     "output_type": "execute_result"
    }
   ],
   "source": [
    "# 마지막 00:00:00 없애기\n",
    "cumsum_df_zero_point2['time_interval'].iloc[1:3158]"
   ]
  },
  {
   "cell_type": "code",
   "execution_count": 158,
   "metadata": {},
   "outputs": [
    {
     "data": {
      "text/plain": [
       "Timedelta('0 days 00:06:50.151044')"
      ]
     },
     "execution_count": 158,
     "metadata": {},
     "output_type": "execute_result"
    }
   ],
   "source": [
    "# 2월 time interval 평균\n",
    "cumsum_df_zero_point2['time_interval'].mean()"
   ]
  },
  {
   "cell_type": "code",
   "execution_count": 159,
   "metadata": {},
   "outputs": [
    {
     "data": {
      "text/plain": [
       "Timedelta('0 days 03:34:21')"
      ]
     },
     "execution_count": 159,
     "metadata": {},
     "output_type": "execute_result"
    }
   ],
   "source": [
    "# 2월 time interval 최댓값\n",
    "cumsum_df_zero_point2['time_interval'].max()"
   ]
  },
  {
   "cell_type": "code",
   "execution_count": 160,
   "metadata": {},
   "outputs": [
    {
     "data": {
      "text/plain": [
       "Timedelta('0 days 00:00:00')"
      ]
     },
     "execution_count": 160,
     "metadata": {},
     "output_type": "execute_result"
    }
   ],
   "source": [
    "# 2월 time interval 최솟값\n",
    "# 마지막 00:00:00 없애기\n",
    "cumsum_df_zero_point2['time_interval'].iloc[1:3158].min()"
   ]
  },
  {
   "cell_type": "code",
   "execution_count": 161,
   "metadata": {},
   "outputs": [
    {
     "data": {
      "text/plain": [
       "1763   0 days\n",
       "Name: time_interval, dtype: timedelta64[ns]"
      ]
     },
     "execution_count": 161,
     "metadata": {},
     "output_type": "execute_result"
    }
   ],
   "source": [
    "cumsum_df_zero_point2['time_interval'].nsmallest(2).iloc[[-1]]"
   ]
  },
  {
   "cell_type": "code",
   "execution_count": 162,
   "metadata": {
    "scrolled": true
   },
   "outputs": [
    {
     "data": {
      "image/png": "[encoded data removed]",
      "text/plain": [
       "<Figure size 432x288 with 1 Axes>"
      ]
     },
     "metadata": {
      "needs_background": "light"
     },
     "output_type": "display_data"
    }
   ],
   "source": [
    "# 시험삼아 해 본 quantity box-plot\n",
    "# 여러 달꺼 합쳐서 해볼 것.\n",
    "boxplot = cumsum_df_zero_point2.boxplot(column=['quantity'])\n",
    "# boxplot(title='February quantity')\n",
    "boxplot.set_ylabel('1 bitcoin')\n",
    "# plt.show()\n",
    "plt.savefig('/Users/hamin/bithumb_bot/hamin_code/graph/boxplot/feb_qunantity.png',dpi=300)"
   ]
  },
  {
   "cell_type": "code",
   "execution_count": 163,
   "metadata": {},
   "outputs": [
    {
     "data": {
      "text/plain": [
       "1           NaN\n",
       "3         209.0\n",
       "6         303.0\n",
       "14        464.0\n",
       "19        296.0\n",
       "          ...  \n",
       "18325    1235.0\n",
       "18334     328.0\n",
       "18349    1101.0\n",
       "18365    2072.0\n",
       "18366       0.0\n",
       "Name: time_interval, Length: 3159, dtype: float64"
      ]
     },
     "execution_count": 163,
     "metadata": {},
     "output_type": "execute_result"
    }
   ],
   "source": [
    "# timedelta를 float64로\n",
    "timediff = cumsum_df_zero_point2['time_interval'].dt.seconds\n",
    "\n",
    "timediff"
   ]
  },
  {
   "cell_type": "code",
   "execution_count": 164,
   "metadata": {},
   "outputs": [],
   "source": [
    "# timediff dataframe에 이어 붙이기\n",
    "cumsum_df_zero_point2 = pd.concat([cumsum_df_zero_point2,timediff],axis=1)\n",
    "# cumsum_df_zero_point2 = cumsum_df_zero_point2.fillna(0)     # 결측값은 0으로 채우기"
   ]
  },
  {
   "cell_type": "code",
   "execution_count": 165,
   "metadata": {},
   "outputs": [
    {
     "data": {
      "text/html": [
       "<div>\n",
       "<style scoped>\n",
       "    .dataframe tbody tr th:only-of-type {\n",
       "        vertical-align: middle;\n",
       "    }\n",
       "\n",
       "    .dataframe tbody tr th {\n",
       "        vertical-align: top;\n",
       "    }\n",
       "\n",
       "    .dataframe thead th {\n",
       "        text-align: right;\n",
       "    }\n",
       "</style>\n",
       "<table border=\"1\" class=\"dataframe\">\n",
       "  <thead>\n",
       "    <tr style=\"text-align: right;\">\n",
       "      <th></th>\n",
       "      <th>timestamp</th>\n",
       "      <th>quantity</th>\n",
       "      <th>price</th>\n",
       "      <th>fee</th>\n",
       "      <th>amount</th>\n",
       "      <th>side</th>\n",
       "      <th>sign_quantity</th>\n",
       "      <th>sign_quantity_cumsum(coin)</th>\n",
       "      <th>amount_cumsum</th>\n",
       "      <th>compare</th>\n",
       "      <th>point_amount_cumsum</th>\n",
       "      <th>time_interval</th>\n",
       "      <th>time_interval</th>\n",
       "    </tr>\n",
       "  </thead>\n",
       "  <tbody>\n",
       "    <tr>\n",
       "      <th>1</th>\n",
       "      <td>2018-02-14 00:12:12</td>\n",
       "      <td>0.7990</td>\n",
       "      <td>9854000</td>\n",
       "      <td>0.0</td>\n",
       "      <td>7873346</td>\n",
       "      <td>1</td>\n",
       "      <td>0.7990</td>\n",
       "      <td>0.000000</td>\n",
       "      <td>-5593</td>\n",
       "      <td>0.0</td>\n",
       "      <td>-5593.0</td>\n",
       "      <td>NaT</td>\n",
       "      <td>NaN</td>\n",
       "    </tr>\n",
       "    <tr>\n",
       "      <th>3</th>\n",
       "      <td>2018-02-14 00:15:41</td>\n",
       "      <td>0.1050</td>\n",
       "      <td>9860000</td>\n",
       "      <td>0.0</td>\n",
       "      <td>1035300</td>\n",
       "      <td>1</td>\n",
       "      <td>0.1050</td>\n",
       "      <td>0.000000</td>\n",
       "      <td>-4438</td>\n",
       "      <td>-5593.0</td>\n",
       "      <td>1155.0</td>\n",
       "      <td>00:03:29</td>\n",
       "      <td>209.0</td>\n",
       "    </tr>\n",
       "    <tr>\n",
       "      <th>6</th>\n",
       "      <td>2018-02-14 00:20:44</td>\n",
       "      <td>0.3015</td>\n",
       "      <td>9882000</td>\n",
       "      <td>0.0</td>\n",
       "      <td>2979423</td>\n",
       "      <td>1</td>\n",
       "      <td>0.3015</td>\n",
       "      <td>-0.000000</td>\n",
       "      <td>28864</td>\n",
       "      <td>-4438.0</td>\n",
       "      <td>33302.0</td>\n",
       "      <td>00:05:03</td>\n",
       "      <td>303.0</td>\n",
       "    </tr>\n",
       "    <tr>\n",
       "      <th>14</th>\n",
       "      <td>2018-02-14 00:28:28</td>\n",
       "      <td>0.2978</td>\n",
       "      <td>9825000</td>\n",
       "      <td>0.0</td>\n",
       "      <td>2925885</td>\n",
       "      <td>1</td>\n",
       "      <td>0.2978</td>\n",
       "      <td>-0.000000</td>\n",
       "      <td>519</td>\n",
       "      <td>28864.0</td>\n",
       "      <td>-28345.0</td>\n",
       "      <td>00:07:44</td>\n",
       "      <td>464.0</td>\n",
       "    </tr>\n",
       "    <tr>\n",
       "      <th>19</th>\n",
       "      <td>2018-02-14 00:33:24</td>\n",
       "      <td>0.4805</td>\n",
       "      <td>9804000</td>\n",
       "      <td>0.0</td>\n",
       "      <td>4710822</td>\n",
       "      <td>1</td>\n",
       "      <td>0.4805</td>\n",
       "      <td>-0.000000</td>\n",
       "      <td>-16492</td>\n",
       "      <td>519.0</td>\n",
       "      <td>-17011.0</td>\n",
       "      <td>00:04:56</td>\n",
       "      <td>296.0</td>\n",
       "    </tr>\n",
       "    <tr>\n",
       "      <th>...</th>\n",
       "      <td>...</td>\n",
       "      <td>...</td>\n",
       "      <td>...</td>\n",
       "      <td>...</td>\n",
       "      <td>...</td>\n",
       "      <td>...</td>\n",
       "      <td>...</td>\n",
       "      <td>...</td>\n",
       "      <td>...</td>\n",
       "      <td>...</td>\n",
       "      <td>...</td>\n",
       "      <td>...</td>\n",
       "      <td>...</td>\n",
       "    </tr>\n",
       "    <tr>\n",
       "      <th>18325</th>\n",
       "      <td>2018-02-28 23:01:28</td>\n",
       "      <td>1.2093</td>\n",
       "      <td>11837000</td>\n",
       "      <td>0.0</td>\n",
       "      <td>14314484</td>\n",
       "      <td>1</td>\n",
       "      <td>1.2093</td>\n",
       "      <td>-0.000066</td>\n",
       "      <td>19994386</td>\n",
       "      <td>20028370.0</td>\n",
       "      <td>-33984.0</td>\n",
       "      <td>00:20:35</td>\n",
       "      <td>1235.0</td>\n",
       "    </tr>\n",
       "    <tr>\n",
       "      <th>18334</th>\n",
       "      <td>2018-02-28 23:06:56</td>\n",
       "      <td>0.0154</td>\n",
       "      <td>11838000</td>\n",
       "      <td>0.0</td>\n",
       "      <td>182305</td>\n",
       "      <td>1</td>\n",
       "      <td>0.0154</td>\n",
       "      <td>-0.000066</td>\n",
       "      <td>19995067</td>\n",
       "      <td>19994386.0</td>\n",
       "      <td>681.0</td>\n",
       "      <td>00:05:28</td>\n",
       "      <td>328.0</td>\n",
       "    </tr>\n",
       "    <tr>\n",
       "      <th>18349</th>\n",
       "      <td>2018-02-28 23:25:17</td>\n",
       "      <td>0.2085</td>\n",
       "      <td>11884000</td>\n",
       "      <td>0.0</td>\n",
       "      <td>2477814</td>\n",
       "      <td>1</td>\n",
       "      <td>0.2085</td>\n",
       "      <td>-0.000056</td>\n",
       "      <td>20077412</td>\n",
       "      <td>19995067.0</td>\n",
       "      <td>82345.0</td>\n",
       "      <td>00:18:21</td>\n",
       "      <td>1101.0</td>\n",
       "    </tr>\n",
       "    <tr>\n",
       "      <th>18365</th>\n",
       "      <td>2018-02-28 23:59:49</td>\n",
       "      <td>0.5662</td>\n",
       "      <td>11923000</td>\n",
       "      <td>0.0</td>\n",
       "      <td>6750803</td>\n",
       "      <td>1</td>\n",
       "      <td>0.5662</td>\n",
       "      <td>-0.000280</td>\n",
       "      <td>20055060</td>\n",
       "      <td>20077412.0</td>\n",
       "      <td>-22352.0</td>\n",
       "      <td>00:34:32</td>\n",
       "      <td>2072.0</td>\n",
       "    </tr>\n",
       "    <tr>\n",
       "      <th>18366</th>\n",
       "      <td>2018-02-28 23:59:49</td>\n",
       "      <td>0.0002</td>\n",
       "      <td>11923000</td>\n",
       "      <td>0.0</td>\n",
       "      <td>2385</td>\n",
       "      <td>1</td>\n",
       "      <td>0.0002</td>\n",
       "      <td>-0.000080</td>\n",
       "      <td>20057445</td>\n",
       "      <td>20055060.0</td>\n",
       "      <td>2385.0</td>\n",
       "      <td>00:00:00</td>\n",
       "      <td>0.0</td>\n",
       "    </tr>\n",
       "  </tbody>\n",
       "</table>\n",
       "<p>3159 rows × 13 columns</p>\n",
       "</div>"
      ],
      "text/plain": [
       "                timestamp  quantity     price  fee    amount  side  \\\n",
       "1     2018-02-14 00:12:12    0.7990   9854000  0.0   7873346     1   \n",
       "3     2018-02-14 00:15:41    0.1050   9860000  0.0   1035300     1   \n",
       "6     2018-02-14 00:20:44    0.3015   9882000  0.0   2979423     1   \n",
       "14    2018-02-14 00:28:28    0.2978   9825000  0.0   2925885     1   \n",
       "19    2018-02-14 00:33:24    0.4805   9804000  0.0   4710822     1   \n",
       "...                   ...       ...       ...  ...       ...   ...   \n",
       "18325 2018-02-28 23:01:28    1.2093  11837000  0.0  14314484     1   \n",
       "18334 2018-02-28 23:06:56    0.0154  11838000  0.0    182305     1   \n",
       "18349 2018-02-28 23:25:17    0.2085  11884000  0.0   2477814     1   \n",
       "18365 2018-02-28 23:59:49    0.5662  11923000  0.0   6750803     1   \n",
       "18366 2018-02-28 23:59:49    0.0002  11923000  0.0      2385     1   \n",
       "\n",
       "       sign_quantity  sign_quantity_cumsum(coin)  amount_cumsum     compare  \\\n",
       "1             0.7990                    0.000000          -5593         0.0   \n",
       "3             0.1050                    0.000000          -4438     -5593.0   \n",
       "6             0.3015                   -0.000000          28864     -4438.0   \n",
       "14            0.2978                   -0.000000            519     28864.0   \n",
       "19            0.4805                   -0.000000         -16492       519.0   \n",
       "...              ...                         ...            ...         ...   \n",
       "18325         1.2093                   -0.000066       19994386  20028370.0   \n",
       "18334         0.0154                   -0.000066       19995067  19994386.0   \n",
       "18349         0.2085                   -0.000056       20077412  19995067.0   \n",
       "18365         0.5662                   -0.000280       20055060  20077412.0   \n",
       "18366         0.0002                   -0.000080       20057445  20055060.0   \n",
       "\n",
       "       point_amount_cumsum  time_interval  time_interval  \n",
       "1                  -5593.0            NaT            NaN  \n",
       "3                   1155.0       00:03:29          209.0  \n",
       "6                  33302.0       00:05:03          303.0  \n",
       "14                -28345.0       00:07:44          464.0  \n",
       "19                -17011.0       00:04:56          296.0  \n",
       "...                    ...            ...            ...  \n",
       "18325             -33984.0       00:20:35         1235.0  \n",
       "18334                681.0       00:05:28          328.0  \n",
       "18349              82345.0       00:18:21         1101.0  \n",
       "18365             -22352.0       00:34:32         2072.0  \n",
       "18366               2385.0       00:00:00            0.0  \n",
       "\n",
       "[3159 rows x 13 columns]"
      ]
     },
     "execution_count": 165,
     "metadata": {},
     "output_type": "execute_result"
    }
   ],
   "source": [
    "cumsum_df_zero_point2"
   ]
  },
  {
   "cell_type": "code",
   "execution_count": 166,
   "metadata": {},
   "outputs": [],
   "source": [
    "# 칼럼 지정\n",
    "cumsum_df_zero_point2.columns = ['timestamp', 'quantity', 'price', 'fee', 'amount', 'side', 'sign_quantity', 'sign_quantity_cumsum(coin)', 'amount_cumsum', 'compare', 'point_amount_cumsum', 'time_interval', 'timediff']"
   ]
  },
  {
   "cell_type": "code",
   "execution_count": 167,
   "metadata": {},
   "outputs": [
    {
     "data": {
      "image/png": "[encoded data removed]",
      "text/plain": [
       "<Figure size 432x288 with 1 Axes>"
      ]
     },
     "metadata": {
      "needs_background": "light"
     },
     "output_type": "display_data"
    }
   ],
   "source": [
    "# 시험삼아 해 본 time diff box plot\n",
    "# 범위 -100 ~ 2000\n",
    "# 점들은 왜...\n",
    "boxplot = cumsum_df_zero_point2.boxplot(column=['timediff'])\n",
    "boxplot.set_ylim([-100,2000])\n",
    "plt.show()"
   ]
  },
  {
   "cell_type": "code",
   "execution_count": 168,
   "metadata": {},
   "outputs": [
    {
     "data": {
      "image/png": "[encoded data removed]",
      "text/plain": [
       "<Figure size 432x288 with 1 Axes>"
      ]
     },
     "metadata": {
      "needs_background": "light"
     },
     "output_type": "display_data"
    }
   ],
   "source": [
    "# 시험삼아 해 본 time diff box plot\n",
    "boxplot = cumsum_df_zero_point2.boxplot(column=['timediff'])\n",
    "boxplot.set_ylabel('Second')\n",
    "# plt.show()\n",
    "plt.savefig('/Users/hamin/bithumb_bot/hamin_code/graph/boxplot/feb_time_interval.png',dpi=300)\n",
    "plt.show()"
   ]
  },
  {
   "cell_type": "code",
   "execution_count": 76,
   "metadata": {},
   "outputs": [
    {
     "data": {
      "text/html": [
       "<div>\n",
       "<style scoped>\n",
       "    .dataframe tbody tr th:only-of-type {\n",
       "        vertical-align: middle;\n",
       "    }\n",
       "\n",
       "    .dataframe tbody tr th {\n",
       "        vertical-align: top;\n",
       "    }\n",
       "\n",
       "    .dataframe thead th {\n",
       "        text-align: right;\n",
       "    }\n",
       "</style>\n",
       "<table border=\"1\" class=\"dataframe\">\n",
       "  <thead>\n",
       "    <tr style=\"text-align: right;\">\n",
       "      <th></th>\n",
       "      <th>timestamp</th>\n",
       "      <th>quantity</th>\n",
       "      <th>price</th>\n",
       "      <th>fee</th>\n",
       "      <th>amount</th>\n",
       "      <th>side</th>\n",
       "      <th>sign_quantity</th>\n",
       "      <th>sign_quantity_cumsum(coin)</th>\n",
       "      <th>amount_cumsum</th>\n",
       "      <th>compare</th>\n",
       "      <th>point_amount_cumsum</th>\n",
       "      <th>time_interval</th>\n",
       "      <th>timediff</th>\n",
       "    </tr>\n",
       "  </thead>\n",
       "  <tbody>\n",
       "    <tr>\n",
       "      <th>1</th>\n",
       "      <td>2018-02-14 00:12:12</td>\n",
       "      <td>0.7990</td>\n",
       "      <td>9854000</td>\n",
       "      <td>0.0</td>\n",
       "      <td>7873346</td>\n",
       "      <td>1</td>\n",
       "      <td>0.7990</td>\n",
       "      <td>0.000000</td>\n",
       "      <td>-5593</td>\n",
       "      <td>0.0</td>\n",
       "      <td>-5593.0</td>\n",
       "      <td>NaT</td>\n",
       "      <td>NaN</td>\n",
       "    </tr>\n",
       "    <tr>\n",
       "      <th>3</th>\n",
       "      <td>2018-02-14 00:15:41</td>\n",
       "      <td>0.1050</td>\n",
       "      <td>9860000</td>\n",
       "      <td>0.0</td>\n",
       "      <td>1035300</td>\n",
       "      <td>1</td>\n",
       "      <td>0.1050</td>\n",
       "      <td>0.000000</td>\n",
       "      <td>-4438</td>\n",
       "      <td>-5593.0</td>\n",
       "      <td>1155.0</td>\n",
       "      <td>00:03:29</td>\n",
       "      <td>209.0</td>\n",
       "    </tr>\n",
       "    <tr>\n",
       "      <th>6</th>\n",
       "      <td>2018-02-14 00:20:44</td>\n",
       "      <td>0.3015</td>\n",
       "      <td>9882000</td>\n",
       "      <td>0.0</td>\n",
       "      <td>2979423</td>\n",
       "      <td>1</td>\n",
       "      <td>0.3015</td>\n",
       "      <td>-0.000000</td>\n",
       "      <td>28864</td>\n",
       "      <td>-4438.0</td>\n",
       "      <td>33302.0</td>\n",
       "      <td>00:05:03</td>\n",
       "      <td>303.0</td>\n",
       "    </tr>\n",
       "    <tr>\n",
       "      <th>14</th>\n",
       "      <td>2018-02-14 00:28:28</td>\n",
       "      <td>0.2978</td>\n",
       "      <td>9825000</td>\n",
       "      <td>0.0</td>\n",
       "      <td>2925885</td>\n",
       "      <td>1</td>\n",
       "      <td>0.2978</td>\n",
       "      <td>-0.000000</td>\n",
       "      <td>519</td>\n",
       "      <td>28864.0</td>\n",
       "      <td>-28345.0</td>\n",
       "      <td>00:07:44</td>\n",
       "      <td>464.0</td>\n",
       "    </tr>\n",
       "    <tr>\n",
       "      <th>19</th>\n",
       "      <td>2018-02-14 00:33:24</td>\n",
       "      <td>0.4805</td>\n",
       "      <td>9804000</td>\n",
       "      <td>0.0</td>\n",
       "      <td>4710822</td>\n",
       "      <td>1</td>\n",
       "      <td>0.4805</td>\n",
       "      <td>-0.000000</td>\n",
       "      <td>-16492</td>\n",
       "      <td>519.0</td>\n",
       "      <td>-17011.0</td>\n",
       "      <td>00:04:56</td>\n",
       "      <td>296.0</td>\n",
       "    </tr>\n",
       "    <tr>\n",
       "      <th>...</th>\n",
       "      <td>...</td>\n",
       "      <td>...</td>\n",
       "      <td>...</td>\n",
       "      <td>...</td>\n",
       "      <td>...</td>\n",
       "      <td>...</td>\n",
       "      <td>...</td>\n",
       "      <td>...</td>\n",
       "      <td>...</td>\n",
       "      <td>...</td>\n",
       "      <td>...</td>\n",
       "      <td>...</td>\n",
       "      <td>...</td>\n",
       "    </tr>\n",
       "    <tr>\n",
       "      <th>18325</th>\n",
       "      <td>2018-02-28 23:01:28</td>\n",
       "      <td>1.2093</td>\n",
       "      <td>11837000</td>\n",
       "      <td>0.0</td>\n",
       "      <td>14314484</td>\n",
       "      <td>1</td>\n",
       "      <td>1.2093</td>\n",
       "      <td>-0.000066</td>\n",
       "      <td>19994386</td>\n",
       "      <td>20028370.0</td>\n",
       "      <td>-33984.0</td>\n",
       "      <td>00:20:35</td>\n",
       "      <td>1235.0</td>\n",
       "    </tr>\n",
       "    <tr>\n",
       "      <th>18334</th>\n",
       "      <td>2018-02-28 23:06:56</td>\n",
       "      <td>0.0154</td>\n",
       "      <td>11838000</td>\n",
       "      <td>0.0</td>\n",
       "      <td>182305</td>\n",
       "      <td>1</td>\n",
       "      <td>0.0154</td>\n",
       "      <td>-0.000066</td>\n",
       "      <td>19995067</td>\n",
       "      <td>19994386.0</td>\n",
       "      <td>681.0</td>\n",
       "      <td>00:05:28</td>\n",
       "      <td>328.0</td>\n",
       "    </tr>\n",
       "    <tr>\n",
       "      <th>18349</th>\n",
       "      <td>2018-02-28 23:25:17</td>\n",
       "      <td>0.2085</td>\n",
       "      <td>11884000</td>\n",
       "      <td>0.0</td>\n",
       "      <td>2477814</td>\n",
       "      <td>1</td>\n",
       "      <td>0.2085</td>\n",
       "      <td>-0.000056</td>\n",
       "      <td>20077412</td>\n",
       "      <td>19995067.0</td>\n",
       "      <td>82345.0</td>\n",
       "      <td>00:18:21</td>\n",
       "      <td>1101.0</td>\n",
       "    </tr>\n",
       "    <tr>\n",
       "      <th>18365</th>\n",
       "      <td>2018-02-28 23:59:49</td>\n",
       "      <td>0.5662</td>\n",
       "      <td>11923000</td>\n",
       "      <td>0.0</td>\n",
       "      <td>6750803</td>\n",
       "      <td>1</td>\n",
       "      <td>0.5662</td>\n",
       "      <td>-0.000280</td>\n",
       "      <td>20055060</td>\n",
       "      <td>20077412.0</td>\n",
       "      <td>-22352.0</td>\n",
       "      <td>00:34:32</td>\n",
       "      <td>2072.0</td>\n",
       "    </tr>\n",
       "    <tr>\n",
       "      <th>18366</th>\n",
       "      <td>2018-02-28 23:59:49</td>\n",
       "      <td>0.0002</td>\n",
       "      <td>11923000</td>\n",
       "      <td>0.0</td>\n",
       "      <td>2385</td>\n",
       "      <td>1</td>\n",
       "      <td>0.0002</td>\n",
       "      <td>-0.000080</td>\n",
       "      <td>20057445</td>\n",
       "      <td>20055060.0</td>\n",
       "      <td>2385.0</td>\n",
       "      <td>00:00:00</td>\n",
       "      <td>0.0</td>\n",
       "    </tr>\n",
       "  </tbody>\n",
       "</table>\n",
       "<p>3159 rows × 13 columns</p>\n",
       "</div>"
      ],
      "text/plain": [
       "                timestamp  quantity     price  fee    amount  side  \\\n",
       "1     2018-02-14 00:12:12    0.7990   9854000  0.0   7873346     1   \n",
       "3     2018-02-14 00:15:41    0.1050   9860000  0.0   1035300     1   \n",
       "6     2018-02-14 00:20:44    0.3015   9882000  0.0   2979423     1   \n",
       "14    2018-02-14 00:28:28    0.2978   9825000  0.0   2925885     1   \n",
       "19    2018-02-14 00:33:24    0.4805   9804000  0.0   4710822     1   \n",
       "...                   ...       ...       ...  ...       ...   ...   \n",
       "18325 2018-02-28 23:01:28    1.2093  11837000  0.0  14314484     1   \n",
       "18334 2018-02-28 23:06:56    0.0154  11838000  0.0    182305     1   \n",
       "18349 2018-02-28 23:25:17    0.2085  11884000  0.0   2477814     1   \n",
       "18365 2018-02-28 23:59:49    0.5662  11923000  0.0   6750803     1   \n",
       "18366 2018-02-28 23:59:49    0.0002  11923000  0.0      2385     1   \n",
       "\n",
       "       sign_quantity  sign_quantity_cumsum(coin)  amount_cumsum     compare  \\\n",
       "1             0.7990                    0.000000          -5593         0.0   \n",
       "3             0.1050                    0.000000          -4438     -5593.0   \n",
       "6             0.3015                   -0.000000          28864     -4438.0   \n",
       "14            0.2978                   -0.000000            519     28864.0   \n",
       "19            0.4805                   -0.000000         -16492       519.0   \n",
       "...              ...                         ...            ...         ...   \n",
       "18325         1.2093                   -0.000066       19994386  20028370.0   \n",
       "18334         0.0154                   -0.000066       19995067  19994386.0   \n",
       "18349         0.2085                   -0.000056       20077412  19995067.0   \n",
       "18365         0.5662                   -0.000280       20055060  20077412.0   \n",
       "18366         0.0002                   -0.000080       20057445  20055060.0   \n",
       "\n",
       "       point_amount_cumsum time_interval  timediff  \n",
       "1                  -5593.0           NaT       NaN  \n",
       "3                   1155.0      00:03:29     209.0  \n",
       "6                  33302.0      00:05:03     303.0  \n",
       "14                -28345.0      00:07:44     464.0  \n",
       "19                -17011.0      00:04:56     296.0  \n",
       "...                    ...           ...       ...  \n",
       "18325             -33984.0      00:20:35    1235.0  \n",
       "18334                681.0      00:05:28     328.0  \n",
       "18349              82345.0      00:18:21    1101.0  \n",
       "18365             -22352.0      00:34:32    2072.0  \n",
       "18366               2385.0      00:00:00       0.0  \n",
       "\n",
       "[3159 rows x 13 columns]"
      ]
     },
     "execution_count": 76,
     "metadata": {},
     "output_type": "execute_result"
    }
   ],
   "source": [
    "cumsum_df_zero_point2"
   ]
  },
  {
   "cell_type": "code",
   "execution_count": 92,
   "metadata": {},
   "outputs": [
    {
     "ename": "KeyError",
     "evalue": "'timediff'",
     "output_type": "error",
     "traceback": [
      "\u001b[0;31m---------------------------------------------------------------------------\u001b[0m",
      "\u001b[0;31mKeyError\u001b[0m                                  Traceback (most recent call last)",
      "\u001b[0;32m/usr/local/Cellar/jupyterlab/2.0.1/libexec/lib/python3.7/site-packages/pandas/core/indexes/base.py\u001b[0m in \u001b[0;36mget_loc\u001b[0;34m(self, key, method, tolerance)\u001b[0m\n\u001b[1;32m   2645\u001b[0m             \u001b[0;32mtry\u001b[0m\u001b[0;34m:\u001b[0m\u001b[0;34m\u001b[0m\u001b[0;34m\u001b[0m\u001b[0m\n\u001b[0;32m-> 2646\u001b[0;31m                 \u001b[0;32mreturn\u001b[0m \u001b[0mself\u001b[0m\u001b[0;34m.\u001b[0m\u001b[0m_engine\u001b[0m\u001b[0;34m.\u001b[0m\u001b[0mget_loc\u001b[0m\u001b[0;34m(\u001b[0m\u001b[0mkey\u001b[0m\u001b[0;34m)\u001b[0m\u001b[0;34m\u001b[0m\u001b[0;34m\u001b[0m\u001b[0m\n\u001b[0m\u001b[1;32m   2647\u001b[0m             \u001b[0;32mexcept\u001b[0m \u001b[0mKeyError\u001b[0m\u001b[0;34m:\u001b[0m\u001b[0;34m\u001b[0m\u001b[0;34m\u001b[0m\u001b[0m\n",
      "\u001b[0;32mpandas/_libs/index.pyx\u001b[0m in \u001b[0;36mpandas._libs.index.IndexEngine.get_loc\u001b[0;34m()\u001b[0m\n",
      "\u001b[0;32mpandas/_libs/index.pyx\u001b[0m in \u001b[0;36mpandas._libs.index.IndexEngine.get_loc\u001b[0;34m()\u001b[0m\n",
      "\u001b[0;32mpandas/_libs/hashtable_class_helper.pxi\u001b[0m in \u001b[0;36mpandas._libs.hashtable.PyObjectHashTable.get_item\u001b[0;34m()\u001b[0m\n",
      "\u001b[0;32mpandas/_libs/hashtable_class_helper.pxi\u001b[0m in \u001b[0;36mpandas._libs.hashtable.PyObjectHashTable.get_item\u001b[0;34m()\u001b[0m\n",
      "\u001b[0;31mKeyError\u001b[0m: 'timediff'",
      "\nDuring handling of the above exception, another exception occurred:\n",
      "\u001b[0;31mKeyError\u001b[0m                                  Traceback (most recent call last)",
      "\u001b[0;32m<ipython-input-92-2081558c82ab>\u001b[0m in \u001b[0;36m<module>\u001b[0;34m\u001b[0m\n\u001b[0;32m----> 1\u001b[0;31m \u001b[0mtimediff2\u001b[0m \u001b[0;34m=\u001b[0m \u001b[0mcumsum_df_zero_point2\u001b[0m\u001b[0;34m[\u001b[0m\u001b[0;34m'timediff'\u001b[0m\u001b[0;34m]\u001b[0m\u001b[0;34m\u001b[0m\u001b[0;34m\u001b[0m\u001b[0m\n\u001b[0m",
      "\u001b[0;32m/usr/local/Cellar/jupyterlab/2.0.1/libexec/lib/python3.7/site-packages/pandas/core/frame.py\u001b[0m in \u001b[0;36m__getitem__\u001b[0;34m(self, key)\u001b[0m\n\u001b[1;32m   2798\u001b[0m             \u001b[0;32mif\u001b[0m \u001b[0mself\u001b[0m\u001b[0;34m.\u001b[0m\u001b[0mcolumns\u001b[0m\u001b[0;34m.\u001b[0m\u001b[0mnlevels\u001b[0m \u001b[0;34m>\u001b[0m \u001b[0;36m1\u001b[0m\u001b[0;34m:\u001b[0m\u001b[0;34m\u001b[0m\u001b[0;34m\u001b[0m\u001b[0m\n\u001b[1;32m   2799\u001b[0m                 \u001b[0;32mreturn\u001b[0m \u001b[0mself\u001b[0m\u001b[0;34m.\u001b[0m\u001b[0m_getitem_multilevel\u001b[0m\u001b[0;34m(\u001b[0m\u001b[0mkey\u001b[0m\u001b[0;34m)\u001b[0m\u001b[0;34m\u001b[0m\u001b[0;34m\u001b[0m\u001b[0m\n\u001b[0;32m-> 2800\u001b[0;31m             \u001b[0mindexer\u001b[0m \u001b[0;34m=\u001b[0m \u001b[0mself\u001b[0m\u001b[0;34m.\u001b[0m\u001b[0mcolumns\u001b[0m\u001b[0;34m.\u001b[0m\u001b[0mget_loc\u001b[0m\u001b[0;34m(\u001b[0m\u001b[0mkey\u001b[0m\u001b[0;34m)\u001b[0m\u001b[0;34m\u001b[0m\u001b[0;34m\u001b[0m\u001b[0m\n\u001b[0m\u001b[1;32m   2801\u001b[0m             \u001b[0;32mif\u001b[0m \u001b[0mis_integer\u001b[0m\u001b[0;34m(\u001b[0m\u001b[0mindexer\u001b[0m\u001b[0;34m)\u001b[0m\u001b[0;34m:\u001b[0m\u001b[0;34m\u001b[0m\u001b[0;34m\u001b[0m\u001b[0m\n\u001b[1;32m   2802\u001b[0m                 \u001b[0mindexer\u001b[0m \u001b[0;34m=\u001b[0m \u001b[0;34m[\u001b[0m\u001b[0mindexer\u001b[0m\u001b[0;34m]\u001b[0m\u001b[0;34m\u001b[0m\u001b[0;34m\u001b[0m\u001b[0m\n",
      "\u001b[0;32m/usr/local/Cellar/jupyterlab/2.0.1/libexec/lib/python3.7/site-packages/pandas/core/indexes/base.py\u001b[0m in \u001b[0;36mget_loc\u001b[0;34m(self, key, method, tolerance)\u001b[0m\n\u001b[1;32m   2646\u001b[0m                 \u001b[0;32mreturn\u001b[0m \u001b[0mself\u001b[0m\u001b[0;34m.\u001b[0m\u001b[0m_engine\u001b[0m\u001b[0;34m.\u001b[0m\u001b[0mget_loc\u001b[0m\u001b[0;34m(\u001b[0m\u001b[0mkey\u001b[0m\u001b[0;34m)\u001b[0m\u001b[0;34m\u001b[0m\u001b[0;34m\u001b[0m\u001b[0m\n\u001b[1;32m   2647\u001b[0m             \u001b[0;32mexcept\u001b[0m \u001b[0mKeyError\u001b[0m\u001b[0;34m:\u001b[0m\u001b[0;34m\u001b[0m\u001b[0;34m\u001b[0m\u001b[0m\n\u001b[0;32m-> 2648\u001b[0;31m                 \u001b[0;32mreturn\u001b[0m \u001b[0mself\u001b[0m\u001b[0;34m.\u001b[0m\u001b[0m_engine\u001b[0m\u001b[0;34m.\u001b[0m\u001b[0mget_loc\u001b[0m\u001b[0;34m(\u001b[0m\u001b[0mself\u001b[0m\u001b[0;34m.\u001b[0m\u001b[0m_maybe_cast_indexer\u001b[0m\u001b[0;34m(\u001b[0m\u001b[0mkey\u001b[0m\u001b[0;34m)\u001b[0m\u001b[0;34m)\u001b[0m\u001b[0;34m\u001b[0m\u001b[0;34m\u001b[0m\u001b[0m\n\u001b[0m\u001b[1;32m   2649\u001b[0m         \u001b[0mindexer\u001b[0m \u001b[0;34m=\u001b[0m \u001b[0mself\u001b[0m\u001b[0;34m.\u001b[0m\u001b[0mget_indexer\u001b[0m\u001b[0;34m(\u001b[0m\u001b[0;34m[\u001b[0m\u001b[0mkey\u001b[0m\u001b[0;34m]\u001b[0m\u001b[0;34m,\u001b[0m \u001b[0mmethod\u001b[0m\u001b[0;34m=\u001b[0m\u001b[0mmethod\u001b[0m\u001b[0;34m,\u001b[0m \u001b[0mtolerance\u001b[0m\u001b[0;34m=\u001b[0m\u001b[0mtolerance\u001b[0m\u001b[0;34m)\u001b[0m\u001b[0;34m\u001b[0m\u001b[0;34m\u001b[0m\u001b[0m\n\u001b[1;32m   2650\u001b[0m         \u001b[0;32mif\u001b[0m \u001b[0mindexer\u001b[0m\u001b[0;34m.\u001b[0m\u001b[0mndim\u001b[0m \u001b[0;34m>\u001b[0m \u001b[0;36m1\u001b[0m \u001b[0;32mor\u001b[0m \u001b[0mindexer\u001b[0m\u001b[0;34m.\u001b[0m\u001b[0msize\u001b[0m \u001b[0;34m>\u001b[0m \u001b[0;36m1\u001b[0m\u001b[0;34m:\u001b[0m\u001b[0;34m\u001b[0m\u001b[0;34m\u001b[0m\u001b[0m\n",
      "\u001b[0;32mpandas/_libs/index.pyx\u001b[0m in \u001b[0;36mpandas._libs.index.IndexEngine.get_loc\u001b[0;34m()\u001b[0m\n",
      "\u001b[0;32mpandas/_libs/index.pyx\u001b[0m in \u001b[0;36mpandas._libs.index.IndexEngine.get_loc\u001b[0;34m()\u001b[0m\n",
      "\u001b[0;32mpandas/_libs/hashtable_class_helper.pxi\u001b[0m in \u001b[0;36mpandas._libs.hashtable.PyObjectHashTable.get_item\u001b[0;34m()\u001b[0m\n",
      "\u001b[0;32mpandas/_libs/hashtable_class_helper.pxi\u001b[0m in \u001b[0;36mpandas._libs.hashtable.PyObjectHashTable.get_item\u001b[0;34m()\u001b[0m\n",
      "\u001b[0;31mKeyError\u001b[0m: 'timediff'"
     ]
    }
   ],
   "source": [
    "timediff2 = cumsum_df_zero_point2['timediff']"
   ]
  },
  {
   "cell_type": "code",
   "execution_count": null,
   "metadata": {},
   "outputs": [],
   "source": []
  },
  {
   "cell_type": "code",
   "execution_count": null,
   "metadata": {},
   "outputs": [],
   "source": []
  },
  {
   "cell_type": "code",
   "execution_count": null,
   "metadata": {},
   "outputs": [],
   "source": []
  },
  {
   "cell_type": "code",
   "execution_count": null,
   "metadata": {},
   "outputs": [],
   "source": []
  },
  {
   "cell_type": "code",
   "execution_count": null,
   "metadata": {},
   "outputs": [],
   "source": []
  },
  {
   "cell_type": "code",
   "execution_count": null,
   "metadata": {},
   "outputs": [],
   "source": []
  },
  {
   "cell_type": "code",
   "execution_count": null,
   "metadata": {},
   "outputs": [],
   "source": []
  },
  {
   "cell_type": "code",
   "execution_count": null,
   "metadata": {},
   "outputs": [],
   "source": []
  },
  {
   "cell_type": "code",
   "execution_count": null,
   "metadata": {},
   "outputs": [],
   "source": []
  },
  {
   "cell_type": "code",
   "execution_count": null,
   "metadata": {},
   "outputs": [],
   "source": []
  },
  {
   "cell_type": "code",
   "execution_count": 79,
   "metadata": {},
   "outputs": [
    {
     "data": {
      "text/plain": [
       "Int64Index([    1,     3,     6,    14,    19,    28,    30,    35,    50,\n",
       "               52,\n",
       "            ...\n",
       "            18286, 18299, 18305, 18307, 18309, 18325, 18334, 18349, 18365,\n",
       "            18366],\n",
       "           dtype='int64', length=3159)"
      ]
     },
     "execution_count": 79,
     "metadata": {},
     "output_type": "execute_result"
    }
   ],
   "source": [
    "# 인덱스 값 뽑아보기\n",
    "cumsum_df_zero_point2.index"
   ]
  },
  {
   "cell_type": "code",
   "execution_count": 82,
   "metadata": {},
   "outputs": [
    {
     "ename": "NotImplementedError",
     "evalue": "Not supported for type Int64Index",
     "output_type": "error",
     "traceback": [
      "\u001b[0;31m---------------------------------------------------------------------------\u001b[0m",
      "\u001b[0;31mNotImplementedError\u001b[0m                       Traceback (most recent call last)",
      "\u001b[0;32m<ipython-input-82-5b0fd80e2666>\u001b[0m in \u001b[0;36m<module>\u001b[0;34m\u001b[0m\n\u001b[1;32m      1\u001b[0m \u001b[0;31m# 인덱스 비교 열 데이터 한 칸씩 미루기\u001b[0m\u001b[0;34m\u001b[0m\u001b[0;34m\u001b[0m\u001b[0;34m\u001b[0m\u001b[0m\n\u001b[1;32m      2\u001b[0m \u001b[0mindex_compare2\u001b[0m\u001b[0;34m=\u001b[0m\u001b[0mcumsum_df_zero_point2\u001b[0m\u001b[0;34m.\u001b[0m\u001b[0mindex\u001b[0m\u001b[0;34m\u001b[0m\u001b[0;34m\u001b[0m\u001b[0m\n\u001b[0;32m----> 3\u001b[0;31m \u001b[0mindex_compare2\u001b[0m\u001b[0;34m=\u001b[0m\u001b[0mindex_compare2\u001b[0m\u001b[0;34m.\u001b[0m\u001b[0mshift\u001b[0m\u001b[0;34m(\u001b[0m\u001b[0;36m1\u001b[0m\u001b[0;34m)\u001b[0m\u001b[0;34m[\u001b[0m\u001b[0;34m:\u001b[0m\u001b[0;34m]\u001b[0m     \u001b[0;31m# 인덱스는 그대로 두고 데이터 한 칸씩 이동\u001b[0m\u001b[0;34m\u001b[0m\u001b[0;34m\u001b[0m\u001b[0m\n\u001b[0m",
      "\u001b[0;32m/usr/local/Cellar/jupyterlab/2.0.1/libexec/lib/python3.7/site-packages/pandas/core/indexes/base.py\u001b[0m in \u001b[0;36mshift\u001b[0;34m(self, periods, freq)\u001b[0m\n\u001b[1;32m   4316\u001b[0m                       dtype='datetime64[ns]', freq='MS')\n\u001b[1;32m   4317\u001b[0m         \"\"\"\n\u001b[0;32m-> 4318\u001b[0;31m         \u001b[0;32mraise\u001b[0m \u001b[0mNotImplementedError\u001b[0m\u001b[0;34m(\u001b[0m\u001b[0;34mf\"Not supported for type {type(self).__name__}\"\u001b[0m\u001b[0;34m)\u001b[0m\u001b[0;34m\u001b[0m\u001b[0;34m\u001b[0m\u001b[0m\n\u001b[0m\u001b[1;32m   4319\u001b[0m \u001b[0;34m\u001b[0m\u001b[0m\n\u001b[1;32m   4320\u001b[0m     \u001b[0;32mdef\u001b[0m \u001b[0margsort\u001b[0m\u001b[0;34m(\u001b[0m\u001b[0mself\u001b[0m\u001b[0;34m,\u001b[0m \u001b[0;34m*\u001b[0m\u001b[0margs\u001b[0m\u001b[0;34m,\u001b[0m \u001b[0;34m**\u001b[0m\u001b[0mkwargs\u001b[0m\u001b[0;34m)\u001b[0m\u001b[0;34m:\u001b[0m\u001b[0;34m\u001b[0m\u001b[0;34m\u001b[0m\u001b[0m\n",
      "\u001b[0;31mNotImplementedError\u001b[0m: Not supported for type Int64Index"
     ]
    }
   ],
   "source": [
    "# 인덱스 비교 열 데이터 한 칸씩 미루기\n",
    "index_compare2=cumsum_df_zero_point2.index\n",
    "\n",
    "# int64Index를 float64로\n",
    "index_compare2=index_compare2.shift(1)[:]     # 인덱스는 그대로 두고 데이터 한 칸씩 이동"
   ]
  },
  {
   "cell_type": "code",
   "execution_count": 81,
   "metadata": {},
   "outputs": [
    {
     "data": {
      "text/plain": [
       "1               NaN\n",
       "3               NaN\n",
       "6           -5593.0\n",
       "14          -4438.0\n",
       "19          28864.0\n",
       "            ...    \n",
       "18325    20027787.0\n",
       "18334    20028370.0\n",
       "18349    19994386.0\n",
       "18365    19995067.0\n",
       "18366    20077412.0\n",
       "Name: amount_cumsum, Length: 3159, dtype: float64"
      ]
     },
     "execution_count": 81,
     "metadata": {},
     "output_type": "execute_result"
    }
   ],
   "source": [
    "index_compare2"
   ]
  },
  {
   "cell_type": "code",
   "execution_count": null,
   "metadata": {},
   "outputs": [],
   "source": [
    "# 데이터 프레임 cumsum_df_zero_point()와 compare 결합\n",
    "cumsum_df_zero_point2 = pd.concat([cumsum_df_zero_point1,compare1],axis=1)\n",
    "cumsum_df_zero_point1 = cumsum_df_zero_point1.fillna(0)     # 결측값은 0으로 채우기"
   ]
  },
  {
   "cell_type": "code",
   "execution_count": null,
   "metadata": {},
   "outputs": [],
   "source": []
  },
  {
   "cell_type": "code",
   "execution_count": null,
   "metadata": {},
   "outputs": [],
   "source": []
  },
  {
   "cell_type": "code",
   "execution_count": null,
   "metadata": {},
   "outputs": [],
   "source": []
  },
  {
   "cell_type": "code",
   "execution_count": null,
   "metadata": {},
   "outputs": [],
   "source": []
  },
  {
   "cell_type": "code",
   "execution_count": null,
   "metadata": {},
   "outputs": [],
   "source": []
  },
  {
   "cell_type": "code",
   "execution_count": null,
   "metadata": {},
   "outputs": [],
   "source": []
  }
 ],
 "metadata": {
  "kernelspec": {
   "display_name": "Python 3",
   "language": "python",
   "name": "python3"
  },
  "language_info": {
   "codemirror_mode": {
    "name": "ipython",
    "version": 3
   },
   "file_extension": ".py",
   "mimetype": "text/x-python",
   "name": "python",
   "nbconvert_exporter": "python",
   "pygments_lexer": "ipython3",
   "version": "3.7.7"
  }
 },
 "nbformat": 4,
 "nbformat_minor": 4
}
