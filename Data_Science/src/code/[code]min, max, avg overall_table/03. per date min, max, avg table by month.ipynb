{
 "cells": [
  {
   "cell_type": "code",
   "execution_count": 1,
   "metadata": {},
   "outputs": [],
   "source": [
    "# ############################################################\n",
    "\n",
    "# ## parsing_by_hour ##\n",
    "\n",
    "# ############################################################\n",
    "\n",
    "# -- Designed by\n",
    "\n",
    "#    김상원\n",
    "\n",
    "# -- Produced by Mar. 31, 2020. (Ver.1.)\n",
    "\n",
    "# -- Description: xxx\n",
    "\n",
    "# ============================================================"
   ]
  },
  {
   "cell_type": "code",
   "execution_count": 2,
   "metadata": {},
   "outputs": [],
   "source": [
    "import pandas as pd\n",
    "import numpy as np\n",
    "from functools import reduce"
   ]
  },
  {
   "cell_type": "code",
   "execution_count": 3,
   "metadata": {},
   "outputs": [],
   "source": [
    "df1 = pd.read_csv(\"/Users/sangwon/workspace/school/bithumb_bot/data/2018-01-btc-krw.csv\") # csv load\n",
    "df2 = pd.read_csv(\"/Users/sangwon/workspace/school/bithumb_bot/data/2018-02-btc-krw.csv\") # csv load\n",
    "df3 = pd.read_csv(\"/Users/sangwon/workspace/school/bithumb_bot/data/2018-03-btc-krw.csv\") # csv load\n",
    "df4 = pd.read_csv(\"/Users/sangwon/workspace/school/bithumb_bot/data/2018-04-btc-krw.csv\") # csv load\n",
    "df5 = pd.read_csv(\"/Users/sangwon/workspace/school/bithumb_bot/data/2018-05-btc-krw.csv\") # csv load\n",
    "df6 = pd.read_csv(\"/Users/sangwon/workspace/school/bithumb_bot/data/2018-06-btc-krw.csv\") # csv load\n",
    "df7 = pd.read_csv(\"/Users/sangwon/workspace/school/bithumb_bot/data/2018-07-btc-krw.csv\") # csv load"
   ]
  },
  {
   "cell_type": "code",
   "execution_count": 4,
   "metadata": {},
   "outputs": [],
   "source": [
    "## converting timestamp column type 'object' to 'datetime'\n",
    "df1['timestamp'] = pd.to_datetime(df1['timestamp'], format='%Y-%m-%d %H:%M:%S', errors='raise')\n",
    "df2['timestamp'] = pd.to_datetime(df2['timestamp'], format='%Y-%m-%d %H:%M:%S', errors='raise')\n",
    "df3['timestamp'] = pd.to_datetime(df3['timestamp'], format='%Y-%m-%d %H:%M:%S', errors='raise')\n",
    "df4['timestamp'] = pd.to_datetime(df4['timestamp'], format='%Y-%m-%d %H:%M:%S', errors='raise')\n",
    "df5['timestamp'] = pd.to_datetime(df5['timestamp'], format='%Y-%m-%d %H:%M:%S', errors='raise')\n",
    "df6['timestamp'] = pd.to_datetime(df6['timestamp'], format='%Y-%m-%d %H:%M:%S', errors='raise')\n",
    "df7['timestamp'] = pd.to_datetime(df7['timestamp'], format='%Y-%m-%d %H:%M:%S', errors='raise')"
   ]
  },
  {
   "cell_type": "code",
   "execution_count": 5,
   "metadata": {},
   "outputs": [],
   "source": [
    "## converting timestamp to detailed date column\n",
    "df1['timestamp_year_month_day']       = df1['timestamp'].dt.date         # YYYY-MM-DD(문자)\n",
    "df1['timestamp_year']       = df1['timestamp'].dt.year         # 연(4자리숫자)\n",
    "df1['timestamp_month']      = df1['timestamp'].dt.month        # 월(숫자)\n",
    "df1['timestamp_month_name'] = df1['timestamp'].dt.month_name() # 월(문자)\n",
    "\n",
    "df1['timestamp_day']        = df1['timestamp'].dt.day          # 일(숫자)\n",
    "df1['timestamp_time']       = df1['timestamp'].dt.time         # HH:MM:SS(문자)\n",
    "df1['timestamp_hour']       = df1['timestamp'].dt.hour         # 시(숫자)\n",
    "df1['timestamp_minute']     = df1['timestamp'].dt.minute       # 분(숫자)\n",
    "df1['timestamp_second']     = df1['timestamp'].dt.second       # 초(숫자)\n",
    "df1['Date_day'] = df1['timestamp'].dt.to_period(freq = 'D') "
   ]
  },
  {
   "cell_type": "code",
   "execution_count": 6,
   "metadata": {},
   "outputs": [],
   "source": [
    "## converting timestamp to detailed date column\n",
    "df2['timestamp_year_month_day']       = df2['timestamp'].dt.date         # YYYY-MM-DD(문자)\n",
    "df2['timestamp_year']       = df2['timestamp'].dt.year         # 연(4자리숫자)\n",
    "df2['timestamp_month']      = df2['timestamp'].dt.month        # 월(숫자)\n",
    "df2['timestamp_month_name'] = df2['timestamp'].dt.month_name() # 월(문자)\n",
    "\n",
    "df2['timestamp_day']        = df2['timestamp'].dt.day          # 일(숫자)\n",
    "df2['timestamp_time']       = df2['timestamp'].dt.time         # HH:MM:SS(문자)\n",
    "df2['timestamp_hour']       = df2['timestamp'].dt.hour         # 시(숫자)\n",
    "df2['timestamp_minute']     = df2['timestamp'].dt.minute       # 분(숫자)\n",
    "df2['timestamp_second']     = df2['timestamp'].dt.second       # 초(숫자)\n",
    "df2['Date_day'] = df2['timestamp'].dt.to_period(freq = 'D') "
   ]
  },
  {
   "cell_type": "code",
   "execution_count": 7,
   "metadata": {},
   "outputs": [],
   "source": [
    "## converting timestamp to detailed date column\n",
    "df3['timestamp_year_month_day']       = df3['timestamp'].dt.date         # YYYY-MM-DD(문자)\n",
    "df3['timestamp_year']       = df3['timestamp'].dt.year         # 연(4자리숫자)\n",
    "df3['timestamp_month']      = df3['timestamp'].dt.month        # 월(숫자)\n",
    "df3['timestamp_month_name'] = df3['timestamp'].dt.month_name() # 월(문자)\n",
    "\n",
    "df3['timestamp_day']        = df3['timestamp'].dt.day          # 일(숫자)\n",
    "df3['timestamp_time']       = df3['timestamp'].dt.time         # HH:MM:SS(문자)\n",
    "df3['timestamp_hour']       = df3['timestamp'].dt.hour         # 시(숫자)\n",
    "df3['timestamp_minute']     = df3['timestamp'].dt.minute       # 분(숫자)\n",
    "df3['timestamp_second']     = df3['timestamp'].dt.second       # 초(숫자)\n",
    "df3['Date_day'] = df3['timestamp'].dt.to_period(freq = 'D') "
   ]
  },
  {
   "cell_type": "code",
   "execution_count": 8,
   "metadata": {},
   "outputs": [],
   "source": [
    "## converting timestamp to detailed date column\n",
    "df4['timestamp_year_month_day']       = df4['timestamp'].dt.date         # YYYY-MM-DD(문자)\n",
    "df4['timestamp_year']       = df4['timestamp'].dt.year         # 연(4자리숫자)\n",
    "df4['timestamp_month']      = df4['timestamp'].dt.month        # 월(숫자)\n",
    "df4['timestamp_month_name'] = df4['timestamp'].dt.month_name() # 월(문자)\n",
    "\n",
    "df4['timestamp_day']        = df4['timestamp'].dt.day          # 일(숫자)\n",
    "df4['timestamp_time']       = df4['timestamp'].dt.time         # HH:MM:SS(문자)\n",
    "df4['timestamp_hour']       = df4['timestamp'].dt.hour         # 시(숫자)\n",
    "df4['timestamp_minute']     = df4['timestamp'].dt.minute       # 분(숫자)\n",
    "df4['timestamp_second']     = df4['timestamp'].dt.second       # 초(숫자)\n",
    "df4['Date_day'] = df4['timestamp'].dt.to_period(freq = 'D') "
   ]
  },
  {
   "cell_type": "code",
   "execution_count": 9,
   "metadata": {},
   "outputs": [],
   "source": [
    "## converting timestamp to detailed date column\n",
    "df5['timestamp_year_month_day']       = df5['timestamp'].dt.date         # YYYY-MM-DD(문자)\n",
    "df5['timestamp_year']       = df5['timestamp'].dt.year         # 연(4자리숫자)\n",
    "df5['timestamp_month']      = df5['timestamp'].dt.month        # 월(숫자)\n",
    "df5['timestamp_month_name'] = df5['timestamp'].dt.month_name() # 월(문자)\n",
    "\n",
    "df5['timestamp_day']        = df5['timestamp'].dt.day          # 일(숫자)\n",
    "df5['timestamp_time']       = df5['timestamp'].dt.time         # HH:MM:SS(문자)\n",
    "df5['timestamp_hour']       = df5['timestamp'].dt.hour         # 시(숫자)\n",
    "df5['timestamp_minute']     = df5['timestamp'].dt.minute       # 분(숫자)\n",
    "df5['timestamp_second']     = df5['timestamp'].dt.second       # 초(숫자)\n",
    "df5['Date_day'] = df5['timestamp'].dt.to_period(freq = 'D') "
   ]
  },
  {
   "cell_type": "code",
   "execution_count": 10,
   "metadata": {},
   "outputs": [],
   "source": [
    "## converting timestamp to detailed date column\n",
    "df6['timestamp_year_month_day']       = df6['timestamp'].dt.date         # YYYY-MM-DD(문자)\n",
    "df6['timestamp_year']       = df6['timestamp'].dt.year         # 연(4자리숫자)\n",
    "df6['timestamp_month']      = df6['timestamp'].dt.month        # 월(숫자)\n",
    "df6['timestamp_month_name'] = df6['timestamp'].dt.month_name() # 월(문자)\n",
    "\n",
    "df6['timestamp_day']        = df6['timestamp'].dt.day          # 일(숫자)\n",
    "df6['timestamp_time']       = df6['timestamp'].dt.time         # HH:MM:SS(문자)\n",
    "df6['timestamp_hour']       = df6['timestamp'].dt.hour         # 시(숫자)\n",
    "df6['timestamp_minute']     = df6['timestamp'].dt.minute       # 분(숫자)\n",
    "df6['timestamp_second']     = df6['timestamp'].dt.second       # 초(숫자)\n",
    "df6['Date_day'] = df6['timestamp'].dt.to_period(freq = 'D') "
   ]
  },
  {
   "cell_type": "code",
   "execution_count": 11,
   "metadata": {},
   "outputs": [],
   "source": [
    "## converting timestamp to detailed date column\n",
    "df7['timestamp_year_month_day']       = df7['timestamp'].dt.date         # YYYY-MM-DD(문자)\n",
    "df7['timestamp_year']       = df7['timestamp'].dt.year         # 연(4자리숫자)\n",
    "df7['timestamp_month']      = df7['timestamp'].dt.month        # 월(숫자)\n",
    "df7['timestamp_month_name'] = df7['timestamp'].dt.month_name() # 월(문자)\n",
    "\n",
    "df7['timestamp_day']        = df7['timestamp'].dt.day          # 일(숫자)\n",
    "df7['timestamp_time']       = df7['timestamp'].dt.time         # HH:MM:SS(문자)\n",
    "df7['timestamp_hour']       = df7['timestamp'].dt.hour         # 시(숫자)\n",
    "df7['timestamp_minute']     = df7['timestamp'].dt.minute       # 분(숫자)\n",
    "df7['timestamp_second']     = df7['timestamp'].dt.second       # 초(숫자)\n",
    "df7['Date_day'] = df7['timestamp'].dt.to_period(freq = 'D') "
   ]
  },
  {
   "cell_type": "code",
   "execution_count": 12,
   "metadata": {},
   "outputs": [],
   "source": [
    "## creating 'hour - amount' connection\n",
    "group_day_amount1 = df1['amount'].groupby(df1['Date_day'])\n",
    "group_day_amount2 = df2['amount'].groupby(df2['Date_day'])\n",
    "group_day_amount3 = df3['amount'].groupby(df3['Date_day'])\n",
    "group_day_amount4 = df4['amount'].groupby(df4['Date_day'])\n",
    "group_day_amount5 = df5['amount'].groupby(df5['Date_day'])\n",
    "group_day_amount6 = df6['amount'].groupby(df6['Date_day'])\n",
    "group_day_amount7 = df7['amount'].groupby(df7['Date_day'])"
   ]
  },
  {
   "cell_type": "code",
   "execution_count": 13,
   "metadata": {},
   "outputs": [],
   "source": [
    "## creating 'hour - earning amount' connection\n",
    "df1_1 = df1.copy()\n",
    "df1_1 =df1_1[df1_1['amount'] > 0]\n",
    "group_day_amount_positive1 = df1_1['amount'].groupby(df1_1['Date_day'])"
   ]
  },
  {
   "cell_type": "code",
   "execution_count": 14,
   "metadata": {},
   "outputs": [],
   "source": [
    "## creating 'hour - earning amount' connection\n",
    "df2_1 = df2.copy()\n",
    "df2_1 =df2_1[df2_1['amount'] > 0]\n",
    "group_day_amount_positive2 = df2_1['amount'].groupby(df2_1['Date_day'])"
   ]
  },
  {
   "cell_type": "code",
   "execution_count": 15,
   "metadata": {},
   "outputs": [],
   "source": [
    "## creating 'hour - earning amount' connection\n",
    "df3_1 = df3.copy()\n",
    "df3_1 =df3_1[df3_1['amount'] > 0]\n",
    "group_day_amount_positive3 = df3_1['amount'].groupby(df3_1['Date_day'])"
   ]
  },
  {
   "cell_type": "code",
   "execution_count": 16,
   "metadata": {},
   "outputs": [],
   "source": [
    "## creating 'hour - earning amount' connection\n",
    "df4_1 = df4.copy()\n",
    "df4_1 =df4_1[df4_1['amount'] > 0]\n",
    "group_day_amount_positive4 = df4_1['amount'].groupby(df4_1['Date_day'])"
   ]
  },
  {
   "cell_type": "code",
   "execution_count": 17,
   "metadata": {},
   "outputs": [],
   "source": [
    "## creating 'hour - earning amount' connection\n",
    "df5_1 = df5.copy()\n",
    "df5_1 =df5_1[df5_1['amount'] > 0]\n",
    "group_day_amount_positive5 = df5_1['amount'].groupby(df5_1['Date_day'])"
   ]
  },
  {
   "cell_type": "code",
   "execution_count": 18,
   "metadata": {},
   "outputs": [],
   "source": [
    "## creating 'hour - earning amount' connection\n",
    "df6_1 = df6.copy()\n",
    "df6_1 =df6_1[df6_1['amount'] > 0]\n",
    "group_day_amount_positive6 = df6_1['amount'].groupby(df6_1['Date_day'])"
   ]
  },
  {
   "cell_type": "code",
   "execution_count": 19,
   "metadata": {},
   "outputs": [],
   "source": [
    "## creating 'hour - earning amount' connection\n",
    "df7_1 = df7.copy()\n",
    "df7_1 =df7_1[df7_1['amount'] > 0]\n",
    "group_day_amount_positive7 = df7_1['amount'].groupby(df7_1['Date_day'])"
   ]
  },
  {
   "cell_type": "code",
   "execution_count": 20,
   "metadata": {},
   "outputs": [],
   "source": [
    "## creating 'day - loss amount' connection\n",
    "df1_2 = df1.copy()\n",
    "df1_2 = df1_2[df1_2['amount'] < 0]\n",
    "group_day_amount_negative1 = df1_2['amount'].groupby(df1_2['Date_day'])"
   ]
  },
  {
   "cell_type": "code",
   "execution_count": 21,
   "metadata": {},
   "outputs": [],
   "source": [
    "## creating 'day - loss amount' connection\n",
    "df2_2 = df2.copy()\n",
    "df2_2 = df2_2[df2_2['amount'] < 0]\n",
    "group_day_amount_negative2 = df2_2['amount'].groupby(df2_2['Date_day'])"
   ]
  },
  {
   "cell_type": "code",
   "execution_count": 22,
   "metadata": {},
   "outputs": [],
   "source": [
    "## creating 'day - loss amount' connection\n",
    "df3_2 = df3.copy()\n",
    "df3_2 = df3_2[df3_2['amount'] < 0]\n",
    "group_day_amount_negative3 = df3_2['amount'].groupby(df3_2['Date_day'])"
   ]
  },
  {
   "cell_type": "code",
   "execution_count": 23,
   "metadata": {},
   "outputs": [],
   "source": [
    "## creating 'day - loss amount' connection\n",
    "df4_2 = df4.copy()\n",
    "df4_2 = df4_2[df4_2['amount'] < 0]\n",
    "group_day_amount_negative4 = df4_2['amount'].groupby(df4_2['Date_day'])"
   ]
  },
  {
   "cell_type": "code",
   "execution_count": 24,
   "metadata": {},
   "outputs": [],
   "source": [
    "## creating 'day - loss amount' connection\n",
    "df5_2 = df5.copy()\n",
    "df5_2 = df5_2[df5_2['amount'] < 0]\n",
    "group_day_amount_negative5 = df5_2['amount'].groupby(df5_2['Date_day'])"
   ]
  },
  {
   "cell_type": "code",
   "execution_count": 25,
   "metadata": {},
   "outputs": [],
   "source": [
    "## creating 'day - loss amount' connection\n",
    "df6_2 = df6.copy()\n",
    "df6_2 = df6_2[df6_2['amount'] < 0]\n",
    "group_day_amount_negative6 = df6_2['amount'].groupby(df6_2['Date_day'])"
   ]
  },
  {
   "cell_type": "code",
   "execution_count": 26,
   "metadata": {},
   "outputs": [],
   "source": [
    "## creating 'day - loss amount' connection\n",
    "df7_2 = df7.copy()\n",
    "df7_2 = df7_2[df7_2['amount'] < 0]\n",
    "group_day_amount_negative7 = df7_2['amount'].groupby(df7_2['Date_day'])"
   ]
  },
  {
   "cell_type": "code",
   "execution_count": 27,
   "metadata": {},
   "outputs": [],
   "source": [
    "my_df1 = pd.DataFrame(data={'B_min':[group_day_amount_negative1.size().min()], 'B_max': [group_day_amount_negative1.size().max()], 'B_avg': [group_day_amount_negative1.size().mean()], 'S_min': [group_day_amount_positive1.size().min()], 'S_max': [group_day_amount_positive1.size().max()], 'S_avg': [group_day_amount_positive1.size().mean()],'T_min': [group_day_amount1.size().min()], 'T_max': [group_day_amount1.size().max()], 'T_avg': [group_day_amount1.size().mean()]}, index=['date'], columns=['B_min', 'B_max', 'B_avg', 'S_min', 'S_max', 'S_avg','T_min', 'T_max', 'T_avg'])\n",
    "my_df2 = pd.DataFrame(data={'B_min':[group_day_amount_negative2.size().min()], 'B_max': [group_day_amount_negative2.size().max()], 'B_avg': [group_day_amount_negative2.size().mean()], 'S_min': [group_day_amount_positive2.size().min()], 'S_max': [group_day_amount_positive2.size().max()], 'S_avg': [group_day_amount_positive2.size().mean()],'T_min': [group_day_amount2.size().min()], 'T_max': [group_day_amount2.size().max()], 'T_avg': [group_day_amount2.size().mean()]}, index=['date'], columns=['B_min', 'B_max', 'B_avg', 'S_min', 'S_max', 'S_avg','T_min', 'T_max', 'T_avg'])\n",
    "my_df3 = pd.DataFrame(data={'B_min':[group_day_amount_negative3.size().min()], 'B_max': [group_day_amount_negative3.size().max()], 'B_avg': [group_day_amount_negative3.size().mean()], 'S_min': [group_day_amount_positive3.size().min()], 'S_max': [group_day_amount_positive3.size().max()], 'S_avg': [group_day_amount_positive3.size().mean()],'T_min': [group_day_amount3.size().min()], 'T_max': [group_day_amount3.size().max()], 'T_avg': [group_day_amount3.size().mean()]}, index=['date'], columns=['B_min', 'B_max', 'B_avg', 'S_min', 'S_max', 'S_avg','T_min', 'T_max', 'T_avg'])\n",
    "my_df4 = pd.DataFrame(data={'B_min':[group_day_amount_negative4.size().min()], 'B_max': [group_day_amount_negative4.size().max()], 'B_avg': [group_day_amount_negative4.size().mean()], 'S_min': [group_day_amount_positive4.size().min()], 'S_max': [group_day_amount_positive4.size().max()], 'S_avg': [group_day_amount_positive4.size().mean()],'T_min': [group_day_amount4.size().min()], 'T_max': [group_day_amount4.size().max()], 'T_avg': [group_day_amount4.size().mean()]}, index=['date'], columns=['B_min', 'B_max', 'B_avg', 'S_min', 'S_max', 'S_avg','T_min', 'T_max', 'T_avg'])\n",
    "my_df5 = pd.DataFrame(data={'B_min':[group_day_amount_negative5.size().min()], 'B_max': [group_day_amount_negative5.size().max()], 'B_avg': [group_day_amount_negative5.size().mean()], 'S_min': [group_day_amount_positive5.size().min()], 'S_max': [group_day_amount_positive5.size().max()], 'S_avg': [group_day_amount_positive5.size().mean()],'T_min': [group_day_amount5.size().min()], 'T_max': [group_day_amount5.size().max()], 'T_avg': [group_day_amount5.size().mean()]}, index=['date'], columns=['B_min', 'B_max', 'B_avg', 'S_min', 'S_max', 'S_avg','T_min', 'T_max', 'T_avg'])\n",
    "my_df6 = pd.DataFrame(data={'B_min':[group_day_amount_negative6.size().min()], 'B_max': [group_day_amount_negative6.size().max()], 'B_avg': [group_day_amount_negative6.size().mean()], 'S_min': [group_day_amount_positive6.size().min()], 'S_max': [group_day_amount_positive6.size().max()], 'S_avg': [group_day_amount_positive6.size().mean()],'T_min': [group_day_amount6.size().min()], 'T_max': [group_day_amount6.size().max()], 'T_avg': [group_day_amount6.size().mean()]}, index=['date'], columns=['B_min', 'B_max', 'B_avg', 'S_min', 'S_max', 'S_avg','T_min', 'T_max', 'T_avg'])\n",
    "my_df7 = pd.DataFrame(data={'B_min':[group_day_amount_negative7.size().min()], 'B_max': [group_day_amount_negative7.size().max()], 'B_avg': [group_day_amount_negative7.size().mean()], 'S_min': [group_day_amount_positive7.size().min()], 'S_max': [group_day_amount_positive7.size().max()], 'S_avg': [group_day_amount_positive7.size().mean()],'T_min': [group_day_amount7.size().min()], 'T_max': [group_day_amount7.size().max()], 'T_avg': [group_day_amount7.size().mean()]}, index=['date'], columns=['B_min', 'B_max', 'B_avg', 'S_min', 'S_max', 'S_avg','T_min', 'T_max', 'T_avg'])"
   ]
  },
  {
   "cell_type": "code",
   "execution_count": 28,
   "metadata": {},
   "outputs": [],
   "source": [
    "day_df1 = pd.read_csv(\"/Users/sangwon/workspace/school/bithumb_bot/bithumb_bot/sangwon_code/table/2018-01_overall_table.csv\")\n",
    "day_df2 = pd.read_csv(\"/Users/sangwon/workspace/school/bithumb_bot/bithumb_bot/sangwon_code/table/2018-02_overall_table.csv\")\n",
    "day_df3 = pd.read_csv(\"/Users/sangwon/workspace/school/bithumb_bot/bithumb_bot/sangwon_code/table/2018-03_overall_table.csv\")\n",
    "day_df4 = pd.read_csv(\"/Users/sangwon/workspace/school/bithumb_bot/bithumb_bot/sangwon_code/table/2018-04_overall_table.csv\")\n",
    "day_df5 = pd.read_csv(\"/Users/sangwon/workspace/school/bithumb_bot/bithumb_bot/sangwon_code/table/2018-05_overall_table.csv\")\n",
    "day_df6 = pd.read_csv(\"/Users/sangwon/workspace/school/bithumb_bot/bithumb_bot/sangwon_code/table/2018-06_overall_table.csv\")\n",
    "day_df7 = pd.read_csv(\"/Users/sangwon/workspace/school/bithumb_bot/bithumb_bot/sangwon_code/table/2018-07_overall_table.csv\")"
   ]
  },
  {
   "cell_type": "code",
   "execution_count": 29,
   "metadata": {},
   "outputs": [],
   "source": [
    "day_df1= day_df1.append(my_df1)\n",
    "day_df2= day_df2.append(my_df2)\n",
    "day_df3= day_df3.append(my_df3)\n",
    "day_df4= day_df4.append(my_df4)\n",
    "day_df5= day_df5.append(my_df5)\n",
    "day_df6= day_df6.append(my_df6)\n",
    "day_df7= day_df7.append(my_df7)"
   ]
  },
  {
   "cell_type": "code",
   "execution_count": 30,
   "metadata": {},
   "outputs": [],
   "source": [
    "day_df1.rename(index={0:'minute', 1:'hour'}, inplace=True)\n",
    "day_df2.rename(index={0:'minute', 1:'hour'}, inplace=True)\n",
    "day_df3.rename(index={0:'minute', 1:'hour'}, inplace=True)\n",
    "day_df4.rename(index={0:'minute', 1:'hour'}, inplace=True)\n",
    "day_df5.rename(index={0:'minute', 1:'hour'}, inplace=True)\n",
    "day_df6.rename(index={0:'minute', 1:'hour'}, inplace=True)\n",
    "day_df7.rename(index={0:'minute', 1:'hour'}, inplace=True)"
   ]
  },
  {
   "cell_type": "code",
   "execution_count": 31,
   "metadata": {},
   "outputs": [],
   "source": [
    "day_df1.to_csv(\"/Users/sangwon/workspace/school/bithumb_bot/bithumb_bot/sangwon_code/table/2018-01_overall_table.csv\", header=True, index=False, encoding = 'utf-8')\n",
    "day_df2.to_csv(\"/Users/sangwon/workspace/school/bithumb_bot/bithumb_bot/sangwon_code/table/2018-02_overall_table.csv\", header=True, index=False, encoding = 'utf-8')\n",
    "day_df3.to_csv(\"/Users/sangwon/workspace/school/bithumb_bot/bithumb_bot/sangwon_code/table/2018-03_overall_table.csv\", header=True, index=False, encoding = 'utf-8')\n",
    "day_df4.to_csv(\"/Users/sangwon/workspace/school/bithumb_bot/bithumb_bot/sangwon_code/table/2018-04_overall_table.csv\", header=True, index=False, encoding = 'utf-8')\n",
    "day_df5.to_csv(\"/Users/sangwon/workspace/school/bithumb_bot/bithumb_bot/sangwon_code/table/2018-05_overall_table.csv\", header=True, index=False, encoding = 'utf-8')\n",
    "day_df6.to_csv(\"/Users/sangwon/workspace/school/bithumb_bot/bithumb_bot/sangwon_code/table/2018-06_overall_table.csv\", header=True, index=False, encoding = 'utf-8')\n",
    "day_df7.to_csv(\"/Users/sangwon/workspace/school/bithumb_bot/bithumb_bot/sangwon_code/table/2018-07_overall_table.csv\", header=True, index=False, encoding = 'utf-8')"
   ]
  },
  {
   "cell_type": "code",
   "execution_count": null,
   "metadata": {},
   "outputs": [],
   "source": []
  }
 ],
 "metadata": {
  "kernelspec": {
   "display_name": "Python 3",
   "language": "python",
   "name": "python3"
  },
  "language_info": {
   "codemirror_mode": {
    "name": "ipython",
    "version": 3
   },
   "file_extension": ".py",
   "mimetype": "text/x-python",
   "name": "python",
   "nbconvert_exporter": "python",
   "pygments_lexer": "ipython3",
   "version": "3.7.1"
  }
 },
 "nbformat": 4,
 "nbformat_minor": 2
}
