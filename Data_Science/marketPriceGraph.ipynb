{
 "cells": [
  {
   "cell_type": "code",
   "execution_count": 1,
   "metadata": {},
   "outputs": [],
   "source": [
    "import pandas as pd\n",
    "import numpy as np\n",
    "import matplotlib.pyplot as plt\n",
    "import seaborn as sns\n",
    "from functools import reduce\n",
    "from pylab import figure, axes, pie, title, savefig\n",
    "%matplotlib inline"
   ]
  },
  {
   "cell_type": "code",
   "execution_count": 2,
   "metadata": {},
   "outputs": [],
   "source": [
    "df = pd.read_csv(\"/Users/hamin/Documents/bithumb_analysis/include/marketPrice.csv\")"
   ]
  },
  {
   "cell_type": "code",
   "execution_count": 3,
   "metadata": {},
   "outputs": [
    {
     "data": {
      "text/plain": [
       "Timestamp     object\n",
       "Price        float64\n",
       "dtype: object"
      ]
     },
     "execution_count": 3,
     "metadata": {},
     "output_type": "execute_result"
    }
   ],
   "source": [
    "df.dtypes"
   ]
  },
  {
   "cell_type": "code",
   "execution_count": 4,
   "metadata": {},
   "outputs": [
    {
     "data": {
      "text/html": [
       "<div>\n",
       "<style scoped>\n",
       "    .dataframe tbody tr th:only-of-type {\n",
       "        vertical-align: middle;\n",
       "    }\n",
       "\n",
       "    .dataframe tbody tr th {\n",
       "        vertical-align: top;\n",
       "    }\n",
       "\n",
       "    .dataframe thead th {\n",
       "        text-align: right;\n",
       "    }\n",
       "</style>\n",
       "<table border=\"1\" class=\"dataframe\">\n",
       "  <thead>\n",
       "    <tr style=\"text-align: right;\">\n",
       "      <th></th>\n",
       "      <th>Timestamp</th>\n",
       "      <th>Price</th>\n",
       "    </tr>\n",
       "  </thead>\n",
       "  <tbody>\n",
       "    <tr>\n",
       "      <th>0</th>\n",
       "      <td>2018-05-01 00:00:00.491007</td>\n",
       "      <td>10101000.0</td>\n",
       "    </tr>\n",
       "    <tr>\n",
       "      <th>1</th>\n",
       "      <td>2018-05-01 00:00:01.491007</td>\n",
       "      <td>10101000.0</td>\n",
       "    </tr>\n",
       "    <tr>\n",
       "      <th>2</th>\n",
       "      <td>2018-05-01 00:00:02.491008</td>\n",
       "      <td>10101000.0</td>\n",
       "    </tr>\n",
       "    <tr>\n",
       "      <th>3</th>\n",
       "      <td>2018-05-01 00:00:03.491008</td>\n",
       "      <td>10101000.0</td>\n",
       "    </tr>\n",
       "    <tr>\n",
       "      <th>4</th>\n",
       "      <td>2018-05-01 00:00:04.491008</td>\n",
       "      <td>10105500.0</td>\n",
       "    </tr>\n",
       "    <tr>\n",
       "      <th>...</th>\n",
       "      <td>...</td>\n",
       "      <td>...</td>\n",
       "    </tr>\n",
       "    <tr>\n",
       "      <th>1977073</th>\n",
       "      <td>2018-05-31 23:59:55.072012</td>\n",
       "      <td>8314500.0</td>\n",
       "    </tr>\n",
       "    <tr>\n",
       "      <th>1977074</th>\n",
       "      <td>2018-05-31 23:59:56.072013</td>\n",
       "      <td>8314500.0</td>\n",
       "    </tr>\n",
       "    <tr>\n",
       "      <th>1977075</th>\n",
       "      <td>2018-05-31 23:59:57.072014</td>\n",
       "      <td>8314500.0</td>\n",
       "    </tr>\n",
       "    <tr>\n",
       "      <th>1977076</th>\n",
       "      <td>2018-05-31 23:59:58.072014</td>\n",
       "      <td>8314500.0</td>\n",
       "    </tr>\n",
       "    <tr>\n",
       "      <th>1977077</th>\n",
       "      <td>2018-05-31 23:59:59.072016</td>\n",
       "      <td>8315000.0</td>\n",
       "    </tr>\n",
       "  </tbody>\n",
       "</table>\n",
       "<p>1977078 rows × 2 columns</p>\n",
       "</div>"
      ],
      "text/plain": [
       "                          Timestamp       Price\n",
       "0        2018-05-01 00:00:00.491007  10101000.0\n",
       "1        2018-05-01 00:00:01.491007  10101000.0\n",
       "2        2018-05-01 00:00:02.491008  10101000.0\n",
       "3        2018-05-01 00:00:03.491008  10101000.0\n",
       "4        2018-05-01 00:00:04.491008  10105500.0\n",
       "...                             ...         ...\n",
       "1977073  2018-05-31 23:59:55.072012   8314500.0\n",
       "1977074  2018-05-31 23:59:56.072013   8314500.0\n",
       "1977075  2018-05-31 23:59:57.072014   8314500.0\n",
       "1977076  2018-05-31 23:59:58.072014   8314500.0\n",
       "1977077  2018-05-31 23:59:59.072016   8315000.0\n",
       "\n",
       "[1977078 rows x 2 columns]"
      ]
     },
     "execution_count": 4,
     "metadata": {},
     "output_type": "execute_result"
    }
   ],
   "source": [
    "df"
   ]
  },
  {
   "cell_type": "code",
   "execution_count": 5,
   "metadata": {},
   "outputs": [
    {
     "data": {
      "text/plain": [
       "<matplotlib.axes._subplots.AxesSubplot at 0x10ac52250>"
      ]
     },
     "execution_count": 5,
     "metadata": {},
     "output_type": "execute_result"
    },
    {
     "data": {
      "image/png": "[encoded data removed]",
      "text/plain": [
       "<Figure size 432x288 with 1 Axes>"
      ]
     },
     "metadata": {
      "needs_background": "light"
     },
     "output_type": "display_data"
    }
   ],
   "source": [
    "df.plot()"
   ]
  },
  {
   "cell_type": "code",
   "execution_count": 6,
   "metadata": {},
   "outputs": [
    {
     "data": {
      "text/plain": [
       "Timestamp    datetime64[ns]\n",
       "Price               float64\n",
       "dtype: object"
      ]
     },
     "execution_count": 6,
     "metadata": {},
     "output_type": "execute_result"
    }
   ],
   "source": [
    "## converting timestamp column type 'object' to 'datetime'\n",
    "df['Timestamp'] = pd.to_datetime(df['Timestamp'], format='%Y-%m-%d %H:%M:%S', errors='raise')\n",
    "df.dtypes"
   ]
  },
  {
   "cell_type": "code",
   "execution_count": 7,
   "metadata": {},
   "outputs": [],
   "source": [
    "df['Timestamp_date']        = df['Timestamp'].dt.day          # 일(숫자)\n",
    "df['Timestamp_hour']       = df['Timestamp'].dt.hour         # 시(숫자)\n",
    "df['Timestamp_minute']     = df['Timestamp'].dt.minute       # 분(숫자)"
   ]
  },
  {
   "cell_type": "code",
   "execution_count": 8,
   "metadata": {},
   "outputs": [],
   "source": [
    "## creating 'hour - amount' connection\n",
    "group_date_Price = df['Price'].groupby(df['Timestamp_date'])\n",
    "group_hour_Price = df['Price'].groupby(df['Timestamp_hour'])\n",
    "group_minute_Price = df['Price'].groupby(df['Timestamp_minute'])"
   ]
  },
  {
   "cell_type": "code",
   "execution_count": 9,
   "metadata": {},
   "outputs": [
    {
     "data": {
      "text/plain": [
       "Timestamp_date\n",
       "1     9.983750e+06\n",
       "2     9.912874e+06\n",
       "3     1.006568e+07\n",
       "4     1.053211e+07\n",
       "11    9.828027e+06\n",
       "12    9.339018e+06\n",
       "13    9.464058e+06\n",
       "14    9.603536e+06\n",
       "15    9.760064e+06\n",
       "16    9.358174e+06\n",
       "17    9.250623e+06\n",
       "18    9.059795e+06\n",
       "19    9.125568e+06\n",
       "20    9.119890e+06\n",
       "21    9.338899e+06\n",
       "22    9.241376e+06\n",
       "23    8.971551e+06\n",
       "24    8.443337e+06\n",
       "25    8.334930e+06\n",
       "26    8.274118e+06\n",
       "27    8.165265e+06\n",
       "28    8.120023e+06\n",
       "29    8.010549e+06\n",
       "30    8.289454e+06\n",
       "31    8.198665e+06\n",
       "Name: Price, dtype: float64"
      ]
     },
     "execution_count": 9,
     "metadata": {},
     "output_type": "execute_result"
    }
   ],
   "source": [
    "# 날짜 별 가격 평균\n",
    "group_date_Price.mean()"
   ]
  },
  {
   "cell_type": "code",
   "execution_count": 10,
   "metadata": {},
   "outputs": [
    {
     "data": {
      "text/plain": [
       "<matplotlib.axes._subplots.AxesSubplot at 0x10ad14090>"
      ]
     },
     "execution_count": 10,
     "metadata": {},
     "output_type": "execute_result"
    },
    {
     "data": {
      "image/png": "[encoded data removed]",
      "text/plain": [
       "<Figure size 432x288 with 1 Axes>"
      ]
     },
     "metadata": {
      "needs_background": "light"
     },
     "output_type": "display_data"
    }
   ],
   "source": [
    "group_date_Price.mean().plot(title=\"Daily marketPrice\", marker='o')"
   ]
  },
  {
   "cell_type": "code",
   "execution_count": 11,
   "metadata": {},
   "outputs": [
    {
     "data": {
      "text/plain": [
       "Timestamp_hour\n",
       "0     9.194210e+06\n",
       "1     9.199636e+06\n",
       "2     9.200768e+06\n",
       "3     9.180525e+06\n",
       "4     9.199030e+06\n",
       "5     9.197997e+06\n",
       "6     9.193351e+06\n",
       "7     9.172179e+06\n",
       "8     9.195778e+06\n",
       "9     9.153287e+06\n",
       "10    9.128114e+06\n",
       "11    9.101347e+06\n",
       "12    9.040086e+06\n",
       "13    9.010940e+06\n",
       "14    9.017853e+06\n",
       "15    9.038429e+06\n",
       "16    9.049805e+06\n",
       "17    9.039727e+06\n",
       "18    9.014318e+06\n",
       "19    9.031587e+06\n",
       "20    9.045241e+06\n",
       "21    9.046666e+06\n",
       "22    9.054040e+06\n",
       "23    9.063973e+06\n",
       "Name: Price, dtype: float64"
      ]
     },
     "execution_count": 11,
     "metadata": {},
     "output_type": "execute_result"
    }
   ],
   "source": [
    "# 시간 별 가격 평균\n",
    "group_hour_Price.mean()"
   ]
  },
  {
   "cell_type": "code",
   "execution_count": 12,
   "metadata": {},
   "outputs": [
    {
     "data": {
      "text/plain": [
       "<matplotlib.axes._subplots.AxesSubplot at 0x12cb7b590>"
      ]
     },
     "execution_count": 12,
     "metadata": {},
     "output_type": "execute_result"
    },
    {
     "data": {
      "image/png": "[encoded data removed]",
      "text/plain": [
       "<Figure size 432x288 with 1 Axes>"
      ]
     },
     "metadata": {
      "needs_background": "light"
     },
     "output_type": "display_data"
    }
   ],
   "source": [
    "group_hour_Price.mean().plot(title=\"Hourly marketPrice\", marker='o')"
   ]
  },
  {
   "cell_type": "code",
   "execution_count": 13,
   "metadata": {},
   "outputs": [
    {
     "data": {
      "text/plain": [
       "Timestamp_minute\n",
       "0     9.110550e+06\n",
       "1     9.104535e+06\n",
       "2     9.107369e+06\n",
       "3     9.109922e+06\n",
       "4     9.111030e+06\n",
       "5     9.106424e+06\n",
       "6     9.107230e+06\n",
       "7     9.106176e+06\n",
       "8     9.106909e+06\n",
       "9     9.107727e+06\n",
       "10    9.115871e+06\n",
       "11    9.113396e+06\n",
       "12    9.117003e+06\n",
       "13    9.114870e+06\n",
       "14    9.116348e+06\n",
       "15    9.101598e+06\n",
       "16    9.105087e+06\n",
       "17    9.113667e+06\n",
       "18    9.111585e+06\n",
       "19    9.105371e+06\n",
       "20    9.106799e+06\n",
       "21    9.106659e+06\n",
       "22    9.108842e+06\n",
       "23    9.106634e+06\n",
       "24    9.105787e+06\n",
       "25    9.104875e+06\n",
       "26    9.105533e+06\n",
       "27    9.105806e+06\n",
       "28    9.104502e+06\n",
       "29    9.110959e+06\n",
       "30    9.099350e+06\n",
       "31    9.104049e+06\n",
       "32    9.113459e+06\n",
       "33    9.112461e+06\n",
       "34    9.104769e+06\n",
       "35    9.108370e+06\n",
       "36    9.110820e+06\n",
       "37    9.113049e+06\n",
       "38    9.115129e+06\n",
       "39    9.103764e+06\n",
       "40    9.108913e+06\n",
       "41    9.103378e+06\n",
       "42    9.106829e+06\n",
       "43    9.111792e+06\n",
       "44    9.106024e+06\n",
       "45    9.103877e+06\n",
       "46    9.103697e+06\n",
       "47    9.107470e+06\n",
       "48    9.094390e+06\n",
       "49    9.105109e+06\n",
       "50    9.101246e+06\n",
       "51    9.102150e+06\n",
       "52    9.097543e+06\n",
       "53    9.110797e+06\n",
       "54    9.102405e+06\n",
       "55    9.102890e+06\n",
       "56    9.107296e+06\n",
       "57    9.104067e+06\n",
       "58    9.102793e+06\n",
       "59    9.103764e+06\n",
       "Name: Price, dtype: float64"
      ]
     },
     "execution_count": 13,
     "metadata": {},
     "output_type": "execute_result"
    }
   ],
   "source": [
    "# 분 당 가격 평균\n",
    "group_minute_Price.mean()"
   ]
  },
  {
   "cell_type": "code",
   "execution_count": 14,
   "metadata": {},
   "outputs": [
    {
     "data": {
      "text/plain": [
       "<matplotlib.axes._subplots.AxesSubplot at 0x1273f5550>"
      ]
     },
     "execution_count": 14,
     "metadata": {},
     "output_type": "execute_result"
    },
    {
     "data": {
      "image/png": "[encoded data removed]",
      "text/plain": [
       "<Figure size 432x288 with 1 Axes>"
      ]
     },
     "metadata": {
      "needs_background": "light"
     },
     "output_type": "display_data"
    }
   ],
   "source": [
    "group_minute_Price.mean().plot(title=\"Minute marketPrice\", marker='o')"
   ]
  },
  {
   "cell_type": "code",
   "execution_count": null,
   "metadata": {},
   "outputs": [],
   "source": []
  }
 ],
 "metadata": {
  "kernelspec": {
   "display_name": "Python 3",
   "language": "python",
   "name": "python3"
  },
  "language_info": {
   "codemirror_mode": {
    "name": "ipython",
    "version": 3
   },
   "file_extension": ".py",
   "mimetype": "text/x-python",
   "name": "python",
   "nbconvert_exporter": "python",
   "pygments_lexer": "ipython3",
   "version": "3.7.7"
  }
 },
 "nbformat": 4,
 "nbformat_minor": 4
}
